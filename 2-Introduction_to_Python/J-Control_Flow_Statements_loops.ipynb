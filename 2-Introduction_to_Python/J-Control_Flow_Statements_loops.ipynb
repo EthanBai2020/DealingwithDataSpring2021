{
 "cells": [
  {
   "cell_type": "markdown",
   "metadata": {},
   "source": [
    "Control Structures\n",
    "------------------\n",
    "\n",
    "We've spent some time going into detail about some of the data types and structures available in python. It's now time to talk about how to navigate through some of this data, and use data to make decisions. Traversing over data and making decisions based upon data are a common aspect of every programming language, known as control flow. Python provides a rich control flow, with a lot of conveniences for the power users. Here, we're just going to talk about the basics, to learn more, please [consult the documentation](http://docs.python.org/2/tutorial/controlflow.html). \n",
    "\n",
    "A common theme throughout this discussion of control structures is the notion of a \"block of code.\" Blocks of code are **demarcated by a specific level of indentation**, typically separated from the surrounding code by some control structure elements, immediately preceeded by a colon, `:`. We'll see examples below. \n",
    "\n",
    "Finally, note that control structures can be nested arbitrarily, depending on the tasks you're trying to accomplish. "
   ]
  },
  {
   "cell_type": "markdown",
   "metadata": {},
   "source": [
    "### while statements:\n",
    "\n",
    "While loops are keep iterating until a given condition becomes true. For example, the following example counts until `i` becomes larger than 5"
   ]
  },
  {
   "cell_type": "code",
   "execution_count": null,
   "metadata": {},
   "outputs": [],
   "source": [
    "i=0\n",
    "while i<=5:\n",
    "    print(i)\n",
    "    i = i + 1"
   ]
  },
  {
   "cell_type": "markdown",
   "metadata": {},
   "source": [
    "Or consider the following example: The tea starts at 115 degrees Fahrenheit. You want it at 110 degrees. A chip of ice turns out to lower the temperature one degree every second. You test the temperature each time, and also print out the temperature before reducing the temperature. In Python you could write and run the code below:"
   ]
  },
  {
   "cell_type": "code",
   "execution_count": null,
   "metadata": {},
   "outputs": [],
   "source": [
    "import time # This is just to use the time.sleep function\n",
    "\n",
    "temperature = 115  \n",
    "while temperature > 110: # first while loop code\n",
    "    print(temperature)\n",
    "    time.sleep(1.0) # Wait for 1 sec\n",
    "    temperature = temperature - 1\n",
    "     \n",
    "print('The tea is cool enough.')"
   ]
  },
  {
   "cell_type": "markdown",
   "metadata": {},
   "source": [
    "And here is a simplified simulator that starts with an amount of money in the bank, and then examines the effect of withdrawing a specific amount of money per year, until you run out of money. Notice that the loop will keep running for ever, if you never withdraw more money than what you have. (We will deal with this issue next.)"
   ]
  },
  {
   "cell_type": "code",
   "execution_count": 13,
   "metadata": {},
   "outputs": [
    {
     "name": "stdout",
     "output_type": "stream",
     "text": [
      "At the beginning of 2017 you have $1000.\n",
      "At the end of 2018 you have $848.0.\n",
      "-----------------\n",
      "At the beginning of 2018 you have $848.0.\n",
      "At the end of 2019 you have $686.88.\n",
      "-----------------\n",
      "At the beginning of 2019 you have $686.88.\n",
      "At the end of 2020 you have $516.0928.\n",
      "-----------------\n",
      "At the beginning of 2020 you have $516.0928.\n",
      "At the end of 2021 you have $335.05836800000003.\n",
      "-----------------\n",
      "At the beginning of 2021 you have $335.05836800000003.\n",
      "At the end of 2022 you have $143.16187008000003.\n",
      "-----------------\n",
      "At the beginning of 2022 you have $143.16187008000003.\n",
      "At the end of 2023 you have $-60.24841771519997.\n",
      "-----------------\n",
      "You have no money left!\n"
     ]
    }
   ],
   "source": [
    "money_in_bank = 1000\n",
    "interest = 6\n",
    "year = 2017\n",
    "widthdrawal_per_period = 200\n",
    "\n",
    "while money_in_bank>0:\n",
    "    print(\"At the beginning of {y} you have ${m}.\".format(y=year, m=money_in_bank))\n",
    "    money_in_bank = money_in_bank - widthdrawal_per_period\n",
    "    money_in_bank = money_in_bank * (1 + interest/100)\n",
    "    year = year + 1\n",
    "    print(\"At the end of {y} you have ${m}.\".format(y=year, m=money_in_bank))\n",
    "    print(\"-----------------\")\n",
    "\n",
    "print(\"You have no money left!\")"
   ]
  },
  {
   "cell_type": "markdown",
   "metadata": {},
   "source": [
    "### Break and Continue: \n",
    "\n",
    "These two statements are used to modify iteration of loops. Break is used to *exit immediately* the *inner most _loop_* in which it appears. In contrast, continue stops the code executing within the loop and goes on to the *next iteration of the same loop*.\n",
    "\n",
    "For example, consider our previous example. The loop will keep running for ever, if you never withdraw more money than what you have. To avoid this infinite loop, we can add an extra check in the code, checking if the year is above a certain limit, and stop execution of the loop at that point."
   ]
  },
  {
   "cell_type": "code",
   "execution_count": 22,
   "metadata": {},
   "outputs": [
    {
     "name": "stdout",
     "output_type": "stream",
     "text": [
      "At the beginning of 2017 you have $1000.\n",
      "At the end of 2018 you have $1007.0.\n",
      "-----------------\n",
      "At the beginning of 2018 you have $1007.0.\n",
      "At the end of 2019 you have $1014.4200000000001.\n",
      "-----------------\n",
      "At the beginning of 2019 you have $1014.4200000000001.\n",
      "At the end of 2020 you have $1022.2852000000001.\n",
      "-----------------\n",
      "At the beginning of 2020 you have $1022.2852000000001.\n",
      "At the end of 2021 you have $1030.6223120000002.\n",
      "-----------------\n",
      "At the beginning of 2021 you have $1030.6223120000002.\n",
      "At the end of 2022 you have $1039.4596507200004.\n",
      "-----------------\n",
      "At the beginning of 2022 you have $1039.4596507200004.\n",
      "At the end of 2023 you have $1048.8272297632004.\n",
      "-----------------\n",
      "At the beginning of 2023 you have $1048.8272297632004.\n",
      "At the end of 2024 you have $1058.7568635489924.\n",
      "-----------------\n",
      "At the beginning of 2024 you have $1058.7568635489924.\n",
      "At the end of 2025 you have $1069.282275361932.\n",
      "-----------------\n",
      "At the beginning of 2025 you have $1069.282275361932.\n",
      "At the end of 2026 you have $1080.439211883648.\n",
      "-----------------\n",
      "At the beginning of 2026 you have $1080.439211883648.\n",
      "At the end of 2027 you have $1092.265564596667.\n",
      "-----------------\n",
      "At the beginning of 2027 you have $1092.265564596667.\n",
      "At the end of 2028 you have $1104.801498472467.\n",
      "-----------------\n",
      "At the beginning of 2028 you have $1104.801498472467.\n",
      "At the end of 2029 you have $1118.0895883808153.\n",
      "-----------------\n",
      "At the beginning of 2029 you have $1118.0895883808153.\n",
      "At the end of 2030 you have $1132.1749636836641.\n",
      "-----------------\n",
      "At the beginning of 2030 you have $1132.1749636836641.\n",
      "At the end of 2031 you have $1147.105461504684.\n",
      "-----------------\n",
      "At the beginning of 2031 you have $1147.105461504684.\n",
      "At the end of 2032 you have $1162.931789194965.\n",
      "-----------------\n",
      "At the beginning of 2032 you have $1162.931789194965.\n",
      "At the end of 2033 you have $1179.7076965466629.\n",
      "-----------------\n",
      "At the beginning of 2033 you have $1179.7076965466629.\n",
      "At the end of 2034 you have $1197.4901583394626.\n",
      "-----------------\n",
      "At the beginning of 2034 you have $1197.4901583394626.\n",
      "At the end of 2035 you have $1216.3395678398304.\n",
      "-----------------\n",
      "At the beginning of 2035 you have $1216.3395678398304.\n",
      "At the end of 2036 you have $1236.3199419102202.\n",
      "-----------------\n",
      "At the beginning of 2036 you have $1236.3199419102202.\n",
      "At the end of 2037 you have $1257.4991384248335.\n",
      "-----------------\n",
      "At the beginning of 2037 you have $1257.4991384248335.\n",
      "At the end of 2038 you have $1279.9490867303236.\n",
      "-----------------\n",
      "At the beginning of 2038 you have $1279.9490867303236.\n",
      "At the end of 2039 you have $1303.746031934143.\n",
      "-----------------\n",
      "At the beginning of 2039 you have $1303.746031934143.\n",
      "At the end of 2040 you have $1328.9707938501917.\n",
      "-----------------\n",
      "At the beginning of 2040 you have $1328.9707938501917.\n",
      "At the end of 2041 you have $1355.7090414812033.\n",
      "-----------------\n",
      "At the beginning of 2041 you have $1355.7090414812033.\n",
      "At the end of 2042 you have $1384.0515839700756.\n",
      "-----------------\n",
      "At the beginning of 2042 you have $1384.0515839700756.\n",
      "At the end of 2043 you have $1414.0946790082803.\n",
      "-----------------\n",
      "At the beginning of 2043 you have $1414.0946790082803.\n",
      "At the end of 2044 you have $1445.9403597487772.\n",
      "-----------------\n",
      "At the beginning of 2044 you have $1445.9403597487772.\n",
      "At the end of 2045 you have $1479.696781333704.\n",
      "-----------------\n",
      "At the beginning of 2045 you have $1479.696781333704.\n",
      "At the end of 2046 you have $1515.4785882137262.\n",
      "-----------------\n",
      "At the beginning of 2046 you have $1515.4785882137262.\n",
      "At the end of 2047 you have $1553.4073035065499.\n",
      "-----------------\n",
      "At the beginning of 2047 you have $1553.4073035065499.\n",
      "At the end of 2048 you have $1593.611741716943.\n",
      "-----------------\n",
      "At the beginning of 2048 you have $1593.611741716943.\n",
      "At the end of 2049 you have $1636.2284462199598.\n",
      "-----------------\n",
      "At the beginning of 2049 you have $1636.2284462199598.\n",
      "At the end of 2050 you have $1681.4021529931574.\n",
      "-----------------\n",
      "At the beginning of 2050 you have $1681.4021529931574.\n",
      "At the end of 2051 you have $1729.286282172747.\n",
      "-----------------\n",
      "At the beginning of 2051 you have $1729.286282172747.\n",
      "At the end of 2052 you have $1780.043459103112.\n",
      "-----------------\n",
      "At the beginning of 2052 you have $1780.043459103112.\n",
      "At the end of 2053 you have $1833.8460666492988.\n",
      "-----------------\n",
      "At the beginning of 2053 you have $1833.8460666492988.\n",
      "At the end of 2054 you have $1890.8768306482568.\n",
      "-----------------\n",
      "At the beginning of 2054 you have $1890.8768306482568.\n",
      "At the end of 2055 you have $1951.3294404871524.\n",
      "-----------------\n",
      "At the beginning of 2055 you have $1951.3294404871524.\n",
      "At the end of 2056 you have $2015.4092069163817.\n",
      "-----------------\n",
      "At the beginning of 2056 you have $2015.4092069163817.\n",
      "At the end of 2057 you have $2083.3337593313645.\n",
      "-----------------\n",
      "At the beginning of 2057 you have $2083.3337593313645.\n",
      "At the end of 2058 you have $2155.3337848912465.\n",
      "-----------------\n",
      "At the beginning of 2058 you have $2155.3337848912465.\n",
      "At the end of 2059 you have $2231.6538119847214.\n",
      "-----------------\n",
      "At the beginning of 2059 you have $2231.6538119847214.\n",
      "At the end of 2060 you have $2312.553040703805.\n",
      "-----------------\n",
      "At the beginning of 2060 you have $2312.553040703805.\n",
      "At the end of 2061 you have $2398.3062231460335.\n",
      "-----------------\n",
      "At the beginning of 2061 you have $2398.3062231460335.\n",
      "At the end of 2062 you have $2489.2045965347957.\n",
      "-----------------\n",
      "At the beginning of 2062 you have $2489.2045965347957.\n",
      "At the end of 2063 you have $2585.5568723268834.\n",
      "-----------------\n",
      "At the beginning of 2063 you have $2585.5568723268834.\n",
      "At the end of 2064 you have $2687.6902846664966.\n",
      "-----------------\n",
      "At the beginning of 2064 you have $2687.6902846664966.\n",
      "At the end of 2065 you have $2795.9517017464864.\n",
      "-----------------\n",
      "At the beginning of 2065 you have $2795.9517017464864.\n",
      "At the end of 2066 you have $2910.7088038512757.\n",
      "-----------------\n",
      "At the beginning of 2066 you have $2910.7088038512757.\n",
      "At the end of 2067 you have $3032.351332082352.\n",
      "-----------------\n",
      "At the beginning of 2067 you have $3032.351332082352.\n",
      "At the end of 2068 you have $3161.2924120072935.\n",
      "-----------------\n",
      "At the beginning of 2068 you have $3161.2924120072935.\n",
      "At the end of 2069 you have $3297.969956727731.\n",
      "-----------------\n",
      "At the beginning of 2069 you have $3297.969956727731.\n",
      "At the end of 2070 you have $3442.8481541313954.\n",
      "-----------------\n",
      "At the beginning of 2070 you have $3442.8481541313954.\n",
      "At the end of 2071 you have $3596.419043379279.\n",
      "-----------------\n",
      "At the beginning of 2071 you have $3596.419043379279.\n",
      "At the end of 2072 you have $3759.204185982036.\n",
      "-----------------\n",
      "At the beginning of 2072 you have $3759.204185982036.\n",
      "At the end of 2073 you have $3931.7564371409585.\n",
      "-----------------\n",
      "At the beginning of 2073 you have $3931.7564371409585.\n",
      "At the end of 2074 you have $4114.661823369416.\n",
      "-----------------\n",
      "At the beginning of 2074 you have $4114.661823369416.\n",
      "At the end of 2075 you have $4308.541532771581.\n",
      "-----------------\n",
      "At the beginning of 2075 you have $4308.541532771581.\n",
      "At the end of 2076 you have $4514.054024737876.\n",
      "-----------------\n",
      "At the beginning of 2076 you have $4514.054024737876.\n",
      "At the end of 2077 you have $4731.897266222149.\n",
      "-----------------\n",
      "At the beginning of 2077 you have $4731.897266222149.\n",
      "At the end of 2078 you have $4962.811102195477.\n",
      "-----------------\n",
      "At the beginning of 2078 you have $4962.811102195477.\n",
      "At the end of 2079 you have $5207.579768327207.\n",
      "-----------------\n",
      "At the beginning of 2079 you have $5207.579768327207.\n",
      "At the end of 2080 you have $5467.034554426839.\n",
      "-----------------\n",
      "At the beginning of 2080 you have $5467.034554426839.\n",
      "At the end of 2081 you have $5742.05662769245.\n",
      "-----------------\n",
      "At the beginning of 2081 you have $5742.05662769245.\n",
      "At the end of 2082 you have $6033.580025353997.\n",
      "-----------------\n",
      "At the beginning of 2082 you have $6033.580025353997.\n",
      "At the end of 2083 you have $6342.594826875237.\n",
      "-----------------\n",
      "At the beginning of 2083 you have $6342.594826875237.\n",
      "At the end of 2084 you have $6670.150516487752.\n",
      "-----------------\n",
      "At the beginning of 2084 you have $6670.150516487752.\n",
      "At the end of 2085 you have $7017.359547477017.\n",
      "-----------------\n",
      "At the beginning of 2085 you have $7017.359547477017.\n",
      "At the end of 2086 you have $7385.401120325639.\n",
      "-----------------\n",
      "At the beginning of 2086 you have $7385.401120325639.\n",
      "At the end of 2087 you have $7775.525187545178.\n",
      "-----------------\n",
      "At the beginning of 2087 you have $7775.525187545178.\n",
      "At the end of 2088 you have $8189.056698797889.\n",
      "-----------------\n",
      "At the beginning of 2088 you have $8189.056698797889.\n",
      "At the end of 2089 you have $8627.400100725763.\n",
      "-----------------\n",
      "At the beginning of 2089 you have $8627.400100725763.\n",
      "At the end of 2090 you have $9092.04410676931.\n",
      "-----------------\n",
      "At the beginning of 2090 you have $9092.04410676931.\n",
      "At the end of 2091 you have $9584.56675317547.\n",
      "-----------------\n",
      "At the beginning of 2091 you have $9584.56675317547.\n",
      "At the end of 2092 you have $10106.640758365998.\n",
      "-----------------\n",
      "At the beginning of 2092 you have $10106.640758365998.\n",
      "At the end of 2093 you have $10660.039203867958.\n",
      "-----------------\n",
      "At the beginning of 2093 you have $10660.039203867958.\n",
      "At the end of 2094 you have $11246.641556100036.\n",
      "-----------------\n",
      "At the beginning of 2094 you have $11246.641556100036.\n",
      "At the end of 2095 you have $11868.440049466039.\n",
      "-----------------\n",
      "At the beginning of 2095 you have $11868.440049466039.\n",
      "At the end of 2096 you have $12527.546452434002.\n",
      "-----------------\n",
      "At the beginning of 2096 you have $12527.546452434002.\n",
      "At the end of 2097 you have $13226.199239580043.\n",
      "-----------------\n",
      "At the beginning of 2097 you have $13226.199239580043.\n",
      "At the end of 2098 you have $13966.771193954846.\n",
      "-----------------\n",
      "At the beginning of 2098 you have $13966.771193954846.\n",
      "At the end of 2099 you have $14751.777465592138.\n",
      "-----------------\n",
      "At the beginning of 2099 you have $14751.777465592138.\n",
      "At the end of 2100 you have $15583.884113527667.\n",
      "-----------------\n",
      "At the beginning of 2100 you have $15583.884113527667.\n",
      "At the end of 2101 you have $16465.91716033933.\n",
      "-----------------\n",
      "At the beginning of 2101 you have $16465.91716033933.\n",
      "At the end of 2102 you have $17400.87218995969.\n",
      "-----------------\n",
      "At the beginning of 2102 you have $17400.87218995969.\n",
      "At the end of 2103 you have $18391.924521357272.\n",
      "-----------------\n",
      "At the beginning of 2103 you have $18391.924521357272.\n",
      "At the end of 2104 you have $19442.43999263871.\n",
      "-----------------\n",
      "At the beginning of 2104 you have $19442.43999263871.\n",
      "At the end of 2105 you have $20555.98639219703.\n",
      "-----------------\n",
      "At the beginning of 2105 you have $20555.98639219703.\n",
      "At the end of 2106 you have $21736.345575728854.\n",
      "-----------------\n",
      "At the beginning of 2106 you have $21736.345575728854.\n",
      "At the end of 2107 you have $22987.526310272588.\n",
      "-----------------\n",
      "At the beginning of 2107 you have $22987.526310272588.\n",
      "At the end of 2108 you have $24313.777888888944.\n",
      "-----------------\n",
      "At the beginning of 2108 you have $24313.777888888944.\n",
      "At the end of 2109 you have $25719.60456222228.\n",
      "-----------------\n",
      "At the beginning of 2109 you have $25719.60456222228.\n",
      "At the end of 2110 you have $27209.78083595562.\n",
      "-----------------\n",
      "At the beginning of 2110 you have $27209.78083595562.\n",
      "At the end of 2111 you have $28789.367686112957.\n",
      "-----------------\n",
      "At the beginning of 2111 you have $28789.367686112957.\n",
      "At the end of 2112 you have $30463.729747279736.\n",
      "-----------------\n",
      "At the beginning of 2112 you have $30463.729747279736.\n",
      "At the end of 2113 you have $32238.553532116523.\n",
      "-----------------\n",
      "At the beginning of 2113 you have $32238.553532116523.\n",
      "At the end of 2114 you have $34119.86674404352.\n",
      "-----------------\n",
      "At the beginning of 2114 you have $34119.86674404352.\n",
      "At the end of 2115 you have $36114.058748686126.\n",
      "-----------------\n",
      "At the beginning of 2115 you have $36114.058748686126.\n",
      "At the end of 2116 you have $38227.902273607295.\n",
      "-----------------\n",
      "At the beginning of 2116 you have $38227.902273607295.\n",
      "At the end of 2117 you have $40468.576410023736.\n",
      "-----------------\n",
      "At the beginning of 2117 you have $40468.576410023736.\n",
      "I am pretty sure you will not be alive by then\n",
      "You have no money left (or you are dead)!\n"
     ]
    }
   ],
   "source": [
    "money_in_bank = 1000\n",
    "interest = 6\n",
    "year = 2017\n",
    "\n",
    "# Try also the values 56.6 and 56.7 and see its behavior\n",
    "widthdrawal_per_period = 50 \n",
    "\n",
    "while money_in_bank>0:\n",
    "    print(\"At the beginning of {y} you have ${m}.\".format(y=year, m=money_in_bank))\n",
    "    money_in_bank = money_in_bank - widthdrawal_per_period\n",
    "    money_in_bank = money_in_bank * (1 + interest/100)\n",
    "    year = year + 1\n",
    "    if year > 2117:\n",
    "        print(\"I am pretty sure you will not be alive by then\")\n",
    "        break;\n",
    "    print(\"At the end of {y} you have ${m}.\".format(y=year, m=money_in_bank))\n",
    "    print(\"-----------------\")\n",
    "\n",
    "print(\"You have no money left (or you are dead)!\")"
   ]
  },
  {
   "cell_type": "code",
   "execution_count": null,
   "metadata": {},
   "outputs": [],
   "source": [
    "import time \n",
    "temperature = 133 \n",
    "while temperature > 110: # first while loop code\n",
    "    temperature = temperature - 1\n",
    "    if temperature % 5 != 0: # If the temperature is not divisible by 5\n",
    "        continue # We keep running the loop, but will not print\n",
    "                 # the temperature and have a delay\n",
    "    time.sleep(0.5)\n",
    "    print(temperature)\n",
    "     \n",
    "print('The tea is cool enough.')"
   ]
  },
  {
   "cell_type": "markdown",
   "metadata": {},
   "source": [
    "### for Statements:\n",
    "\n",
    "**See also LPTHW, Exp 32.**\n",
    "\n",
    "for statements are a convenient way to iterate through the values contained in a data structure. Going through the elements in a data structure one at a time, this element is assigned to variable. The code block associated with the for statement (or for loop) is then evaluated with this value."
   ]
  },
  {
   "cell_type": "code",
   "execution_count": null,
   "metadata": {},
   "outputs": [],
   "source": [
    "set_a = {1, 2, 3, 4}\n",
    "for i in set_a:\n",
    "    print(i, \" squared is:\", i*i )"
   ]
  },
  {
   "cell_type": "code",
   "execution_count": null,
   "metadata": {},
   "outputs": [],
   "source": [
    "print(\"a more complex block\")\n",
    "set_a = {1, 2, 3, 4, 5, 6}\n",
    "for i in set_a:\n",
    "    # print(i)\n",
    "    if i >= 3:\n",
    "        print(\"==> \",i, \" squared is:\", i*i )"
   ]
  },
  {
   "cell_type": "code",
   "execution_count": null,
   "metadata": {},
   "outputs": [],
   "source": [
    "print(\"this also works for lists\")\n",
    "list_a = [1,2,3]\n",
    "for num in list_a:\n",
    "    print(num)"
   ]
  },
  {
   "cell_type": "code",
   "execution_count": null,
   "metadata": {},
   "outputs": [],
   "source": [
    "print(\"dictionaries let you iterate through keys, values, or both\")\n",
    "phones = {\n",
    "    \"Panos\": \"212-998-0803\",\n",
    "    \"Maria\": \"656-233-5555\",\n",
    "    \"John\": \"693-232-5776\",\n",
    "    \"Jake\": \"415-794-3423\"\n",
    "}"
   ]
  },
  {
   "cell_type": "code",
   "execution_count": null,
   "metadata": {},
   "outputs": [],
   "source": [
    "print(\"Iterating over keys\")\n",
    "for k in phones.keys():\n",
    "    print(\"key =\", k, \", value =\", phones[k])"
   ]
  },
  {
   "cell_type": "code",
   "execution_count": null,
   "metadata": {},
   "outputs": [],
   "source": [
    "print(\"Iterating over values\")\n",
    "for v in phones.values():\n",
    "    print(v)"
   ]
  },
  {
   "cell_type": "code",
   "execution_count": null,
   "metadata": {},
   "outputs": [],
   "source": [
    "print(\"Iterating over both keys and values\")\n",
    "# Items returns *tuples* that correspond to key-value pairs\n",
    "# (\"Panos\", \"212-998-0803\"), (\"Maria\": \"656-233-5555\"), etc.\n",
    "for (k,v) in phones.items():\n",
    "    print(k, v)"
   ]
  },
  {
   "cell_type": "code",
   "execution_count": null,
   "metadata": {},
   "outputs": [],
   "source": [
    "nba_teams = [\"Atlanta Hawks\", \"Boston Celtics\", \"Brooklyn Nets\", \"Charlotte Hornets\", \"Chicago Bulls\", \"Cleveland Cavaliers\", \"Dallas Mavericks\", \"Denver Nuggets\", \"Detroit Pistons\", \"Golden State Warriors\", \"Houston Rockets\", \"Indiana Pacers\", \"LA Clippers\", \"Los Angeles Lakers\", \"Memphis Grizzlies\", \"Miami Heat\", \"Milwaukee Bucks\", \"Minnesota Timberwolves\", \"New Orleans Pelicans\", \"New York Knicks\", \"Oklahoma City Thunder\", \"Orlando Magic\", \"Philadelphia 76ers\", \"Phoenix Suns\", \"Portland Trail Blazers\", \"Sacramento Kings\", \"San Antonio Spurs\", \"Toronto Raptors\", \"Utah Jazz\"]\n",
    "print(\"The list contains\", len(nba_teams), \"teams\")\n",
    "for team in nba_teams:\n",
    "    print(team)"
   ]
  },
  {
   "cell_type": "markdown",
   "metadata": {},
   "source": [
    "### Exercise\n",
    "\n",
    "* print the names of the people from the dictionary below, by iterating through the keys\n",
    "* print the age of each person, by iterating through the keys, and then looking up the \"YOB\" entry.\n",
    "* print the names of people born after 1980\n",
    "* print the number of children for each person. You need to check if the \"Children\" list exists in the dictionary."
   ]
  },
  {
   "cell_type": "code",
   "execution_count": null,
   "metadata": {},
   "outputs": [],
   "source": [
    "data = {\n",
    "        \"Foster\": {\n",
    "            \"Job\": \"Professor\", \n",
    "            \"YOB\": 1965, \n",
    "            \"Children\": [\"Hannah\"],\n",
    "            \"Awards\": [\"Best Teacher 2014\", \"Best Researcher 2015\"],\n",
    "            \"Salary\": 120000\n",
    "        }, \n",
    "        \"Joe\": {\n",
    "            \"Job\": \"Data Scientist\", \n",
    "            \"YOB\": 1981,\n",
    "            \"Salary\": 200000\n",
    "        },\n",
    "        \"Maria\": { \n",
    "            \"Job\": \"Software Engineer\", \n",
    "            \"YOB\": 1993, \n",
    "            \"Children\": [],\n",
    "            \"Awards\": [\"Dean's List 2013\", \"Valedictorian 2011\", \"First place in Math Olympiad 2010\"]\n",
    "        }, \n",
    "        \"Panos\": { \n",
    "            \"Job\": \"Professor\", \n",
    "            \"YOB\": 1976, \n",
    "            \"Children\": [\"Gregory\", \"Anna\"]\n",
    "        },\n",
    "    }"
   ]
  },
  {
   "cell_type": "code",
   "execution_count": null,
   "metadata": {},
   "outputs": [],
   "source": [
    "## Print the names of people in the data"
   ]
  },
  {
   "cell_type": "code",
   "execution_count": null,
   "metadata": {},
   "outputs": [],
   "source": [
    "## Print the names and age"
   ]
  },
  {
   "cell_type": "code",
   "execution_count": null,
   "metadata": {},
   "outputs": [],
   "source": [
    "## Print the names of people born after 1980"
   ]
  },
  {
   "cell_type": "code",
   "execution_count": null,
   "metadata": {},
   "outputs": [],
   "source": [
    "## Print the number of children for each perspon"
   ]
  },
  {
   "cell_type": "markdown",
   "metadata": {},
   "source": [
    "### Using Break/Continue with for loops\n",
    "\n",
    "Let's see an example of using `break` and `continue` within a for loop."
   ]
  },
  {
   "cell_type": "code",
   "execution_count": null,
   "metadata": {},
   "outputs": [],
   "source": [
    "nba_teams = [\"Atlanta Hawks\", \"Boston Celtics\", \"Brooklyn Nets\", \"Charlotte Hornets\", \"Chicago Bulls\", \"Cleveland Cavaliers\", \"Dallas Mavericks\", \"Denver Nuggets\", \"Detroit Pistons\", \"Golden State Warriors\", \"Houston Rockets\", \"Indiana Pacers\", \"LA Clippers\", \"Los Angeles Lakers\", \"Memphis Grizzlies\", \"Miami Heat\", \"Milwaukee Bucks\", \"Minnesota Timberwolves\", \"New Orleans Pelicans\", \"New York Knicks\", \"Oklahoma City Thunder\", \"Orlando Magic\", \"Philadelphia 76ers\", \"Phoenix Suns\", \"Portland Trail Blazers\", \"Sacramento Kings\", \"San Antonio Spurs\", \"Toronto Raptors\", \"Utah Jazz\"]\n",
    "print(\"The list contains\", len(nba_teams), \"teams\")"
   ]
  },
  {
   "cell_type": "markdown",
   "metadata": {},
   "source": [
    "We will now search through the list of teams, to find whether there is a team that contains the `looking_for` string. Try the variant with the `break` and with the `continue`, to see the difference."
   ]
  },
  {
   "cell_type": "code",
   "execution_count": null,
   "metadata": {},
   "outputs": [],
   "source": [
    "looking_for = \"Brooklyn\"\n",
    "for team in nba_teams:\n",
    "    if looking_for in team: \n",
    "        print(\"We found the team:\", team, \"containing\", looking_for)\n",
    "        print(\"We will stop searching now\")\n",
    "        break # we go out of the loop\n",
    "        # continue # we skip the remaining of the code in the nested block\n",
    "    # else:\n",
    "    print(team, \"does not contain the string\", looking_for)\n",
    "    \n",
    "print(\"Out of the loop!\")"
   ]
  },
  {
   "cell_type": "markdown",
   "metadata": {},
   "source": [
    "Technically, we can simulate the use of `break` and `continue` with `if-else` statements, but their usage often makes the code easier to read. Consider the following example, where we want to search for a team, and if we find a team that matches, we want to see if they made it to the play offs."
   ]
  },
  {
   "cell_type": "code",
   "execution_count": null,
   "metadata": {},
   "outputs": [],
   "source": [
    "playoff = [\"Atlanta Hawks\", \"Boston Celtics\", \"Charlotte Hornets\",\"Cleveland Cavaliers\", \"Dallas Mavericks\", \"Detroit Pistons\",\"Golden State Warriors\", \"Houston Rockets\", \"Indiana Pacers\", \"LA Clippers\", \"Memphis Grizzlies\", \"Miami Heat\", \"Oklahoma City Thunder\", \"Portland Trail Blazers\", \"San Antonio Spurs\", \"Toronto Raptors\"]\n",
    "print(\"The list contains\", len(playoff), \"teams\")"
   ]
  },
  {
   "cell_type": "code",
   "execution_count": null,
   "metadata": {},
   "outputs": [],
   "source": [
    "looking_for = \"Clippers\"\n",
    "\n",
    "for team in nba_teams:\n",
    "    # If the team does not match, we continue searching\n",
    "    # without executing the remaining code\n",
    "    if looking_for not in team: \n",
    "        continue\n",
    " \n",
    "    # If we have found a matching team, we check for their status in playoffs\n",
    "    if team in playoff:\n",
    "        print(team, \"was in the playoffs!\")\n",
    "    else:\n",
    "        print(team, \"was not in the playoffs...\")\n"
   ]
  },
  {
   "cell_type": "markdown",
   "metadata": {},
   "source": [
    "### Ranges of Integers:\n",
    "\n",
    "Often it is convenient to define (and iterate through) ranges of integers. Python has a convenient range function that allows you to do just this."
   ]
  },
  {
   "cell_type": "code",
   "execution_count": null,
   "metadata": {},
   "outputs": [],
   "source": [
    "list(range(20))"
   ]
  },
  {
   "cell_type": "code",
   "execution_count": null,
   "metadata": {},
   "outputs": [],
   "source": [
    "print(list(range(10)) )# start at zero, < the specified ceiling value\n",
    "# range(10) <=> range(0,10)\n",
    "for i in range(10):\n",
    "    print(i, \"squared is\", i*i)"
   ]
  },
  {
   "cell_type": "code",
   "execution_count": null,
   "metadata": {},
   "outputs": [],
   "source": [
    "# When range command has two parameters, it starts from the first parameter\n",
    "# and finishes at the second \n",
    "print(list(range(-5, 5)))#from the left value, < right value"
   ]
  },
  {
   "cell_type": "code",
   "execution_count": null,
   "metadata": {},
   "outputs": [],
   "source": [
    "# When range has a third argument, this is the \"step\" value\n",
    "print(list(range(-5, 50, 5)) )#from the left value, to the middle value, incrementing by the right value"
   ]
  },
  {
   "cell_type": "markdown",
   "metadata": {},
   "source": [
    "#### Warning\n",
    "\n",
    "Those that are already familiar with programming will tend to write code like this:"
   ]
  },
  {
   "cell_type": "code",
   "execution_count": null,
   "metadata": {},
   "outputs": [],
   "source": [
    "# Old style, using indexing for loops\n",
    "names = [\"Abe\", \"Bill\", \"Chris\", \"Dorothy\", \"Ellis\"]\n",
    "for i in range(0,len(names)):\n",
    "    print(names[i])"
   ]
  },
  {
   "cell_type": "markdown",
   "metadata": {},
   "source": [
    "instead of "
   ]
  },
  {
   "cell_type": "code",
   "execution_count": null,
   "metadata": {},
   "outputs": [],
   "source": [
    "# Pythonic style, use iterators\n",
    "names = [\"Abe\", \"Bill\", \"Chris\", \"Dorothy\", \"Ellis\"]\n",
    "for n in names:\n",
    "    print(n)"
   ]
  },
  {
   "cell_type": "markdown",
   "metadata": {},
   "source": [
    "*Avoid* using the indexing style method for iterating through data structures. While technically both generate the same result, the \"Pythonic\" way of doing things is the latter: It is simpler, more readable, and less prone to errors. "
   ]
  },
  {
   "cell_type": "code",
   "execution_count": null,
   "metadata": {},
   "outputs": [],
   "source": []
  },
  {
   "cell_type": "markdown",
   "metadata": {},
   "source": [
    "#### Exercise\n",
    "\n",
    "* print your name 10 times (easy, peasy). \n",
    "* print on the screen a \"triangle\", by printing first \"#\", then \"##\", then \"###\", etc. Repeat 10 times; _Hint: The command `print(i*'#')` will print the character '#' a total of `i` times._"
   ]
  },
  {
   "cell_type": "code",
   "execution_count": null,
   "metadata": {},
   "outputs": [],
   "source": [
    "#\n",
    "##\n",
    "###\n",
    "####\n",
    "#####\n",
    "######\n",
    "#######\n",
    "########\n",
    "#########\n",
    "##########"
   ]
  },
  {
   "cell_type": "markdown",
   "metadata": {},
   "source": [
    "List Comprehensions\n",
    "-------------------\n",
    "\n",
    "The practical data scientist often faces situations where one list is to be transformed into another list, transforming the values in the input array, filtering out certain undesired values, etc. List comprehensions are a natural, flexible way to perform these transformations on the elements in a list. \n",
    "\n",
    "The syntax of list comprehensions is based on the way mathematicians define sets and lists, a syntax that leaves it clear what the contents should be:\n",
    "\n",
    "+ `S = {x² : x in {0 ... 9}}`\n",
    "\n",
    "Python's list comprehensions give a very natural way to write statements just like these. It may look strange early on, but it becomes a very natural and concise way of creating lists, without having to write for-loops."
   ]
  },
  {
   "cell_type": "code",
   "execution_count": null,
   "metadata": {},
   "outputs": [],
   "source": [
    "S = [] # initialize the list\n",
    "for x in range(10):\n",
    "    S.append(x*x)\n",
    "print(S)"
   ]
  },
  {
   "cell_type": "code",
   "execution_count": null,
   "metadata": {},
   "outputs": [],
   "source": [
    "# This code below will create a list with the squares\n",
    "# of the numbers from 0 to 9 \n",
    "S = [] # we create an empty list\n",
    "for i in range(10): # We iterate over all numbers from 0 to 9\n",
    "    S.append(i*i) # We add in the list the square of the number i\n",
    "print(S )# we print(the list)"
   ]
  },
  {
   "cell_type": "code",
   "execution_count": null,
   "metadata": {},
   "outputs": [],
   "source": [
    "S = [i*i for i in range(10)]\n",
    "print(S)"
   ]
  },
  {
   "cell_type": "markdown",
   "metadata": {},
   "source": [
    "Now let's do one more example:\n",
    "\n",
    "+ `V = (1, 2, 4, 8, ..., 2¹²)`\n"
   ]
  },
  {
   "cell_type": "code",
   "execution_count": null,
   "metadata": {},
   "outputs": [],
   "source": [
    "V = [2**i for i in range(13)]\n",
    "print(V)"
   ]
  },
  {
   "cell_type": "code",
   "execution_count": null,
   "metadata": {},
   "outputs": [],
   "source": [
    "V= []\n",
    "for i in range(13):\n",
    "    V.append(2**i)\n",
    "print(V)"
   ]
  },
  {
   "cell_type": "markdown",
   "metadata": {},
   "source": [
    "### The *if* statement within a list comprehension\n",
    "\n",
    "Now let's consider the following case:\n",
    "\n",
    "+ `M = {x | x in S and x even}`\n",
    "\n",
    "**Note the list comprehension for deriving M uses a \"if statement\" to filter out those values that aren't of interest**, restricting to only the even squares."
   ]
  },
  {
   "cell_type": "code",
   "execution_count": null,
   "metadata": {},
   "outputs": [],
   "source": [
    "S = [i*i for i in range(10)]\n",
    "print(S)"
   ]
  },
  {
   "cell_type": "code",
   "execution_count": null,
   "metadata": {},
   "outputs": [],
   "source": [
    "M = []\n",
    "for i in S: # iterate through all elements in S\n",
    "    if i%2 == 0: # if i is an event number\n",
    "        M.append(i) # ..add it to the list\n",
    "print(M)"
   ]
  },
  {
   "cell_type": "code",
   "execution_count": null,
   "metadata": {},
   "outputs": [],
   "source": [
    "M = [x for x in S if x%2 == 0]\n",
    "print(M)"
   ]
  },
  {
   "cell_type": "markdown",
   "metadata": {},
   "source": [
    "These are simple examples, using numerical compuation. Let's see a more \"practical\" use: In the following operation we transform a string into an list of values, a more complex operation: "
   ]
  },
  {
   "cell_type": "code",
   "execution_count": null,
   "metadata": {},
   "outputs": [],
   "source": [
    "words = 'The quick brown fox jumps over the lazy dog'\n",
    "[(w.upper(), w.lower(), len(w)) for w in words.split()]"
   ]
  },
  {
   "cell_type": "markdown",
   "metadata": {},
   "source": [
    "#### Exercise\n",
    "\n",
    "* List each word and its length from the string 'The quick brown fox jumps over the lazy dog', conditioned on the length of the word being four characters and above\n",
    "* List only words with the letter o in them"
   ]
  },
  {
   "cell_type": "code",
   "execution_count": null,
   "metadata": {},
   "outputs": [],
   "source": [
    "# List each word and its length from the string \n",
    "# 'The quick brown fox jumps over the lazy dog', \n",
    "# conditioned on the length of the word being four characters and above\n"
   ]
  },
  {
   "cell_type": "code",
   "execution_count": null,
   "metadata": {},
   "outputs": [],
   "source": [
    "# List only words with the letter o in them\n"
   ]
  },
  {
   "cell_type": "markdown",
   "metadata": {},
   "source": [
    "* You are given the `wsj` article below. Write a list comprehension for getting the words that appear more than once. \n",
    "    * Use the `.split()` command for splitting, without passing a parameter.\n",
    "    * When counting words, case does not matter (i.e., YAHOO is the same as Yahoo).\n",
    "\n",
    "* Find all the *characters* in the article that are not letters or numbers. You can use the isdigit() and isalpha() functions, which work on strings. (e.g, `\"Panos\".isalpha()` and `\"1234\".isdigit()` return True) "
   ]
  },
  {
   "cell_type": "code",
   "execution_count": null,
   "metadata": {},
   "outputs": [],
   "source": [
    "wsj = \"\"\"\n",
    "Yahoo Inc. disclosed a massive security breach by a “state-sponsored actor” affecting at least 500 million users, potentially the largest such data breach on record and the latest hurdle for the beaten-down internet company as it works through the sale of its core business.\n",
    "Yahoo said certain user account information—including names, email addresses, telephone numbers, dates of birth, hashed passwords and, in some cases, encrypted or unencrypted security questions and answers—was stolen from the company’s network in late 2014 by what it believes is a state-sponsored actor.\n",
    "Yahoo said it is notifying potentially affected users and has taken steps to secure their accounts by invalidating unencrypted security questions and answers so they can’t be used to access an account and asking potentially affected users to change their passwords.\n",
    "Yahoo recommended users who haven’t changed their passwords since 2014 do so. It also encouraged users change their passwords as well as security questions and answers for any other accounts on which they use the same or similar information used for their Yahoo account.\n",
    "The company, which is working with law enforcement, said the continuing investigation indicates that stolen information didn't include unprotected passwords, payment-card data or bank account information.\n",
    "With 500 million user accounts affected, this is the largest-ever publicly disclosed data breach, according to Paul Stephens, director of policy and advocacy with Privacy Rights Clearing House, a not-for-profit group that compiles information on data breaches.\n",
    "No evidence has been found to suggest the state-sponsored actor is currently in Yahoo’s network, and Yahoo didn’t name the country it suspected was involved. In August, a hacker called “Peace” appeared in online forums, offering to sell 200 million of the company’s usernames and passwords for about $1,900 in total. Peace had previously sold data taken from breaches at Myspace and LinkedIn Corp.\n",
    "\"\"\""
   ]
  },
  {
   "cell_type": "code",
   "execution_count": null,
   "metadata": {},
   "outputs": [],
   "source": []
  }
 ],
 "metadata": {
  "kernelspec": {
   "display_name": "Python 3",
   "language": "python",
   "name": "python3"
  },
  "language_info": {
   "codemirror_mode": {
    "name": "ipython",
    "version": 3
   },
   "file_extension": ".py",
   "mimetype": "text/x-python",
   "name": "python",
   "nbconvert_exporter": "python",
   "pygments_lexer": "ipython3",
   "version": "3.5.2"
  }
 },
 "nbformat": 4,
 "nbformat_minor": 1
}
