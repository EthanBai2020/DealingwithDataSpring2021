{
  "nbformat": 4,
  "nbformat_minor": 0,
  "metadata": {
    "kernelspec": {
      "display_name": "Python 3",
      "language": "python",
      "name": "python3"
    },
    "language_info": {
      "codemirror_mode": {
        "name": "ipython",
        "version": 2
      },
      "file_extension": ".py",
      "mimetype": "text/x-python",
      "name": "python",
      "nbconvert_exporter": "python",
      "pygments_lexer": "ipython2",
      "version": "2.7.5"
    },
    "colab": {
      "name": "A-Introduction_to_iPython_Notebooks.ipynb",
      "provenance": [],
      "include_colab_link": true
    }
  },
  "cells": [
    {
      "cell_type": "markdown",
      "metadata": {
        "id": "view-in-github",
        "colab_type": "text"
      },
      "source": [
        "<a href=\"https://colab.research.google.com/github/nhwhite212/DealingwithDataSpring2021/blob/colab/2-Introduction_to_Python/A_Introduction_to_iPython_Notebooks.ipynb\" target=\"_parent\"><img src=\"https://colab.research.google.com/assets/colab-badge.svg\" alt=\"Open In Colab\"/></a>"
      ]
    },
    {
      "cell_type": "markdown",
      "metadata": {
        "id": "xCIKyy-ETud5"
      },
      "source": [
        "# Python Primer: The Basics\n",
        "\n",
        "This is a notebook file. It is an interactive document that you can edit on the fly, and you can use it to write and execute programs. You can learn more about the interface by reading the [online documentation](http://jupyter-notebook.readthedocs.io/en/stable/examples/Notebook/Notebook%20Basics.html), although it should be pretty simple to understand what is going on without any documentation. \n",
        "\n",
        "You can also click \"Help : User Interface tour\" from the menu, which will explain the basics of the notebook."
      ]
    },
    {
      "cell_type": "markdown",
      "metadata": {
        "id": "w-bP_BeVTud_"
      },
      "source": [
        "## Our first Python program\n",
        "\n",
        "Traditionally, every time that we start learning a new language, we start with a program that prints \"Hello World\" in the output."
      ]
    },
    {
      "cell_type": "code",
      "metadata": {
        "id": "qZHKUxn6TueA",
        "colab": {
          "base_uri": "https://localhost:8080/"
        },
        "outputId": "c3645395-b0f1-49a4-8936-82a16397f89d"
      },
      "source": [
        "print(\"Hello World\")"
      ],
      "execution_count": null,
      "outputs": [
        {
          "output_type": "stream",
          "text": [
            "Hello World\n"
          ],
          "name": "stdout"
        }
      ]
    },
    {
      "cell_type": "markdown",
      "metadata": {
        "id": "TnvGRDoMTueB"
      },
      "source": [
        "To run the \"Hello World\" program above, just select the code cell, and then click the \"Run\" button from the toolbar. Alternatively, you can also press Ctrl + Enter, if you prefer to use keyboard shortcuts. You can discover more keyboard shortcuts by selecting \"Help : Keyboard Shortcuts\" from the menu."
      ]
    },
    {
      "cell_type": "markdown",
      "metadata": {
        "id": "HtsxVha7TueC"
      },
      "source": [
        "### Exercise\n",
        "\n",
        "Print your own message:"
      ]
    },
    {
      "cell_type": "code",
      "metadata": {
        "id": "gCXY6EfRTueC"
      },
      "source": [
        "# your code here"
      ],
      "execution_count": null,
      "outputs": []
    },
    {
      "cell_type": "markdown",
      "metadata": {
        "id": "sfI7F8mMTueD"
      },
      "source": [
        "## Comments\n",
        "\n",
        "You will have noticed in the cell above the line \n",
        "`# your code here` \n",
        "\n",
        "This is a _comment in the code_\n",
        "\n",
        "Comments are notes in your source code that aren't exectued when your code is run. These are useful for reminding yourself what your code does, and for notifying others to your intentions. "
      ]
    },
    {
      "cell_type": "code",
      "metadata": {
        "id": "MPZCPC18TueE",
        "colab": {
          "base_uri": "https://localhost:8080/"
        },
        "outputId": "6e11ae50-6f86-4763-d9c8-e7a73113c7e4"
      },
      "source": [
        "# A comment\n",
        "#\n",
        "# We use comments to write down things that we want to rememember\n",
        "# or instructions for other users that will read/use our code\n",
        "\n",
        "# Anything after the # is ignored by python.\n",
        "\n",
        "print(\"I could have written code like this.\")  # the comment after is ignored"
      ],
      "execution_count": null,
      "outputs": [
        {
          "output_type": "stream",
          "text": [
            "I could have written code like this.\n"
          ],
          "name": "stdout"
        }
      ]
    },
    {
      "cell_type": "code",
      "metadata": {
        "id": "_XrJSoLRTueE",
        "colab": {
          "base_uri": "https://localhost:8080/"
        },
        "outputId": "ac62f331-35e7-42f3-f3f1-86662d6c7dae"
      },
      "source": [
        "# You can also use a comment to \"disable\" or comment out a piece of code:\n",
        "# print(\"This won't run.\")\n",
        "\n",
        "print(\"This will run.\")"
      ],
      "execution_count": null,
      "outputs": [
        {
          "output_type": "stream",
          "text": [
            "This will run.\n"
          ],
          "name": "stdout"
        }
      ]
    },
    {
      "cell_type": "markdown",
      "metadata": {
        "id": "i-5GYXjeTueF"
      },
      "source": [
        "### Exercise\n",
        "\n",
        "Fix the code below, so that it runs:"
      ]
    },
    {
      "cell_type": "code",
      "metadata": {
        "id": "i0ldcoPfTueG"
      },
      "source": [
        "# print(\"Hi Panos!''"
      ],
      "execution_count": null,
      "outputs": []
    },
    {
      "cell_type": "markdown",
      "metadata": {
        "id": "drT41V7vTueG"
      },
      "source": [
        "## Multiline comments \n",
        "\n",
        "Python has single line and multiline comments. These multiline comments are also called _docstrings_ because they are often used to write documentation for the code. "
      ]
    },
    {
      "cell_type": "code",
      "metadata": {
        "id": "J8mvguKvTueH",
        "colab": {
          "base_uri": "https://localhost:8080/"
        },
        "outputId": "26a423f9-ba5d-43eb-95e7-5da1f169e082"
      },
      "source": [
        "# This is a single line comment\n",
        "# This a second single line comment\n",
        "\n",
        "print(\"trying out some comments\")\n",
        "\"\"\"This code is used to print \n",
        "a message of your choice. Notice that \n",
        "this message that is included in the triple double\n",
        "quotes will not execute.\"\"\"\n",
        "\n",
        "print(\"python ftw\")"
      ],
      "execution_count": null,
      "outputs": [
        {
          "output_type": "stream",
          "text": [
            "trying out some comments\n",
            "python ftw\n"
          ],
          "name": "stdout"
        }
      ]
    },
    {
      "cell_type": "markdown",
      "metadata": {
        "id": "3D_EygynTueH"
      },
      "source": [
        "## Notebooks: Markdown for text\n",
        "\n",
        "In notebooks, you can simply double click on a piece of text and then edit it. To restore it back, from edit mode, press \"Run\". Markdown is a very simple language for formatting text, and you can read further instructions by going to \"Help : Markdown\" from the menu, or checking the [online examples](http://jupyter-notebook.readthedocs.io/en/stable/examples/Notebook/Working%20With%20Markdown%20Cells.html)\n",
        "\n",
        "Below, we will see a few examples."
      ]
    },
    {
      "cell_type": "markdown",
      "metadata": {
        "id": "Mc3Q7zqITueH"
      },
      "source": [
        "# Big Header \n",
        "## Smaller Header\n",
        "### A little smaller header\n",
        "#### Getting smaller and smaller\n",
        "##### Very very small header\n",
        "###### I do not even know if this is a header anymore"
      ]
    },
    {
      "cell_type": "markdown",
      "metadata": {
        "id": "c4vmS9ItTueH"
      },
      "source": [
        "You can write plain text, **bold text**, and _italics_. \n",
        "You can also ~~strike~~ things that were incorrect.\n"
      ]
    },
    {
      "cell_type": "markdown",
      "metadata": {
        "id": "RDZWqjxoTueH"
      },
      "source": [
        "If you want to write code, you can use the backtick characters: `print(\"Hello World\")`\n",
        "\n",
        "Or you can use triple backticks, and can get color coding by specifying the language that you use.\n",
        "```python\n",
        "print(\"Hello World\")\n",
        "```\n",
        "\n",
        "```html\n",
        "<html>\n",
        "    <body>Hello World!</body>\n",
        "</html>\n",
        "```"
      ]
    },
    {
      "cell_type": "markdown",
      "metadata": {
        "id": "c_w7YPVYTueI"
      },
      "source": [
        "You can also create bulleted lists:\n",
        "* Learn Python\n",
        "* ...\n",
        "* Millions!"
      ]
    },
    {
      "cell_type": "markdown",
      "metadata": {
        "id": "AG0j5grTTueI"
      },
      "source": [
        "Or perhaps you want to write ordered lists:\n",
        "1. Learn Python\n",
        "2. Learn SQL\n",
        "3. ....\n",
        "4. Millions!"
      ]
    },
    {
      "cell_type": "code",
      "metadata": {
        "id": "YsBHcU3WTueI"
      },
      "source": [
        ""
      ],
      "execution_count": null,
      "outputs": []
    },
    {
      "cell_type": "code",
      "metadata": {
        "id": "8L0wlN5ITueI"
      },
      "source": [
        ""
      ],
      "execution_count": null,
      "outputs": []
    },
    {
      "cell_type": "code",
      "metadata": {
        "id": "G7c9BnTbTueI"
      },
      "source": [
        ""
      ],
      "execution_count": null,
      "outputs": []
    },
    {
      "cell_type": "code",
      "metadata": {
        "id": "Vi6uAnWCTueJ"
      },
      "source": [
        ""
      ],
      "execution_count": null,
      "outputs": []
    },
    {
      "cell_type": "code",
      "metadata": {
        "id": "u9lYd5S6TueJ"
      },
      "source": [
        ""
      ],
      "execution_count": null,
      "outputs": []
    },
    {
      "cell_type": "code",
      "metadata": {
        "id": "T6ooLmI4TueK"
      },
      "source": [
        ""
      ],
      "execution_count": null,
      "outputs": []
    }
  ]
}