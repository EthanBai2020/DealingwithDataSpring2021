{
  "nbformat": 4,
  "nbformat_minor": 0,
  "metadata": {
    "kernelspec": {
      "display_name": "Python 3",
      "language": "python",
      "name": "python3"
    },
    "language_info": {
      "codemirror_mode": {
        "name": "ipython",
        "version": 3
      },
      "file_extension": ".py",
      "mimetype": "text/x-python",
      "name": "python",
      "nbconvert_exporter": "python",
      "pygments_lexer": "ipython3",
      "version": "3.5.2"
    },
    "colab": {
      "name": "M-In_Class_Exercise_Solution.ipynb",
      "provenance": []
    }
  },
  "cells": [
    {
      "cell_type": "markdown",
      "metadata": {
        "id": "WOoTTQ76Yfm0"
      },
      "source": [
        "# Our Task: Find similar company names\n",
        "\n",
        "Now that we have completed our Python Primer, let's try to complete a real task, while at the same time trying to practice loops, iterations, and other Python functionality that we studied.\n",
        "\n",
        "### Your high level task\n",
        "\n",
        "You are given a list of names. You know that the same entity in the list has different representations. You want to find duplicate companies in the data.\n",
        "\n",
        "As a concrete example, open the file under `data/restaurants.txt`. This contains a list of restaurant names, extracted from the [NYC Restaurant inspection data set](https://data.cityofnewyork.us/Health/DOHMH-New-York-City-Restaurant-Inspection-Results/xx67-kt59/data) (available online). The Department of Health has been doing a decent, but not perfect, job in recording the company names. Therefore, the same restaurant appears under different names. **Your task is to find \"almost duplicate\" entries in order to decide whether they correspond to the same business.**\n"
      ]
    },
    {
      "cell_type": "markdown",
      "metadata": {
        "id": "G6UCKZUAYfm2"
      },
      "source": [
        "#### Matching Company Names\n",
        "\n",
        "Quite often, in our data, we have entries represented as strings that refer to the same entity but have different string representations (e.g., McDonald's vs McDonalds vs McDonald‎). We want to write code that will help in the task of finding such similar entries in our data.\n",
        "\n",
        "Our task can be broken in the following tasks:\n",
        "* **Step 1**: Read the data from a file into a list of strings in memory. We have two data sets under the `data` folder: The list of unique restaurant names from the NYC Restaurant Inspection dataset (`data/restaurants.txt`). We need to write Python code that will read these files and return a list of strings that are the company names.\n",
        "* **Step 2**: We will then need to figure out how to compare two strings and find their similarity. For that, we will write a function that takes as input **two** strings, and returns back their similarities. We will explore multiple ways of writing that function, using various library functions.\n",
        "* **Step 3**: We will need to write a function that takes as input a company name, and returns back a list of matching company names, together with their similarity. Ideally, we would like to also sort the list based on the similarity (highest similarity metrics on top). As part of our learning process, we will use the _list comprehension_ approach to create the list. We will also use tuples as the elements of the list, so that the list contain elements such as `[(\"McDonalds\", 0.88), (\"McDonald's\", 0.81),....]`.\n",
        "* **Step 4**: In the final step, we will just perform the similarity computation across all companies in the dataset."
      ]
    },
    {
      "cell_type": "code",
      "metadata": {
        "colab": {
          "base_uri": "https://localhost:8080/"
        },
        "id": "kFIAeVwJMJga",
        "outputId": "ca5525a5-bc2d-448e-f7a1-8abdd8e5a2e0"
      },
      "source": [
        "# first download a list of restaurants names in NYC \r\n",
        "!curl http://people.stern.nyu.edu/nwhite/DealingwithDataSpring2021/6-Pandas/data/restaurants.txt > restaurants.txt"
      ],
      "execution_count": 5,
      "outputs": [
        {
          "output_type": "stream",
          "text": [
            "  % Total    % Received % Xferd  Average Speed   Time    Time     Time  Current\n",
            "                                 Dload  Upload   Total   Spent    Left  Speed\n",
            "100 7173k  100 7173k    0     0   713k      0  0:00:10  0:00:10 --:--:--  886k\n"
          ],
          "name": "stdout"
        }
      ]
    },
    {
      "cell_type": "markdown",
      "metadata": {
        "id": "fh_XVY7hYfm3"
      },
      "source": [
        "### STEP 1: Read the list of names from a file and create a list of names"
      ]
    },
    {
      "cell_type": "code",
      "metadata": {
        "colab": {
          "base_uri": "https://localhost:8080/"
        },
        "id": "qNeOdbTZYfm4",
        "outputId": "640e70d6-e2e5-45ed-df1d-32c8baf9043f"
      },
      "source": [
        "# STEP 1: Read the list of names from a file and create a list of names\n",
        "filename = './restaurants.txt'\n",
        "\n",
        "f = open(filename, 'r')\n",
        "content = f.read()\n",
        "f.close()\n",
        "names = sorted(set(content.split('\\n')))\n",
        "names"
      ],
      "execution_count": 6,
      "outputs": [
        {
          "output_type": "execute_result",
          "data": {
            "text/plain": [
              "['',\n",
              " '\"1',\n",
              " '\"1174 FULTON CUISINE',\n",
              " '\"70KING',\n",
              " '\"AIR BAR',\n",
              " '\"AU BON PAIN',\n",
              " '\"AUNTIE ANNE\\'S PRETZELS',\n",
              " '\"BAKED BY MELISSA',\n",
              " '\"BECEC',\n",
              " '\"BISOUS',\n",
              " '\"BLENDED-UP JUICE',\n",
              " '\"BOOM BOOM ROOM',\n",
              " '\"BUFFALO WILD WINGS',\n",
              " '\"BURGER KING',\n",
              " '\"CADWALADER',\n",
              " '\"CARVEL ICE CREAM',\n",
              " '\"CHATIME',\n",
              " '\"CHIC-FIL-A',\n",
              " '\"CHICKEN/CELEBRITY CHEF',\n",
              " '\"CHICKPEA',\n",
              " '\"CHINA MIA EXOTIC ASIAN FOOD',\n",
              " '\"D\\'ANGELO\\'S PIZZA',\n",
              " '\"DELICIAS CUENCANAS BAR-RESTAURANT DELI',\n",
              " '\"DESSERT CLUB',\n",
              " '\"DUNKIN DONUTS',\n",
              " '\"DUNKIN\\' DONUTS',\n",
              " '\"EMPLOYEE CAFETERIA',\n",
              " '\"FISHERMAN\\'S COVE',\n",
              " '\"FLIP BIRD',\n",
              " '\"FLOYD',\n",
              " '\"FRIEND\\'S FRIED CHICKEN',\n",
              " '\"GARDEN MARKET',\n",
              " '\"GROVE SMOOTHIE KING',\n",
              " '\"HAAGEN- DAZS',\n",
              " '\"HAMBURGER/CELEBRITY CHEF',\n",
              " '\"HAMPTON CHUTNEY',\n",
              " '\"HUMRO BHIM\\'S CAFE',\n",
              " '\"HYATT',\n",
              " '\"IRIS TEA & BAKERY',\n",
              " '\"KFC',\n",
              " '\"LOVE CRAFT',\n",
              " '\"MAMA VAL\\'S FISH',\n",
              " '\"NY CAROUSEL ENTERTAINMENT',\n",
              " '\"NY FOOD COURT JAMAICA(CHINESE FOOD',\n",
              " '\"NYSC',\n",
              " '\"OAXACA TAQUERIA',\n",
              " '\"ORGANIC FOOD',\n",
              " '\"PIZZA HUT',\n",
              " '\"RESTAURANT ASSOCIATES',\n",
              " '\"ROLLS',\n",
              " '\"S',\n",
              " '\"SAUSAGE CELEBRITY CHEF',\n",
              " '\"SKADDEN ARPS',\n",
              " '\"SOUPS',\n",
              " '\"SUBWAY',\n",
              " '\"SUGAR HILL RESTAURANT',\n",
              " '\"T.G.I. FRIDAY\\'S',\n",
              " '\"TACO BELL',\n",
              " '\"THREE BROTHERS PIZZERIA & RESTAURANT',\n",
              " '\"TIM HORTONS',\n",
              " '\"TONY\\'S PIZZA',\n",
              " '\"ULTIMATE FITNESS',\n",
              " '\"WHALER BAR',\n",
              " '\"YUMMY FRIED CHICKEN',\n",
              " '#1 Chinese Restaurant',\n",
              " '#1 GARDEN CHINESE',\n",
              " '#1 Natural Juice Bar',\n",
              " '#1 SABOR LATINO RESTAURANT',\n",
              " '$1 PIZZA',\n",
              " '$1 PIZZA $2 BEER',\n",
              " \"''W'' CAFE\",\n",
              " '(LEWIS DRUG STORE) LOCANDA VINI E OLII',\n",
              " '(LIBRARY)  FOUR & TWENTY BLACKBIRDS',\n",
              " '(PUBLIC FARE) 81st street and central park west (Delacorte Theatre)',\n",
              " '+ 81 GALLERY NEW YORK',\n",
              " '.TAO',\n",
              " '1 2 3 BURGER SHOT BEER',\n",
              " '1 Banana Queen',\n",
              " '1 DARBAR',\n",
              " '1 EAST 66TH STREET KITCHEN',\n",
              " '1 HOTEL BROOKLYN BRIDGE',\n",
              " '1 OAK',\n",
              " '1 OR 8',\n",
              " '1 STOP PATTY SHOP',\n",
              " '1.5 GALBI RESTAURANT',\n",
              " '10 BELOW ICE CREAM',\n",
              " '10 DEVOE',\n",
              " '100 FUN',\n",
              " '100% JUICE BAR CAFE',\n",
              " '1001 NIGHTS CAFE',\n",
              " '101 CAFE',\n",
              " '101 DELI',\n",
              " '101 MEAT SHOP',\n",
              " '1020 BAR',\n",
              " '104-01 FOSTER AVENUE COFFEE SHOP(UPS)',\n",
              " '1061 CATERING',\n",
              " '107 WEST RESTAURANT',\n",
              " '108 DOUBLE CHINESE RESTAURANT',\n",
              " '108 FOOD DRIED HOT POT',\n",
              " '1080 BREW',\n",
              " '109 WEST BROADWAY FOOD & WINE LLC',\n",
              " '10BELOW ICE CREAM',\n",
              " '10TH AVENUE COOKSHOP',\n",
              " '10TH AVENUE PIZZA & CAFE',\n",
              " '11 HANOVER GREEK',\n",
              " '11 HOWARD KITCHEN',\n",
              " '11 STREET CAFE',\n",
              " '110 KENNEDY FRIED CHICKEN',\n",
              " '111 RESTAURANT',\n",
              " '118 KITCHEN',\n",
              " '12 CHAIRS',\n",
              " '12 CHAIRS CAFE',\n",
              " '12 CORAZONES RESTAURANT & BAR',\n",
              " '12 CORNERS',\n",
              " '12 CORNERS COFFEE',\n",
              " '12 STREET ALE HOUSE',\n",
              " '120 BAY CAFE',\n",
              " '121 FULTON STREET',\n",
              " '123 NIKKO',\n",
              " '124 COFFEE SHOP',\n",
              " '129 GOURMET DELI',\n",
              " '12TH STREET BAR & GRILL',\n",
              " '13106 GRAND EVERGREEN CHINESE RESTAURANT',\n",
              " '132 LOUNGE',\n",
              " '149 STEAM FISH',\n",
              " '15 CENTRAL PARK WEST RESTAURANT',\n",
              " '15 EAST RESTAURANT',\n",
              " '15 FLAVORS',\n",
              " '16 HANDLES',\n",
              " '161 HOT POT RICE',\n",
              " '1617-A NATIONAL BAKERY',\n",
              " '1633',\n",
              " '168 HI TEA',\n",
              " '168 JOY CAFE',\n",
              " '169 BAR',\n",
              " '16TH AVENUE GLATT',\n",
              " '173 WEBSTER AVENUE CAFE',\n",
              " '18 BAKERY',\n",
              " '18 EAST GUNHILL PIZZA',\n",
              " '18 HIPOT',\n",
              " '18 RESTAURANT',\n",
              " '18 STARS KITCHEN',\n",
              " '1818 SEAFOOD RESTAURANT',\n",
              " '1876/BEERS OF BROOKLYN',\n",
              " '19 CAFE',\n",
              " '196 LOVING TEA',\n",
              " '197 NO. 1 RESTAURANT',\n",
              " '1ST AVENUE GOURMET',\n",
              " '1ST BASE CONCESSION STAND',\n",
              " '1ST MAMA RESTAURANT',\n",
              " '2 BACI PIZZERIA',\n",
              " \"2 BRO'S PIZZA\",\n",
              " '2 BROS PIZZA',\n",
              " '2 BROS PIZZA/JUICE SHOP',\n",
              " '2 BROTHERS PIZZA',\n",
              " '2 HARLEM BROS PIZZA',\n",
              " '2 IN 1 RESTAURANT',\n",
              " '2 PALMITAS MEXICAN DELI',\n",
              " '2 WEST RESTAURANT',\n",
              " '2 sweet of yonkers inc.',\n",
              " '200 FIFTH AVENUE RESTAURANT & SPORTS BAR',\n",
              " '21 BAR',\n",
              " '21 CLUB',\n",
              " \"21 HOME'S KITCHEN\",\n",
              " '212 BURGER',\n",
              " '212 PIZZAMAN',\n",
              " '212 STEAKHOUSE',\n",
              " '2123 FRESH TORTILLAS',\n",
              " '218 RESTAURANT',\n",
              " '22 STR CONCESSION STAND',\n",
              " '22 THAI CUISINE',\n",
              " '224TH CORNER RESTAURANT & BAKERY',\n",
              " '229 LINDEN RESTAURANT',\n",
              " '230 FIFTH',\n",
              " '234 CHINA CITY',\n",
              " '24 HOUR FITNESS #288',\n",
              " '24 HOUR FITNESS #290',\n",
              " '24 HOUR FITNESS CLUB',\n",
              " '24 HOUR FITNESS CLUB #289',\n",
              " '24 HOUR FITNESS CLUB 292',\n",
              " '2419 CHINA STAR RESTAURANT',\n",
              " '241ST CAFE RESTAURANT',\n",
              " '242 CAFE BAKERY',\n",
              " '251 GINZA SUSHI HUANG',\n",
              " '259 LOLY RESTAURANT',\n",
              " '25TH DELI',\n",
              " '27 SHINJUKU SUSHI',\n",
              " '27 SPORTS BAR & CAFE',\n",
              " \"28 MING'S CAFFE\",\n",
              " '28 NOODLES',\n",
              " '2A',\n",
              " '2BEANS',\n",
              " '2ND AVE BLUE 9 BURGER',\n",
              " '2ND AVE DELI',\n",
              " '2ND AVENUE DELI',\n",
              " '2ND CITY',\n",
              " '3 BLACK CATS CAFE/CAKERY',\n",
              " '3 BROS 99 CENT PIZZA',\n",
              " '3 BROTHERS PIZZA',\n",
              " \"3 D'S LEGACY SALAD & GRILL\",\n",
              " '3 DELI & GRILL',\n",
              " '3 ESQUINAS RESTAURANT',\n",
              " '3 GREEKS GRILL',\n",
              " '3 GUYS',\n",
              " '3 GUYS RESTURANT',\n",
              " '3 GUYS SUSHI',\n",
              " '3 IN 1 FS&H JAMAICAN RESTAURANT',\n",
              " '3 IN 1 KITCHEN',\n",
              " '3 ROOTS',\n",
              " '3 SHEETS SALOON',\n",
              " '3 SISTERS PIZZA',\n",
              " \"3 SISTERS' & SHANTA'S RESTAURANT & BAKERY\",\n",
              " '3 STAR JUICE CENTER',\n",
              " '3 WAY RESTAURANT',\n",
              " '3-J RESTAURANT AND PIZZA',\n",
              " '301 CAFE JUICE AND SMOOTHIES',\n",
              " '302 BAR',\n",
              " '310 - EXELSIOR',\n",
              " '310 BOWERY BAR',\n",
              " '31ST AVENUE GYRO.',\n",
              " '32 CAFE INC.',\n",
              " '321 ICE CREAM SHOP',\n",
              " '33',\n",
              " \"33 CAPTAIN'S CAFE\",\n",
              " '33 GOURMET',\n",
              " '33 GREENWICH',\n",
              " '33 Gourmet',\n",
              " '333 LOUNGE',\n",
              " '337 - BURGERS & DOGS',\n",
              " '35 DUET',\n",
              " '375 THRICE COOKED FRIES',\n",
              " '38 DELI',\n",
              " '388 CAFE & DELI',\n",
              " '39 FANTASTIC BAR',\n",
              " '39 KARAOKE',\n",
              " '39 KINGS',\n",
              " '3E TASTE OF THAI',\n",
              " '3RD FLOOR COFFEE BAR',\n",
              " '3rd & 7',\n",
              " '4 Amores (Entrance is on Whitney Ave)',\n",
              " '4 CHARLES RIB PRIME RIB',\n",
              " '4 FOLD',\n",
              " '4 SQUARED FLAVORS',\n",
              " '40/40 CLUB',\n",
              " '40/40 CLUB BAR',\n",
              " '401 LUCKY STAR RESTAURANT',\n",
              " '414 Hotel',\n",
              " '414 LATINO RESTAURANT SPORTS BAR',\n",
              " '42ND STREET PIZZA DINER',\n",
              " \"44 & X HELL'S KITCHEN\",\n",
              " '44 1/2 CAFE',\n",
              " '44TH STREET MINAR',\n",
              " '44TH STREET PIZZA',\n",
              " '456 RESTAURANT',\n",
              " '46 GRILL CAFE',\n",
              " '4618 BAKERY',\n",
              " '47 COFFEE',\n",
              " '49 GROVE',\n",
              " '4ALL AMERICAN BAGEL & BARISTA II',\n",
              " '4O KNOTS',\n",
              " '4TH DOWN',\n",
              " '4TH FLOOR CAFE',\n",
              " '5 BORO BURGER',\n",
              " '5 BURRO CAFE',\n",
              " '5 DE MAYO',\n",
              " '5 ESTRELLA BAKERY',\n",
              " '5 NAPKIN',\n",
              " '5 NAPKIN BURGER',\n",
              " '5 SENSES',\n",
              " '5 STAR CHEESE STEAK AND PIZZA',\n",
              " '5 STAR VILLAGE CAFE',\n",
              " '50',\n",
              " '502 BAR RESTAURANT',\n",
              " '51 MOTT STREET RESTAURANT',\n",
              " '510 11ST BAR',\n",
              " '51ST BAKERY AND CAFE',\n",
              " '520 DESSERT',\n",
              " '525 LEX RESTAURANT & LOUNGE',\n",
              " '525 LEX Restaurant/M Club Lounge/illy CafÃ©',\n",
              " '52ND SUSHI',\n",
              " '54 BELOW',\n",
              " '54 GOURMET DELI',\n",
              " '55 BAR',\n",
              " '55 THOMAS CAFE',\n",
              " '555 VIVACAFE',\n",
              " '556 EL CAFE INTERNATIONAL',\n",
              " '561 EL BARRIO RESTAURANT',\n",
              " \"57'S ALL AMERICAN GRILL\",\n",
              " '575 PUB ON SECOND',\n",
              " '57TH BELLE HOUSE',\n",
              " '59 CHINA',\n",
              " '59E59 BAR',\n",
              " '5BAR KARAOKE',\n",
              " '5C CAFE & CULTURAL CENTER',\n",
              " '5IVE SPICE',\n",
              " '5IVE STEAK',\n",
              " '5TH & MAD',\n",
              " '5TH AVENUE ASIAN TASTE RESTAURANT',\n",
              " '5TH AVENUE EMPIRE CAFE',\n",
              " '60 Beans',\n",
              " '61 LOCAL',\n",
              " '619 BAR & RESTAURANT EL SALVADORENO',\n",
              " '620 ON CATON',\n",
              " '624 KAM HAI CHINESE FOOD',\n",
              " '6321 YUAN BAO',\n",
              " \"652 LIN'S GARDEN\",\n",
              " '658 KINGS DELI',\n",
              " '67 BURGER',\n",
              " '67 Burger',\n",
              " '67 CIAO',\n",
              " '67 ORANGE STREET',\n",
              " '67 RESTAURANT',\n",
              " '678 AURORA CATERING',\n",
              " '68 JAY STREET BAR',\n",
              " '68 MEI MEI BAKERY',\n",
              " '68 TASTE OF CHINA',\n",
              " '69 BAR LOUNGE',\n",
              " '69 PIZZERIA',\n",
              " '696 GOURMET DELI',\n",
              " '6B',\n",
              " '7 DAYS RESTAURANT',\n",
              " '7 GRAMS CAFFE',\n",
              " '7 SPICES',\n",
              " '7 STARS RESTAURANT',\n",
              " '7 TACOS MEXICAN CUISINE CORP',\n",
              " '718 HOOKAH LOUNGE',\n",
              " '718 LOUNGE & TAPAS',\n",
              " '729 BAR & GRILL',\n",
              " '72ND STREET BAGEL',\n",
              " '739 FRANKLIN BAR & LOUNGE',\n",
              " '750 MYRTLE DINER',\n",
              " '765 FOOD MARKET',\n",
              " '773 LOUNGE',\n",
              " '777 THEATER BAR',\n",
              " '7B BAR',\n",
              " '7TH AVENUE DONUT SHOP',\n",
              " '8 DRAGON & PHOENIX CHINESE RESTAURANT',\n",
              " '8 PAET RIO',\n",
              " '8 ST GARDEN',\n",
              " '809 GRILL & BAR RESTAURANT',\n",
              " '8090Tai Wanese #24',\n",
              " '810 DELI & CAFE',\n",
              " '83 1/2',\n",
              " '86 BAKERY',\n",
              " '86 BEST BAKERY',\n",
              " '86 FU KEE CHINESE RESTAURANT',\n",
              " '86 NOODLES',\n",
              " '876 BAR LOUNGE',\n",
              " '876 MARKET DELI',\n",
              " '87ST DELI INC',\n",
              " '88 CAFE',\n",
              " '88 CANTEEN',\n",
              " '88 CHINESE RESTAURANT',\n",
              " '88 PALACE RESTAURANT',\n",
              " '888 KITCHEN',\n",
              " '8TH STREET WINECELLAR',\n",
              " '8TH WONDER JUICE BAR',\n",
              " '900 PARK',\n",
              " '9024/CATERING BY MICHAEL SCHICK INC.',\n",
              " '95 SOUTH',\n",
              " '96 FAVOR TASTE RESTAURANT',\n",
              " '96 SOUTH PARK',\n",
              " '969 NYC COFFEE',\n",
              " '983 BUSHWICK LIVING ROOM',\n",
              " '99 BANK',\n",
              " '99 CENT EXPRESS PIZZA',\n",
              " '99 CENT FRESH PIZZA',\n",
              " '99 CENT PIZZA',\n",
              " '99 CENTS BEST & FRESH PIZZA',\n",
              " '99 CENTS FRESH HOT PIZZA',\n",
              " '99 CENTS FRESH PIZZA',\n",
              " '99 CENTS FRESH SLICE PIZZA',\n",
              " '99 CENTS MEGA PIZZA',\n",
              " '99 CENTS TASTY HOT PIZZA',\n",
              " '99 Cent Tasty Pizza 6 Ave Inc.',\n",
              " '99 FAVOR TASTE',\n",
              " '99 FRESH PIZZA',\n",
              " '99 MILES TO PHILLY',\n",
              " '99 ROGERS',\n",
              " '99Â¢ FAMOUS PIZZA',\n",
              " '99Â¢ FRESH PIZZA',\n",
              " '99Â¢ HOT PIZZA',\n",
              " '9TEN RESTAURANT',\n",
              " '9TH AVE SALOON',\n",
              " '9TH STREET LUNCHEONETTE',\n",
              " '@NINE',\n",
              " 'A & A BAKE SHOP',\n",
              " 'A & B DELI & CATERING',\n",
              " 'A & C COFFEE SHOP AND PIZZERIA',\n",
              " 'A & C GUYANA BAKERY & RESTAURANT',\n",
              " 'A & C KITCHEN',\n",
              " 'A & J DELI FISH',\n",
              " 'A & K TACOS',\n",
              " 'A & L PIZZA RESTAURANT',\n",
              " 'A & P ROTI & PASTRY SHOP',\n",
              " 'A & R FOOD SERVICE BLDG 14',\n",
              " 'A & S CATERERS',\n",
              " 'A & S PIZZERIA',\n",
              " 'A + A ASIAN RESTAURANT',\n",
              " 'A ASO SUSHI',\n",
              " 'A BAR',\n",
              " 'A CAFE',\n",
              " 'A CANAAN SUSHI',\n",
              " 'A CASA FOX',\n",
              " 'A CHIBAN',\n",
              " 'A GUSTO',\n",
              " 'A HOME',\n",
              " 'A LA MODE SHOPPE',\n",
              " 'A LA SAIGON',\n",
              " 'A LA TURKA',\n",
              " 'A LITTLE TASTE CAFE (ALT BOX)',\n",
              " 'A LITTLE THIS & A LITTLE BIT OF THAT',\n",
              " 'A LOVE FOR CAKES',\n",
              " 'A MODO MIO',\n",
              " 'A PLUS THAI PLACE',\n",
              " 'A Plus Express/Chinese Restaurant',\n",
              " 'A SAFFRON THREAD',\n",
              " 'A SALT & BATTERY',\n",
              " 'A SAN FUZHOU RESTAURANT',\n",
              " 'A SLICE OF NEW YORK',\n",
              " 'A SUSHI',\n",
              " \"A TASTE OF BENATERI'S AT EDGEWATER\",\n",
              " 'A TASTE OF SEAFOOD RESTAURANT',\n",
              " 'A TASTE OF SHANGHAI RESTAURANT',\n",
              " 'A TO Z CATERING',\n",
              " 'A VOCE',\n",
              " 'A WIN XIN KITCHEN',\n",
              " 'A&A GOURMET',\n",
              " 'A&E Networks',\n",
              " 'A&E SUPPLY CO.',\n",
              " 'A&E TENOCHTITLAN DELI & TAQUERIA',\n",
              " 'A&H DELI',\n",
              " 'A&R HOT BAGELS',\n",
              " 'A&S Crown Fried Chicken',\n",
              " 'A+ CHINESE RESTAURANT',\n",
              " 'A+ ROOF BAR',\n",
              " 'A-1 PIZZA SHOP',\n",
              " 'A-JIAO SICHUAN CUISINE',\n",
              " 'A-ROMA BAKERY',\n",
              " 'A-WAH RESTAURANT',\n",
              " 'A. CHURRASQUEIRA RESTAURANT',\n",
              " 'A.G KITCHEN',\n",
              " 'A.I.G.CHARTIS',\n",
              " 'A.M. DELI JUICE BAR FOOD INC',\n",
              " 'A.N.Y. GRAND SICHUAN',\n",
              " \"A.R'S TAVERN\",\n",
              " 'A.R.E.B.A.-CASRIEL',\n",
              " 'A.W.O.L. All Walks of Life',\n",
              " 'A.W.O.L. BAR & GRILL',\n",
              " 'A1 JAMAICA BREEZE',\n",
              " 'A1 OCHA SUSHI',\n",
              " \"AA ADMIRAL'S CLUB LOUNGE\",\n",
              " 'AA CHINESE RESTAURANT',\n",
              " 'AA JING',\n",
              " 'AAA CARIDAD',\n",
              " 'AAA ICHIBAN SUSHI',\n",
              " 'AAA KENNEDY FRIED CHICKEN',\n",
              " 'AABR',\n",
              " 'AAHAR',\n",
              " 'AAHELI',\n",
              " 'AANCHAL NATURAL BRIDGE RESTAURANT',\n",
              " 'AANGAN',\n",
              " 'AARONS CHINESE AND THAI RESTAURANT',\n",
              " 'ABA SUSHI',\n",
              " 'ABA TURKISH RESTAURANT',\n",
              " 'ABACE SUSHI',\n",
              " 'ABACKY POTLUCK',\n",
              " 'ABAYA THAI CUISINE',\n",
              " 'ABBA BAR AND GRILL',\n",
              " 'ABBEY TAVERN',\n",
              " 'ABC BEER CO.',\n",
              " 'ABC COCINA / ABCV',\n",
              " 'ABC KITCHEN',\n",
              " 'ABDULLAH SWEETS AND RESTAURANT',\n",
              " 'ABECA SUSHI',\n",
              " 'ABI JAPANESE RESTAURANT',\n",
              " 'ABIDE BROOKLYN PITA',\n",
              " \"ABIGAEL'S BROOKLYN\",\n",
              " \"ABIGAEL'S ON BROADWAY\",\n",
              " \"ABIGAIL'S BAKESHOP\",\n",
              " 'ABIKO CURRY',\n",
              " 'ABILENE',\n",
              " 'ABIR HALAL RESTAURANT',\n",
              " \"ABITINO'S PIZZA\",\n",
              " \"ABITINO'S PIZZA(CONCOURSE C)\",\n",
              " 'ABOUT COFFEE',\n",
              " 'ABOVE BALLROOM',\n",
              " 'ABOVE ROOFTOP',\n",
              " 'ABRACADABRA BROOKLYN',\n",
              " 'ABRACO',\n",
              " 'ABSOLUTE BAGELS',\n",
              " 'ABSOLUTE COFFEE',\n",
              " 'ABSOLUTE THAI RESTAURANT',\n",
              " 'ABUMI SUSHI',\n",
              " 'ABURI SUSHI',\n",
              " 'ABURI SUSHI BAR',\n",
              " 'ABURIYA KINNOSUKE',\n",
              " 'ABV',\n",
              " 'ABYSSINIA ETHIOPIAN RESTAURANT',\n",
              " 'ACA TE ESPERO',\n",
              " 'ACADEMIA BARILLA RESTAURANT',\n",
              " 'ACADEMIA COFFEE',\n",
              " 'ACADEMY CAFE',\n",
              " 'ACADEMY RESTAURAUNT',\n",
              " 'ACAI BERRY',\n",
              " 'ACAPELLA GOURMET PIZZA & RESTAURANT',\n",
              " 'ACAPPELLA RESTAURANT',\n",
              " 'ACAPULCO BAR RESTAURANT',\n",
              " 'ACAPULCO DELI & RESTAURANT',\n",
              " 'ACCRA RESTAURANT',\n",
              " 'ACE BAGEL & ROLL',\n",
              " 'ACE BAR',\n",
              " 'ACE HOT BAGEL & DELI',\n",
              " 'ACE LUCK',\n",
              " 'ACE OF HEARTS DINER',\n",
              " 'ACE PIZZA',\n",
              " 'ACES',\n",
              " 'ACES NEW YORK',\n",
              " \"ACEY DUCEY'S\",\n",
              " 'ACHILLES HEEL',\n",
              " 'ACME BAR & GRILL',\n",
              " 'ACOSTA RESTAURANT',\n",
              " 'ACP COFFEE',\n",
              " 'ACQUA',\n",
              " 'ACQUA RESTAURANT',\n",
              " 'ACQUA SANTA',\n",
              " 'ACQUISTA TRATTORIA',\n",
              " 'ACQUOLINA',\n",
              " 'ACRI CAFE',\n",
              " 'ACTION BURGER',\n",
              " 'ACTIVE HEALTH (HERBALIFE)',\n",
              " 'ACTS III BAGELS',\n",
              " 'ACUARIO CAFE',\n",
              " 'ADALYA',\n",
              " 'ADANA GRILL',\n",
              " 'ADAR LOUNGE',\n",
              " 'ADAYA AFRICAN AMERICAN RESTAURANT',\n",
              " \"ADDEO'S RIVERDALE PIZZERIA\",\n",
              " 'ADDICTIVE WINE & TAPAS',\n",
              " \"ADELINA'S\",\n",
              " 'ADELLA',\n",
              " 'ADIRONDACK',\n",
              " 'ADMIRALS CLUB (CONC C)',\n",
              " 'ADOBE BLUES',\n",
              " 'ADOM BUFFET AND RESTAURANT',\n",
              " 'ADORO LEI',\n",
              " 'ADP INNOVATIONS LAB',\n",
              " 'ADRIA HOTEL',\n",
              " \"ADRIAN & ROCKY'S CATERING\",\n",
              " \"ADRIENNE'S PIZZA BAR\",\n",
              " 'ADVENTURE CAFE',\n",
              " 'ADVENTURES AMUSEMENT PARK',\n",
              " 'ADVENTURES AMUSEMENTS PARK',\n",
              " 'ADYAR ANANDA BHAVAN',\n",
              " 'AEGEA WEST',\n",
              " 'AENOS PIZZA',\n",
              " 'AER LINGUS LOUNGE',\n",
              " 'AERONUOVA',\n",
              " 'AFFABLE EATERY',\n",
              " \"AFFY'S PREMIUM GRILL\",\n",
              " 'AFGAN KEBAB AND GRILL',\n",
              " 'AFGHAN KEBAB HOUSE',\n",
              " 'AFGHAN KEBAB HOUSE #1',\n",
              " 'AFGHAN KEBOB HOUSE',\n",
              " 'AFRICA KINE',\n",
              " 'AFRICAN AMERICAN BEST FOOD',\n",
              " 'AFRICAN HOME RESTAURANT',\n",
              " 'AFRICAN LAST STOP',\n",
              " 'AFRICAN MARKET (BABOON CAFE)',\n",
              " 'AFRICANA RESTAURANT',\n",
              " 'AFTER 8',\n",
              " 'AFTERNOONES RESTAURANT & BAR',\n",
              " 'AGAINST THE GRAIN',\n",
              " 'AGAVE',\n",
              " 'AGAVE DELI GROCERY',\n",
              " 'AGAVE MEXICAN & AMERICAN GRILL',\n",
              " 'AGAVI ORGANIC JUICE BAR',\n",
              " 'AGED',\n",
              " 'AGEHA JAPANESE FUSION',\n",
              " 'AGERN',\n",
              " 'AGNANTI RESTAURANT',\n",
              " 'AGORA TAVERNA',\n",
              " 'AGORA TURKISH RESTAURANT',\n",
              " 'AGOZAR',\n",
              " 'AGRA GRILL',\n",
              " 'AGRA HEIGHTS',\n",
              " 'AGRA KING RESTAURANT',\n",
              " 'AGRA RESTAURANT',\n",
              " 'AGRA TAJ MAHAL',\n",
              " 'AGUA ROJA BAR & LOUNGE',\n",
              " 'AHANA JAPANESE FUSION CUISINE',\n",
              " 'AHIMSA',\n",
              " \"AHMANI'S JUS JUICE & HEALTH KITCHEN\",\n",
              " 'AHUACHAPAN',\n",
              " 'AI FIORI',\n",
              " 'AIG 31ST FLOOR CAFE',\n",
              " 'AILEY BOUTIQUE',\n",
              " 'AINSWORTH MIDTOWN',\n",
              " 'AINSWORTH PARK',\n",
              " 'AIR FRANCE LOUNGE',\n",
              " 'AIR INDIA LOUNGE',\n",
              " 'AIRE ANCIENT BATHS',\n",
              " 'AIRPORT DELI',\n",
              " 'AIRRANG USA',\n",
              " 'AIRSPACE LOUNGE',\n",
              " 'AIRWAYS PIZZA & GYRO RESTAURANT',\n",
              " 'AITA RESTAURANT/MAYFLOWER',\n",
              " 'AJ PIZZERIA',\n",
              " \"AJ'S PIZZA\",\n",
              " 'AJANTA INDIA',\n",
              " 'AJI ASIAN FUSION CUISINE',\n",
              " 'AJI SUSHI',\n",
              " 'AJI SUSHI HOUSE',\n",
              " 'AJISAI',\n",
              " 'AJISAI JAPANESE RESTAURANT',\n",
              " 'AJISEN RAMEN',\n",
              " 'AKA MY HOUSE',\n",
              " 'AKA SUSHI JAPANESE RESTAURANT',\n",
              " 'AKAMI SUSHI',\n",
              " 'AKDENIZ MEDITERRANEAN CUISINE',\n",
              " 'AKI 39 JAPANESE CUISINE',\n",
              " 'AKI KING',\n",
              " 'AKI SUSHI',\n",
              " 'AKI SUSHI AND GRILL',\n",
              " 'AKIMOTO SUSHI',\n",
              " 'AKIN GUMP',\n",
              " 'AKINA SUSHI',\n",
              " 'AKIRA SUSHI',\n",
              " 'AKIYAMA JAPANESE RESTAURANT',\n",
              " 'AKO JAPANESE RESTAURANT',\n",
              " 'AKSARAY TURKISH CAFE AND RESTAURANT',\n",
              " 'AKURA SUSHI',\n",
              " 'AKWAABA RESTAURANT',\n",
              " 'AL BUSTAN RESTAURANT',\n",
              " 'AL CHOLO WEST INDIAN BAKERY & HEALTH FOOD STORE',\n",
              " 'AL DI LA',\n",
              " 'AL FORNO',\n",
              " 'AL GOLDEN LION DELI',\n",
              " 'AL HIRSCHFELD THEATRE',\n",
              " 'AL HORNO',\n",
              " 'AL HORNO LEAN MEXICAN',\n",
              " 'AL HORNO LEAN MEXICAN KITCHEN',\n",
              " 'AL HORNO LEAN MEXICAN KITCHEN INC',\n",
              " 'AL NAIMAT RESTAURANT & SWEETS',\n",
              " 'AL NOUR',\n",
              " 'AL SEABU',\n",
              " 'AL VICOLETTO',\n",
              " \"AL'S DELI\",\n",
              " \"AL'S FAMOUS PIZZERIA\",\n",
              " 'AL-AQSA RESTAURANT',\n",
              " 'AL-ARAF HALAL FRIED CHICKEN AND FROZEN DELIGHTS',\n",
              " 'AL-MEHRAN RESTAURANT',\n",
              " 'ALACHI MASALA INDIAN RESTAURANT',\n",
              " 'ALADDIN',\n",
              " 'ALADDIN HOOKAH LOUNGE & BAR INC',\n",
              " 'ALAMEDA',\n",
              " 'ALAMO DRAFTHOUSE CINEMA',\n",
              " 'ALBA BAR CAFE',\n",
              " 'ALBA PIZZA',\n",
              " \"ALBA'S PIZZA\",\n",
              " 'ALBATROSS BAR',\n",
              " 'ALBERO',\n",
              " \"ALBERT'S COFFEE SHOP\",\n",
              " 'ALBERTA MEXICAN CUSINE',\n",
              " \"ALBERTO'S\",\n",
              " 'ALBION',\n",
              " 'ALCALA RESTAURANT',\n",
              " 'ALCHEMY',\n",
              " 'ALDEA RESTAURANT',\n",
              " \"ALDO'S II PIZZA AND RESTAURANT\",\n",
              " 'ALEEF CAFE',\n",
              " 'ALEGRE DESPERTAR 43',\n",
              " 'ALEGRIA SCRATCH KITCHEN',\n",
              " 'ALEMBI CAFE',\n",
              " 'ALEO',\n",
              " 'ALEWIFE',\n",
              " 'ALEX CAFE & DELI',\n",
              " 'ALEX LUNCHEONETTE',\n",
              " 'ALEX PIZZA & DELI',\n",
              " 'ALEX TACOS',\n",
              " \"ALEX'S KITCHEN\",\n",
              " 'ALEXANDRA',\n",
              " 'ALEXANDRA PIZZA',\n",
              " 'ALEXANDRINA',\n",
              " 'ALEXIS CARIBBEAN CUISINE',\n",
              " \"ALFIE'S\",\n",
              " \"ALFIE'S PIZZA AND PASTA\",\n",
              " \"ALFIE'S PLACE\",\n",
              " \"ALFONSO'S BAR\",\n",
              " \"ALFONSO'S PASTRY SHOPPE\",\n",
              " 'ALFREDO 100',\n",
              " \"ALFREDO'S PIZZA\",\n",
              " 'ALGONQUIN HOTEL',\n",
              " 'ALI BABA',\n",
              " 'ALI BABA HOOKAH LOUNGE',\n",
              " \"ALI BABA'S TERRACE\",\n",
              " \"ALI'S RESTAURANT\",\n",
              " \"ALI'S ROTI SHOP\",\n",
              " \"ALI'S TRINIDAD ROTI SHOP\",\n",
              " 'ALIADA',\n",
              " 'ALIBABA',\n",
              " 'ALIBABA ENTERTAINMENT',\n",
              " 'ALIBABA GRILL',\n",
              " 'ALIBI CLUB',\n",
              " 'ALIBI LOUNGE',\n",
              " \"ALICE'S ARBOR\",\n",
              " \"ALICE'S MARKET\",\n",
              " \"ALICE'S PALACE\",\n",
              " \"ALICE'S TEA CUP\",\n",
              " 'ALICES',\n",
              " 'ALICES TEA CUP CHAPTER 2',\n",
              " 'ALIDORO',\n",
              " 'ALIMENTOS SALUDABLES - MEXICAN GRILL',\n",
              " 'ALIN SUSHI II',\n",
              " 'ALIOTTA BAKE SHOP',\n",
              " \"ALIOTTA'S PIZZA\",\n",
              " 'ALITALIA MICHELANGELO LOUNGE',\n",
              " 'ALITALIA PIZZA RESTAURANT',\n",
              " \"ALITON'S PIZZA & DELI\",\n",
              " 'ALKOURA RESTAURANT',\n",
              " 'ALL ABOUT FOOD',\n",
              " 'ALL ABOUT INDIAN FOOD',\n",
              " 'ALL AMERICAN BAGEL',\n",
              " 'ALL AMERICAN COFFEE SHOP',\n",
              " 'ALL AMERICAN DELI',\n",
              " 'ALL NATIONS',\n",
              " 'ALL STAR PIZZA',\n",
              " 'ALLEN & OVERY',\n",
              " 'ALLEN RESTAURANT',\n",
              " 'ALLERTON DINER',\n",
              " 'ALLEY 41',\n",
              " 'ALLEY POND DRIVING RANGE',\n",
              " 'ALLIANCE BERNSTEIN',\n",
              " 'ALLIANZ CAFETERIA',\n",
              " 'ALLIGATOR LOUNGE',\n",
              " 'ALLORA',\n",
              " 'ALLSWELL',\n",
              " 'ALLURE',\n",
              " 'ALMA',\n",
              " 'ALMANAC',\n",
              " 'ALMANAK/THE BAR',\n",
              " 'ALMAR',\n",
              " 'ALMASRY RESTAURANT',\n",
              " 'ALMAYASS',\n",
              " 'ALMAZ RESTAURANT',\n",
              " 'ALMOND',\n",
              " 'ALMONDINE',\n",
              " 'ALNOOR HALAL DELI',\n",
              " 'ALOAF CAFE',\n",
              " 'ALOBAR RESTAURANT',\n",
              " 'ALOFT HARLEM WXYZ REFUEL',\n",
              " 'ALOFT NEW YORK BROOKLYN',\n",
              " 'ALOHA HARLEM',\n",
              " 'ALOHA NYC',\n",
              " 'ALOR CAFE',\n",
              " \"ALOYSIA'S LOUNGE\",\n",
              " 'ALPH DOMINCHE',\n",
              " 'ALPHA BAKERY',\n",
              " 'ALPHA DONUTS',\n",
              " 'ALPHA FUSION',\n",
              " 'ALPHABET LOUNGE',\n",
              " 'ALPHAVILLE',\n",
              " 'ALPINE CINEMAS',\n",
              " 'ALT - A LITTLE TASTE',\n",
              " 'ALTA',\n",
              " 'ALTA CALIDAD',\n",
              " 'ALTA VILLA DELICATESSEN',\n",
              " 'ALTAGRACIA RESTAURANT',\n",
              " 'ALTESI RISTORANTE',\n",
              " 'ALTUS CAFE',\n",
              " 'AM THAI BISTRO',\n",
              " 'AMA COFFEE',\n",
              " 'AMADA',\n",
              " 'AMADEUS',\n",
              " 'AMADEUS RESTAURANT',\n",
              " 'AMALI',\n",
              " 'AMALI MOU',\n",
              " 'AMAMI SUSHI',\n",
              " 'AMAN RESTAURANT',\n",
              " \"AMANDA'S KITCHEN\",\n",
              " 'AMANECER LATINO RESTAURANT',\n",
              " 'AMARACHI PRIME',\n",
              " 'AMARANTH',\n",
              " 'AMARANTO',\n",
              " 'AMARIN CAFE',\n",
              " 'AMARONE RESTAURANT',\n",
              " 'AMARU',\n",
              " 'AMATA',\n",
              " 'AMAZE',\n",
              " 'AMAZE FUSION & LOUNGE',\n",
              " 'AMAZING 66 RESTAURANT',\n",
              " 'AMAZING GRACE DELI',\n",
              " 'AMAZON CAFE',\n",
              " 'AMAZON NYC',\n",
              " 'AMAZURA',\n",
              " 'AMBA FIDI',\n",
              " 'AMBASSADOR DINER',\n",
              " 'AMBASSADOR DINING ROOM  AT SARATOGA FAMILY INN',\n",
              " 'AMBASSADOR FOOD SERVICES',\n",
              " 'AMBASSADOR THEATRE',\n",
              " 'AMBER',\n",
              " 'AMBER STEAK HOUSE',\n",
              " 'AMBER SUSHI',\n",
              " 'AMBIANCE EXPRESS',\n",
              " 'AMBIANCE WINE & HOOKAH LOUNGE',\n",
              " 'AMBROSE HALL',\n",
              " 'AMBROSIA',\n",
              " 'AMBROSINOS PIZZERIA',\n",
              " \"AMBY'S RESTAURANT\",\n",
              " 'AMC THEATRES',\n",
              " 'AMCOOK FUSION SUSHI & ASIAN CUISINE',\n",
              " \"AMELIA'S DINER\",\n",
              " 'AMELIE',\n",
              " 'AMELIE WINE BAR',\n",
              " 'AMENDMENT 18 (entrance on Dock Street)',\n",
              " 'AMERICA GOURMET FOOD',\n",
              " 'AMERICAN & LATIN CUISINE',\n",
              " \"AMERICAN AIRLINES ADMIRAL'S CLUB\",\n",
              " 'AMERICAN AIRLINES ADMIRALS CLUB',\n",
              " 'AMERICAN AIRLINES EMPLOYEE CAFETERIA',\n",
              " 'AMERICAN AIRLINES THEATER',\n",
              " 'AMERICAN BAR',\n",
              " 'AMERICAN CHEEZ',\n",
              " 'AMERICAN COFFEE SHOP',\n",
              " 'AMERICAN CUT',\n",
              " 'AMERICAN EXPRESS',\n",
              " 'AMERICAN EXPRESS CENTURION LOUNGE',\n",
              " 'AMERICAN GIRL CAFE',\n",
              " \"AMERICAN HERO & SUB'S\",\n",
              " 'AMERICAN LEGION VETERANS POST',\n",
              " 'AMERICAN MUSEUM OF NATURAL HISTORY FOOD COURT',\n",
              " 'AMERICAN MUSEUM OF THE MOVING IMAGE',\n",
              " 'AMERICAN NEW YORK BAGEL',\n",
              " 'AMERICAN RETRO BAR & GRILL',\n",
              " 'AMERICAN TURNERS NEW YORK',\n",
              " 'AMERICAN WHISKEY',\n",
              " 'AMERICAS BURGER AND WRAPS',\n",
              " 'AMERICAS RESTORANTE',\n",
              " 'AMERIGO',\n",
              " 'AMERITTANIA',\n",
              " 'AMF BOWLING CENTER',\n",
              " 'AMICI BAKERY',\n",
              " 'AMICI BAR',\n",
              " 'AMICI II',\n",
              " 'AMICI PIZZERIA',\n",
              " 'AMIGOS',\n",
              " 'AMIGOS RESTAURANT',\n",
              " 'AMINA THAI',\n",
              " \"AMIR'S\",\n",
              " 'AMITY HALL',\n",
              " 'AMMA',\n",
              " 'AMMAZZACAFFE',\n",
              " 'AMMOS ESTIATORIO',\n",
              " 'AMNON KOSHER PIZZA',\n",
              " 'AMOR BAKERY NO 2',\n",
              " 'AMOR CUBANO',\n",
              " 'AMOR KARAOKE & BAR',\n",
              " 'AMOR MEXICANA',\n",
              " 'AMORE',\n",
              " 'AMORE JUICE BAR',\n",
              " 'AMORE PIZZERIA & RESTAURANT',\n",
              " 'AMORINA',\n",
              " 'AMORINO',\n",
              " 'AMOUN',\n",
              " 'AMPLE HILLS',\n",
              " 'AMPLE HILLS BBP',\n",
              " 'AMPLE HILLS CREAMERY',\n",
              " 'AMSTER THAI',\n",
              " 'AMSTERDAM ALE HOUSE',\n",
              " 'AMSTERDAM BILLIARDS',\n",
              " 'AMSTERDAM BURGER CO.',\n",
              " 'AMSTERDAM GOURMET',\n",
              " 'AMSTERDAM TAVERN',\n",
              " 'AMURA JAPANESE RESTAURANT',\n",
              " 'AMUSED',\n",
              " \"AMY & CATHY'S CHINESE RESTAURANT\",\n",
              " \"AMY RUTH'S RESTAURANT\",\n",
              " \"AMY'S BREAD\",\n",
              " \"AMY'S BREAD (CAFE AT NEW YORK PUBLIC LIBRARY)\",\n",
              " \"AMY'S BREAD CAFE\",\n",
              " \"AMY'S CAFE & BAKERY\",\n",
              " \"AMY'S RESTAURANT\",\n",
              " 'AMYLOS',\n",
              " 'AN BEAL BOCHT CAFE',\n",
              " 'AN CHOI',\n",
              " \"AN'NAM\",\n",
              " \"ANA'S BAKERY & CAFE\",\n",
              " \"ANA'S PASTRY SHOP\",\n",
              " 'ANABLE BASIN SAILING',\n",
              " 'ANAFE SEAFOOD',\n",
              " 'ANAGO SUSHI/ROYAL SIAM THAI',\n",
              " 'ANAIAH RESTAURANT',\n",
              " 'ANALOGUE',\n",
              " 'ANARKALI INDIAN FOOD',\n",
              " 'ANASSA TAVERNA',\n",
              " 'ANATOLIA MEDITERRANEAN CUISINE',\n",
              " 'ANATOLIAN GYRO RESTAURANT',\n",
              " 'ANCHOR COFFEE',\n",
              " 'ANCHOR HEIGHTS',\n",
              " 'ANCHOR INN',\n",
              " 'ANCHOR WINEBAR',\n",
              " 'ANCOLIE',\n",
              " 'ANDALUCIA BAR & LOUNGE',\n",
              " 'ANDAMAN THAI BISTRO',\n",
              " 'ANDANADA',\n",
              " 'ANDAZ',\n",
              " 'ANDAZ 5TH AVENUE',\n",
              " 'ANDELLAS PIZZERIA',\n",
              " 'ANDIAMO CAFE',\n",
              " \"ANDIE'S PIZZA\",\n",
              " 'ANDO',\n",
              " \"ANDRE'S HUNGARIAN STRUDEL S & PASTRIES\",\n",
              " \"ANDRE'S HUNGARIAN STRUDELS & PASTRIES\",\n",
              " \"ANDRE'S PIZZA\",\n",
              " \"ANDREA'S CHICKEN\",\n",
              " \"ANDREA'S PIZZARIA\",\n",
              " \"ANDREA'S RESTAURANT\",\n",
              " 'ANDRES CARNE DE TRES',\n",
              " \"ANDREW'S COFFEE SHOP\",\n",
              " \"ANDREW'S DINER\",\n",
              " \"ANDREW'S PIZZERIA\",\n",
              " 'ANDREWS COFFEE SHOP',\n",
              " \"ANDY'S CAFE\",\n",
              " \"ANDY'S CAFETERIA\",\n",
              " \"ANDY'S CAFETERIA (HPD BUILDING)\",\n",
              " \"ANDY'S CAFETERIA (Queens Hospital)\",\n",
              " \"ANDY'S CUISINE RESTAURANT\",\n",
              " \"ANDY'S DELI\",\n",
              " \"ANDY'S RESTAURAUNT\",\n",
              " \"ANDY'S TERIYAKI & TACO\",\n",
              " 'ANEJO',\n",
              " 'ANEJO TRIBECA',\n",
              " 'ANELLA',\n",
              " 'ANFORA',\n",
              " 'ANGEL CANDY STORE',\n",
              " 'ANGEL DESSERTS',\n",
              " 'ANGEL OF HARLEM',\n",
              " \"ANGEL'S GRILL\",\n",
              " 'ANGELA RESTAURANT OF NY',\n",
              " \"ANGELA'S\",\n",
              " \"ANGELA'S BAKERY\",\n",
              " \"ANGELA'S CAKE\",\n",
              " \"ANGELA'S DELI\",\n",
              " \"ANGELA'S MONTANA TABLE\",\n",
              " \"ANGELA'S PIZZERIA\",\n",
              " 'ANGELICA KITCHEN',\n",
              " 'ANGELICA PIZZERIA',\n",
              " \"ANGELICA'S BAKERY\",\n",
              " \"ANGELICA'S CAFE\",\n",
              " 'ANGELIKA FILM CENTER',\n",
              " 'ANGELINA',\n",
              " 'ANGELINA GOURMET FOODS',\n",
              " \"ANGELINA'S KITCHEN\",\n",
              " \"ANGELINA'S METRO MARKET\",\n",
              " \"ANGELINA'S PANINI BAR\",\n",
              " \"ANGELINA'S RISTORANTE\",\n",
              " 'ANGELITOS DE LA NOCHE',\n",
              " \"ANGELO & AL'S PIZZERIA\",\n",
              " 'ANGELO BELLINI',\n",
              " 'ANGELO GORDON & COMPANY',\n",
              " 'ANGELO OF MULBERRY ST.',\n",
              " \"ANGELO'S PIZZA\",\n",
              " \"ANGELO'S PIZZERIA\",\n",
              " 'ANGELOS DELI RESTAURANT',\n",
              " 'ANGELS OF THE WORLD',\n",
              " \"ANGIE'S BREAKFAST SPOT\",\n",
              " \"ANGIE'S CAFE PIZZA\",\n",
              " \"ANGIOLINA'S RESTAURANT\",\n",
              " 'ANGKOR CAMBODIAN BISTRO',\n",
              " 'ANGLER',\n",
              " 'ANGLERS CLUB OF NEW YORK',\n",
              " 'ANGRY BURGER',\n",
              " 'ANGRY WADES',\n",
              " 'ANI PIZZA',\n",
              " 'ANI SUSHI',\n",
              " \"ANIL'S ROTI SHOP\",\n",
              " \"ANITA'S LUNCHEONETTE\",\n",
              " \"ANITA'S ROTI SHOP\",\n",
              " 'ANJAPPAR',\n",
              " 'ANKA GRILL',\n",
              " \"ANN & TONY'S RESTAURANT\",\n",
              " 'ANNA MARIA PIZZA PASTA',\n",
              " \"ANNA'S CAFE\",\n",
              " 'ANNABEL',\n",
              " \"ANNABELLE'S\",\n",
              " 'ANNADALE TERRACE',\n",
              " 'ANNAM BRAHAM RESTAURANT',\n",
              " 'ANNEX',\n",
              " 'ANNIE 88 EXPRESS',\n",
              " \"ANNIE CHAN'S RESTAURANT\",\n",
              " 'ANNIE MOORES PUB & RESTAURANT',\n",
              " \"ANNIE'S CARIBBEAN RESTAURANT\",\n",
              " \"ANNIE'S KITCHEN\",\n",
              " 'ANNIES FIRST WOK RESTAURANT',\n",
              " 'ANOINTED HANDS CATERINGS',\n",
              " 'ANOPOLI FAMILY RESTAURANT',\n",
              " 'ANOTHEROOM',\n",
              " 'ANTALIA TURKISH CUISINE',\n",
              " 'ANTEPLI BAKLAVA',\n",
              " \"ANTHI'S GREEK FOOD\",\n",
              " ...]"
            ]
          },
          "metadata": {
            "tags": []
          },
          "execution_count": 6
        }
      ]
    },
    {
      "cell_type": "code",
      "metadata": {
        "id": "L_gz8mHKZsFz"
      },
      "source": [
        ""
      ],
      "execution_count": null,
      "outputs": []
    },
    {
      "cell_type": "code",
      "metadata": {
        "colab": {
          "base_uri": "https://localhost:8080/"
        },
        "id": "4M3za8QiZuud",
        "outputId": "6013676d-a1cd-4099-b2cc-63f9f209f9d3"
      },
      "source": [
        "!pip install kora\r\n",
        "from kora import console\r\n",
        "console.start()"
      ],
      "execution_count": 7,
      "outputs": [
        {
          "output_type": "stream",
          "text": [
            "Collecting kora\n",
            "\u001b[?25l  Downloading https://files.pythonhosted.org/packages/1f/2f/9e88bbc3c04a120d0c6ba407bf42947121c491369434feb231e22bec04ec/kora-0.9.16-py3-none-any.whl (56kB)\n",
            "\u001b[K     |████████████████████████████████| 61kB 4.9MB/s \n",
            "\u001b[?25hCollecting fastcore\n",
            "\u001b[?25l  Downloading https://files.pythonhosted.org/packages/0c/98/60404e2817cff113a6ae4023bc1772e23179408fdf7857fa410551758dfe/fastcore-1.3.19-py3-none-any.whl (53kB)\n",
            "\u001b[K     |████████████████████████████████| 61kB 4.7MB/s \n",
            "\u001b[?25hRequirement already satisfied: ipython in /usr/local/lib/python3.6/dist-packages (from kora) (5.5.0)\n",
            "Requirement already satisfied: pip in /usr/local/lib/python3.6/dist-packages (from fastcore->kora) (19.3.1)\n",
            "Requirement already satisfied: packaging in /usr/local/lib/python3.6/dist-packages (from fastcore->kora) (20.8)\n",
            "Requirement already satisfied: traitlets>=4.2 in /usr/local/lib/python3.6/dist-packages (from ipython->kora) (4.3.3)\n",
            "Requirement already satisfied: prompt-toolkit<2.0.0,>=1.0.4 in /usr/local/lib/python3.6/dist-packages (from ipython->kora) (1.0.18)\n",
            "Requirement already satisfied: setuptools>=18.5 in /usr/local/lib/python3.6/dist-packages (from ipython->kora) (51.3.3)\n",
            "Requirement already satisfied: decorator in /usr/local/lib/python3.6/dist-packages (from ipython->kora) (4.4.2)\n",
            "Requirement already satisfied: pygments in /usr/local/lib/python3.6/dist-packages (from ipython->kora) (2.6.1)\n",
            "Requirement already satisfied: pickleshare in /usr/local/lib/python3.6/dist-packages (from ipython->kora) (0.7.5)\n",
            "Requirement already satisfied: pexpect; sys_platform != \"win32\" in /usr/local/lib/python3.6/dist-packages (from ipython->kora) (4.8.0)\n",
            "Requirement already satisfied: simplegeneric>0.8 in /usr/local/lib/python3.6/dist-packages (from ipython->kora) (0.8.1)\n",
            "Requirement already satisfied: pyparsing>=2.0.2 in /usr/local/lib/python3.6/dist-packages (from packaging->fastcore->kora) (2.4.7)\n",
            "Requirement already satisfied: six in /usr/local/lib/python3.6/dist-packages (from traitlets>=4.2->ipython->kora) (1.15.0)\n",
            "Requirement already satisfied: ipython-genutils in /usr/local/lib/python3.6/dist-packages (from traitlets>=4.2->ipython->kora) (0.2.0)\n",
            "Requirement already satisfied: wcwidth in /usr/local/lib/python3.6/dist-packages (from prompt-toolkit<2.0.0,>=1.0.4->ipython->kora) (0.2.5)\n",
            "Requirement already satisfied: ptyprocess>=0.5 in /usr/local/lib/python3.6/dist-packages (from pexpect; sys_platform != \"win32\"->ipython->kora) (0.7.0)\n",
            "Installing collected packages: fastcore, kora\n",
            "Successfully installed fastcore-1.3.19 kora-0.9.16\n",
            "Console URL: https://teleconsole.com/s/fa3f8598a5d2d950a2c4c7f557ace31435d90e4d\n"
          ],
          "name": "stdout"
        }
      ]
    },
    {
      "cell_type": "markdown",
      "metadata": {
        "id": "_2sysulqYfm5"
      },
      "source": [
        "### STEP 2: Implement the similarity function"
      ]
    },
    {
      "cell_type": "markdown",
      "metadata": {
        "id": "YS4VkxMAYfm6"
      },
      "source": [
        "### Computing the similarity between two strings\n",
        "\n",
        "There are many ways that we can calculate the similarity between two strings. For our case, we will focus on a few similarity metrics that already have implementations in Python. \n",
        "\n",
        "##### Some commonly used similarity metrics\n",
        "\n",
        "* [Sequence matching](https://docs.python.org/3.6/library/difflib.html) (part of standard Python) ([example](http://stackoverflow.com/questions/17388213/find-the-similarity-percent-between-two-strings))\n",
        "* [Edit distance](https://en.wikipedia.org/wiki/Edit_distance) ([Python Jellyfish Library](https://github.com/jamesturk/jellyfish))\n",
        "* [N-gram distance](http://pythonhosted.org/ngram/tutorial.html#comparing-and-searching-strings)\n",
        "\n",
        "\n",
        "#### STEP 2.a: Let's figure out how we can install the libraries..."
      ]
    },
    {
      "cell_type": "code",
      "metadata": {
        "colab": {
          "base_uri": "https://localhost:8080/"
        },
        "id": "WDiiBEjEYfm7",
        "outputId": "486b0a65-5c0e-4a22-f7c7-6953eb6dcb62"
      },
      "source": [
        "# Edit distance\n",
        "!sudo pip3 install -U jellyfish"
      ],
      "execution_count": 8,
      "outputs": [
        {
          "output_type": "stream",
          "text": [
            "Collecting jellyfish\n",
            "\u001b[?25l  Downloading https://files.pythonhosted.org/packages/6c/09/927ae35fc5a9f70abb6cc2c27ee88fc48549f7bc4786c1d4b177c22e997d/jellyfish-0.8.2-cp36-cp36m-manylinux2014_x86_64.whl (93kB)\n",
            "\r\u001b[K     |███▌                            | 10kB 21.5MB/s eta 0:00:01\r\u001b[K     |███████                         | 20kB 14.9MB/s eta 0:00:01\r\u001b[K     |██████████▌                     | 30kB 9.7MB/s eta 0:00:01\r\u001b[K     |██████████████                  | 40kB 8.1MB/s eta 0:00:01\r\u001b[K     |█████████████████▌              | 51kB 7.7MB/s eta 0:00:01\r\u001b[K     |█████████████████████           | 61kB 8.1MB/s eta 0:00:01\r\u001b[K     |████████████████████████▌       | 71kB 8.4MB/s eta 0:00:01\r\u001b[K     |████████████████████████████    | 81kB 7.9MB/s eta 0:00:01\r\u001b[K     |███████████████████████████████▌| 92kB 7.9MB/s eta 0:00:01\r\u001b[K     |████████████████████████████████| 102kB 6.0MB/s \n",
            "\u001b[?25hInstalling collected packages: jellyfish\n",
            "Successfully installed jellyfish-0.8.2\n"
          ],
          "name": "stdout"
        }
      ]
    },
    {
      "cell_type": "code",
      "metadata": {
        "colab": {
          "base_uri": "https://localhost:8080/"
        },
        "id": "NRvG5s9oYfm7",
        "outputId": "ef815c66-0a1c-40e8-85c6-a7add6309a3f"
      },
      "source": [
        "# Ngram\n",
        "!sudo pip3 install -U ngram"
      ],
      "execution_count": 9,
      "outputs": [
        {
          "output_type": "stream",
          "text": [
            "Collecting ngram\n",
            "  Downloading https://files.pythonhosted.org/packages/3b/84/707fdecbe63e67345db200a86274686d58fd3da805da53c80c5942d90393/ngram-3.3.2.tar.gz\n",
            "Building wheels for collected packages: ngram\n",
            "  Building wheel for ngram (setup.py) ... \u001b[?25l\u001b[?25hdone\n",
            "  Created wheel for ngram: filename=ngram-3.3.2-cp36-none-any.whl size=24682 sha256=7c35b8692f5682e4e2046265f6acd80957395fc7a3081846531fc038035ff2e6\n",
            "  Stored in directory: /root/.cache/pip/wheels/7b/d5/5a/6abe3035c83a606376089accde30b021ffb26593f0d6609ef1\n",
            "Successfully built ngram\n",
            "Installing collected packages: ngram\n",
            "Successfully installed ngram-3.3.2\n"
          ],
          "name": "stdout"
        }
      ]
    },
    {
      "cell_type": "markdown",
      "metadata": {
        "id": "xhmEA8eFYfm8"
      },
      "source": [
        "#### STEP 2.b: Now let's test our similarity functions with various examples\n",
        "\n",
        "Once we have installed the necessary libraries for our project, we proceed to `import` them and test the functions."
      ]
    },
    {
      "cell_type": "code",
      "metadata": {
        "id": "Npq4Zt8fYfm8"
      },
      "source": [
        "import jellyfish"
      ],
      "execution_count": 10,
      "outputs": []
    },
    {
      "cell_type": "markdown",
      "metadata": {
        "id": "SY9dF66GYfm8"
      },
      "source": [
        "##### Edit Distance\n",
        "\n",
        "From Wikipedia:\n",
        "\n",
        "The [edit distance](https://en.wikipedia.org/wiki/Edit_distance) _ is a way of quantifying how dissimilar two strings (e.g., words) are to one another by counting the minimum number of operations required to transform one string into the other._. \n",
        "\n",
        "The Levenshtein distance between \"kitten\" and \"sitting\" is 3. A minimal edit script that transforms the former into the latter is:\n",
        "\n",
        "* kitten → sitten (substitution of \"s\" for \"k\")\n",
        "* sitten → sittin (substitution of \"i\" for \"e\")\n",
        "* sittin → sitting (insertion of \"g\" at the end)."
      ]
    },
    {
      "cell_type": "code",
      "metadata": {
        "colab": {
          "base_uri": "https://localhost:8080/"
        },
        "id": "Aes8na3fYfm-",
        "outputId": "a6d455ba-53d7-4b3f-a245-22ea6c73743e"
      },
      "source": [
        "jellyfish.levenshtein_distance('kitten', 'sitting')"
      ],
      "execution_count": 11,
      "outputs": [
        {
          "output_type": "execute_result",
          "data": {
            "text/plain": [
              "3"
            ]
          },
          "metadata": {
            "tags": []
          },
          "execution_count": 11
        }
      ]
    },
    {
      "cell_type": "markdown",
      "metadata": {
        "id": "h1id__6_Yfm_"
      },
      "source": [
        "Let's try a few more examples"
      ]
    },
    {
      "cell_type": "code",
      "metadata": {
        "colab": {
          "base_uri": "https://localhost:8080/"
        },
        "id": "p9T2l2SnYfnA",
        "outputId": "8bfa4ca2-a80b-425e-e00a-52dd9020683d"
      },
      "source": [
        "jellyfish.levenshtein_distance('Starbucks', 'Starbacks')"
      ],
      "execution_count": 12,
      "outputs": [
        {
          "output_type": "execute_result",
          "data": {
            "text/plain": [
              "1"
            ]
          },
          "metadata": {
            "tags": []
          },
          "execution_count": 12
        }
      ]
    },
    {
      "cell_type": "code",
      "metadata": {
        "colab": {
          "base_uri": "https://localhost:8080/"
        },
        "id": "USHRFR3HYfnA",
        "outputId": "c03349d0-e809-4ef7-bba7-4eb57117b272"
      },
      "source": [
        "jellyfish.levenshtein_distance('Starbucks', 'Starbuck')"
      ],
      "execution_count": 13,
      "outputs": [
        {
          "output_type": "execute_result",
          "data": {
            "text/plain": [
              "1"
            ]
          },
          "metadata": {
            "tags": []
          },
          "execution_count": 13
        }
      ]
    },
    {
      "cell_type": "code",
      "metadata": {
        "colab": {
          "base_uri": "https://localhost:8080/"
        },
        "id": "p06LThejYfnA",
        "outputId": "a8adad8a-e203-4fa1-f30b-2853022e31ab"
      },
      "source": [
        "jellyfish.levenshtein_distance('Starbucks', 'Wendys')"
      ],
      "execution_count": 14,
      "outputs": [
        {
          "output_type": "execute_result",
          "data": {
            "text/plain": [
              "8"
            ]
          },
          "metadata": {
            "tags": []
          },
          "execution_count": 14
        }
      ]
    },
    {
      "cell_type": "markdown",
      "metadata": {
        "id": "LdUUg7kCYfnA"
      },
      "source": [
        "##### Demerau Levenshtein distance\n",
        "\n",
        "The Demerau Levenshtein distance also allows for  transposition of two adjacent characters."
      ]
    },
    {
      "cell_type": "code",
      "metadata": {
        "colab": {
          "base_uri": "https://localhost:8080/"
        },
        "id": "bu4uGDMqYfnB",
        "outputId": "395a2bc7-6629-4d31-e474-4ff96afe78b5"
      },
      "source": [
        "jellyfish.damerau_levenshtein_distance('Starbucks', 'Starbucsk')"
      ],
      "execution_count": 15,
      "outputs": [
        {
          "output_type": "execute_result",
          "data": {
            "text/plain": [
              "1"
            ]
          },
          "metadata": {
            "tags": []
          },
          "execution_count": 15
        }
      ]
    },
    {
      "cell_type": "code",
      "metadata": {
        "colab": {
          "base_uri": "https://localhost:8080/"
        },
        "id": "Sduj7DRIYfnC",
        "outputId": "fca9a95a-5f75-4165-972f-f38982d52d71"
      },
      "source": [
        "jellyfish.levenshtein_distance('Starbucks', 'Starbucsk')"
      ],
      "execution_count": 16,
      "outputs": [
        {
          "output_type": "execute_result",
          "data": {
            "text/plain": [
              "2"
            ]
          },
          "metadata": {
            "tags": []
          },
          "execution_count": 16
        }
      ]
    },
    {
      "cell_type": "markdown",
      "metadata": {
        "id": "EOrY1-kDYfnC"
      },
      "source": [
        "###### Jaro–Winkler distance\n",
        "\n",
        "[Jaro–Winkler distance](https://en.wikipedia.org/wiki/Jaro%E2%80%93Winkler_distance) is a string metric for measuring the edit distance between two sequences. Informally, the **Jaro** distance between two words is the minimum number of single-character transpositions required to change one word into the other; the **Jaro–Winkler** distance  gives more favourable ratings to strings that match from the beginning.\n"
      ]
    },
    {
      "cell_type": "code",
      "metadata": {
        "colab": {
          "base_uri": "https://localhost:8080/"
        },
        "id": "btLAVk2eYfnC",
        "outputId": "0516b61f-d24f-43e4-82d3-818c31b9f147"
      },
      "source": [
        "jellyfish.jaro_winkler('Starbucks', 'Starbarbr')"
      ],
      "execution_count": 17,
      "outputs": [
        {
          "output_type": "execute_result",
          "data": {
            "text/plain": [
              "0.8222222222222222"
            ]
          },
          "metadata": {
            "tags": []
          },
          "execution_count": 17
        }
      ]
    },
    {
      "cell_type": "code",
      "metadata": {
        "colab": {
          "base_uri": "https://localhost:8080/"
        },
        "id": "nDEGzsiGYfnD",
        "outputId": "517ac365-cd1a-460d-cc88-889a992d0cbf"
      },
      "source": [
        "jellyfish.jaro_winkler('Starbucks', 'Milwbucks')"
      ],
      "execution_count": 18,
      "outputs": [
        {
          "output_type": "execute_result",
          "data": {
            "text/plain": [
              "0.7037037037037037"
            ]
          },
          "metadata": {
            "tags": []
          },
          "execution_count": 18
        }
      ]
    },
    {
      "cell_type": "markdown",
      "metadata": {
        "id": "gQJ-nTpUYfnE"
      },
      "source": [
        "##### Soundex\n",
        "\n",
        "[Soundex](https://en.wikipedia.org/wiki/Soundex) is a phonetic algorithm for indexing names by sound, as pronounced in English. The goal is for homophones to be encoded to the same representation so that they can be matched despite minor differences in spelling. \n",
        "\n",
        "Using this algorithm, both \"Robert\" and \"Rupert\" return the same string \"R163\" while \"Rubin\" yields \"R150\". \"Ashcraft\" and \"Ashcroft\" both yield \"A261\". \"Tymczak\" yields \"T522\" not \"T520\" (the chars 'z' and 'k' in the name are coded as 2 twice since a vowel lies in between them). \"Pfister\" yields \"P236\" not \"P123\" (the first two letters have the same number and are coded once as 'P')."
      ]
    },
    {
      "cell_type": "code",
      "metadata": {
        "colab": {
          "base_uri": "https://localhost:8080/",
          "height": 36
        },
        "id": "C-AYbtnIYfnE",
        "outputId": "66832c0a-a27c-41c1-99ed-840fc6223f56"
      },
      "source": [
        "jellyfish.soundex('Robert')"
      ],
      "execution_count": 19,
      "outputs": [
        {
          "output_type": "execute_result",
          "data": {
            "application/vnd.google.colaboratory.intrinsic+json": {
              "type": "string"
            },
            "text/plain": [
              "'R163'"
            ]
          },
          "metadata": {
            "tags": []
          },
          "execution_count": 19
        }
      ]
    },
    {
      "cell_type": "code",
      "metadata": {
        "colab": {
          "base_uri": "https://localhost:8080/",
          "height": 36
        },
        "id": "6X9R3pivYfnE",
        "outputId": "866ee461-3012-48f2-9cba-22ec7c6d84c5"
      },
      "source": [
        "jellyfish.soundex('Rupert')"
      ],
      "execution_count": 20,
      "outputs": [
        {
          "output_type": "execute_result",
          "data": {
            "application/vnd.google.colaboratory.intrinsic+json": {
              "type": "string"
            },
            "text/plain": [
              "'R163'"
            ]
          },
          "metadata": {
            "tags": []
          },
          "execution_count": 20
        }
      ]
    },
    {
      "cell_type": "code",
      "metadata": {
        "colab": {
          "base_uri": "https://localhost:8080/",
          "height": 36
        },
        "id": "OliUzv7vYfnF",
        "outputId": "fc44d99e-4c65-4821-b6a9-e313314a82f4"
      },
      "source": [
        "jellyfish.soundex('Ashcroft')"
      ],
      "execution_count": 21,
      "outputs": [
        {
          "output_type": "execute_result",
          "data": {
            "application/vnd.google.colaboratory.intrinsic+json": {
              "type": "string"
            },
            "text/plain": [
              "'A261'"
            ]
          },
          "metadata": {
            "tags": []
          },
          "execution_count": 21
        }
      ]
    },
    {
      "cell_type": "code",
      "metadata": {
        "colab": {
          "base_uri": "https://localhost:8080/",
          "height": 36
        },
        "id": "QnfOiPEfYfnF",
        "outputId": "3043a0a6-4bb0-4541-a4b0-b2f7925199ef"
      },
      "source": [
        "jellyfish.soundex('Ashcraft')"
      ],
      "execution_count": 22,
      "outputs": [
        {
          "output_type": "execute_result",
          "data": {
            "application/vnd.google.colaboratory.intrinsic+json": {
              "type": "string"
            },
            "text/plain": [
              "'A261'"
            ]
          },
          "metadata": {
            "tags": []
          },
          "execution_count": 22
        }
      ]
    },
    {
      "cell_type": "markdown",
      "metadata": {
        "id": "nKjAHx_YYfnG"
      },
      "source": [
        "#### Ngrams\n",
        "\n",
        "With the n-gram similarity score, we split the word into sequences of n consecutive characters (n-grams) and then compare the sets of n-grams between the two words. For example, the name \"Panos\" has the following 2-grams: \"Pa\", \"an\", \"no\", \"os\". (We can also add \"#P\" and \"s#\" if we want to capture the prefix and suffixes.) Strings that share a large number of q-grams are often similar."
      ]
    },
    {
      "cell_type": "code",
      "metadata": {
        "id": "4qAigt8bYfnG"
      },
      "source": [
        "import ngram"
      ],
      "execution_count": 23,
      "outputs": []
    },
    {
      "cell_type": "code",
      "metadata": {
        "colab": {
          "base_uri": "https://localhost:8080/"
        },
        "id": "W3N97VMYYfnG",
        "outputId": "e8a32ac7-9377-4af9-e6c4-20f619a8fff2"
      },
      "source": [
        "ngram.NGram.compare('Ipeirotis','Iperotis',N=2)"
      ],
      "execution_count": 24,
      "outputs": [
        {
          "output_type": "execute_result",
          "data": {
            "text/plain": [
              "0.7272727272727273"
            ]
          },
          "metadata": {
            "tags": []
          },
          "execution_count": 24
        }
      ]
    },
    {
      "cell_type": "code",
      "metadata": {
        "colab": {
          "base_uri": "https://localhost:8080/"
        },
        "id": "K40jEgcEYfnH",
        "outputId": "f0c2c63c-4e16-4a2f-f2eb-8271cf2fb90d"
      },
      "source": [
        "ngram.NGram.compare('New York University','New York Universty',N=2)"
      ],
      "execution_count": 25,
      "outputs": [
        {
          "output_type": "execute_result",
          "data": {
            "text/plain": [
              "0.8571428571428571"
            ]
          },
          "metadata": {
            "tags": []
          },
          "execution_count": 25
        }
      ]
    },
    {
      "cell_type": "markdown",
      "metadata": {
        "id": "HAkn7UrOYfnH"
      },
      "source": [
        "#### Task 1: Create a function that takes as input two strings and returns their similarity\n",
        "\n",
        "Given the experience with the metrics above, we would like to create a function that takes as input a string and returns their similarity. Our key requirement is for the similarity metric to be between 0 and 1, with 0 meaning no similarity, and 1 corresponding to identical strings. Some of the similarity functions above would fit right in, others will need some work. "
      ]
    },
    {
      "cell_type": "code",
      "metadata": {
        "id": "kusHCmdSYfnI"
      },
      "source": [
        "# For n-gram similarity it is very simple, we just return the result\n",
        "def computeSimilarity(str1, str2):\n",
        "    return ngram.NGram.compare(str1,str2,N=2)"
      ],
      "execution_count": 26,
      "outputs": []
    },
    {
      "cell_type": "code",
      "metadata": {
        "colab": {
          "base_uri": "https://localhost:8080/"
        },
        "id": "fBYBuSDXYfnI",
        "outputId": "1a500de4-0793-4eb6-cf55-87485844ad1a"
      },
      "source": [
        "computeSimilarity('New York University','New York')"
      ],
      "execution_count": 27,
      "outputs": [
        {
          "output_type": "execute_result",
          "data": {
            "text/plain": [
              "0.38095238095238093"
            ]
          },
          "metadata": {
            "tags": []
          },
          "execution_count": 27
        }
      ]
    },
    {
      "cell_type": "code",
      "metadata": {
        "id": "1SGSuWR-YfnJ"
      },
      "source": [
        "# For edit distance, we need to normalize. \n",
        "# Edit distance is always the maximum of the length of the two strings\n",
        "# (can you figure out why?) so we can use that to normalize the distance\n",
        "def computeSimilarity(str1, str2):\n",
        "    dist = jellyfish.levenshtein_distance(str1, str2)\n",
        "    max_dist = max(len(str1), len(str2))\n",
        "    similarity = 1 - dist/max_dist\n",
        "    return similarity"
      ],
      "execution_count": 28,
      "outputs": []
    },
    {
      "cell_type": "code",
      "metadata": {
        "colab": {
          "base_uri": "https://localhost:8080/"
        },
        "id": "RL5ejrvtYfnJ",
        "outputId": "224e2472-c250-4a9e-b8fa-c0120f4046ee"
      },
      "source": [
        "computeSimilarity('New York University','New York')"
      ],
      "execution_count": 29,
      "outputs": [
        {
          "output_type": "execute_result",
          "data": {
            "text/plain": [
              "0.42105263157894735"
            ]
          },
          "metadata": {
            "tags": []
          },
          "execution_count": 29
        }
      ]
    },
    {
      "cell_type": "markdown",
      "metadata": {
        "id": "EDKlQ-j7YfnJ"
      },
      "source": [
        "#### Task 2: Modify the functions above to allow for various similarity calculation methods.\n",
        "\n",
        "We will now up our game, and return back the results of the comparison using multiple methods at once. "
      ]
    },
    {
      "cell_type": "code",
      "metadata": {
        "id": "8lbf7iGGYfnJ"
      },
      "source": [
        "def computeSimilarity_2gram(str1, str2):\n",
        "    return ngram.NGram.compare(str1,str2,N=2)\n",
        "\n",
        "def computeSimilarity_3gram(str1, str2):\n",
        "    return ngram.NGram.compare(str1,str2,N=3)\n",
        "\n",
        "def computeSimilarity_edit_distance(str1, str2):\n",
        "    dist = jellyfish.levenshtein_distance(str1, str2)\n",
        "    max_dist = max(len(str1), len(str2))\n",
        "    similarity = 1 - dist/max_dist\n",
        "    return similarity\n",
        "\n",
        "def computeSimilarity_soundex(str1, str2):\n",
        "    s1 = jellyfish.soundex(str1)\n",
        "    s2 = jellyfish.soundex(str2)\n",
        "    if (s1==s2):\n",
        "        return 1\n",
        "    else:\n",
        "        return 0"
      ],
      "execution_count": 30,
      "outputs": []
    },
    {
      "cell_type": "code",
      "metadata": {
        "colab": {
          "base_uri": "https://localhost:8080/"
        },
        "id": "51vcNGPFYfnJ",
        "outputId": "f067ad8b-e5dd-459c-b109-69714ebdfb6a"
      },
      "source": [
        "def computeSimilarity(str1, str2, method):\n",
        "    if method == '2-gram':\n",
        "        return computeSimilarity_2gram(str1, str2)\n",
        "    elif method == '3-gram':\n",
        "        return computeSimilarity_3gram(str1, str2)\n",
        "    elif method == 'levenshtein':\n",
        "        return computeSimilarity_edit_distance(str1, str2)\n",
        "    elif method == 'soundex':\n",
        "        return computeSimilarity_soundex(str1, str2)\n",
        "    \n",
        "computeSimilarity('New York University','New York', method='3-gram')"
      ],
      "execution_count": 25,
      "outputs": [
        {
          "output_type": "execute_result",
          "data": {
            "text/plain": [
              "0.34782608695652173"
            ]
          },
          "metadata": {
            "tags": []
          },
          "execution_count": 25
        }
      ]
    },
    {
      "cell_type": "code",
      "metadata": {
        "colab": {
          "base_uri": "https://localhost:8080/"
        },
        "id": "Kn-74twUYfnL",
        "outputId": "aad70669-44d0-4daf-b0e5-c9e1a2071d43"
      },
      "source": [
        "# This is a bit more advanced, conceptually.\n",
        "# Instead of selecting a method to use, we use all available methods to \n",
        "# do our comparison, and we return a dictionary with the results\n",
        "# This approach would be useful when dealing with the problem \n",
        "# as a classification problem (match vs no match) and we want to\n",
        "# use the distance values as features\n",
        "def computeSimilarity_all(str1, str2):\n",
        "    result = {\n",
        "        '2-gram': computeSimilarity_2gram(str1, str2),\n",
        "        '3-gram': computeSimilarity_3gram(str1, str2),\n",
        "        'levenshtein': computeSimilarity_edit_distance(str1, str2),\n",
        "        'soundex': computeSimilarity_soundex(str1, str2)\n",
        "    }\n",
        "    \n",
        "    return result\n",
        "\n",
        "computeSimilarity_all('New York University','New York Universty')"
      ],
      "execution_count": 26,
      "outputs": [
        {
          "output_type": "execute_result",
          "data": {
            "text/plain": [
              "{'2-gram': 0.8571428571428571,\n",
              " '3-gram': 0.782608695652174,\n",
              " 'levenshtein': 0.9473684210526316,\n",
              " 'soundex': 1}"
            ]
          },
          "metadata": {
            "tags": []
          },
          "execution_count": 26
        }
      ]
    },
    {
      "cell_type": "markdown",
      "metadata": {
        "id": "w1mr8I0HYfnL"
      },
      "source": [
        "### STEP 3: Compute similarity of a company against a list of company names"
      ]
    },
    {
      "cell_type": "markdown",
      "metadata": {
        "id": "X8Cno8svYfnL"
      },
      "source": [
        "We now create a function that accepts a company name and a list of companies, and computes their similarity. This part will get us to exercise our for-loops, and also illustrate how we can use lists and tuples."
      ]
    },
    {
      "cell_type": "markdown",
      "metadata": {
        "id": "gMQrmO8TYfnL"
      },
      "source": [
        "**Sorting a list of tuples**:_This part is a little bit advanced for now, so I will just give the code below. (Solution taken from http://stackoverflow.com/questions/3121979/how-to-sort-list-tuple-of-lists-tuples). Here is a small example below, which we will reuse in our function:_"
      ]
    },
    {
      "cell_type": "code",
      "metadata": {
        "colab": {
          "base_uri": "https://localhost:8080/"
        },
        "id": "QWSVgfGdYfnL",
        "outputId": "018f7856-eae1-44ce-f21e-d10438a6cb41"
      },
      "source": [
        "data = [(\"Panos\",0.5), (\"Peter\",0.6), (\"Pan\", 0.4)]\n",
        "data.sort(key=lambda tupl: tupl[1], reverse=True)  # sorts in place, in descending order, based on the second element of the tuple\n",
        "print(data)"
      ],
      "execution_count": 27,
      "outputs": [
        {
          "output_type": "stream",
          "text": [
            "[('Peter', 0.6), ('Panos', 0.5), ('Pan', 0.4)]\n"
          ],
          "name": "stdout"
        }
      ]
    },
    {
      "cell_type": "code",
      "metadata": {
        "id": "Mh557TCEYfnM"
      },
      "source": [
        "# STEP 3: We now create a function that accepts a company name\n",
        "# and a list of companies, and computes their similarity\n",
        "# We have a 'top' parameter (by default set to be 5)\n",
        "# that restricts the results to only the most similar \n",
        "# string pairs. We also define a parameter \"method\" that defines \n",
        "# what is the similarity method that we want to use. We also define a \n",
        "# similarity threshold for keeping only results with sufficient similarity\n",
        "\n",
        "def queryData(query, companyList, top = 5, method = '2-gram', sim_threshold = 0.5):\n",
        "    # Initialize the list\n",
        "    results = []\n",
        "    # Go over all the companies in the data set....\n",
        "    for company in companyList:\n",
        "        # Compute the similarity of each company against the \"query\" variable\n",
        "        sim = computeSimilarity(query, company, method)\n",
        "        # We keep only results with sufficient similarity and we do not keep identical names\n",
        "        if sim > sim_threshold and query!=company:\n",
        "            # We store the similar company name, and the value of their similarity\n",
        "            results.append( (company, sim) )\n",
        "    # With the command below we sort the results, and put the most similar results in the top\n",
        "    results.sort(key=lambda tupl: tupl[1], reverse=True)\n",
        "    # We return only the first \"threshold\" results\n",
        "    return results[:top]\n",
        "      \n"
      ],
      "execution_count": 28,
      "outputs": []
    },
    {
      "cell_type": "code",
      "metadata": {
        "colab": {
          "base_uri": "https://localhost:8080/",
          "height": 191
        },
        "id": "GqFZT7yCYfnM",
        "outputId": "f8ada515-0cc3-46b6-e8d5-2088f6552946"
      },
      "source": [
        "r = queryData(\"MCDONALDS\", names)\n",
        "r"
      ],
      "execution_count": 29,
      "outputs": [
        {
          "output_type": "error",
          "ename": "NameError",
          "evalue": "ignored",
          "traceback": [
            "\u001b[0;31m---------------------------------------------------------------------------\u001b[0m",
            "\u001b[0;31mNameError\u001b[0m                                 Traceback (most recent call last)",
            "\u001b[0;32m<ipython-input-29-0898535691f8>\u001b[0m in \u001b[0;36m<module>\u001b[0;34m()\u001b[0m\n\u001b[0;32m----> 1\u001b[0;31m \u001b[0mr\u001b[0m \u001b[0;34m=\u001b[0m \u001b[0mqueryData\u001b[0m\u001b[0;34m(\u001b[0m\u001b[0;34m\"MCDONALDS\"\u001b[0m\u001b[0;34m,\u001b[0m \u001b[0mnames\u001b[0m\u001b[0;34m)\u001b[0m\u001b[0;34m\u001b[0m\u001b[0;34m\u001b[0m\u001b[0m\n\u001b[0m\u001b[1;32m      2\u001b[0m \u001b[0mr\u001b[0m\u001b[0;34m\u001b[0m\u001b[0;34m\u001b[0m\u001b[0m\n",
            "\u001b[0;31mNameError\u001b[0m: name 'names' is not defined"
          ]
        }
      ]
    },
    {
      "cell_type": "markdown",
      "metadata": {
        "id": "q46MdDTrYfnM"
      },
      "source": [
        "### Step 4: Perform the similarity computation across all companies in the dataset."
      ]
    },
    {
      "cell_type": "code",
      "metadata": {
        "id": "LMOgzjjqYfnM"
      },
      "source": [
        "# STEP 4: We are almost done. We now just go through all the companies in the list\n",
        "# and we call the companySimilarity function that computes the similar company names\n",
        "# for all the companies in the list. We store the results in a dictionary, with the \n",
        "# key being the company name, and the value being a \"list of tuples\" with the \n",
        "# similar company names and the corresponding similarity value.\n"
      ],
      "execution_count": null,
      "outputs": []
    },
    {
      "cell_type": "code",
      "metadata": {
        "id": "kPFYqs5KYfnN"
      },
      "source": [
        "i = 0\n",
        "for companyName in names:\n",
        "    matches = queryData(companyName, names)\n",
        "    for match, sim in matches:\n",
        "        print(companyName, \"\\t\", match, \"\\t\", sim)\n",
        "        i = i + 1\n",
        "    if i>10: \n",
        "        break # We stop after 10 matches "
      ],
      "execution_count": null,
      "outputs": []
    },
    {
      "cell_type": "code",
      "metadata": {
        "id": "ZISYrm7WYfnO"
      },
      "source": [
        ""
      ],
      "execution_count": null,
      "outputs": []
    }
  ]
}