{
 "cells": [
  {
   "cell_type": "markdown",
   "metadata": {},
   "source": [
    "### String Formatting, How do we \n",
    "\n",
    "Often one wants to embed other information into strings, sometimes with special formatting constraints. In python, one may insert special formatting characters into strings that convey what type of data should be inserted and where, and how the \"stringified\" form should be formatted. Note: we enclose the variables whose value we want inside {}'s. \n",
    "For instance:"
   ]
  },
  {
   "cell_type": "code",
   "execution_count": null,
   "metadata": {},
   "outputs": [],
   "source": [
    "print('Coordinates: {latitude}, {longitude}'\n",
    "      .format(latitude='37.24N', longitude='115.81W'))"
   ]
  },
  {
   "cell_type": "markdown",
   "metadata": {},
   "source": [
    "Or we can have the parameter values being variables:"
   ]
  },
  {
   "cell_type": "code",
   "execution_count": null,
   "metadata": {},
   "outputs": [],
   "source": [
    "lat = '37.24N'\n",
    "lon = '115.81W'\n",
    "print('Coordinates: {latitude}, {longitude}'\n",
    "      .format(latitude=lat, longitude=lon))"
   ]
  },
  {
   "cell_type": "markdown",
   "metadata": {},
   "source": [
    "We can of course re-order and use the placeholders  multiple times:"
   ]
  },
  {
   "cell_type": "code",
   "execution_count": null,
   "metadata": {},
   "outputs": [],
   "source": [
    "lat = '37.24N'\n",
    "lon = '115.81W'\n",
    "print('Latitude: {latitude}, Longitude: {longitude} ==> [{latitude}, {longitude}]'\n",
    "      .format(latitude=lat, longitude=lon))"
   ]
  },
  {
   "cell_type": "markdown",
   "metadata": {},
   "source": [
    "#### More formatting options\n",
    "\n",
    "Below we will see a few more options, mainly for formatting numbers. (For a more detailed treatment on string formatting options, [see here](https://docs.python.org/3.5/library/string.html#format-string-syntax).) We can achieve the formatting by adding after the number/name the character `:` follows by a set of formatting options."
   ]
  },
  {
   "cell_type": "markdown",
   "metadata": {},
   "source": [
    "```\n",
    "field       ::=  \"{\" field_name [\":\" format_spec] \"}\"\n",
    "format_spec ::=  [[fill character]align][width][,][.precision][type]\n",
    "align       ::=  \"<\" | \">\" | \"=\" | \"^\"\n",
    "sign        ::=  \"+\" | \"-\" | \" \"\n",
    "width       ::=  number of digita in total (if width has a 0 in front, we add  for zero-padding)\n",
    "precision   ::=  number of decimal points\n",
    "```"
   ]
  },
  {
   "cell_type": "markdown",
   "metadata": {},
   "source": [
    "Some common `type`s: \n",
    "\n",
    "* `d` integer\n",
    "* `f` floating point\n",
    "* `%` percent\n",
    "* `e` exponential format\n",
    "* `c` character\n",
    "* `s` string \n"
   ]
  },
  {
   "cell_type": "code",
   "execution_count": null,
   "metadata": {},
   "outputs": [],
   "source": [
    "print(\"Result: |\",100/23,\"|\")"
   ]
  },
  {
   "cell_type": "code",
   "execution_count": null,
   "metadata": {},
   "outputs": [],
   "source": [
    "print(\"Result: |{num}|\".format(num=100/23))"
   ]
  },
  {
   "cell_type": "code",
   "execution_count": null,
   "metadata": {},
   "outputs": [],
   "source": [
    "# Keep six digits for the whole number, out of which 3 for the decimals\n",
    "# Notice that `num` is just the name of the placeholder, does not have any special meaning in terms of formatting\n",
    "print(\"Result: |{num:6.3f}|\".format(num=100/23))\n",
    "print(\"Result: |{num:8.3f}|\".format(num=100/23))\n",
    "print(\"Result: |{num:8.5f}|\".format(num=100/23))\n"
   ]
  },
  {
   "cell_type": "code",
   "execution_count": null,
   "metadata": {},
   "outputs": [],
   "source": [
    "# Keep six digits for the whole number, out of which 3 for the decimals\n",
    "# Notice that `num` is just the name of the placeholder, does not have any special meaning in terms of formatting\n",
    "print(\"Result: |{num:7.2f}|\".format(num=100/23))\n",
    "print(\"Result: |{num:7.2f}|\".format(num=1000/23))\n",
    "print(\"Result: |{num:7.2f}|\".format(num=10000/23))\n",
    "print(\"Result: |{num:7.2f}|\".format(num=100000/23))\n",
    "print(\"Result: |{num:7.2f}|\".format(num=1000000/23))"
   ]
  },
  {
   "cell_type": "code",
   "execution_count": null,
   "metadata": {},
   "outputs": [],
   "source": [
    "print(\"Result: |{:7.2f}|\".format(100/23))"
   ]
  },
  {
   "cell_type": "code",
   "execution_count": null,
   "metadata": {},
   "outputs": [],
   "source": [
    "# Keep six digits for the whole number, out of which 3 for the decimals, with zero padding in front\n",
    "print(\"Result: |{num:07.3f}|\".format(num=100.0/23))"
   ]
  },
  {
   "cell_type": "code",
   "execution_count": null,
   "metadata": {},
   "outputs": [],
   "source": [
    "# Floating point with three decimal digits\n",
    "print(\"Result: |{num:.7f}|\".format(num=100.0/23))"
   ]
  },
  {
   "cell_type": "code",
   "execution_count": null,
   "metadata": {},
   "outputs": [],
   "source": [
    "# Sixteen digits total and four decimal digits, with comma-separated thousands\n",
    "print(\"Result: |{num:16,.4f}|\".format(num=1000000.0/7))\n",
    "print(\"Result: |{num:16.4f}|\".format(num=1000000.0/7))"
   ]
  },
  {
   "cell_type": "code",
   "execution_count": null,
   "metadata": {},
   "outputs": [],
   "source": [
    "# Expressing a percentage:\n",
    "points = 19\n",
    "total = 22\n",
    "print('Correct answers: {p:.2%}'.format(p=points/total))"
   ]
  },
  {
   "cell_type": "code",
   "execution_count": null,
   "metadata": {},
   "outputs": [],
   "source": [
    "clinton = article.count(\"Clinton\")\n",
    "trump = article.count(\"Trump\")\n",
    "p_c = clinton / (clinton + trump)\n",
    "p_t = trump / (clinton+trump)\n",
    "template = \"Relative percentage for {candidate:<7} : {perc:.2%}\"\n",
    "print(template.format(candidate=\"Clinton\", perc=p_c) ) \n",
    "print(template.format(candidate=\"Trump\", perc=p_t) )"
   ]
  },
  {
   "cell_type": "code",
   "execution_count": null,
   "metadata": {},
   "outputs": [],
   "source": [
    "# your code here\n"
   ]
  },
  {
   "cell_type": "code",
   "execution_count": null,
   "metadata": {},
   "outputs": [],
   "source": [
    "# alignment\n",
    "print('|{message:<30}|'.format(message='left aligned'))\n",
    "print('|{message:>30}|'.format(message='right aligned'))\n",
    "print('|{message:^30}|'.format(message='centered'))\n"
   ]
  },
  {
   "cell_type": "code",
   "execution_count": null,
   "metadata": {},
   "outputs": [],
   "source": [
    "# fill\n",
    "print('|{message:#<80}|'.format(message='left aligned with # chars as fill'))\n",
    "print('|{message:#>80}|'.format(message='right aligned with # chars as fill'))\n",
    "print('|{message:#^80}|'.format(message='centered with # chars as fill'))"
   ]
  },
  {
   "cell_type": "markdown",
   "metadata": {
    "collapsed": true
   },
   "source": [
    "#### Exercise\n",
    "\n",
    "We have a list of people and scores to display. \n",
    "```\n",
    "Name Score\n",
    "Beth 10\n",
    "Frederick 8\n",
    "Panos 7\n",
    "``` \n",
    "\n",
    "Write code that:\n",
    "* Assigns the names and the scores into variables. Call them name1, score1, name2, score2, name3, score3, etc.\n",
    "* Align the names to the left, and the scores to the right\n",
    "* Allocate 10 characters for the name, and 3 characters for the score"
   ]
  },
  {
   "cell_type": "code",
   "execution_count": null,
   "metadata": {},
   "outputs": [],
   "source": [
    "# your code here"
   ]
  },
  {
   "cell_type": "code",
   "execution_count": null,
   "metadata": {},
   "outputs": [],
   "source": []
  },
  {
   "cell_type": "code",
   "execution_count": null,
   "metadata": {},
   "outputs": [],
   "source": []
  },
  {
   "cell_type": "code",
   "execution_count": null,
   "metadata": {},
   "outputs": [],
   "source": []
  },
  {
   "cell_type": "code",
   "execution_count": null,
   "metadata": {},
   "outputs": [],
   "source": []
  },
  {
   "cell_type": "code",
   "execution_count": null,
   "metadata": {},
   "outputs": [],
   "source": []
  },
  {
   "cell_type": "code",
   "execution_count": null,
   "metadata": {},
   "outputs": [],
   "source": [
    "'''\n",
    "\n",
    "\n",
    "\n",
    "\n",
    "\n",
    "\n",
    "\n",
    "\n",
    "\n",
    "\n",
    "\n",
    "\n",
    "\n",
    "\n",
    "\n",
    "\n",
    "\n",
    "\n",
    "\n",
    "\n",
    "\n",
    "\n",
    "\n",
    "\n",
    "\n",
    "\n",
    "\n",
    "\n",
    "\n",
    "'''"
   ]
  },
  {
   "cell_type": "code",
   "execution_count": null,
   "metadata": {},
   "outputs": [],
   "source": [
    "# Solution; do not use this before trying your own solution\n",
    "\n",
    "name1 = \"Beth\"\n",
    "name2 = \"Frederick\"\n",
    "name3 = \"Panos\"\n",
    "score1 = 10.0\n",
    "score2 = 8.51324\n",
    "score3 = 7.12321\n",
    "# Different formatting for headers and the data rows\n",
    "# since we cannot apply floating point formatting to the \n",
    "# strings in the header\n",
    "template_header = \"{name:<10}\\t{score:>7}\"\n",
    "template_row    = \"{name:<10}\\t{score:7.1f}\"\n",
    "# Print the header lines with the header template\n",
    "print(template_header.format(name=\"NAME\", score=\"SCORE\"))\n",
    "print(template_header.format(name=\"----\", score=\"-----\"))\n",
    "# Print the data lines with the data template\n",
    "print(template_row.format(name=name1, score=score1))\n",
    "print(template_row.format(name=name2, score=score2))\n",
    "print(template_row.format(name=name3, score=score3))"
   ]
  }
 ],
 "metadata": {
  "kernelspec": {
   "display_name": "Python 3",
   "language": "python",
   "name": "python3"
  },
  "language_info": {
   "codemirror_mode": {
    "name": "ipython",
    "version": 3
   },
   "file_extension": ".py",
   "mimetype": "text/x-python",
   "name": "python",
   "nbconvert_exporter": "python",
   "pygments_lexer": "ipython3",
   "version": "3.6.5"
  }
 },
 "nbformat": 4,
 "nbformat_minor": 1
}
