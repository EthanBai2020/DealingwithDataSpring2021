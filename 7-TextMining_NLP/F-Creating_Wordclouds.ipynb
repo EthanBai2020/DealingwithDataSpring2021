{
 "cells": [
  {
   "cell_type": "markdown",
   "metadata": {},
   "source": [
    "# Fun with Wordclouds"
   ]
  },
  {
   "cell_type": "code",
   "execution_count": null,
   "metadata": {},
   "outputs": [],
   "source": [
    "# We will use http://amueller.github.io/word_cloud/index.html\n",
    "\n",
    "!sudo -H pip3 install -U wordcloud"
   ]
  },
  {
   "cell_type": "code",
   "execution_count": null,
   "metadata": {},
   "outputs": [],
   "source": [
    "from nltk.book import *\n",
    "\n",
    "# Create a string with the text\n",
    "# We will use the Inaugural Presidential Addresses for this example\n",
    "text = \" \".join(text4.tokens)"
   ]
  },
  {
   "cell_type": "code",
   "execution_count": null,
   "metadata": {},
   "outputs": [],
   "source": [
    "# Basic example of creating a word cloud\n",
    "from wordcloud import WordCloud\n",
    "\n",
    "wordcloud = WordCloud().generate(text)"
   ]
  },
  {
   "cell_type": "code",
   "execution_count": null,
   "metadata": {},
   "outputs": [],
   "source": [
    "# Let's show it, using the \"imshow\" command of matplotlib\n",
    "%matplotlib inline\n",
    "import matplotlib.pyplot as plt\n",
    "\n",
    "plt.figure(figsize=(15,10))\n",
    "plt.imshow(wordcloud)\n",
    "plt.axis(\"off\")\n",
    "plt.show()"
   ]
  },
  {
   "cell_type": "code",
   "execution_count": null,
   "metadata": {},
   "outputs": [],
   "source": [
    "# Let's remove stopwords\n",
    "# We will use the stopwords from the NLTK, \n",
    "# augmented by the list of stopwords from the wordcloud module\n",
    "\n",
    "from nltk.corpus import stopwords\n",
    "from wordcloud import STOPWORDS\n",
    "\n",
    "sw = stopwords.words('english')\n",
    "sw.extend(STOPWORDS)\n",
    "\n",
    "# We can add more words in the list\n",
    "sw.append(\"will\")\n",
    "sw.append(\"said\")"
   ]
  },
  {
   "cell_type": "code",
   "execution_count": null,
   "metadata": {},
   "outputs": [],
   "source": [
    "# Recreate the wordcloud, this time removing stopwords.\n",
    "# We pass the corresponding parameter to the call\n",
    "\n",
    "wordcloud = WordCloud(stopwords=sw).generate(text)\n",
    "\n",
    "plt.figure(figsize=(15,10))\n",
    "plt.imshow(wordcloud)\n",
    "plt.axis(\"off\")\n",
    "plt.show()"
   ]
  },
  {
   "cell_type": "code",
   "execution_count": null,
   "metadata": {},
   "outputs": [],
   "source": [
    "# A more complex example in terms of options. \n",
    "# For the full list of options, see \n",
    "# http://amueller.github.io/word_cloud/generated/wordcloud.WordCloud.html#wordcloud.WordCloud for options\n",
    "wordcloud = WordCloud(background_color=\"white\",\n",
    "                      width = 900,\n",
    "                      height = 600,\n",
    "                      max_words=100, \n",
    "                      stopwords=sw, \n",
    "                      margin=10,\n",
    "                      random_state=1,\n",
    "                      max_font_size=60,\n",
    "                      ranks_only=False).generate(text)"
   ]
  },
  {
   "cell_type": "code",
   "execution_count": null,
   "metadata": {},
   "outputs": [],
   "source": [
    "plt.figure(figsize=(15,10))\n",
    "plt.imshow(wordcloud)\n",
    "plt.axis(\"off\")\n",
    "plt.show()"
   ]
  },
  {
   "cell_type": "code",
   "execution_count": null,
   "metadata": {},
   "outputs": [],
   "source": [
    "# And this one uses a recoloring function to change the colors\n",
    "\n",
    "import random\n",
    "\n",
    "def grey_color_func(word, font_size, position, orientation, random_state=None, **kwargs):\n",
    "    return \"hsl(0, 0%%, %d%%)\" % random.randint(30, 60)\n",
    "\n",
    "\n",
    "wordcloud.recolor(color_func=grey_color_func, random_state=3)\n",
    "\n",
    "plt.figure(figsize=(15,10))\n",
    "plt.imshow(wordcloud)\n",
    "plt.axis(\"off\")\n",
    "plt.show()"
   ]
  },
  {
   "cell_type": "code",
   "execution_count": null,
   "metadata": {
    "collapsed": true
   },
   "outputs": [],
   "source": []
  }
 ],
 "metadata": {
  "kernelspec": {
   "display_name": "Python 3",
   "language": "python",
   "name": "python3"
  },
  "language_info": {
   "codemirror_mode": {
    "name": "ipython",
    "version": 3
   },
   "file_extension": ".py",
   "mimetype": "text/x-python",
   "name": "python",
   "nbconvert_exporter": "python",
   "pygments_lexer": "ipython3",
   "version": "3.5.2"
  }
 },
 "nbformat": 4,
 "nbformat_minor": 1
}
