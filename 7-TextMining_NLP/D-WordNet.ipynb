{
 "cells": [
  {
   "cell_type": "markdown",
   "metadata": {},
   "source": [
    "## WordNet\n",
    "\n",
    "WordNet is a semantically-oriented dictionary of English, similar to a traditional thesaurus but with a richer structure. NLTK includes the English WordNet, with 155,287 words and 117,659 synonym sets. We'll begin by looking at synonyms and how they are accessed in WordNet.\n"
   ]
  },
  {
   "cell_type": "markdown",
   "metadata": {},
   "source": [
    "\n",
    "###  Senses and Synonyms\n",
    "\n",
    "Consider the sentence below. If we replace the word motorcar in by automobile, the meaning of the sentence stays pretty much the same:\n",
    "\n",
    "* Benz is credited with the invention of the motorcar.\n",
    "* Benz is credited with the invention of the automobile.\n",
    "\n",
    "Since everything else in the sentence has remained unchanged, we can conclude that the words motorcar and automobile have the same meaning, i.e. they are **synonyms**. We can explore these words with the help of WordNet:"
   ]
  },
  {
   "cell_type": "code",
   "execution_count": 1,
   "metadata": {},
   "outputs": [
    {
     "data": {
      "text/plain": [
       "[Synset('car.n.01')]"
      ]
     },
     "execution_count": 1,
     "metadata": {},
     "output_type": "execute_result"
    }
   ],
   "source": [
    "from nltk.corpus import wordnet as wn\n",
    "wn.synsets('motorcar')"
   ]
  },
  {
   "cell_type": "markdown",
   "metadata": {},
   "source": [
    "Thus, motorcar has just one possible meaning and it is identified as car.n.01, the first noun sense of car. The entity car.n.01 is called a **synset**, or **\"synonym set\"**, a collection of synonymous words (or \"lemmas\"):"
   ]
  },
  {
   "cell_type": "code",
   "execution_count": 2,
   "metadata": {},
   "outputs": [
    {
     "data": {
      "text/plain": [
       "['car', 'auto', 'automobile', 'machine', 'motorcar']"
      ]
     },
     "execution_count": 2,
     "metadata": {},
     "output_type": "execute_result"
    }
   ],
   "source": [
    " wn.synset('car.n.01').lemma_names()"
   ]
  },
  {
   "cell_type": "markdown",
   "metadata": {},
   "source": [
    "Each word of a synset can have several meanings, e.g., car can also signify a train carriage, a gondola, or an elevator car. However, we are only interested in the single meaning that is common to all words of the above synset. Synsets also come with a prose definition and some example sentences:"
   ]
  },
  {
   "cell_type": "code",
   "execution_count": 3,
   "metadata": {},
   "outputs": [
    {
     "data": {
      "text/plain": [
       "'a motor vehicle with four wheels; usually propelled by an internal combustion engine'"
      ]
     },
     "execution_count": 3,
     "metadata": {},
     "output_type": "execute_result"
    }
   ],
   "source": [
    "wn.synset('car.n.01').definition()"
   ]
  },
  {
   "cell_type": "code",
   "execution_count": 4,
   "metadata": {},
   "outputs": [
    {
     "data": {
      "text/plain": [
       "['he needs a car to get to work']"
      ]
     },
     "execution_count": 4,
     "metadata": {},
     "output_type": "execute_result"
    }
   ],
   "source": [
    "wn.synset('car.n.01').examples()"
   ]
  },
  {
   "cell_type": "markdown",
   "metadata": {},
   "source": [
    "Although definitions help humans to understand the intended meaning of a synset, the words of the synset are often more useful for our programs. To eliminate ambiguity, we will identify these words as car.n.01.automobile, car.n.01.motorcar, and so on. This pairing of a synset with a word is called a **lemma**. We can get all the lemmas for a given synset, look up a particular lemma, get the synset corresponding to a lemma, and get the \"name\" of a lemma:"
   ]
  },
  {
   "cell_type": "markdown",
   "metadata": {},
   "source": [
    "##### What are the lemmas for the synset car "
   ]
  },
  {
   "cell_type": "code",
   "execution_count": 5,
   "metadata": {},
   "outputs": [
    {
     "data": {
      "text/plain": [
       "[Lemma('car.n.01.car'),\n",
       " Lemma('car.n.01.auto'),\n",
       " Lemma('car.n.01.automobile'),\n",
       " Lemma('car.n.01.machine'),\n",
       " Lemma('car.n.01.motorcar')]"
      ]
     },
     "execution_count": 5,
     "metadata": {},
     "output_type": "execute_result"
    }
   ],
   "source": [
    "wn.synset('car.n.01').lemmas() "
   ]
  },
  {
   "cell_type": "markdown",
   "metadata": {},
   "source": [
    "#### look up car,n.01.automobile"
   ]
  },
  {
   "cell_type": "code",
   "execution_count": 6,
   "metadata": {},
   "outputs": [
    {
     "data": {
      "text/plain": [
       "Lemma('car.n.01.automobile')"
      ]
     },
     "execution_count": 6,
     "metadata": {},
     "output_type": "execute_result"
    }
   ],
   "source": [
    "wn.lemma('car.n.01.automobile')"
   ]
  },
  {
   "cell_type": "markdown",
   "metadata": {},
   "source": [
    "#### What synset does the lemma car.n.01.automobile  belong to?"
   ]
  },
  {
   "cell_type": "code",
   "execution_count": 7,
   "metadata": {},
   "outputs": [
    {
     "data": {
      "text/plain": [
       "Synset('car.n.01')"
      ]
     },
     "execution_count": 7,
     "metadata": {},
     "output_type": "execute_result"
    }
   ],
   "source": [
    "wn.lemma('car.n.01.automobile').synset()"
   ]
  },
  {
   "cell_type": "code",
   "execution_count": 11,
   "metadata": {},
   "outputs": [],
   "source": [
    "#### and what is it's name?"
   ]
  },
  {
   "cell_type": "code",
   "execution_count": 8,
   "metadata": {},
   "outputs": [
    {
     "data": {
      "text/plain": [
       "'automobile'"
      ]
     },
     "execution_count": 8,
     "metadata": {},
     "output_type": "execute_result"
    }
   ],
   "source": [
    "wn.lemma('car.n.01.automobile').name()"
   ]
  },
  {
   "cell_type": "markdown",
   "metadata": {},
   "source": [
    "Now let's analyze the word `car`, which has multiple **senses** (ie., meanings of the word)"
   ]
  },
  {
   "cell_type": "code",
   "execution_count": 12,
   "metadata": {},
   "outputs": [
    {
     "data": {
      "text/plain": [
       "[Synset('car.n.01'),\n",
       " Synset('car.n.02'),\n",
       " Synset('car.n.03'),\n",
       " Synset('car.n.04'),\n",
       " Synset('cable_car.n.01')]"
      ]
     },
     "execution_count": 12,
     "metadata": {},
     "output_type": "execute_result"
    }
   ],
   "source": [
    "wn.synsets('car')"
   ]
  },
  {
   "cell_type": "markdown",
   "metadata": {},
   "source": [
    "#### What are all the different types of 'cars'? and their definitions and examples?"
   ]
  },
  {
   "cell_type": "code",
   "execution_count": 13,
   "metadata": {},
   "outputs": [
    {
     "name": "stdout",
     "output_type": "stream",
     "text": [
      "Lemma name: ['car', 'auto', 'automobile', 'machine', 'motorcar']\n",
      "Definition: a motor vehicle with four wheels; usually propelled by an internal combustion engine\n",
      "Examples  : ['he needs a car to get to work']\n",
      "=======================\n",
      "Lemma name: ['car', 'railcar', 'railway_car', 'railroad_car']\n",
      "Definition: a wheeled vehicle adapted to the rails of railroad\n",
      "Examples  : ['three cars had jumped the rails']\n",
      "=======================\n",
      "Lemma name: ['car', 'gondola']\n",
      "Definition: the compartment that is suspended from an airship and that carries personnel and the cargo and the power plant\n",
      "Examples  : []\n",
      "=======================\n",
      "Lemma name: ['car', 'elevator_car']\n",
      "Definition: where passengers ride up and down\n",
      "Examples  : ['the car was on the top floor']\n",
      "=======================\n",
      "Lemma name: ['cable_car', 'car']\n",
      "Definition: a conveyance for passengers or freight on a cable railway\n",
      "Examples  : ['they took a cable car to the top of the mountain']\n",
      "=======================\n"
     ]
    }
   ],
   "source": [
    "senses = [(s.lemma_names(), s.definition(), s.examples()) for s in wn.synsets('car')]\n",
    "for s in senses:\n",
    "    print(\"Lemma name:\", s[0])\n",
    "    print(\"Definition:\", s[1])\n",
    "    print(\"Examples  :\", s[2])\n",
    "    print(\"=======================\")"
   ]
  },
  {
   "cell_type": "markdown",
   "metadata": {},
   "source": [
    "#### and the different meanings for 'race'?"
   ]
  },
  {
   "cell_type": "code",
   "execution_count": 11,
   "metadata": {},
   "outputs": [
    {
     "data": {
      "text/plain": [
       "[Synset('race.n.01'),\n",
       " Synset('race.n.02'),\n",
       " Synset('race.n.03'),\n",
       " Synset('subspecies.n.01'),\n",
       " Synset('slipstream.n.01'),\n",
       " Synset('raceway.n.01'),\n",
       " Synset('rush.v.01'),\n",
       " Synset('race.v.02'),\n",
       " Synset('race.v.03'),\n",
       " Synset('race.v.04')]"
      ]
     },
     "execution_count": 11,
     "metadata": {},
     "output_type": "execute_result"
    }
   ],
   "source": [
    "wn.synsets('race')"
   ]
  },
  {
   "cell_type": "code",
   "execution_count": 12,
   "metadata": {},
   "outputs": [
    {
     "name": "stdout",
     "output_type": "stream",
     "text": [
      "Lemma name: ['race']\n",
      "Definition: any competition\n",
      "Examples  : ['the race for the presidency']\n",
      "=======================\n",
      "Lemma name: ['race']\n",
      "Definition: a contest of speed\n",
      "Examples  : ['the race is to the swift']\n",
      "=======================\n",
      "Lemma name: ['race']\n",
      "Definition: people who are believed to belong to the same genetic stock\n",
      "Examples  : ['some biologists doubt that there are important genetic differences between races of human beings']\n",
      "=======================\n",
      "Lemma name: ['subspecies', 'race']\n",
      "Definition: (biology) a taxonomic group that is a division of a species; usually arises as a consequence of geographical isolation within a species\n",
      "Examples  : []\n",
      "=======================\n",
      "Lemma name: ['slipstream', 'airstream', 'race', 'backwash', 'wash']\n",
      "Definition: the flow of air that is driven backwards by an aircraft propeller\n",
      "Examples  : []\n",
      "=======================\n",
      "Lemma name: ['raceway', 'race']\n",
      "Definition: a canal for a current of water\n",
      "Examples  : []\n",
      "=======================\n",
      "Lemma name: ['rush', 'hotfoot', 'hasten', 'hie', 'speed', 'race', 'pelt_along', 'rush_along', 'cannonball_along', 'bucket_along', 'belt_along', 'step_on_it']\n",
      "Definition: move fast\n",
      "Examples  : ['He rushed down the hall to receive his guests', 'The cars raced down the street']\n",
      "=======================\n",
      "Lemma name: ['race', 'run']\n",
      "Definition: compete in a race\n",
      "Examples  : ['he is running the Marathon this year', \"let's race and see who gets there first\"]\n",
      "=======================\n",
      "Lemma name: ['race']\n",
      "Definition: to work as fast as possible towards a goal, sometimes in competition with others\n",
      "Examples  : ['We are racing to find a cure for AIDS']\n",
      "=======================\n",
      "Lemma name: ['race', 'rush']\n",
      "Definition: cause to move fast or to rush or race\n",
      "Examples  : ['The psychologist raced the rats through a long maze']\n",
      "=======================\n"
     ]
    }
   ],
   "source": [
    "## your code here: Analyze the word \"bank\"\n",
    "senses = [(s.lemma_names(), s.definition(), s.examples()) for s in wn.synsets('race')]\n",
    "for s in senses:\n",
    "    print(\"Lemma name:\", s[0])\n",
    "    print(\"Definition:\", s[1])\n",
    "    print(\"Examples  :\", s[2])\n",
    "    print(\"=======================\")"
   ]
  },
  {
   "cell_type": "markdown",
   "metadata": {},
   "source": [
    "### The WordNet Hierarchy"
   ]
  },
  {
   "cell_type": "markdown",
   "metadata": {},
   "source": [
    "WordNet synsets correspond to abstract concepts, and they don't always have corresponding words in English. These concepts are linked together in a hierarchy. Some concepts are very general, such as Entity, State, Event — these are called unique beginners or root synsets. Others, such as gas guzzler and hatchback, are much more specific. A small portion of a concept hierarchy is illustrated below:"
   ]
  },
  {
   "cell_type": "markdown",
   "metadata": {},
   "source": [
    "<img src=\"http://www.nltk.org/images/wordnet-hierarchy.png\" width=\"50%\">"
   ]
  },
  {
   "cell_type": "markdown",
   "metadata": {},
   "source": [
    "### Hyponyms\n",
    "\n",
    "WordNet makes it easy to navigate between concepts. For example, given a concept like motorcar, we can look at the concepts that are more specific; the (immediate) hyponyms."
   ]
  },
  {
   "cell_type": "code",
   "execution_count": 16,
   "metadata": {},
   "outputs": [],
   "source": [
    "motorcar = wn.synset('car.n.01')"
   ]
  },
  {
   "cell_type": "code",
   "execution_count": 17,
   "metadata": {},
   "outputs": [
    {
     "data": {
      "text/plain": [
       "[Synset('ambulance.n.01'),\n",
       " Synset('beach_wagon.n.01'),\n",
       " Synset('bus.n.04'),\n",
       " Synset('cab.n.03'),\n",
       " Synset('compact.n.03'),\n",
       " Synset('convertible.n.01'),\n",
       " Synset('coupe.n.01'),\n",
       " Synset('cruiser.n.01'),\n",
       " Synset('electric.n.01'),\n",
       " Synset('gas_guzzler.n.01'),\n",
       " Synset('hardtop.n.01'),\n",
       " Synset('hatchback.n.01'),\n",
       " Synset('horseless_carriage.n.01'),\n",
       " Synset('hot_rod.n.01'),\n",
       " Synset('jeep.n.01'),\n",
       " Synset('limousine.n.01'),\n",
       " Synset('loaner.n.02'),\n",
       " Synset('minicar.n.01'),\n",
       " Synset('minivan.n.01'),\n",
       " Synset('model_t.n.01'),\n",
       " Synset('pace_car.n.01'),\n",
       " Synset('racer.n.02'),\n",
       " Synset('roadster.n.01'),\n",
       " Synset('sedan.n.01'),\n",
       " Synset('sport_utility.n.01'),\n",
       " Synset('sports_car.n.01'),\n",
       " Synset('stanley_steamer.n.01'),\n",
       " Synset('stock_car.n.01'),\n",
       " Synset('subcompact.n.01'),\n",
       " Synset('touring_car.n.01'),\n",
       " Synset('used-car.n.01')]"
      ]
     },
     "execution_count": 17,
     "metadata": {},
     "output_type": "execute_result"
    }
   ],
   "source": [
    "types_of_motorcar = motorcar.hyponyms()\n",
    "types_of_motorcar"
   ]
  },
  {
   "cell_type": "code",
   "execution_count": 18,
   "metadata": {},
   "outputs": [
    {
     "data": {
      "text/plain": [
       "Synset('ambulance.n.01')"
      ]
     },
     "execution_count": 18,
     "metadata": {},
     "output_type": "execute_result"
    }
   ],
   "source": [
    "types_of_motorcar[0]"
   ]
  },
  {
   "cell_type": "markdown",
   "metadata": {},
   "source": [
    "Let's go over all the types of motorcar, and for each of the returned `synsets` (synonym sets), create a list of lemmas."
   ]
  },
  {
   "cell_type": "code",
   "execution_count": 19,
   "metadata": {},
   "outputs": [
    {
     "name": "stdout",
     "output_type": "stream",
     "text": [
      "['Model_T', 'S.U.V.', 'SUV', 'Stanley_Steamer', 'ambulance', 'beach_waggon', 'beach_wagon', 'bus', 'cab', 'compact', 'compact_car', 'convertible', 'coupe', 'cruiser', 'electric', 'electric_automobile', 'electric_car', 'estate_car', 'gas_guzzler', 'hack', 'hardtop', 'hatchback', 'heap', 'horseless_carriage', 'hot-rod', 'hot_rod', 'jalopy', 'jeep', 'landrover', 'limo', 'limousine', 'loaner', 'minicar', 'minivan', 'pace_car', 'patrol_car', 'phaeton', 'police_car', 'police_cruiser', 'prowl_car', 'race_car', 'racer', 'racing_car', 'roadster', 'runabout', 'saloon', 'secondhand_car', 'sedan', 'sport_car', 'sport_utility', 'sport_utility_vehicle', 'sports_car', 'squad_car', 'station_waggon', 'station_wagon', 'stock_car', 'subcompact', 'subcompact_car', 'taxi', 'taxicab', 'tourer', 'touring_car', 'two-seater', 'used-car', 'waggon', 'wagon']\n"
     ]
    }
   ],
   "source": [
    "print(sorted(lemma.name() \n",
    "             for synset in types_of_motorcar \n",
    "                 for lemma in synset.lemmas()))"
   ]
  },
  {
   "cell_type": "markdown",
   "metadata": {},
   "source": [
    "### Hypernyms\n",
    "\n",
    "We can also navigate up the hierarchy by visiting hypernyms. Some words have multiple paths, because they can be classified in more than one way. There are two paths between car.n.01 and entity.n.01 because wheeled_vehicle.n.01 can be classified as both a vehicle and a container."
   ]
  },
  {
   "cell_type": "code",
   "execution_count": 21,
   "metadata": {},
   "outputs": [
    {
     "data": {
      "text/plain": [
       "2"
      ]
     },
     "execution_count": 21,
     "metadata": {},
     "output_type": "execute_result"
    }
   ],
   "source": [
    "motorcar.hypernyms()\n",
    "paths = motorcar.hypernym_paths()\n",
    "len(paths)"
   ]
  },
  {
   "cell_type": "code",
   "execution_count": 22,
   "metadata": {},
   "outputs": [
    {
     "name": "stdout",
     "output_type": "stream",
     "text": [
      "['entity.n.01', 'physical_entity.n.01', 'object.n.01', 'whole.n.02', 'artifact.n.01', 'instrumentality.n.03', 'container.n.01', 'wheeled_vehicle.n.01', 'self-propelled_vehicle.n.01', 'motor_vehicle.n.01', 'car.n.01']\n"
     ]
    }
   ],
   "source": [
    "print([synset.name() for synset in paths[0]])"
   ]
  },
  {
   "cell_type": "code",
   "execution_count": 23,
   "metadata": {},
   "outputs": [
    {
     "name": "stdout",
     "output_type": "stream",
     "text": [
      "['entity.n.01', 'physical_entity.n.01', 'object.n.01', 'whole.n.02', 'artifact.n.01', 'instrumentality.n.03', 'conveyance.n.03', 'vehicle.n.01', 'wheeled_vehicle.n.01', 'self-propelled_vehicle.n.01', 'motor_vehicle.n.01', 'car.n.01']\n"
     ]
    }
   ],
   "source": [
    "print([synset.name() for synset in paths[1]])"
   ]
  },
  {
   "cell_type": "markdown",
   "metadata": {},
   "source": [
    "### More Lexical Relations: Meronyms, Holonyms, Antonyms, Entailment\n",
    "\n",
    "Hypernyms and hyponyms are called lexical relations because they relate one synset to another. These two relations navigate up and down the \"is-a\" hierarchy. Another important way to navigate the WordNet network is from items to their components (**meronyms**) or to the things they are contained in (**holonyms**). For example, the parts of a tree are its trunk, crown, and so on; the part_meronyms(). The substance a tree is made of includes heartwood and sapwood; the substance_meronyms(). A collection of trees forms a forest; the member_holonyms():"
   ]
  },
  {
   "cell_type": "code",
   "execution_count": 27,
   "metadata": {},
   "outputs": [
    {
     "data": {
      "text/plain": [
       "[Synset('burl.n.02'),\n",
       " Synset('crown.n.07'),\n",
       " Synset('limb.n.02'),\n",
       " Synset('stump.n.01'),\n",
       " Synset('trunk.n.01')]"
      ]
     },
     "execution_count": 27,
     "metadata": {},
     "output_type": "execute_result"
    }
   ],
   "source": [
    "wn.synset('tree.n.01').part_meronyms()"
   ]
  },
  {
   "cell_type": "code",
   "execution_count": 28,
   "metadata": {},
   "outputs": [
    {
     "data": {
      "text/plain": [
       "[Synset('forest.n.01')]"
      ]
     },
     "execution_count": 28,
     "metadata": {},
     "output_type": "execute_result"
    }
   ],
   "source": [
    "wn.synset('tree.n.01').member_holonyms()"
   ]
  },
  {
   "cell_type": "code",
   "execution_count": 29,
   "metadata": {},
   "outputs": [
    {
     "data": {
      "text/plain": [
       "[Synset('heartwood.n.01'), Synset('sapwood.n.01')]"
      ]
     },
     "execution_count": 29,
     "metadata": {},
     "output_type": "execute_result"
    }
   ],
   "source": [
    "wn.synset('tree.n.01').substance_meronyms()"
   ]
  },
  {
   "cell_type": "code",
   "execution_count": 30,
   "metadata": {},
   "outputs": [
    {
     "data": {
      "text/plain": [
       "[Synset('united_states.n.01'), Synset('united_states_army.n.01')]"
      ]
     },
     "execution_count": 30,
     "metadata": {},
     "output_type": "execute_result"
    }
   ],
   "source": [
    "wn.synsets(\"USA\")"
   ]
  },
  {
   "cell_type": "code",
   "execution_count": 31,
   "metadata": {},
   "outputs": [
    {
     "data": {
      "text/plain": [
       "[Synset('alabama.n.01'),\n",
       " Synset('alaska.n.01'),\n",
       " Synset('american_state.n.01'),\n",
       " Synset('arizona.n.01'),\n",
       " Synset('arkansas.n.01'),\n",
       " Synset('california.n.01'),\n",
       " Synset('colony.n.03'),\n",
       " Synset('colorado.n.01'),\n",
       " Synset('connecticut.n.01'),\n",
       " Synset('connecticut.n.02'),\n",
       " Synset('dakota.n.02'),\n",
       " Synset('delaware.n.04'),\n",
       " Synset('district_of_columbia.n.01'),\n",
       " Synset('east.n.03'),\n",
       " Synset('florida.n.01'),\n",
       " Synset('georgia.n.01'),\n",
       " Synset('great_lakes.n.01'),\n",
       " Synset('hawaii.n.01'),\n",
       " Synset('idaho.n.01'),\n",
       " Synset('illinois.n.01'),\n",
       " Synset('indiana.n.01'),\n",
       " Synset('iowa.n.02'),\n",
       " Synset('kansas.n.01'),\n",
       " Synset('kentucky.n.01'),\n",
       " Synset('louisiana.n.01'),\n",
       " Synset('louisiana_purchase.n.01'),\n",
       " Synset('maine.n.01'),\n",
       " Synset('maryland.n.01'),\n",
       " Synset('massachusetts.n.01'),\n",
       " Synset('michigan.n.01'),\n",
       " Synset('mid-atlantic_states.n.01'),\n",
       " Synset('midwest.n.01'),\n",
       " Synset('minnesota.n.01'),\n",
       " Synset('mississippi.n.01'),\n",
       " Synset('mississippi.n.02'),\n",
       " Synset('missouri.n.01'),\n",
       " Synset('missouri.n.02'),\n",
       " Synset('montana.n.01'),\n",
       " Synset('nebraska.n.01'),\n",
       " Synset('nevada.n.01'),\n",
       " Synset('new_england.n.01'),\n",
       " Synset('new_hampshire.n.01'),\n",
       " Synset('new_jersey.n.01'),\n",
       " Synset('new_mexico.n.01'),\n",
       " Synset('new_river.n.01'),\n",
       " Synset('new_york.n.02'),\n",
       " Synset('niagara.n.02'),\n",
       " Synset('niobrara.n.01'),\n",
       " Synset('north.n.01'),\n",
       " Synset('north_carolina.n.01'),\n",
       " Synset('north_dakota.n.01'),\n",
       " Synset('ohio.n.01'),\n",
       " Synset('ohio.n.02'),\n",
       " Synset('oklahoma.n.01'),\n",
       " Synset('oregon.n.01'),\n",
       " Synset('pacific_northwest.n.01'),\n",
       " Synset('pennsylvania.n.01'),\n",
       " Synset('rhode_island.n.01'),\n",
       " Synset('rio_grande.n.01'),\n",
       " Synset('saint_lawrence.n.02'),\n",
       " Synset('south.n.01'),\n",
       " Synset('south_carolina.n.02'),\n",
       " Synset('south_dakota.n.01'),\n",
       " Synset('sunbelt.n.01'),\n",
       " Synset('tennessee.n.01'),\n",
       " Synset('texas.n.01'),\n",
       " Synset('twin.n.03'),\n",
       " Synset('utah.n.01'),\n",
       " Synset('vermont.n.01'),\n",
       " Synset('virginia.n.01'),\n",
       " Synset('washington.n.02'),\n",
       " Synset('west.n.03'),\n",
       " Synset('west_virginia.n.01'),\n",
       " Synset('wisconsin.n.02'),\n",
       " Synset('wyoming.n.01'),\n",
       " Synset('yosemite.n.01'),\n",
       " Synset('yukon.n.01')]"
      ]
     },
     "execution_count": 31,
     "metadata": {},
     "output_type": "execute_result"
    }
   ],
   "source": [
    "wn.synset('united_states.n.01').part_meronyms()"
   ]
  },
  {
   "cell_type": "markdown",
   "metadata": {},
   "source": [
    "To see just how intricate things can get, consider the word mint, which has several closely-related senses. We can see that mint.n.04 is part of mint.n.02 and the substance from which mint.n.05 is made."
   ]
  },
  {
   "cell_type": "code",
   "execution_count": 32,
   "metadata": {},
   "outputs": [
    {
     "name": "stdout",
     "output_type": "stream",
     "text": [
      "batch.n.02: (often followed by `of') a large number or amount or extent\n",
      "mint.n.02: any north temperate plant of the genus Mentha with aromatic leaves and small mauve flowers\n",
      "mint.n.03: any member of the mint family of plants\n",
      "mint.n.04: the leaves of a mint plant used fresh or candied\n",
      "mint.n.05: a candy that is flavored with a mint oil\n",
      "mint.n.06: a plant where money is coined by authority of the government\n"
     ]
    }
   ],
   "source": [
    "for synset in wn.synsets('mint', wn.NOUN):\n",
    "    print(synset.name() + ':', synset.definition())"
   ]
  },
  {
   "cell_type": "code",
   "execution_count": 33,
   "metadata": {},
   "outputs": [
    {
     "data": {
      "text/plain": [
       "[Synset('mint.n.02')]"
      ]
     },
     "execution_count": 33,
     "metadata": {},
     "output_type": "execute_result"
    }
   ],
   "source": [
    "wn.synset('mint.n.04').part_holonyms()"
   ]
  },
  {
   "cell_type": "code",
   "execution_count": 34,
   "metadata": {
    "scrolled": true
   },
   "outputs": [
    {
     "data": {
      "text/plain": [
       "[Synset('mint.n.05')]"
      ]
     },
     "execution_count": 34,
     "metadata": {},
     "output_type": "execute_result"
    }
   ],
   "source": [
    "wn.synset('mint.n.04').substance_holonyms()"
   ]
  },
  {
   "cell_type": "markdown",
   "metadata": {},
   "source": [
    "### Exercise with Meronyms\n",
    "\n",
    "* Find the meronyms of the human body\n",
    "* Iterate so that you can find all the meronyms of the meronyms, and so on\n"
   ]
  },
  {
   "cell_type": "code",
   "execution_count": 28,
   "metadata": {},
   "outputs": [],
   "source": [
    "# Get the synset for \"human\"\n",
    "\n",
    "# Select the right synset, and then get the meronyms for that synset using the part_meronyms() function\n",
    "\n",
    "# Repeat the process for the returned synset. You will need to write a function that takes as input\n",
    "# a synset, gets its meronyms, and processes them again using the same function. This is a technique\n",
    "# called \"recursion\""
   ]
  },
  {
   "cell_type": "code",
   "execution_count": 35,
   "metadata": {},
   "outputs": [
    {
     "data": {
      "text/plain": [
       "[Synset('homo.n.02'),\n",
       " Synset('human.a.01'),\n",
       " Synset('human.a.02'),\n",
       " Synset('human.a.03')]"
      ]
     },
     "execution_count": 35,
     "metadata": {},
     "output_type": "execute_result"
    }
   ],
   "source": [
    "wn.synsets(\"human\")"
   ]
  },
  {
   "cell_type": "code",
   "execution_count": null,
   "metadata": {
    "collapsed": true
   },
   "outputs": [],
   "source": []
  },
  {
   "cell_type": "code",
   "execution_count": null,
   "metadata": {
    "collapsed": true
   },
   "outputs": [],
   "source": []
  },
  {
   "cell_type": "markdown",
   "metadata": {},
   "source": [
    "#### Solution "
   ]
  },
  {
   "cell_type": "code",
   "execution_count": 36,
   "metadata": {},
   "outputs": [
    {
     "data": {
      "text/plain": [
       "[Synset('homo.n.02'),\n",
       " Synset('human.a.01'),\n",
       " Synset('human.a.02'),\n",
       " Synset('human.a.03')]"
      ]
     },
     "execution_count": 36,
     "metadata": {},
     "output_type": "execute_result"
    }
   ],
   "source": [
    "wn.synsets(\"human\")"
   ]
  },
  {
   "cell_type": "code",
   "execution_count": 37,
   "metadata": {},
   "outputs": [
    {
     "data": {
      "text/plain": [
       "[Synset('arm.n.01'),\n",
       " Synset('body_hair.n.01'),\n",
       " Synset('face.n.01'),\n",
       " Synset('foot.n.01'),\n",
       " Synset('hand.n.01'),\n",
       " Synset('human_body.n.01'),\n",
       " Synset('human_head.n.01'),\n",
       " Synset('loin.n.02'),\n",
       " Synset('mane.n.02')]"
      ]
     },
     "execution_count": 37,
     "metadata": {},
     "output_type": "execute_result"
    }
   ],
   "source": [
    "human = wn.synset('homo.n.02')\n",
    "human.part_meronyms()"
   ]
  },
  {
   "cell_type": "code",
   "execution_count": 38,
   "metadata": {},
   "outputs": [],
   "source": [
    "def find_meronyms(synset):\n",
    "    result = []\n",
    "    meronyms = synset.part_meronyms()\n",
    "    \n",
    "    if len(meronyms) == 0:\n",
    "        # This one has no meronyms\n",
    "        return result\n",
    "    for part in meronyms:\n",
    "        # Append the meronym in the results\n",
    "        result.append(part)\n",
    "        # \n",
    "        part_meronyms = find_meronyms(part)\n",
    "        result.extend(part_meronyms)\n",
    "\n",
    "    return result\n",
    "\n",
    "human_parts = set(find_meronyms(human))"
   ]
  },
  {
   "cell_type": "code",
   "execution_count": 40,
   "metadata": {},
   "outputs": [
    {
     "name": "stdout",
     "output_type": "stream",
     "text": [
      "Lemma('wrist.n.01.wrist')\n",
      "Lemma('wrist.n.01.carpus')\n",
      "Lemma('wrist.n.01.wrist_joint')\n",
      "Lemma('wrist.n.01.radiocarpal_joint')\n",
      "Lemma('wrist.n.01.articulatio_radiocarpea')\n",
      "Lemma('visual_purple.n.01.visual_purple')\n",
      "Lemma('visual_purple.n.01.rhodopsin')\n",
      "Lemma('visual_purple.n.01.retinal_purple')\n",
      "Lemma('tastebud.n.01.tastebud')\n",
      "Lemma('tastebud.n.01.taste_bud')\n",
      "Lemma('tastebud.n.01.gustatory_organ')\n",
      "Lemma('lacrimal_apparatus.n.01.lacrimal_apparatus')\n",
      "Lemma('fingertip.n.01.fingertip')\n",
      "Lemma('iodopsin.n.01.iodopsin')\n",
      "Lemma('venae_palpebrales.n.01.venae_palpebrales')\n",
      "Lemma('lingual_vein.n.01.lingual_vein')\n",
      "Lemma('lingual_vein.n.01.vena_lingualis')\n",
      "Lemma('dentition.n.02.dentition')\n",
      "Lemma('dentition.n.02.teeth')\n",
      "Lemma('iris.n.02.iris')\n",
      "Lemma('ocular_muscle.n.01.ocular_muscle')\n",
      "Lemma('ocular_muscle.n.01.eye_muscle')\n",
      "Lemma('olecranon.n.01.olecranon')\n",
      "Lemma('olecranon.n.01.olecranon_process')\n",
      "Lemma('chin.n.01.chin')\n",
      "Lemma('chin.n.01.mentum')\n",
      "Lemma('deltoid_tuberosity.n.01.deltoid_tuberosity')\n",
      "Lemma('deltoid_tuberosity.n.01.deltoid_eminence')\n",
      "Lemma('nose.n.01.nose')\n",
      "Lemma('nose.n.01.olfactory_organ')\n",
      "Lemma('hard_palate.n.01.hard_palate')\n",
      "Lemma('pupil.n.02.pupil')\n",
      "Lemma('canthus.n.01.canthus')\n",
      "Lemma('little_toe.n.01.little_toe')\n",
      "Lemma('thenar.n.01.thenar')\n",
      "Lemma('lens.n.04.lens')\n",
      "Lemma('lens.n.04.crystalline_lens')\n",
      "Lemma('lens.n.04.lens_of_the_eye')\n",
      "Lemma('metatarsal_vein.n.01.metatarsal_vein')\n",
      "Lemma('metatarsal_vein.n.01.vena_metatarsus')\n",
      "Lemma('knuckle.n.01.knuckle')\n",
      "Lemma('knuckle.n.01.knuckle_joint')\n",
      "Lemma('knuckle.n.01.metacarpophalangeal_joint')\n",
      "Lemma('facial_vein.n.01.facial_vein')\n",
      "Lemma('facial_vein.n.01.vena_facialis')\n",
      "Lemma('nasal_cavity.n.01.nasal_cavity')\n",
      "Lemma('elbow.n.01.elbow')\n",
      "Lemma('elbow.n.01.elbow_joint')\n",
      "Lemma('elbow.n.01.human_elbow')\n",
      "Lemma('elbow.n.01.cubitus')\n",
      "Lemma('elbow.n.01.cubital_joint')\n",
      "Lemma('elbow.n.01.articulatio_cubiti')\n",
      "Lemma('lacrimal_artery.n.01.lacrimal_artery')\n",
      "Lemma('lacrimal_artery.n.01.arteria_lacrimalis')\n",
      "Lemma('eyelash.n.01.eyelash')\n",
      "Lemma('eyelash.n.01.lash')\n",
      "Lemma('eyelash.n.01.cilium')\n",
      "Lemma('toenail.n.01.toenail')\n",
      "Lemma('triceps_brachii.n.01.triceps_brachii')\n",
      "Lemma('triceps_brachii.n.01.musculus_triceps_brachii')\n",
      "Lemma('ulnar_nerve.n.01.ulnar_nerve')\n",
      "Lemma('ulnar_nerve.n.01.cubital_nerve')\n",
      "Lemma('ulnar_nerve.n.01.nervus_ulnaris')\n",
      "Lemma('facial.n.01.facial')\n",
      "Lemma('facial.n.01.facial_nerve')\n",
      "Lemma('facial.n.01.nervus_facialis')\n",
      "Lemma('facial.n.01.seventh_cranial_nerve')\n",
      "Lemma('buccal_artery.n.01.buccal_artery')\n",
      "Lemma('buccal_artery.n.01.arteria_buccalis')\n",
      "Lemma('labial_vein.n.02.labial_vein')\n",
      "Lemma('labial_vein.n.02.vena_labialis')\n",
      "Lemma('goatee.n.01.goatee')\n",
      "Lemma('labial_artery.n.01.labial_artery')\n",
      "Lemma('labial_artery.n.01.arteria_labialis')\n",
      "Lemma('conjunctiva.n.01.conjunctiva')\n",
      "Lemma('buccal_cavity.n.01.buccal_cavity')\n",
      "Lemma('lip.n.01.lip')\n",
      "Lemma('eye.n.01.eye')\n",
      "Lemma('eye.n.01.oculus')\n",
      "Lemma('eye.n.01.optic')\n",
      "Lemma('trichion.n.01.trichion')\n",
      "Lemma('trichion.n.01.crinion')\n",
      "Lemma('big_toe.n.01.big_toe')\n",
      "Lemma('big_toe.n.01.great_toe')\n",
      "Lemma('big_toe.n.01.hallux')\n",
      "Lemma('basilic_vein.n.01.basilic_vein')\n",
      "Lemma('basilic_vein.n.01.vena_basilica')\n",
      "Lemma('brow.n.01.brow')\n",
      "Lemma('brow.n.01.forehead')\n",
      "Lemma('mouth.n.02.mouth')\n",
      "Lemma('internasal_suture.n.01.internasal_suture')\n",
      "Lemma('internasal_suture.n.01.sutura_internasalis')\n",
      "Lemma('ulna.n.01.ulna')\n",
      "Lemma('ulna.n.01.elbow_bone')\n",
      "Lemma('jaw.n.02.jaw')\n",
      "Lemma('human_body.n.01.human_body')\n",
      "Lemma('human_body.n.01.physical_body')\n",
      "Lemma('human_body.n.01.material_body')\n",
      "Lemma('human_body.n.01.soma')\n",
      "Lemma('human_body.n.01.build')\n",
      "Lemma('human_body.n.01.figure')\n",
      "Lemma('human_body.n.01.physique')\n",
      "Lemma('human_body.n.01.anatomy')\n",
      "Lemma('human_body.n.01.shape')\n",
      "Lemma('human_body.n.01.bod')\n",
      "Lemma('human_body.n.01.chassis')\n",
      "Lemma('human_body.n.01.frame')\n",
      "Lemma('human_body.n.01.form')\n",
      "Lemma('human_body.n.01.flesh')\n",
      "Lemma('ulnar_vein.n.01.ulnar_vein')\n",
      "Lemma('ulnar_vein.n.01.vena_ulnaris')\n",
      "Lemma('visual_cell.n.01.visual_cell')\n",
      "Lemma('mustache.n.01.mustache')\n",
      "Lemma('mustache.n.01.moustache')\n",
      "Lemma('beard.n.01.beard')\n",
      "Lemma('beard.n.01.face_fungus')\n",
      "Lemma('beard.n.01.whiskers')\n",
      "Lemma('arcuate_artery.n.01.arcuate_artery')\n",
      "Lemma('arcuate_artery.n.01.arteria_arcuata')\n",
      "Lemma('aperture.n.02.aperture')\n",
      "Lemma('central_artery_of_the_retina.n.01.central_artery_of_the_retina')\n",
      "Lemma('central_artery_of_the_retina.n.01.arteria_centralis_retinae')\n",
      "Lemma('cheek.n.01.cheek')\n",
      "Lemma('nictitating_membrane.n.01.nictitating_membrane')\n",
      "Lemma('nictitating_membrane.n.01.third_eyelid')\n",
      "Lemma('sole.n.03.sole')\n",
      "Lemma('radius.n.04.radius')\n",
      "Lemma('lens_cortex.n.01.lens_cortex')\n",
      "Lemma('lens_cortex.n.01.cortex')\n",
      "Lemma('musculus_articularis_cubiti.n.01.musculus_articularis_cubiti')\n",
      "Lemma('metacarpal_vein.n.01.metacarpal_vein')\n",
      "Lemma('metacarpal_vein.n.01.vena_metacarpus')\n",
      "Lemma('cheek_muscle.n.01.cheek_muscle')\n",
      "Lemma('cheek_muscle.n.01.buccinator_muscle')\n",
      "Lemma('cheek_muscle.n.01.musculus_buccinator')\n",
      "Lemma('mane.n.02.mane')\n",
      "Lemma('mane.n.02.head_of_hair')\n",
      "Lemma('cone.n.04.cone')\n",
      "Lemma('cone.n.04.cone_cell')\n",
      "Lemma('cone.n.04.retinal_cone')\n",
      "Lemma('achilles_tendon.n.01.Achilles_tendon')\n",
      "Lemma('achilles_tendon.n.01.tendon_of_Achilles')\n",
      "Lemma('ciliary_body.n.01.ciliary_body')\n",
      "Lemma('uvea.n.01.uvea')\n",
      "Lemma('digital_arteries.n.01.digital_arteries')\n",
      "Lemma('digital_arteries.n.01.arteria_digitalis')\n",
      "Lemma('countenance.n.03.countenance')\n",
      "Lemma('countenance.n.03.physiognomy')\n",
      "Lemma('countenance.n.03.phiz')\n",
      "Lemma('countenance.n.03.visage')\n",
      "Lemma('countenance.n.03.kisser')\n",
      "Lemma('countenance.n.03.smiler')\n",
      "Lemma('countenance.n.03.mug')\n",
      "Lemma('taste_cell.n.01.taste_cell')\n",
      "Lemma('taste_cell.n.01.gustatory_cell')\n",
      "Lemma('eyelid.n.01.eyelid')\n",
      "Lemma('eyelid.n.01.lid')\n",
      "Lemma('eyelid.n.01.palpebra')\n",
      "Lemma('neuroepithelium.n.01.neuroepithelium')\n",
      "Lemma('scalp.n.01.scalp')\n",
      "Lemma('carpal_bone.n.01.carpal_bone')\n",
      "Lemma('carpal_bone.n.01.carpal')\n",
      "Lemma('carpal_bone.n.01.wrist_bone')\n",
      "Lemma('body_hair.n.01.body_hair')\n",
      "Lemma('lacrimal_sac.n.01.lacrimal_sac')\n",
      "Lemma('lacrimal_sac.n.01.tear_sac')\n",
      "Lemma('lacrimal_sac.n.01.dacryocyst')\n",
      "Lemma('feature.n.02.feature')\n",
      "Lemma('feature.n.02.lineament')\n",
      "Lemma('eyeball.n.01.eyeball')\n",
      "Lemma('eyeball.n.01.orb')\n",
      "Lemma('facial_muscle.n.01.facial_muscle')\n",
      "Lemma('rod.n.05.rod')\n",
      "Lemma('rod.n.05.rod_cell')\n",
      "Lemma('rod.n.05.retinal_rod')\n",
      "Lemma('jowl.n.02.jowl')\n",
      "Lemma('cornea.n.01.cornea')\n",
      "Lemma('lacrimal_gland.n.01.lacrimal_gland')\n",
      "Lemma('lacrimal_gland.n.01.lachrymal_gland')\n",
      "Lemma('lacrimal_gland.n.01.tear_gland')\n",
      "Lemma('fingernail.n.01.fingernail')\n",
      "Lemma('lacrimal_vein.n.01.lacrimal_vein')\n",
      "Lemma('lacrimal_vein.n.01.vena_lacrimalis')\n",
      "Lemma('cephalic_vein.n.01.cephalic_vein')\n",
      "Lemma('cephalic_vein.n.01.vena_cephalica')\n",
      "Lemma('uvula.n.01.uvula')\n",
      "Lemma('radial_vein.n.01.radial_vein')\n",
      "Lemma('radial_vein.n.01.vena_radialis')\n",
      "Lemma('arm_bone.n.01.arm_bone')\n",
      "Lemma('forearm.n.01.forearm')\n",
      "Lemma('tongue.n.01.tongue')\n",
      "Lemma('tongue.n.01.lingua')\n",
      "Lemma('tongue.n.01.glossa')\n",
      "Lemma('tongue.n.01.clapper')\n",
      "Lemma('nostril.n.01.nostril')\n",
      "Lemma('nostril.n.01.anterior_naris')\n",
      "Lemma('heelbone.n.01.heelbone')\n",
      "Lemma('heelbone.n.01.calcaneus')\n",
      "Lemma('heelbone.n.01.os_tarsi_fibulare')\n",
      "Lemma('anconeous_muscle.n.01.anconeous_muscle')\n",
      "Lemma('anconeous_muscle.n.01.musculus_anconeus')\n",
      "Lemma('ethmoidal_artery.n.01.ethmoidal_artery')\n",
      "Lemma('ethmoidal_artery.n.01.arteria_ethmoidalis')\n",
      "Lemma('carpal_tunnel.n.01.carpal_tunnel')\n",
      "Lemma('sinciput.n.01.sinciput')\n",
      "Lemma('occiput.n.01.occiput')\n",
      "Lemma('heel.n.02.heel')\n",
      "Lemma('choroid.n.01.choroid')\n",
      "Lemma('choroid.n.01.choroid_coat')\n",
      "Lemma('instep.n.01.instep')\n",
      "Lemma('finger.n.01.finger')\n",
      "Lemma('hand.n.01.hand')\n",
      "Lemma('hand.n.01.manus')\n",
      "Lemma('hand.n.01.mitt')\n",
      "Lemma('hand.n.01.paw')\n",
      "Lemma('palm.n.01.palm')\n",
      "Lemma('palm.n.01.thenar')\n",
      "Lemma('palate.n.01.palate')\n",
      "Lemma('palate.n.01.roof_of_the_mouth')\n",
      "Lemma('intercapitular_vein.n.01.intercapitular_vein')\n",
      "Lemma('intercapitular_vein.n.01.vena_intercapitalis')\n",
      "Lemma('retina.n.01.retina')\n",
      "Lemma('saliva.n.01.saliva')\n",
      "Lemma('saliva.n.01.spit')\n",
      "Lemma('saliva.n.01.spittle')\n",
      "Lemma('biceps_brachii.n.01.biceps_brachii')\n",
      "Lemma('biceps_brachii.n.01.musculus_biceps_brachii')\n",
      "Lemma('biceps_brachii.n.01.biceps_humeri')\n",
      "Lemma('pad.n.07.pad')\n",
      "Lemma('loin.n.02.loin')\n",
      "Lemma('loin.n.02.lumbus')\n",
      "Lemma('fovea.n.01.fovea')\n",
      "Lemma('fovea.n.01.fovea_centralis')\n",
      "Lemma('parafovea.n.01.parafovea')\n",
      "Lemma('face.n.01.face')\n",
      "Lemma('face.n.01.human_face')\n",
      "Lemma('epicanthus.n.01.epicanthus')\n",
      "Lemma('epicanthus.n.01.epicanthic_fold')\n",
      "Lemma('foot.n.01.foot')\n",
      "Lemma('foot.n.01.human_foot')\n",
      "Lemma('foot.n.01.pes')\n",
      "Lemma('metacarpal_artery.n.01.metacarpal_artery')\n",
      "Lemma('metacarpal_artery.n.01.arteria_metacarpea')\n",
      "Lemma('metatarsal_artery.n.01.metatarsal_artery')\n",
      "Lemma('metatarsal_artery.n.01.arteria_metatarsea')\n",
      "Lemma('mouth.n.01.mouth')\n",
      "Lemma('mouth.n.01.oral_cavity')\n",
      "Lemma('mouth.n.01.oral_fissure')\n",
      "Lemma('mouth.n.01.rima_oris')\n",
      "Lemma('ball.n.10.ball')\n",
      "Lemma('eyebrow.n.01.eyebrow')\n",
      "Lemma('eyebrow.n.01.brow')\n",
      "Lemma('eyebrow.n.01.supercilium')\n",
      "Lemma('uveoscleral_pathway.n.01.uveoscleral_pathway')\n",
      "Lemma('bridge.n.04.bridge')\n",
      "Lemma('tiptoe.n.01.tiptoe')\n",
      "Lemma('pate.n.02.pate')\n",
      "Lemma('pate.n.02.poll')\n",
      "Lemma('pate.n.02.crown')\n",
      "Lemma('nasal.n.02.nasal')\n",
      "Lemma('nasal.n.02.nasal_bone')\n",
      "Lemma('nasal.n.02.os_nasale')\n",
      "Lemma('turbinate_bone.n.01.turbinate_bone')\n",
      "Lemma('turbinate_bone.n.01.turbinate')\n",
      "Lemma('turbinate_bone.n.01.turbinal')\n",
      "Lemma('rhinion.n.01.rhinion')\n",
      "Lemma('toe.n.01.toe')\n",
      "Lemma('brachial_artery.n.01.brachial_artery')\n",
      "Lemma('brachial_artery.n.01.arteria_brachialis')\n",
      "Lemma('accessory_cephalic_vein.n.01.accessory_cephalic_vein')\n",
      "Lemma('accessory_cephalic_vein.n.01.vena_cephalica_accessoria')\n",
      "Lemma('arm.n.01.arm')\n",
      "Lemma('humerus.n.01.humerus')\n",
      "Lemma('pupillary_sphincter.n.01.pupillary_sphincter')\n",
      "Lemma('pupillary_sphincter.n.01.musculus_sphincter_pupillae')\n",
      "Lemma('blind_spot.n.02.blind_spot')\n",
      "Lemma('blind_spot.n.02.optic_disc')\n",
      "Lemma('blind_spot.n.02.optic_disk')\n",
      "Lemma('lens_capsule.n.01.lens_capsule')\n",
      "Lemma('metacarpus.n.01.metacarpus')\n",
      "Lemma('ciliary_artery.n.01.ciliary_artery')\n",
      "Lemma('ciliary_artery.n.01.arteria_ciliaris')\n",
      "Lemma('salivary_gland.n.01.salivary_gland')\n",
      "Lemma('lingual_artery.n.01.lingual_artery')\n",
      "Lemma('lingual_artery.n.01.arteria_lingualis')\n",
      "Lemma('metacarpal.n.01.metacarpal')\n",
      "Lemma('metacarpal.n.01.metacarpal_bone')\n",
      "Lemma('human_head.n.01.human_head')\n",
      "Lemma('soft_palate.n.01.soft_palate')\n",
      "Lemma('soft_palate.n.01.velum')\n",
      "Lemma('sclera.n.01.sclera')\n",
      "Lemma('sclera.n.01.sclerotic_coat')\n",
      "Lemma('macula.n.02.macula')\n",
      "Lemma('macula.n.02.macula_lutea')\n",
      "Lemma('macula.n.02.macular_area')\n",
      "Lemma('macula.n.02.yellow_spot')\n",
      "Lemma('lacrimal_duct.n.01.lacrimal_duct')\n",
      "Lemma('lacrimal_duct.n.01.lachrymal_duct')\n",
      "Lemma('lacrimal_duct.n.01.tear_duct')\n",
      "Lemma('gingiva.n.01.gingiva')\n",
      "Lemma('gingiva.n.01.gum')\n",
      "Lemma('funny_bone.n.01.funny_bone')\n",
      "Lemma('funny_bone.n.01.crazy_bone')\n"
     ]
    }
   ],
   "source": [
    "human_parts_lemmas = set()\n",
    "for human_part in human_parts:\n",
    "    for lemma in human_part.lemmas():\n",
    "        human_parts_lemmas.add(lemma)\n",
    "        print(lemma)"
   ]
  },
  {
   "cell_type": "code",
   "execution_count": 41,
   "metadata": {},
   "outputs": [
    {
     "name": "stdout",
     "output_type": "stream",
     "text": [
      "retina\n",
      "tongue\n",
      "face_fungus\n",
      "choroid\n",
      "internasal_suture\n",
      "facial\n",
      "musculus_anconeus\n",
      "nervus_facialis\n",
      "rima_oris\n",
      "anatomy\n",
      "facial_nerve\n",
      "buccinator_muscle\n",
      "vena_metatarsus\n",
      "carpus\n",
      "human_foot\n",
      "anterior_naris\n",
      "arteria_metatarsea\n",
      "bridge\n",
      "lip\n",
      "arteria_lacrimalis\n",
      "lid\n",
      "hallux\n",
      "canthus\n",
      "eyelash\n",
      "ulnar_vein\n",
      "cone_cell\n",
      "ciliary_artery\n",
      "vena_lacrimalis\n",
      "elbow\n",
      "central_artery_of_the_retina\n",
      "lens_cortex\n",
      "arteria_buccalis\n",
      "ocular_muscle\n",
      "os_tarsi_fibulare\n",
      "hand\n",
      "palpebra\n",
      "arteria_metacarpea\n",
      "lens_capsule\n",
      "carpal_bone\n",
      "yellow_spot\n",
      "lingual_vein\n",
      "arteria_labialis\n",
      "intercapitular_vein\n",
      "seventh_cranial_nerve\n",
      "crinion\n",
      "epicanthic_fold\n",
      "form\n",
      "tendon_of_Achilles\n",
      "lacrimal_sac\n",
      "gustatory_organ\n",
      "arteria_ethmoidalis\n",
      "eyebrow\n",
      "third_eyelid\n",
      "buccal_cavity\n",
      "Achilles_tendon\n",
      "humerus\n",
      "chin\n",
      "little_toe\n",
      "sutura_internasalis\n",
      "turbinal\n",
      "choroid_coat\n",
      "oculus\n",
      "taste_cell\n",
      "arm\n",
      "rod_cell\n",
      "moustache\n",
      "head_of_hair\n",
      "wrist_bone\n",
      "iris\n",
      "olecranon_process\n",
      "tear_sac\n",
      "musculus_biceps_brachii\n",
      "lacrimal_artery\n",
      "rhodopsin\n",
      "pate\n",
      "musculus_sphincter_pupillae\n",
      "salivary_gland\n",
      "macular_area\n",
      "shape\n",
      "saliva\n",
      "nervus_ulnaris\n",
      "dentition\n",
      "musculus_triceps_brachii\n",
      "sinciput\n",
      "accessory_cephalic_vein\n",
      "jowl\n",
      "cone\n",
      "musculus_articularis_cubiti\n",
      "lens\n",
      "vena_ulnaris\n",
      "fingernail\n",
      "spit\n",
      "optic_disc\n",
      "smiler\n",
      "funny_bone\n",
      "arteria_brachialis\n",
      "lacrimal_gland\n",
      "occiput\n",
      "triceps_brachii\n",
      "visual_cell\n",
      "ball\n",
      "digital_arteries\n",
      "radiocarpal_joint\n",
      "tiptoe\n",
      "buccal_artery\n",
      "pupillary_sphincter\n",
      "instep\n",
      "toe\n",
      "labial_artery\n",
      "crystalline_lens\n",
      "eye\n",
      "metatarsal_vein\n",
      "deltoid_tuberosity\n",
      "trichion\n",
      "elbow_bone\n",
      "conjunctiva\n",
      "body_hair\n",
      "optic_disk\n",
      "scalp\n",
      "human_head\n",
      "macula\n",
      "visual_purple\n",
      "cilium\n",
      "nasal_bone\n",
      "soft_palate\n",
      "fingertip\n",
      "lachrymal_gland\n",
      "supercilium\n",
      "vena_cephalica_accessoria\n",
      "turbinate\n",
      "lingua\n",
      "lash\n",
      "physiognomy\n",
      "anconeous_muscle\n",
      "palm\n",
      "neuroepithelium\n",
      "epicanthus\n",
      "arteria_ciliaris\n",
      "crazy_bone\n",
      "eyelid\n",
      "retinal_rod\n",
      "tear_gland\n",
      "chassis\n",
      "beard\n",
      "vena_metacarpus\n",
      "metatarsal_artery\n",
      "facial_vein\n",
      "great_toe\n",
      "mentum\n",
      "whiskers\n",
      "glossa\n",
      "nasal\n",
      "human_body\n",
      "metacarpus\n",
      "mustache\n",
      "heelbone\n",
      "roof_of_the_mouth\n",
      "articulatio_radiocarpea\n",
      "vena_basilica\n",
      "uveoscleral_pathway\n",
      "hard_palate\n",
      "carpal\n",
      "metacarpal_bone\n",
      "vena_intercapitalis\n",
      "vena_labialis\n",
      "crown\n",
      "physical_body\n",
      "venae_palpebrales\n",
      "flesh\n",
      "uvula\n",
      "carpal_tunnel\n",
      "ulnar_nerve\n",
      "retinal_purple\n",
      "elbow_joint\n",
      "foot\n",
      "optic\n",
      "velum\n",
      "tear_duct\n",
      "human_face\n",
      "phiz\n",
      "heel\n",
      "gustatory_cell\n",
      "soma\n",
      "calcaneus\n",
      "cheek_muscle\n",
      "kisser\n",
      "feature\n",
      "cortex\n",
      "pes\n",
      "gum\n",
      "tastebud\n",
      "turbinate_bone\n",
      "biceps_brachii\n",
      "macula_lutea\n",
      "poll\n",
      "iodopsin\n",
      "nostril\n",
      "figure\n",
      "brachial_artery\n",
      "deltoid_eminence\n",
      "lingual_artery\n",
      "arcuate_artery\n",
      "countenance\n",
      "forehead\n",
      "olfactory_organ\n",
      "facial_muscle\n",
      "eye_muscle\n",
      "fovea\n",
      "arteria_lingualis\n",
      "orb\n",
      "uvea\n",
      "eyeball\n",
      "jaw\n",
      "physique\n",
      "lineament\n",
      "lachrymal_duct\n",
      "wrist\n",
      "lacrimal_apparatus\n",
      "knuckle_joint\n",
      "parafovea\n",
      "face\n",
      "arteria_centralis_retinae\n",
      "cornea\n",
      "os_nasale\n",
      "vena_radialis\n",
      "sclerotic_coat\n",
      "bod\n",
      "pupil\n",
      "brow\n",
      "metacarpal_artery\n",
      "taste_bud\n",
      "vena_cephalica\n",
      "mane\n",
      "metacarpal\n",
      "metacarpophalangeal_joint\n",
      "cephalic_vein\n",
      "cheek\n",
      "teeth\n",
      "cubital_nerve\n",
      "pad\n",
      "retinal_cone\n",
      "oral_cavity\n",
      "lens_of_the_eye\n",
      "visage\n",
      "sclera\n",
      "lacrimal_duct\n",
      "dacryocyst\n",
      "blind_spot\n",
      "nasal_cavity\n",
      "nose\n",
      "human_elbow\n",
      "labial_vein\n",
      "radial_vein\n",
      "cubitus\n",
      "finger\n",
      "vena_facialis\n",
      "basilic_vein\n",
      "arteria_digitalis\n",
      "manus\n",
      "biceps_humeri\n",
      "wrist_joint\n",
      "nictitating_membrane\n",
      "metacarpal_vein\n",
      "material_body\n",
      "frame\n",
      "aperture\n",
      "mouth\n",
      "build\n",
      "musculus_buccinator\n",
      "oral_fissure\n",
      "paw\n",
      "cubital_joint\n",
      "rhinion\n",
      "radius\n",
      "knuckle\n",
      "arteria_arcuata\n",
      "rod\n",
      "fovea_centralis\n",
      "sole\n",
      "loin\n",
      "ulna\n",
      "arm_bone\n",
      "clapper\n",
      "gingiva\n",
      "toenail\n",
      "big_toe\n",
      "mitt\n",
      "forearm\n",
      "goatee\n",
      "ciliary_body\n",
      "olecranon\n",
      "mug\n",
      "lacrimal_vein\n",
      "thenar\n",
      "ethmoidal_artery\n",
      "palate\n",
      "spittle\n",
      "articulatio_cubiti\n",
      "lumbus\n",
      "vena_lingualis\n"
     ]
    }
   ],
   "source": [
    "for lemma in human_parts_lemmas:\n",
    "    print(lemma.name())"
   ]
  },
  {
   "cell_type": "markdown",
   "metadata": {},
   "source": [
    "### Entailment"
   ]
  },
  {
   "cell_type": "markdown",
   "metadata": {},
   "source": [
    "There are also relationships between verbs. For example, the act of walking involves the act of stepping, so walking **entails** stepping. Some verbs have multiple entailments:"
   ]
  },
  {
   "cell_type": "code",
   "execution_count": 42,
   "metadata": {},
   "outputs": [
    {
     "data": {
      "text/plain": [
       "[Synset('step.v.01')]"
      ]
     },
     "execution_count": 42,
     "metadata": {},
     "output_type": "execute_result"
    }
   ],
   "source": [
    "wn.synset('walk.v.01').entailments()"
   ]
  },
  {
   "cell_type": "code",
   "execution_count": 43,
   "metadata": {},
   "outputs": [
    {
     "data": {
      "text/plain": [
       "[Synset('chew.v.01'), Synset('swallow.v.01')]"
      ]
     },
     "execution_count": 43,
     "metadata": {},
     "output_type": "execute_result"
    }
   ],
   "source": [
    "wn.synset('eat.v.01').entailments()"
   ]
  },
  {
   "cell_type": "code",
   "execution_count": 44,
   "metadata": {},
   "outputs": [
    {
     "data": {
      "text/plain": [
       "[Synset('arouse.v.07'), Synset('disappoint.v.01')]"
      ]
     },
     "execution_count": 44,
     "metadata": {},
     "output_type": "execute_result"
    }
   ],
   "source": [
    "wn.synset('tease.v.03').entailments()"
   ]
  },
  {
   "cell_type": "markdown",
   "metadata": {},
   "source": [
    "### Antonyms"
   ]
  },
  {
   "cell_type": "markdown",
   "metadata": {},
   "source": [
    "Some lexical relationships hold between lemmas, e.g., **antonymy**:"
   ]
  },
  {
   "cell_type": "code",
   "execution_count": 45,
   "metadata": {},
   "outputs": [
    {
     "data": {
      "text/plain": [
       "[Lemma('demand.n.02.demand')]"
      ]
     },
     "execution_count": 45,
     "metadata": {},
     "output_type": "execute_result"
    }
   ],
   "source": [
    "wn.lemma('supply.n.02.supply').antonyms()"
   ]
  },
  {
   "cell_type": "code",
   "execution_count": 46,
   "metadata": {},
   "outputs": [
    {
     "data": {
      "text/plain": [
       "[Lemma('linger.v.04.linger')]"
      ]
     },
     "execution_count": 46,
     "metadata": {},
     "output_type": "execute_result"
    }
   ],
   "source": [
    "wn.lemma('rush.v.01.rush').antonyms()"
   ]
  },
  {
   "cell_type": "code",
   "execution_count": 47,
   "metadata": {},
   "outputs": [
    {
     "data": {
      "text/plain": [
       "[Lemma('vertical.a.01.vertical'), Lemma('inclined.a.02.inclined')]"
      ]
     },
     "execution_count": 47,
     "metadata": {},
     "output_type": "execute_result"
    }
   ],
   "source": [
    "wn.lemma('horizontal.a.01.horizontal').antonyms()"
   ]
  },
  {
   "cell_type": "code",
   "execution_count": 48,
   "metadata": {},
   "outputs": [
    {
     "data": {
      "text/plain": [
       "[Lemma('legato.r.01.legato')]"
      ]
     },
     "execution_count": 48,
     "metadata": {},
     "output_type": "execute_result"
    }
   ],
   "source": [
    "wn.lemma('staccato.r.01.staccato').antonyms()"
   ]
  },
  {
   "cell_type": "markdown",
   "metadata": {},
   "source": [
    "You can see the (numerous!) lexical relations, and the other methods defined on a synset, using dir(), for example: dir(wn.synset('harmony.n.02'))."
   ]
  },
  {
   "cell_type": "code",
   "execution_count": 49,
   "metadata": {},
   "outputs": [
    {
     "name": "stdout",
     "output_type": "stream",
     "text": [
      "['__class__', '__delattr__', '__dict__', '__dir__', '__doc__', '__eq__', '__format__', '__ge__', '__getattribute__', '__gt__', '__hash__', '__init__', '__init_subclass__', '__le__', '__lt__', '__module__', '__ne__', '__new__', '__reduce__', '__reduce_ex__', '__repr__', '__setattr__', '__sizeof__', '__slots__', '__str__', '__subclasshook__', '__unicode__', '__weakref__', '_all_hypernyms', '_definition', '_examples', '_frame_ids', '_hypernyms', '_instance_hypernyms', '_iter_hypernym_lists', '_lemma_names', '_lemma_pointers', '_lemmas', '_lexname', '_max_depth', '_min_depth', '_name', '_needs_root', '_offset', '_pointers', '_pos', '_related', '_shortest_hypernym_paths', '_wordnet_corpus_reader', 'also_sees', 'attributes', 'causes', 'closure', 'common_hypernyms', 'definition', 'entailments', 'examples', 'frame_ids', 'hypernym_distances', 'hypernym_paths', 'hypernyms', 'hyponyms', 'instance_hypernyms', 'instance_hyponyms', 'jcn_similarity', 'lch_similarity', 'lemma_names', 'lemmas', 'lexname', 'lin_similarity', 'lowest_common_hypernyms', 'max_depth', 'member_holonyms', 'member_meronyms', 'min_depth', 'name', 'offset', 'part_holonyms', 'part_meronyms', 'path_similarity', 'pos', 'region_domains', 'res_similarity', 'root_hypernyms', 'shortest_path_distance', 'similar_tos', 'substance_holonyms', 'substance_meronyms', 'topic_domains', 'tree', 'unicode_repr', 'usage_domains', 'verb_groups', 'wup_similarity']\n"
     ]
    }
   ],
   "source": [
    "print(dir(wn.synset('harmony.n.02')))"
   ]
  },
  {
   "cell_type": "markdown",
   "metadata": {},
   "source": [
    "### Semantic similarity\n",
    "\n",
    "We have seen that synsets are linked by a complex network of lexical relations. Given a particular synset, we can traverse the WordNet network to find synsets with related meanings. Knowing which words are semantically related is useful for indexing a collection of texts, so that a search for a general term like vehicle will match documents containing specific terms like limousine.\n",
    "\n",
    "Recall that each synset has one or more hypernym paths that link it to a root hypernym such as entity.n.01. Two synsets linked to the same root may have several hypernyms in common. If two synsets share a very specific hypernym — one that is low down in the hypernym hierarchy — they must be closely related."
   ]
  },
  {
   "cell_type": "code",
   "execution_count": 52,
   "metadata": {},
   "outputs": [],
   "source": [
    "right = wn.synset('right_whale.n.01')\n",
    "orca = wn.synset('orca.n.01')\n",
    "minke = wn.synset('minke_whale.n.01')\n",
    "tortoise = wn.synset('tortoise.n.01')\n",
    "novel = wn.synset('novel.n.01')"
   ]
  },
  {
   "cell_type": "code",
   "execution_count": 53,
   "metadata": {},
   "outputs": [
    {
     "data": {
      "text/plain": [
       "[Synset('baleen_whale.n.01')]"
      ]
     },
     "execution_count": 53,
     "metadata": {},
     "output_type": "execute_result"
    }
   ],
   "source": [
    "right.lowest_common_hypernyms(minke)"
   ]
  },
  {
   "cell_type": "code",
   "execution_count": 54,
   "metadata": {},
   "outputs": [
    {
     "data": {
      "text/plain": [
       "[Synset('whale.n.02')]"
      ]
     },
     "execution_count": 54,
     "metadata": {},
     "output_type": "execute_result"
    }
   ],
   "source": [
    "right.lowest_common_hypernyms(orca)"
   ]
  },
  {
   "cell_type": "code",
   "execution_count": 55,
   "metadata": {},
   "outputs": [
    {
     "data": {
      "text/plain": [
       "[Synset('vertebrate.n.01')]"
      ]
     },
     "execution_count": 55,
     "metadata": {},
     "output_type": "execute_result"
    }
   ],
   "source": [
    "right.lowest_common_hypernyms(tortoise)"
   ]
  },
  {
   "cell_type": "code",
   "execution_count": 56,
   "metadata": {},
   "outputs": [
    {
     "data": {
      "text/plain": [
       "[Synset('entity.n.01')]"
      ]
     },
     "execution_count": 56,
     "metadata": {},
     "output_type": "execute_result"
    }
   ],
   "source": [
    "right.lowest_common_hypernyms(novel)"
   ]
  },
  {
   "cell_type": "markdown",
   "metadata": {},
   "source": [
    "Of course we know that whale is very specific (and baleen whale even more so), while vertebrate is more general and entity is completely general. We can quantify this concept of generality by looking up the depth of each synset:"
   ]
  },
  {
   "cell_type": "code",
   "execution_count": 57,
   "metadata": {},
   "outputs": [
    {
     "data": {
      "text/plain": [
       "14"
      ]
     },
     "execution_count": 57,
     "metadata": {},
     "output_type": "execute_result"
    }
   ],
   "source": [
    "rwhale_minke = right.lowest_common_hypernyms(minke)\n",
    "rwhale_minke[0].min_depth()"
   ]
  },
  {
   "cell_type": "code",
   "execution_count": 58,
   "metadata": {},
   "outputs": [
    {
     "data": {
      "text/plain": [
       "13"
      ]
     },
     "execution_count": 58,
     "metadata": {},
     "output_type": "execute_result"
    }
   ],
   "source": [
    "rwhale_orca = right.lowest_common_hypernyms(orca)\n",
    "rwhale_orca[0].min_depth()"
   ]
  },
  {
   "cell_type": "code",
   "execution_count": 59,
   "metadata": {},
   "outputs": [
    {
     "data": {
      "text/plain": [
       "8"
      ]
     },
     "execution_count": 59,
     "metadata": {},
     "output_type": "execute_result"
    }
   ],
   "source": [
    "rwhale_vertebrate = right.lowest_common_hypernyms(tortoise)\n",
    "rwhale_vertebrate[0].min_depth()"
   ]
  },
  {
   "cell_type": "code",
   "execution_count": 60,
   "metadata": {},
   "outputs": [
    {
     "data": {
      "text/plain": [
       "0"
      ]
     },
     "execution_count": 60,
     "metadata": {},
     "output_type": "execute_result"
    }
   ],
   "source": [
    "rwhale_novel = right.lowest_common_hypernyms(novel)\n",
    "rwhale_novel[0].min_depth()"
   ]
  },
  {
   "cell_type": "markdown",
   "metadata": {},
   "source": [
    "Similarity measures have been defined over the collection of WordNet synsets which incorporate the above insight. For example, path_similarity assigns a score in the range 0–1 based on the shortest path that connects the concepts in the hypernym hierarchy (-1 is returned in those cases where a path cannot be found). Comparing a synset with itself will return 1. Consider the following similarity scores, relating right whale to minke whale, orca, tortoise, and novel. Although the numbers won't mean much, they decrease as we move away from the semantic space of sea creatures to inanimate objects."
   ]
  },
  {
   "cell_type": "code",
   "execution_count": 61,
   "metadata": {},
   "outputs": [
    {
     "name": "stdout",
     "output_type": "stream",
     "text": [
      "Right whale - Minke : 0.25\n",
      "Right whale - Orca : 0.16666666666666666\n",
      "Right whale - Tortoise : 0.07692307692307693\n",
      "Right whale - Novel : 0.043478260869565216\n"
     ]
    }
   ],
   "source": [
    "print(\"Right whale - Minke :\", right.path_similarity(minke))\n",
    "print(\"Right whale - Orca :\", right.path_similarity(orca))\n",
    "print(\"Right whale - Tortoise :\", right.path_similarity(tortoise))\n",
    "print(\"Right whale - Novel :\", right.path_similarity(novel))"
   ]
  },
  {
   "cell_type": "code",
   "execution_count": null,
   "metadata": {},
   "outputs": [],
   "source": []
  },
  {
   "cell_type": "code",
   "execution_count": null,
   "metadata": {},
   "outputs": [],
   "source": []
  }
 ],
 "metadata": {
  "kernelspec": {
   "display_name": "Python 3",
   "language": "python",
   "name": "python3"
  },
  "language_info": {
   "codemirror_mode": {
    "name": "ipython",
    "version": 3
   },
   "file_extension": ".py",
   "mimetype": "text/x-python",
   "name": "python",
   "nbconvert_exporter": "python",
   "pygments_lexer": "ipython3",
   "version": "3.6.5"
  }
 },
 "nbformat": 4,
 "nbformat_minor": 1
}
