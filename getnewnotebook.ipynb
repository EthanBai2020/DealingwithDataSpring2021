{
 "cells": [
  {
   "cell_type": "code",
   "execution_count": 4,
   "metadata": {},
   "outputs": [
    {
     "name": "stdout",
     "output_type": "stream",
     "text": [
      "  % Total    % Received % Xferd  Average Speed   Time    Time     Time  Current\n",
      "                                 Dload  Upload   Total   Spent    Left  Speed\n",
      "100 91783  100 91783    0     0   684k      0 --:--:-- --:--:-- --:--:--  684k\n"
     ]
    }
   ],
   "source": [
    "\n",
    "\n",
    "!curl http://pages.stern.nyu.edu/~nwhite/DealingwithDataFall2017/B-Fetching_Data_Using_CURL.ipynb -o new.ipynb\n",
    "    \n",
    "    "
   ]
  },
  {
   "cell_type": "code",
   "execution_count": 5,
   "metadata": {},
   "outputs": [
    {
     "name": "stdout",
     "output_type": "stream",
     "text": [
      "1-UNIX_Basics\t\t  8-Visualization  README.md\r\n",
      "2-Introduction_to_Python  9-Big_data\t   start_jupyter.sh\r\n",
      "3-SQL\t\t\t  Beta\t\t   stop_jupyter.sh\r\n",
      "4-WebAPIs_Crawling\t  data\t\t   sync_notebooks.sh\r\n",
      "5-Regular_Expressions\t  DATA_SOURCES.md  Test of grabbing a notebook.ipynb\r\n",
      "6-Pandas\t\t  LICENSE\t   upgrade_linux.sh\r\n",
      "7-TextMining_NLP\t  new.ipynb\t   upgrade_python.sh\r\n"
     ]
    }
   ],
   "source": [
    "!ls"
   ]
  },
  {
   "cell_type": "code",
   "execution_count": null,
   "metadata": {
    "collapsed": true
   },
   "outputs": [],
   "source": []
  }
 ],
 "metadata": {
  "kernelspec": {
   "display_name": "Python 3",
   "language": "python",
   "name": "python3"
  },
  "language_info": {
   "codemirror_mode": {
    "name": "ipython",
    "version": 3
   },
   "file_extension": ".py",
   "mimetype": "text/x-python",
   "name": "python",
   "nbconvert_exporter": "python",
   "pygments_lexer": "ipython3",
   "version": "3.5.2"
  }
 },
 "nbformat": 4,
 "nbformat_minor": 2
}
