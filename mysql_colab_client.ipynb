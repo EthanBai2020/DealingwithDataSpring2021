{
  "nbformat": 4,
  "nbformat_minor": 0,
  "metadata": {
    "colab": {
      "name": "mysql_colab_client.ipynb",
      "provenance": [],
      "include_colab_link": true
    },
    "kernelspec": {
      "name": "python3",
      "display_name": "Python 3"
    }
  },
  "cells": [
    {
      "cell_type": "markdown",
      "metadata": {
        "id": "view-in-github",
        "colab_type": "text"
      },
      "source": [
        "<a href=\"https://colab.research.google.com/github/nhwhite212/DealingwithDataSpring2021/blob/colab/mysql_colab_client.ipynb\" target=\"_parent\"><img src=\"https://colab.research.google.com/assets/colab-badge.svg\" alt=\"Open In Colab\"/></a>"
      ]
    },
    {
      "cell_type": "markdown",
      "metadata": {
        "id": "XYVQxDWgBgtV"
      },
      "source": [
        "# **Connecting to a remote mysql database from COLAB**\r\n",
        "#### This notebook has examples of how to connect to remote mysql databases from google colab:\r\n",
        "## It will first connect to the Panos Ipeirotis Mysql Server which houses a number of sample databases. This server is actually running in the Googe Cloud. We only have read-only access to it, so we can't add databases or create and modify databases.\r\n",
        "### The second server is running in the Stern Cloud, and is also a mysql server.\r\n",
        "####  Each team will get an account on this server, so they can create and store tables.\r\n"
      ]
    },
    {
      "cell_type": "markdown",
      "metadata": {
        "id": "KJyYVqElB3ry"
      },
      "source": [
        "## First, make sure all the required software is installed.\r\n",
        "### We need to install the linux mysqlclient libraries on our linux system, and the  python mysqlclient libraries are installed\r\n",
        "#### Unfortunately, we need to do this for every colab session."
      ]
    },
    {
      "cell_type": "code",
      "metadata": {
        "id": "LavDUrJc9CsJ",
        "colab": {
          "base_uri": "https://localhost:8080/"
        },
        "outputId": "65294cb9-9ecf-4971-e279-50868d31f1b5"
      },
      "source": [
        "# install the required linux support needed by the python libraries\n",
        "!sudo apt-get install python3-dev default-libmysqlclient-dev\n",
        "# Next install the python mysql support\n",
        "!pip install mysqlclient"
      ],
      "execution_count": 16,
      "outputs": [
        {
          "output_type": "stream",
          "text": [
            "Reading package lists... Done\n",
            "Building dependency tree       \n",
            "Reading state information... Done\n",
            "default-libmysqlclient-dev is already the newest version (1.0.4).\n",
            "python3-dev is already the newest version (3.6.7-1~18.04).\n",
            "0 upgraded, 0 newly installed, 0 to remove and 16 not upgraded.\n",
            "Requirement already satisfied: mysqlclient in /usr/local/lib/python3.6/dist-packages (2.0.3)\n"
          ],
          "name": "stdout"
        }
      ]
    },
    {
      "cell_type": "code",
      "metadata": {
        "id": "Pn9FFgBZ6xwP",
        "colab": {
          "base_uri": "https://localhost:8080/"
        },
        "outputId": "77d39cc9-e3dd-452a-e214-14a28cccbf91"
      },
      "source": [
        "# We also need the sqlalchemy package for python\r\n",
        "!pip3 install sqlalchemy"
      ],
      "execution_count": 17,
      "outputs": [
        {
          "output_type": "stream",
          "text": [
            "Requirement already satisfied: sqlalchemy in /usr/local/lib/python3.6/dist-packages (1.3.22)\n"
          ],
          "name": "stdout"
        }
      ]
    },
    {
      "cell_type": "markdown",
      "metadata": {
        "id": "T09Sc--JCE28"
      },
      "source": [
        "## Then , we should be able to use familiar tools"
      ]
    },
    {
      "cell_type": "code",
      "metadata": {
        "id": "SRO_EaT_62lp"
      },
      "source": [
        "from sqlalchemy import create_engine"
      ],
      "execution_count": null,
      "outputs": []
    },
    {
      "cell_type": "code",
      "metadata": {
        "id": "L1qHwt4r6-BL"
      },
      "source": [
        "conn_string_imdb = 'mysql://{user}:{password}@{host}:{port}/{db}?charset=utf8'.format(\n",
        "    user='student', \n",
        "    password='dwdstudent2015', \n",
        "    host = 'db.ipeirotis.org', \n",
        "    port=3306, \n",
        "    db='imdb',\n",
        "    encoding = 'utf-8'\n",
        ")\n",
        "engine_imdb = create_engine(conn_string_imdb)\n"
      ],
      "execution_count": null,
      "outputs": []
    },
    {
      "cell_type": "markdown",
      "metadata": {
        "id": "VVSq2YGACj08"
      },
      "source": [
        "### next install the sql magic code python library .\r\n",
        "### so we can type sql queries in a code cell"
      ]
    },
    {
      "cell_type": "code",
      "metadata": {
        "id": "YO1lSKS99BEu"
      },
      "source": [
        "!sudo pip install sql_magic"
      ],
      "execution_count": null,
      "outputs": []
    },
    {
      "cell_type": "code",
      "metadata": {
        "id": "hU0iI5El7EQj"
      },
      "source": [
        "# Load in the sql_magic support for our notebook\r\n",
        "%reload_ext sql_magic"
      ],
      "execution_count": null,
      "outputs": []
    },
    {
      "cell_type": "markdown",
      "metadata": {
        "id": "IJoyCMdAC2sp"
      },
      "source": [
        "## Now, configure a connection to the google database server"
      ]
    },
    {
      "cell_type": "code",
      "metadata": {
        "id": "yskb92eE-rY7"
      },
      "source": [
        "%config SQL.conn_name = 'engine_imdb'"
      ],
      "execution_count": null,
      "outputs": []
    },
    {
      "cell_type": "markdown",
      "metadata": {
        "id": "BGD7ASJUC_nt"
      },
      "source": [
        "# Now we are ready to just an sql queries into our notebook cell and it will be executed\r\n",
        "###  Just put %% in front of the read_sql command"
      ]
    },
    {
      "cell_type": "code",
      "metadata": {
        "id": "jMl74F3e-UR0"
      },
      "source": [
        "%%read_sql\n",
        "# Let's see what databases are on this server\n",
        "show databases\n"
      ],
      "execution_count": null,
      "outputs": []
    },
    {
      "cell_type": "code",
      "metadata": {
        "id": "VjDzuhSz-odV"
      },
      "source": [
        "# the %% read_sql reads multiline sql commands\n",
        "%%read_sql \n",
        "# What is the table definition for the actors table?\n",
        " describe actors"
      ],
      "execution_count": null,
      "outputs": []
    },
    {
      "cell_type": "code",
      "metadata": {
        "id": "m58mHQAkDakI"
      },
      "source": [
        "# The %read_sql command reads a 1 line sql query\r\n",
        "%read_sql select count(*) from actors;"
      ],
      "execution_count": null,
      "outputs": []
    },
    {
      "cell_type": "markdown",
      "metadata": {
        "id": "TqT3cqNWDmxo"
      },
      "source": [
        "# Now lets switch to another mysql server, this is the class server at bigdata.stern.nyu.edu  "
      ]
    },
    {
      "cell_type": "code",
      "metadata": {
        "id": "hsC8YZhc_S8w"
      },
      "source": [
        "conn_string_big = 'mysql://{user}:{password}@{host}:{port}/{db}?charset=utf8'.format(\n",
        "    user='DealingS21', \n",
        "    password='DealingS21!!', \n",
        "    host = 'bigdata.scrc.nyu.edu', \n",
        "    port=3306, \n",
        "    db='DealingS21',\n",
        "    encoding = 'utf-8'\n",
        ")\n",
        "# call this connection engine_big\n",
        "engine_bigdata = create_engine(conn_string_big)\n"
      ],
      "execution_count": null,
      "outputs": []
    },
    {
      "cell_type": "code",
      "metadata": {
        "id": "H7Pmpj0CAR0d"
      },
      "source": [
        "# Tell sql magic the connection to use (see the last line in the previous cell)\r\n",
        "%config SQL.conn_name = 'engine_bigdata'"
      ],
      "execution_count": null,
      "outputs": []
    },
    {
      "cell_type": "code",
      "metadata": {
        "id": "LGgzeja5_uuc"
      },
      "source": [
        "%%read_sql\n",
        "show databases"
      ],
      "execution_count": null,
      "outputs": []
    },
    {
      "cell_type": "code",
      "metadata": {
        "id": "Sjks05nT_zgs"
      },
      "source": [
        "%read_sql show tables"
      ],
      "execution_count": null,
      "outputs": []
    },
    {
      "cell_type": "code",
      "metadata": {
        "id": "8HYdpAJfEOJ7"
      },
      "source": [
        "%read_sql select count(*) from citibike.Stations"
      ],
      "execution_count": null,
      "outputs": []
    },
    {
      "cell_type": "markdown",
      "metadata": {
        "id": "90ofP2-KEe0Q"
      },
      "source": [
        "#   \n",
        "#   \n",
        "#   ALL DONE! We can connect to remote mysql databases from colab, and issue sql queries.\n",
        "#  "
      ]
    },
    {
      "cell_type": "markdown",
      "metadata": {
        "id": "KGQJlmGxNHwR"
      },
      "source": [
        ""
      ]
    },
    {
      "cell_type": "markdown",
      "metadata": {
        "id": "IpWeaWwWNsn1"
      },
      "source": [
        "# And we can also connect directly from python..."
      ]
    },
    {
      "cell_type": "code",
      "metadata": {
        "id": "lzrLfeYJNyzs"
      },
      "source": [
        ""
      ],
      "execution_count": null,
      "outputs": []
    }
  ]
}