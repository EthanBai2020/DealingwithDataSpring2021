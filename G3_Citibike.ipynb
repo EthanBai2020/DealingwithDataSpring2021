{
  "nbformat": 4,
  "nbformat_minor": 0,
  "metadata": {
    "kernelspec": {
      "display_name": "Python 3",
      "language": "python",
      "name": "python3"
    },
    "language_info": {
      "codemirror_mode": {
        "name": "ipython",
        "version": 3
      },
      "file_extension": ".py",
      "mimetype": "text/x-python",
      "name": "python",
      "nbconvert_exporter": "python",
      "pygments_lexer": "ipython3",
      "version": "3.6.8"
    },
    "colab": {
      "name": "G3-Citibike.ipynb",
      "provenance": [],
      "collapsed_sections": [],
      "include_colab_link": true
    }
  },
  "cells": [
    {
      "cell_type": "markdown",
      "metadata": {
        "id": "view-in-github",
        "colab_type": "text"
      },
      "source": [
        "<a href=\"https://colab.research.google.com/github/nhwhite212/DealingwithDataSpring2021/blob/colab/G3_Citibike.ipynb\" target=\"_parent\"><img src=\"https://colab.research.google.com/assets/colab-badge.svg\" alt=\"Open In Colab\"/></a>"
      ]
    },
    {
      "cell_type": "code",
      "metadata": {
        "id": "GIG5HMR7M1n4"
      },
      "source": [
        "import requests\r\n",
        "!sudo apt-get install python3-dev default-libmysqlclient-dev\r\n",
        "!pip3 -q install mysqlclient\r\n",
        "!pip3 -q install sql_magic\r\n",
        "!pip3 -q install sqlalchemy"
      ],
      "execution_count": null,
      "outputs": []
    },
    {
      "cell_type": "code",
      "metadata": {
        "id": "FSdzJ1OgM1n6"
      },
      "source": [
        "# This gives information for each station that remains stable over time\n",
        "url_stations = 'https://gbfs.citibikenyc.com/gbfs/en/station_information.json'\n",
        "\n",
        "# This gives the live status of all the stations (e.g., bikes available etc)\n",
        "url_status = 'https://gbfs.citibikenyc.com/gbfs/en/station_status.json'"
      ],
      "execution_count": null,
      "outputs": []
    },
    {
      "cell_type": "code",
      "metadata": {
        "id": "Pzn7U140M1n8"
      },
      "source": [
        "# We fetch for now just the time-invariant data\n",
        "results = requests.get(url_stations).json() "
      ],
      "execution_count": null,
      "outputs": []
    },
    {
      "cell_type": "code",
      "metadata": {
        "id": "4CVG6v7EM1n9"
      },
      "source": [
        "# We only need a subset of the data in the JSON returned by the Citibike API, so we keep only what we need\n",
        "data = results[\"data\"][\"stations\"]"
      ],
      "execution_count": null,
      "outputs": []
    },
    {
      "cell_type": "code",
      "metadata": {
        "id": "dFLJkrLDM1n9"
      },
      "source": [
        "# We will not be using dataframes for this insertion task. (See the G2 notebook if you want to use Pandas)\n",
        "# We just put the data in a dataframe to understand what is going on.\n",
        "import pandas as pd\n",
        "df = pd.DataFrame(data)\n",
        "df.head(5)"
      ],
      "execution_count": null,
      "outputs": []
    },
    {
      "cell_type": "code",
      "metadata": {
        "id": "QpwFq0piM1n_"
      },
      "source": [
        "# Now, let's connect to our database, where we will store our data.\n",
        "\n",
        "from sqlalchemy import create_engine\n",
        "#\n",
        "# Note, the user can use their own userid and database\n",
        "# i.e DealingS21GBx   where x is your team number...\n",
        "\n",
        "conn_string_big = 'mysql://{user}:{password}@{host}/'.format(\n",
        "    user='DealingS21',\n",
        "    password='DealingS21!!',\n",
        "    host='bigdata.stern.nyu.edu',\n",
        "    port=3306,\n",
        "    db='DealingS21',\n",
        "    encoding='utf-8')\n",
        "\n",
        "\n",
        "engine_bigdata = create_engine(conn_string_big)\n"
      ],
      "execution_count": null,
      "outputs": []
    },
    {
      "cell_type": "code",
      "metadata": {
        "id": "kTQHnvMvTabn"
      },
      "source": [
        "!sudo pip -q install sql_magic"
      ],
      "execution_count": null,
      "outputs": []
    },
    {
      "cell_type": "code",
      "metadata": {
        "id": "hdEXPBLBVh7e"
      },
      "source": [
        "%reload_ext sql_magic"
      ],
      "execution_count": null,
      "outputs": []
    },
    {
      "cell_type": "code",
      "metadata": {
        "id": "mvGDx6tiSQcN"
      },
      "source": [
        "%config SQL.conn_name='engine_bigdata'\r\n"
      ],
      "execution_count": null,
      "outputs": []
    },
    {
      "cell_type": "code",
      "metadata": {
        "id": "sYiKRowQTZb3"
      },
      "source": [
        "from sqlalchemy import create_engine"
      ],
      "execution_count": null,
      "outputs": []
    },
    {
      "cell_type": "code",
      "metadata": {
        "id": "kgfVUjZ9TBJn"
      },
      "source": [
        "%reload_ext sql_magic"
      ],
      "execution_count": null,
      "outputs": []
    },
    {
      "cell_type": "code",
      "metadata": {
        "id": "n3XD8u8QWxLi"
      },
      "source": [
        "%config SQL.conn_name = 'engine_bigdata'"
      ],
      "execution_count": null,
      "outputs": []
    },
    {
      "cell_type": "code",
      "metadata": {
        "id": "ikOag4htSkdM"
      },
      "source": [
        "%%read_sql\r\n",
        "show databases"
      ],
      "execution_count": null,
      "outputs": []
    },
    {
      "cell_type": "code",
      "metadata": {
        "id": "C_kslaKkM1oA"
      },
      "source": [
        "# This will be the name of our database.\n",
        "db_name = 'citibike'"
      ],
      "execution_count": null,
      "outputs": []
    },
    {
      "cell_type": "code",
      "metadata": {
        "id": "uikz4XaNWso6"
      },
      "source": [
        ""
      ],
      "execution_count": null,
      "outputs": []
    },
    {
      "cell_type": "code",
      "metadata": {
        "id": "sRnb5-xNM1oB"
      },
      "source": [
        "# Just bookkeeping. Drop the database if it is already there\n",
        "create_db_query = \"DROP DATABASE IF EXISTS {db}\".format(db=db_name)\n",
        "engine_bigdata.execute(create_db_query)"
      ],
      "execution_count": null,
      "outputs": []
    },
    {
      "cell_type": "code",
      "metadata": {
        "id": "RokBvY1PM1oB"
      },
      "source": [
        "# Run a query to create a database that will hold the data\n",
        "create_db_query = \"CREATE DATABASE IF NOT EXISTS {db} DEFAULT CHARACTER SET 'utf8'\".format(db=db_name)\n",
        "\n",
        "# Create a database\n",
        "engine_bigdata.execute(create_db_query)"
      ],
      "execution_count": null,
      "outputs": []
    },
    {
      "cell_type": "code",
      "metadata": {
        "id": "4VLVLOxnM1oC"
      },
      "source": [
        "# Create the two tables. One for storing the time-invariant station data\n",
        "# and another table to store the time-varying station status data\n",
        "table_name = 'Stations'\n",
        "create_table_query = '''CREATE TABLE IF NOT EXISTS {db}.{table} \n",
        "                                (station_id int, \n",
        "                                name varchar(250), \n",
        "                                capacity int,\n",
        "                                lat float,\n",
        "                                lon float,\n",
        "                                region_id int,\n",
        "                                short_name varchar(250),\n",
        "                                rental_url varchar(250),\n",
        "                                eightd_has_key_dispenser bool,\n",
        "                                PRIMARY KEY(station_id)\n",
        "                                )'''.format(db=db_name, table=table_name)\n",
        "engine_bigdata.execute(create_table_query)"
      ],
      "execution_count": null,
      "outputs": []
    },
    {
      "cell_type": "code",
      "metadata": {
        "id": "VqqeyNT-M1oD"
      },
      "source": [
        "results = requests.get(url_stations).json() \n",
        "data = results[\"data\"][\"stations\"]\n",
        "data[0]"
      ],
      "execution_count": null,
      "outputs": []
    },
    {
      "cell_type": "code",
      "metadata": {
        "id": "M_2T4AXFM1oE"
      },
      "source": [
        "# We fetch for now just the time-invariant data\n",
        "# Notice that we have the INSERT IGNORE so that even when we add the same entry\n",
        "# again, we do not get an error that the line exists. We do get warnings\n",
        "# but this is expected\n",
        "\n",
        "table_name = 'Stations'\n",
        "query_template = '''INSERT IGNORE INTO {db}.{table}(station_id, \n",
        "                                        name,\n",
        "                                        capacity, \n",
        "                                        lat, \n",
        "                                        lon,\n",
        "                                        region_id,\n",
        "                                        short_name,\n",
        "                                        rental_url,\n",
        "                                        eightd_has_key_dispenser) \n",
        "                    VALUES (%s, %s, %s, %s, %s, %s, %s, %s, %s)'''.format(db=db_name, table=table_name)\n",
        "\n",
        "for entry in data:\n",
        "    station_id = int(entry['station_id'])\n",
        "    name = entry['name']\n",
        "    capacity = entry['capacity']\n",
        "    lat = entry['lat']\n",
        "    lon = entry['lon']\n",
        "    region_id = entry.get('region_id')\n",
        "    short_name = entry['short_name']\n",
        "    rental_url = entry['rental_url']\n",
        "    eightd_has_key_dispenser = entry['eightd_has_key_dispenser']\n",
        "                       \n",
        "    print(\"Inserting station\", station_id, \"at\", name)\n",
        "    query_parameters = (station_id, name, capacity, lat, lon,\n",
        "                        region_id, short_name, rental_url, eightd_has_key_dispenser)\n",
        "    engine_bigdata.execute(query_template, query_parameters)\n"
      ],
      "execution_count": null,
      "outputs": []
    },
    {
      "cell_type": "code",
      "metadata": {
        "id": "DkdTet2NM1oE"
      },
      "source": [
        "check = pd.read_sql(\"SELECT * FROM citibike.Stations \", con=engine_bigdata)\n",
        "# Only print the first 21\n",
        "check[0:20]"
      ],
      "execution_count": null,
      "outputs": []
    },
    {
      "cell_type": "markdown",
      "metadata": {
        "id": "IouNtfnYM1oE"
      },
      "source": [
        "### plot the location of the stations, use the lon and lat and circles of size 10"
      ]
    },
    {
      "cell_type": "code",
      "metadata": {
        "id": "AuleQ-vSM1oF"
      },
      "source": [
        "%matplotlib inline\n",
        "check.plot(kind='scatter', x='lon', y='lat', s=10, figsize=(10,10))"
      ],
      "execution_count": null,
      "outputs": []
    },
    {
      "cell_type": "code",
      "metadata": {
        "id": "aT5JgvRiM1oF"
      },
      "source": [
        "# Create the time-varying table\n",
        "table_name = 'Status'\n",
        "create_table_query = '''CREATE TABLE IF NOT EXISTS {db}.{table} \n",
        "                                (station_id int, \n",
        "                                last_reported datetime,\n",
        "                                num_bikes_available int,\n",
        "                                num_bikes_disabled int,\n",
        "                                num_docks_available int,\n",
        "                                num_docks_disabled int,\n",
        "                                is_installed bool,\n",
        "                                is_renting bool,\n",
        "                                is_returning bool,\n",
        "                                eightd_has_available_keys bool,\n",
        "                                PRIMARY KEY(station_id, last_reported)\n",
        "                                )'''.format(db=db_name, table=table_name)\n",
        "engine_bigdata.execute(create_table_query)"
      ],
      "execution_count": null,
      "outputs": []
    },
    {
      "cell_type": "code",
      "metadata": {
        "id": "mzYmbflbM1oF"
      },
      "source": [
        "results = requests.get(url_status).json() \n",
        "data = results[\"data\"][\"stations\"]\n",
        "data[0]"
      ],
      "execution_count": null,
      "outputs": []
    },
    {
      "cell_type": "code",
      "metadata": {
        "id": "H_NO9gWVM1oF"
      },
      "source": [
        "# Now we fetch the data about the time varying elements of the citibike stations\n",
        "from datetime import datetime\n",
        "\n",
        "table_name = 'Status'\n",
        "query_template = '''INSERT IGNORE INTO {db}.{table}(station_id, \n",
        "                                            num_bikes_available,\n",
        "                                            num_bikes_disabled,\n",
        "                                            num_docks_available,\n",
        "                                            num_docks_disabled,\n",
        "                                            is_installed,\n",
        "                                            is_renting,\n",
        "                                            is_returning,\n",
        "                                            last_reported,\n",
        "                                            eightd_has_available_keys) \n",
        "                    VALUES (%s, %s, %s, %s, %s, %s, %s, %s, %s, %s)'''.format(db=db_name, table=table_name)\n",
        "\n",
        "for entry in data:\n",
        "    #print(entry)\n",
        "    station_id = int(entry['station_id'])\n",
        "    num_bikes_available = entry['num_bikes_available']\n",
        "    num_bikes_disabled = entry['num_bikes_disabled']\n",
        "    num_docks_available = entry['num_docks_available']\n",
        "    num_docks_disabled = entry['num_docks_disabled']\n",
        "    is_installed = entry['is_installed']\n",
        "    is_renting = entry['is_renting']\n",
        "    is_returning = entry['is_returning']\n",
        "    last_reported = datetime.fromtimestamp(entry['last_reported']) \n",
        "    eightd_has_available_keys = entry['eightd_has_available_keys']\n",
        "                       \n",
        "    #print(\"Inserting station\", station_id)\n",
        "    query_parameters = (station_id, num_bikes_available, num_bikes_disabled,\n",
        "                        num_docks_available, num_docks_disabled, is_installed, is_renting,\n",
        "                        is_returning, last_reported, eightd_has_available_keys)\n",
        "    engine_bigdata.execute(query_template, query_parameters)\n",
        "\n"
      ],
      "execution_count": null,
      "outputs": []
    },
    {
      "cell_type": "code",
      "metadata": {
        "id": "8tV4PHUTM1oG"
      },
      "source": [
        "check = pd.read_sql(\"SELECT * FROM citibike.Status\", con=engine_bigdata)\n",
        "check\n"
      ],
      "execution_count": null,
      "outputs": []
    },
    {
      "cell_type": "code",
      "metadata": {
        "id": "CR50yRa2M1oG"
      },
      "source": [
        "con.close()"
      ],
      "execution_count": null,
      "outputs": []
    },
    {
      "cell_type": "code",
      "metadata": {
        "id": "ueB0aA6xM1oH"
      },
      "source": [
        ""
      ],
      "execution_count": null,
      "outputs": []
    }
  ]
}