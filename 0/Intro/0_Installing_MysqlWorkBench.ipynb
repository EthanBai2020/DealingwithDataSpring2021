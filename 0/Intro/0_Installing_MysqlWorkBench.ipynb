{
  "nbformat": 4,
  "nbformat_minor": 0,
  "metadata": {
    "colab": {
      "name": "0-Installing MysqlWorkBench",
      "provenance": [],
      "authorship_tag": "ABX9TyOkG8HRYPFDuTghK9inNxRj",
      "include_colab_link": true
    },
    "kernelspec": {
      "name": "python3",
      "display_name": "Python 3"
    }
  },
  "cells": [
    {
      "cell_type": "markdown",
      "metadata": {
        "id": "view-in-github",
        "colab_type": "text"
      },
      "source": [
        "<a href=\"https://colab.research.google.com/github/nhwhite212/DealingwithDataSpring2021/blob/colab/0/Intro/0_Installing_MysqlWorkBench.ipynb\" target=\"_parent\"><img src=\"https://colab.research.google.com/assets/colab-badge.svg\" alt=\"Open In Colab\"/></a>"
      ]
    },
    {
      "cell_type": "markdown",
      "metadata": {
        "id": "1KQWDAjzJ5Ru"
      },
      "source": [
        "# Downloading, installing and testing Mysqlworkbench\r\n",
        "The following cells have instructions on downloading, installing and testing mysqlworkbench\r\n",
        "mysqlworkbench runs on your local machine, and allows you to:\r\n",
        "1. Query Remote databases, with help on correct SQL syntax.\r\n",
        "2. Develop Entity Relationship models\r\n",
        "3. Create ER diagrams for documentation.\r\n",
        "\r\n",
        "You will be using this tool during the section on databases, and in your final projects."
      ]
    },
    {
      "cell_type": "markdown",
      "metadata": {
        "id": "VNNeOfXtLCwG"
      },
      "source": [
        "### First: Download  MySqlWorkbench\n",
        "\n",
        "To install it on your machine, please go to http://dev.mysql.com/downloads/workbench/ and download the \"*MySQL Installer*\" for your machine. You can download the small installation file and then *install only the MySQL Workbench*.  (Please note that Oracle will try to get you to register before downloading the software. However, you do not need to register to download the tool: just select the \"_No thanks, just start my download._\" from the bottom of the page and the download will start.)\n",
        "\n",
        "\n",
        "\n",
        "### Second: Connect to the MySQL database  at db.iperiotis.org\n",
        "\n",
        "Once you have MySQL Workbench running on your machine, you can set it up to connect to the MySQL server which runs on your Linux machine. The steps:\n",
        "\n",
        "* Open the MySQL Workbench\n",
        "* Select \"Database\" => \"Manage Connections\" => \"New\"\n",
        "* Give a name to the connection, by filling in the \"Connection Name\" field (e.g., \"DealingPub\")\n",
        "* Put \"Hostname:\"  db.ipeirotis.org.\n",
        "* Keep \"Port: 3306\" and \"Username: student\"\n",
        "* Select \"Test Connection\". When asked for the password, enter \"dwdstudent2015\".\n",
        "* You should get back a message \"Connected to MySQL at db.iperiotis.org:3306\", \"Connection Parameters are correct, SSH not enabled\"\n",
        "* Close the dialog\n",
        "\n",
        "Now, to connect to the database, select the \"Database\" menu, then select your connection, and press \"OK\".\n",
        "\n",
        "### Third: Connect to our \"private \" server at bigdata.stern.nyu.edu.\n",
        "\n",
        "\n",
        "\n"
      ]
    },
    {
      "cell_type": "markdown",
      "metadata": {
        "id": "o-JkFAW1LMOR"
      },
      "source": [
        "\n",
        "* Select \"Database\" => \"Manage Connections\" => \"New\"\n",
        "* Give a name to the connection, by filling in the \"Connection Name\" field (e.g., \"DealingS21\")\n",
        "* Put \"Hostname:\"  bigdata.stern.nyu.edu\n",
        "* Keep \"Port: 3306\" and \"Username: DealingS21GBx\"   (where x is your team number)\n",
        "* Select \"Test Connection\". When asked for the password, enter \"DealingS21GBx!!\"   (again x is your team number.\n",
        "* You should get back a message \"Connected to MySQL at bigdata.stern.nyu.edu:3306\", \"Connection Parameters are correct, SSH not enabled\"\n",
        "* Close the dialog\n",
        "\n",
        "Now, to connect to the database, select the \"Database\" menu, then select your connection, and press \"OK\".\n",
        "\n",
        "\n",
        "\n",
        "\n",
        "\n"
      ]
    },
    {
      "cell_type": "markdown",
      "metadata": {
        "id": "f8tmdLyBQhGk"
      },
      "source": [
        "## You now have connections to two remote database servers, \r\n",
        "#### *DealingPub*, which has a number of tables we will be using as examples,\r\n",
        "#### and *DealingS21*,  where you have a private database for your team \r\n",
        "#### which you can use to create your own tables.\r\n",
        "##### Note: You can also install your own mysql server on your local machine if you \r\n",
        "##### If you do, you will need to know how to create mysql users."
      ]
    }
  ]
}