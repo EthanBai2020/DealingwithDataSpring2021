{
 "cells": [
  {
   "cell_type": "markdown",
   "metadata": {},
   "source": [
    "### Welcome to the Dealing with Data Class - Fall 2018 - Professor White\n",
    "This class will be taught using ipython notebooks (now called jupyter notebooks).\n",
    "These notebooks allow you to mix code, text and the output together. You should become familiar \n",
    "with the basics of these notebooks as soon as possible. Most of your assignments will be down \n",
    "using notebooks, and we will be using the notebooks in every class. We will be\n",
    "doing exercises together in class, so we can immediately see the results as well as \n",
    "have students ask questions about why the code does what it does.\n",
    "\n",
    "In addition, the code snippets can be used as part of homework assignments as well as final projects.\n",
    "\n"
   ]
  }
 ],
 "metadata": {
  "kernelspec": {
   "display_name": "Python 3",
   "language": "python",
   "name": "python3"
  },
  "language_info": {
   "codemirror_mode": {
    "name": "ipython",
    "version": 3
   },
   "file_extension": ".py",
   "mimetype": "text/x-python",
   "name": "python",
   "nbconvert_exporter": "python",
   "pygments_lexer": "ipython3",
   "version": "3.6.5"
  }
 },
 "nbformat": 4,
 "nbformat_minor": 2
}
