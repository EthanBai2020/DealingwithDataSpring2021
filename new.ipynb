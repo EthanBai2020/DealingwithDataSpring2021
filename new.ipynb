<!DOCTYPE HTML PUBLIC "-//IETF//DTD HTML 2.0//EN">
<html><head>
<title>404 Not Found</title>
</head><body>
<h1>Not Found</h1>
<p>The requested URL /~nwhite/DealingwithDataFall2017/B-Fetching_Data_Using_CURL.ipynb was not found on this server.</p>
<hr>
<address>Apache/2.2.15 (Red Hat) Server at pages.stern.nyu.edu Port 80</address>
</body></html>
