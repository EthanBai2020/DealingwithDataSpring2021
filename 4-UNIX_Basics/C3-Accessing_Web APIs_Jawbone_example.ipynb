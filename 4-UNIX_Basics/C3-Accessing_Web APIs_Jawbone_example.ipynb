{
 "cells": [
  {
   "cell_type": "markdown",
   "metadata": {},
   "source": [
    "### Accessing the Jawbone API using OAuth2"
   ]
  },
  {
   "cell_type": "markdown",
   "metadata": {},
   "source": [
    "Next, we will create the code that can interact with the Jawbone API. The Jawbone API documentation (https://jawbone.com/up/developer/) provides a [good explanation of the authentication process](https://jawbone.com/up/developer/authentication). \n",
    "\n",
    "Below, we implement the OAuth2 flow for the API. The code below will create the webserver that will handle the \"callback\" calls from the API. (Steps 3 and 4 from the figure above.) Then, we will show how to implement the rest of the flow."
   ]
  },
  {
   "cell_type": "code",
   "execution_count": 1,
   "metadata": {},
   "outputs": [],
   "source": [
    "# This part creates a temporary web server to \"receive\" the requests by Jawbone\n",
    "\n",
    "# In this cell, we just configure the server. We will start it, \n",
    "# using the command webserver.run(host='0.0.0.0') in the next cell\n",
    "\n",
    "# Flask is a webserver\n",
    "from flask import Flask, request\n",
    "\n",
    "# We will use that part to issue a request to Jawbone\n",
    "import requests\n",
    "import json\n",
    "\n",
    "\n",
    "\n",
    "# Get these after registering an app with Jawbone\n",
    "# These are to communicate to Jawbone that the requests come\n",
    "# from a legitimate, registered app\n",
    "CLIENT_ID = 'F3rPnz_fTUY'\n",
    "CLIENT_SECRET = 'efaedc99a6bc5fb40f4be3b8fb97c6b94a7eec58'\n",
    "\n",
    "# This is the location where we will store the authentication data from Jawbone\n",
    "OAUTH_FILE = '/home/ubuntu/data/jawbone_secret.json'\n",
    "\n",
    "# Initialize the embedded web server\n",
    "webserver = Flask(\"JawboneOAuth\")\n",
    "\n",
    "# The function below will implement the sole functionality of our server.\n",
    "# The Jawbone API will first authenticate the user and then direct the browser\n",
    "# to http://<your ip>:5000/receiveCode in order to send the code to the app.\n",
    "# \n",
    "# This is the place where the webserver will receive the call from Jawbone\n",
    "# with the authentication code (Step 3 in https://jawbone.com/up/developer/authentication)\n",
    "# Notice that we will use the http://<your ip>:5000/receiveCode address below as the redirect URI \n",
    "@webserver.route(\"/receiveCode\")\n",
    "def oauth_helper():\n",
    "    code = request.args.get('code')\n",
    "    \n",
    "    # Now that we got the code, we move to Step 4 of the instructions\n",
    "    # and request the access token from Jawbone. Notice that we \n",
    "    # use the client_secret to prove that the app is the real one\n",
    "    # that was registered with the Jawbone API\n",
    "    url = \"https://jawbone.com/auth/oauth2/token\"\n",
    "    params = {\"grant_type\": \"authorization_code\", \n",
    "              \"client_id\": CLIENT_ID, \n",
    "              \"client_secret\": CLIENT_SECRET, \n",
    "              \"code\": code }\n",
    "    resp = requests.get(url, params=params)\n",
    "    data = json.loads(resp.text)\n",
    "    \n",
    "    # We store the code in a file as the webserver does not interact with the \n",
    "    # rest of the Python code, and we also want to reuse the code in the future\n",
    "    # (Typically, we would store the access_token in a database.)\n",
    "    f = open(OAUTH_FILE, 'w') # Store the code as a file\n",
    "    f.write(resp.text)\n",
    "    f.close()\n",
    "    \n",
    "    # It is safe (and convenient) to shut down the web server after this request\n",
    "    stop_server()\n",
    "    \n",
    "    # What we return here has no real impact on the functionality of the code\n",
    "    return '<html><body>Code: <b>'+code+'</b><p>Response:<b>'+resp.text+'</b></body></html>'\n",
    "\n",
    "\n",
    "def start_server():\n",
    "    webserver.run(host='0.0.0.0', port=5000)\n",
    "    return\n",
    "    \n",
    "def stop_server():\n",
    "    shutdown_after_request = request.environ.get('werkzeug.server.shutdown')\n",
    "    shutdown_after_request()\n",
    "    return\n",
    "    \n"
   ]
  },
  {
   "cell_type": "markdown",
   "metadata": {},
   "source": [
    "So our server is ready to run now, and it's ready to accept the requests from Jawbone. In principle, we can write the code in the cell above in a separate Python script, and let it run in the background.\n",
    "\n",
    "Let's start the OAuth2 flow now, to first interact with the user and get the user to login and grant permissions. (Steps 1 and 2 of the figure above.)"
   ]
  },
  {
   "cell_type": "code",
   "execution_count": null,
   "metadata": {},
   "outputs": [
    {
     "name": "stdout",
     "output_type": "stream",
     "text": [
      " * Serving Flask app \"JawboneOAuth\" (lazy loading)\n",
      " * Environment: production\n",
      "   WARNING: This is a development server. Do not use it in a production deployment.\n",
      "   Use a production WSGI server instead.\n",
      " * Debug mode: off\n"
     ]
    },
    {
     "name": "stderr",
     "output_type": "stream",
     "text": [
      " * Running on http://0.0.0.0:5000/ (Press CTRL+C to quit)\n"
     ]
    },
    {
     "data": {
      "application/javascript": [
       "window.open('https://jawbone.com/auth/oauth2/auth?response_type=code&client_id=F3rPnz_fTUY&scope=basic_read extended_read sleep_read move_read&redirect_uri=http://ipython.ipeirotis.com:5000/receiveCode')"
      ],
      "text/plain": [
       "<IPython.core.display.Javascript object>"
      ]
     },
     "metadata": {},
     "output_type": "display_data"
    }
   ],
   "source": [
    "# To get the server to run in the background\n",
    "import threading\n",
    "\n",
    "# This part is required to come up with the pop-up with which Jawbone will ask for permissions\n",
    "from IPython.display import display\n",
    "from IPython.display import Javascript as JS\n",
    "\n",
    "\n",
    "# Send an OAuth request to Jawbone, handle the redirect, and display the access\n",
    "# token that's included in the redirect for the user to copy and paste\n",
    "REDIRECT_URI = 'http://ipython.ipeirotis.com:5000/receiveCode'\n",
    "JAWBONE_URL = 'https://jawbone.com/auth/oauth2/auth'\n",
    "PERMISSIONS = 'basic_read extended_read sleep_read move_read'\n",
    "\n",
    "url = (JAWBONE_URL + \n",
    "       '?response_type=code&client_id='+ CLIENT_ID + \n",
    "       '&scope=' + PERMISSIONS +\n",
    "       '&redirect_uri=' + REDIRECT_URI )\n",
    "\n",
    "# The code below is necessary to pop up the login window from Jawbone\n",
    "# The login still start in a separate thread, in order to allow the execution\n",
    "# to continue, and run the \"start_server()\" call below.\n",
    "threading.Timer(1, lambda: display(JS(\"window.open('%s')\" % url))).start()\n",
    "\n",
    "# And now start the webserver so that we can receive the answer from Jawbone API\n",
    "start_server()"
   ]
  },
  {
   "cell_type": "code",
   "execution_count": null,
   "metadata": {},
   "outputs": [],
   "source": [
    "# Read the access token from the file\n",
    "f = open(OAUTH_FILE, 'r') \n",
    "content = f.read()\n",
    "f.close()\n",
    "auth_info = json.loads(content)\n",
    "\n",
    "auth_info"
   ]
  },
  {
   "cell_type": "markdown",
   "metadata": {},
   "source": [
    "At this point we are pretty much done. We only need to send standard API calls, as usual, with the only addition being that we include an extra _header_ in the request, with the access_token. The code below is just showing various use cases of the API."
   ]
  },
  {
   "cell_type": "code",
   "execution_count": null,
   "metadata": {},
   "outputs": [],
   "source": [
    "# Testing another of the API endpoints\n",
    "endpoint = \"https://jawbone.com/nudge/api/v.1.1/users/@me/moves\"\n",
    "\n",
    "# See https://jawbone.com/up/developer/endpoints/moves for details\n",
    "params = {}\n",
    "headers = {'Authorization': 'Bearer ' + auth_info['access_token']}\n",
    "resp = requests.get(endpoint, params=params, headers=headers)\n",
    "moves_data = json.loads(resp.text)\n",
    "moves_data"
   ]
  },
  {
   "cell_type": "code",
   "execution_count": null,
   "metadata": {},
   "outputs": [],
   "source": [
    "import pandas as pd\n",
    "\n",
    "df = pd.DataFrame(moves_data[\"data\"][\"items\"])\n",
    "df"
   ]
  },
  {
   "cell_type": "code",
   "execution_count": null,
   "metadata": {},
   "outputs": [],
   "source": [
    "df_details = pd.DataFrame(list(df[\"details\"]))\n",
    "df_details"
   ]
  },
  {
   "cell_type": "code",
   "execution_count": null,
   "metadata": {},
   "outputs": [],
   "source": [
    "# Testing another of the API endpoints\n",
    "endpoint = \"https://jawbone.com/nudge/api/v.1.1/users/@me/sleeps\"\n",
    "\n",
    "# See https://jawbone.com/up/developer/endpoints/sleeps\n",
    "params = {}\n",
    "headers = {'Authorization': 'Bearer ' + auth_info['access_token']}\n",
    "resp = requests.get(endpoint, params=params, headers=headers)\n",
    "sleep_data = json.loads(resp.text)\n",
    "sleep_data"
   ]
  },
  {
   "cell_type": "code",
   "execution_count": null,
   "metadata": {},
   "outputs": [],
   "source": [
    "df = pd.DataFrame(sleep_data[\"data\"][\"items\"])\n",
    "df"
   ]
  },
  {
   "cell_type": "code",
   "execution_count": null,
   "metadata": {},
   "outputs": [],
   "source": [
    "df_details = pd.DataFrame(list(df[\"details\"]))\n",
    "df_details"
   ]
  },
  {
   "cell_type": "code",
   "execution_count": null,
   "metadata": {},
   "outputs": [],
   "source": [
    "df_details[\"asleep_time\"] = map(lambda x : datetime.datetime.fromtimestamp(x).strftime('%Y-%m-%d %H:%M:%S'), df_details[\"asleep_time\"])\n",
    "df_details[\"awake_time\"] = map(lambda x : datetime.datetime.fromtimestamp(x).strftime('%Y-%m-%d %H:%M:%S'), df_details[\"awake_time\"])\n",
    "df_details"
   ]
  },
  {
   "cell_type": "code",
   "execution_count": null,
   "metadata": {},
   "outputs": [],
   "source": []
  }
 ],
 "metadata": {
  "kernelspec": {
   "display_name": "Python 3",
   "language": "python",
   "name": "python3"
  },
  "language_info": {
   "codemirror_mode": {
    "name": "ipython",
    "version": 3
   },
   "file_extension": ".py",
   "mimetype": "text/x-python",
   "name": "python",
   "nbconvert_exporter": "python",
   "pygments_lexer": "ipython3",
   "version": "3.6.8"
  }
 },
 "nbformat": 4,
 "nbformat_minor": 1
}
