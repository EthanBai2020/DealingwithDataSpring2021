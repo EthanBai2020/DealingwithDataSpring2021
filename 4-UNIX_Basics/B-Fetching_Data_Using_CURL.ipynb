{
 "cells": [
  {
   "cell_type": "markdown",
   "metadata": {},
   "source": [
    "Getting Data using CURL\n",
    "-----------------------\n",
    "\n",
    "We now move into a more interesting topic: How to get data from Internet sources. For that, we will use a command-line tool of Unix, called `curl`. (Later in class, we will learn how to achieve the same using Python, but for quick testing, curl is often the standard method used.) We will also use a tool called `jq` to interact with JSON output. (Do not worry, we will revisit both these later in class.)\n",
    "\n",
    "_Often, curl and jq do not come preinstalled, so the first time that we use them, we need to issue the appropriate command for installing it.  To install it, simply type:_"
   ]
  },
  {
   "cell_type": "code",
   "execution_count": null,
   "metadata": {},
   "outputs": [],
   "source": [
    "#!sudo apt-get -y install curl\n",
    "#!sudo apt-get -y install jq"
   ]
  },
  {
   "cell_type": "markdown",
   "metadata": {},
   "source": [
    "Let's start by retrieving a simple text file, which we will use later in the class, to illustrate how different shell commands work. The sample data file is hosted online. You can use terminal commands to copy this remote file. Simply type:"
   ]
  },
  {
   "cell_type": "code",
   "execution_count": null,
   "metadata": {},
   "outputs": [],
   "source": [
    "!curl -L 'http://pages.stern.nyu.edu/~nwhite/DealingwithDataFall2018/sample.txt'"
   ]
  },
  {
   "cell_type": "markdown",
   "metadata": {},
   "source": [
    "The columns in this tab-separated data correspond to [order id] [time of order] [user id] [ordered item], something similar to what might be encountered in practice. If you wish, you can copy-paste the data written above into a text editor, making sure there is a newline following each of the ordered item columns (the columns with alphabetic characters)."
   ]
  },
  {
   "cell_type": "markdown",
   "metadata": {},
   "source": [
    "To store the output to a file, we also add the `-o [output file]` in the command. (We are also going to see in the next session how to use _output redirection_ to store the output to a file.)"
   ]
  },
  {
   "cell_type": "code",
   "execution_count": null,
   "metadata": {},
   "outputs": [],
   "source": [
    "!curl -L 'http://pages.stern.nyu.edu/~nwhite/DealingwithDataFall2018/sample.txt' -o data/sample.txt"
   ]
  },
  {
   "cell_type": "code",
   "execution_count": null,
   "metadata": {},
   "outputs": [],
   "source": [
    "!ls -al data/"
   ]
  },
  {
   "cell_type": "markdown",
   "metadata": {},
   "source": [
    "This will pull the file to the directory 'data', creating a new file called `sample.txt`. If we do not want to see any statistics about the download, we can use the `-s` option:"
   ]
  },
  {
   "cell_type": "code",
   "execution_count": null,
   "metadata": {},
   "outputs": [],
   "source": [
    "!curl  -s -L 'http://pages.stern.nyu.edu/~nwhite/DealingwithDataFall2018/sample.txt' -o data/sample.txt\n",
    "!ls -al  data/"
   ]
  },
  {
   "cell_type": "markdown",
   "metadata": {},
   "source": [
    "Now, let's try to use curl to get access to some real data. A key component of today's data ecosystem is the existence of `Web APIs` which provide functionality for a variety of tasks.\n",
    "\n",
    "#### Where am I?\n",
    "\n",
    "For example, let's try to figure out programmatically the location of the computer where the jupyter server is running. We can access the API call by issuing the following command: (128.122.85.5 is an Stern server's IP)\n",
    "\n"
   ]
  },
  {
   "cell_type": "code",
   "execution_count": null,
   "metadata": {},
   "outputs": [],
   "source": [
    "!curl -s \"http://api.ipstack.com/128.122.85.5?access_key=c2192e9aa79a13153a328f383b810862\"|jq"
   ]
  },
  {
   "cell_type": "code",
   "execution_count": null,
   "metadata": {},
   "outputs": [],
   "source": []
  },
  {
   "cell_type": "markdown",
   "metadata": {},
   "source": [
    "While this does not look nice to a human, for a computer is a perfectly legitimate answer. This format is called \"JSON\", and is an efficient and very commonly used way to trasfer data today on the Internet.\n",
    "| jq controls the presentation by taking the output and formatting it as json."
   ]
  },
  {
   "cell_type": "markdown",
   "metadata": {},
   "source": [
    "Now, let's examine a few more web APIs, just for fun:\n",
    "\n",
    "#### What's the weather?\n",
    "\n",
    "Now, let's use the OpenWeather API to get the weather details in our location. (The details of the API calls are available at http://openweathermap.org/api.)"
   ]
  },
  {
   "cell_type": "code",
   "execution_count": 1,
   "metadata": {},
   "outputs": [
    {
     "name": "stdout",
     "output_type": "stream",
     "text": [
      "\u001b[1;39m{\r\n",
      "  \u001b[0m\u001b[34;1m\"coord\"\u001b[0m\u001b[1;39m: \u001b[0m\u001b[1;39m{\r\n",
      "    \u001b[0m\u001b[34;1m\"lon\"\u001b[0m\u001b[1;39m: \u001b[0m\u001b[0;39m-73.99\u001b[0m\u001b[1;39m,\r\n",
      "    \u001b[0m\u001b[34;1m\"lat\"\u001b[0m\u001b[1;39m: \u001b[0m\u001b[0;39m40.73\u001b[0m\u001b[1;39m\r\n",
      "  \u001b[1;39m}\u001b[0m\u001b[1;39m,\r\n",
      "  \u001b[0m\u001b[34;1m\"weather\"\u001b[0m\u001b[1;39m: \u001b[0m\u001b[1;39m[\r\n",
      "    \u001b[1;39m{\r\n",
      "      \u001b[0m\u001b[34;1m\"id\"\u001b[0m\u001b[1;39m: \u001b[0m\u001b[0;39m500\u001b[0m\u001b[1;39m,\r\n",
      "      \u001b[0m\u001b[34;1m\"main\"\u001b[0m\u001b[1;39m: \u001b[0m\u001b[0;32m\"Rain\"\u001b[0m\u001b[1;39m,\r\n",
      "      \u001b[0m\u001b[34;1m\"description\"\u001b[0m\u001b[1;39m: \u001b[0m\u001b[0;32m\"light rain\"\u001b[0m\u001b[1;39m,\r\n",
      "      \u001b[0m\u001b[34;1m\"icon\"\u001b[0m\u001b[1;39m: \u001b[0m\u001b[0;32m\"10d\"\u001b[0m\u001b[1;39m\r\n",
      "    \u001b[1;39m}\u001b[0m\u001b[1;39m,\r\n",
      "    \u001b[1;39m{\r\n",
      "      \u001b[0m\u001b[34;1m\"id\"\u001b[0m\u001b[1;39m: \u001b[0m\u001b[0;39m701\u001b[0m\u001b[1;39m,\r\n",
      "      \u001b[0m\u001b[34;1m\"main\"\u001b[0m\u001b[1;39m: \u001b[0m\u001b[0;32m\"Mist\"\u001b[0m\u001b[1;39m,\r\n",
      "      \u001b[0m\u001b[34;1m\"description\"\u001b[0m\u001b[1;39m: \u001b[0m\u001b[0;32m\"mist\"\u001b[0m\u001b[1;39m,\r\n",
      "      \u001b[0m\u001b[34;1m\"icon\"\u001b[0m\u001b[1;39m: \u001b[0m\u001b[0;32m\"50d\"\u001b[0m\u001b[1;39m\r\n",
      "    \u001b[1;39m}\u001b[0m\u001b[1;39m,\r\n",
      "    \u001b[1;39m{\r\n",
      "      \u001b[0m\u001b[34;1m\"id\"\u001b[0m\u001b[1;39m: \u001b[0m\u001b[0;39m721\u001b[0m\u001b[1;39m,\r\n",
      "      \u001b[0m\u001b[34;1m\"main\"\u001b[0m\u001b[1;39m: \u001b[0m\u001b[0;32m\"Haze\"\u001b[0m\u001b[1;39m,\r\n",
      "      \u001b[0m\u001b[34;1m\"description\"\u001b[0m\u001b[1;39m: \u001b[0m\u001b[0;32m\"haze\"\u001b[0m\u001b[1;39m,\r\n",
      "      \u001b[0m\u001b[34;1m\"icon\"\u001b[0m\u001b[1;39m: \u001b[0m\u001b[0;32m\"50d\"\u001b[0m\u001b[1;39m\r\n",
      "    \u001b[1;39m}\u001b[0m\u001b[1;39m\r\n",
      "  \u001b[1;39m]\u001b[0m\u001b[1;39m,\r\n",
      "  \u001b[0m\u001b[34;1m\"base\"\u001b[0m\u001b[1;39m: \u001b[0m\u001b[0;32m\"stations\"\u001b[0m\u001b[1;39m,\r\n",
      "  \u001b[0m\u001b[34;1m\"main\"\u001b[0m\u001b[1;39m: \u001b[0m\u001b[1;39m{\r\n",
      "    \u001b[0m\u001b[34;1m\"temp\"\u001b[0m\u001b[1;39m: \u001b[0m\u001b[0;39m70.63\u001b[0m\u001b[1;39m,\r\n",
      "    \u001b[0m\u001b[34;1m\"pressure\"\u001b[0m\u001b[1;39m: \u001b[0m\u001b[0;39m1021\u001b[0m\u001b[1;39m,\r\n",
      "    \u001b[0m\u001b[34;1m\"humidity\"\u001b[0m\u001b[1;39m: \u001b[0m\u001b[0;39m86\u001b[0m\u001b[1;39m,\r\n",
      "    \u001b[0m\u001b[34;1m\"temp_min\"\u001b[0m\u001b[1;39m: \u001b[0m\u001b[0;39m66.92\u001b[0m\u001b[1;39m,\r\n",
      "    \u001b[0m\u001b[34;1m\"temp_max\"\u001b[0m\u001b[1;39m: \u001b[0m\u001b[0;39m73.04\u001b[0m\u001b[1;39m\r\n",
      "  \u001b[1;39m}\u001b[0m\u001b[1;39m,\r\n",
      "  \u001b[0m\u001b[34;1m\"visibility\"\u001b[0m\u001b[1;39m: \u001b[0m\u001b[0;39m11265\u001b[0m\u001b[1;39m,\r\n",
      "  \u001b[0m\u001b[34;1m\"wind\"\u001b[0m\u001b[1;39m: \u001b[0m\u001b[1;39m{\r\n",
      "    \u001b[0m\u001b[34;1m\"speed\"\u001b[0m\u001b[1;39m: \u001b[0m\u001b[0;39m5.82\u001b[0m\u001b[1;39m,\r\n",
      "    \u001b[0m\u001b[34;1m\"deg\"\u001b[0m\u001b[1;39m: \u001b[0m\u001b[0;39m60\u001b[0m\u001b[1;39m\r\n",
      "  \u001b[1;39m}\u001b[0m\u001b[1;39m,\r\n",
      "  \u001b[0m\u001b[34;1m\"rain\"\u001b[0m\u001b[1;39m: \u001b[0m\u001b[1;39m{\r\n",
      "    \u001b[0m\u001b[34;1m\"1h\"\u001b[0m\u001b[1;39m: \u001b[0m\u001b[0;39m0.51\u001b[0m\u001b[1;39m\r\n",
      "  \u001b[1;39m}\u001b[0m\u001b[1;39m,\r\n",
      "  \u001b[0m\u001b[34;1m\"clouds\"\u001b[0m\u001b[1;39m: \u001b[0m\u001b[1;39m{\r\n",
      "    \u001b[0m\u001b[34;1m\"all\"\u001b[0m\u001b[1;39m: \u001b[0m\u001b[0;39m90\u001b[0m\u001b[1;39m\r\n",
      "  \u001b[1;39m}\u001b[0m\u001b[1;39m,\r\n",
      "  \u001b[0m\u001b[34;1m\"dt\"\u001b[0m\u001b[1;39m: \u001b[0m\u001b[0;39m1536686220\u001b[0m\u001b[1;39m,\r\n",
      "  \u001b[0m\u001b[34;1m\"sys\"\u001b[0m\u001b[1;39m: \u001b[0m\u001b[1;39m{\r\n",
      "    \u001b[0m\u001b[34;1m\"type\"\u001b[0m\u001b[1;39m: \u001b[0m\u001b[0;39m1\u001b[0m\u001b[1;39m,\r\n",
      "    \u001b[0m\u001b[34;1m\"id\"\u001b[0m\u001b[1;39m: \u001b[0m\u001b[0;39m2120\u001b[0m\u001b[1;39m,\r\n",
      "    \u001b[0m\u001b[34;1m\"message\"\u001b[0m\u001b[1;39m: \u001b[0m\u001b[0;39m0.0048\u001b[0m\u001b[1;39m,\r\n",
      "    \u001b[0m\u001b[34;1m\"country\"\u001b[0m\u001b[1;39m: \u001b[0m\u001b[0;32m\"US\"\u001b[0m\u001b[1;39m,\r\n",
      "    \u001b[0m\u001b[34;1m\"sunrise\"\u001b[0m\u001b[1;39m: \u001b[0m\u001b[0;39m1536662006\u001b[0m\u001b[1;39m,\r\n",
      "    \u001b[0m\u001b[34;1m\"sunset\"\u001b[0m\u001b[1;39m: \u001b[0m\u001b[0;39m1536707426\u001b[0m\u001b[1;39m\r\n",
      "  \u001b[1;39m}\u001b[0m\u001b[1;39m,\r\n",
      "  \u001b[0m\u001b[34;1m\"id\"\u001b[0m\u001b[1;39m: \u001b[0m\u001b[0;39m5128581\u001b[0m\u001b[1;39m,\r\n",
      "  \u001b[0m\u001b[34;1m\"name\"\u001b[0m\u001b[1;39m: \u001b[0m\u001b[0;32m\"New York\"\u001b[0m\u001b[1;39m,\r\n",
      "  \u001b[0m\u001b[34;1m\"cod\"\u001b[0m\u001b[1;39m: \u001b[0m\u001b[0;39m200\u001b[0m\u001b[1;39m\r\n",
      "\u001b[1;39m}\u001b[0m\r\n"
     ]
    }
   ],
   "source": [
    "!curl -s \"http://api.openweathermap.org/data/2.5/weather?\\\n",
    "&appid=ffb7b9808e07c9135bdcc7d1e867253d\\\n",
    "&q=New%20York,NY,USA\\\n",
    "&units=imperial\\\n",
    "&mode=json\"|jq ."
   ]
  },
  {
   "cell_type": "markdown",
   "metadata": {},
   "source": [
    "You will notice that we asked the service to return to us the data in JSON format. For that API, we can also ask the data to be returned in a different format, called XML, which is wordlier. (We will get back to these formats later in the semester.)"
   ]
  },
  {
   "cell_type": "code",
   "execution_count": 2,
   "metadata": {},
   "outputs": [
    {
     "name": "stdout",
     "output_type": "stream",
     "text": [
      "<?xml version=\"1.0\" encoding=\"UTF-8\"?>\r\n",
      "<current><city id=\"5128581\" name=\"New York\"><coord lon=\"-73.99\" lat=\"40.73\"></coord><country>US</country><sun rise=\"2018-09-11T10:33:28\" set=\"2018-09-11T23:10:23\"></sun></city><temperature value=\"71.47\" min=\"69.8\" max=\"71.96\" unit=\"fahrenheit\"></temperature><humidity value=\"85\" unit=\"%\"></humidity><pressure value=\"1021\" unit=\"hPa\"></pressure><wind><speed value=\"2.71\" name=\"Light breeze\"></speed><gusts></gusts><direction value=\"192.505\" code=\"SSW\" name=\"South-southwest\"></direction></wind><clouds value=\"90\" name=\"overcast clouds\"></clouds><visibility value=\"6437\"></visibility><precipitation mode=\"rain\" unit=\"1h\"></precipitation><weather number=\"501\" value=\"moderate rain\" icon=\"10d\"></weather><lastupdate value=\"2018-09-11T18:26:00\"></lastupdate></current>"
     ]
    }
   ],
   "source": [
    "!curl -s \"http://api.openweathermap.org/data/2.5/weather?\\\n",
    "&q=New%20York,NY,USA\\\n",
    "&units=imperial\\\n",
    "&mode=xml\\\n",
    "&appid=ffb7b9808e07c9135bdcc7d1e867253d\""
   ]
  },
  {
   "cell_type": "markdown",
   "metadata": {},
   "source": [
    "#### What's the sentiment?\n",
    "\n",
    "Now let's try to use a web service to automatically analyze the sentiment for a piece of text. (The service comes from the [IBM's Alchemy API](http://www.alchemyapi.com/api/sentiment/textc.html#textsentiment))\n",
    "\n",
    "Note that you can register for a free account at IBM Cloud Services, and try out many of their \n",
    "machine learning/data science api's.\n",
    "https://www.ibm.com/cloud/"
   ]
  },
  {
   "cell_type": "code",
   "execution_count": 3,
   "metadata": {},
   "outputs": [
    {
     "name": "stdout",
     "output_type": "stream",
     "text": [
      "{\r\n",
      "   \"text\":\"I think that IBM watson is a wonderful service.\",\r\n",
      "    \"features\":{\r\n",
      "      \"entities\": {\r\n",
      "        \"emotion\": true,\r\n",
      "        \"sentiment\": true,\r\n",
      "        \"limit\":2\r\n",
      "      },\r\n",
      "     \"keywords\": {\r\n",
      "         \"emotion\":true,\r\n",
      "         \"sentiment\":true,\r\n",
      "         \"limit\": 2\r\n",
      "    }\r\n",
      "   }\r\n",
      "}\r\n"
     ]
    }
   ],
   "source": [
    "#  Create the parameter file for the call to watsons natutal language service\n",
    "!echo \"{\" >parameters.json\n",
    "!echo  \"   \\\"text\\\":\\\"I think that IBM watson is a wonderful service.\\\",\" >>parameters.json\n",
    "!echo \"    \\\"features\\\":{\" >>parameters.json\n",
    "!echo \"      \\\"entities\\\": {\" >>parameters.json\n",
    "!echo \"        \\\"emotion\\\": true,\" >>parameters.json\n",
    "!echo \"        \\\"sentiment\\\": true,\" >> parameters.json\n",
    "!echo \"        \\\"limit\\\":2\" >>parameters.json\n",
    "!echo \"      },\" >>parameters.json\n",
    "!echo \"     \\\"keywords\\\": {\" >>parameters.json\n",
    "!echo \"         \\\"emotion\\\":true,\" >>parameters.json\n",
    "!echo \"         \\\"sentiment\\\":true,\" >>parameters.json\n",
    "!echo \"         \\\"limit\\\": 2\" >> parameters.json\n",
    "!echo \"    }\" >> parameters.json\n",
    "!echo \"   }\"  >> parameters.json\n",
    "!echo \"}\" >> parameters.json\n",
    "!cat parameters.json"
   ]
  },
  {
   "cell_type": "code",
   "execution_count": 4,
   "metadata": {},
   "outputs": [
    {
     "name": "stdout",
     "output_type": "stream",
     "text": [
      "{\r\n",
      "  \"usage\": {\r\n",
      "    \"text_units\": 1,\r\n",
      "    \"text_characters\": 47,\r\n",
      "    \"features\": 2\r\n",
      "  },\r\n",
      "  \"language\": \"en\",\r\n",
      "  \"keywords\": [\r\n",
      "    {\r\n",
      "      \"text\": \"IBM watson\",\r\n",
      "      \"sentiment\": {\r\n",
      "        \"score\": 0.728278,\r\n",
      "        \"label\": \"positive\"\r\n",
      "      },\r\n",
      "      \"relevance\": 0.944939,\r\n",
      "      \"emotion\": {\r\n",
      "        \"sadness\": 0.006155,\r\n",
      "        \"joy\": 0.113473,\r\n",
      "        \"fear\": 0.002814,\r\n",
      "        \"disgust\": 0.008891,\r\n",
      "        \"anger\": 0.022145\r\n",
      "      }\r\n",
      "    },\r\n",
      "    {\r\n",
      "      \"text\": \"wonderful service\",\r\n",
      "      \"sentiment\": {\r\n",
      "        \"score\": 0.728278,\r\n",
      "        \"label\": \"positive\"\r\n",
      "      },\r\n",
      "      \"relevance\": 0.913543,\r\n",
      "      \"emotion\": {\r\n",
      "        \"sadness\": 0.006155,\r\n",
      "        \"joy\": 0.113473,\r\n",
      "        \"fear\": 0.002814,\r\n",
      "        \"disgust\": 0.008891,\r\n",
      "        \"anger\": 0.022145\r\n",
      "      }\r\n",
      "    }\r\n",
      "  ],\r\n",
      "  \"entities\": [\r\n",
      "    {\r\n",
      "      \"type\": \"Company\",\r\n",
      "      \"text\": \"IBM\",\r\n",
      "      \"sentiment\": {\r\n",
      "        \"score\": 0.728278,\r\n",
      "        \"label\": \"positive\"\r\n",
      "      },\r\n",
      "      \"relevance\": 0.33,\r\n",
      "      \"emotion\": {\r\n",
      "        \"sadness\": 0.006155,\r\n",
      "        \"joy\": 0.113473,\r\n",
      "        \"fear\": 0.002814,\r\n",
      "        \"disgust\": 0.008891,\r\n",
      "        \"anger\": 0.022145\r\n",
      "      },\r\n",
      "      \"disambiguation\": {\r\n",
      "        \"subtype\": [\r\n",
      "          \"SoftwareLicense\",\r\n",
      "          \"OperatingSystemDeveloper\",\r\n",
      "          \"ProcessorManufacturer\",\r\n",
      "          \"SoftwareDeveloper\",\r\n",
      "          \"CompanyFounder\",\r\n",
      "          \"ProgrammingLanguageDesigner\",\r\n",
      "          \"ProgrammingLanguageDeveloper\"\r\n",
      "        ],\r\n",
      "        \"name\": \"IBM\",\r\n",
      "        \"dbpedia_resource\": \"http://dbpedia.org/resource/IBM\"\r\n",
      "      },\r\n",
      "      \"count\": 1\r\n",
      "    }\r\n",
      "  ]\r\n",
      "}"
     ]
    }
   ],
   "source": [
    "#!curl -s \"https://gateway-a.watsonplatform.net/calls/text/TextGetTextSentiment\" \\\n",
    "#-d \"outputMode=json\" \\\n",
    "#-d \"apikey=4b46c7859a7be311b6f9389b12504e302cac0a55\" \\\n",
    "#-d \"text=I did not dislike it. \" \n",
    "!curl -X POST -H \"content-Type: application/json\"   \\\n",
    "-u \"d59b0e77-fbaf-48b7-98c7-b274e6a24854\":\"wZAwEWMriIHT\" \\\n",
    "    -d @parameters.json  \\\n",
    "    \"https://gateway.watsonplatform.net/natural-language-understanding/api/v1/analyze?version=2017-02-27\"\n",
    "\n",
    "\n",
    "#!curl -G -u  \"cb28c5c0-93e8-4a95-8723-8d41a4069d87\":\"JwC0IoQNEphN\" -d \"version=2017-02-27\" -d \"url=pages.stern.nyu.edu/~nwhite\" -d \"features=keywords,entities\" -d \"entities.emotion=true\" -d \"entities.sentiment=true\" -d \"keywords.emotion=true\" -d \"keywords.sentiment=true\" \"https://gateway.watsonplatform.net/natural-language-understanding/api/v1/analyze\"      \n",
    "\n",
    "#{\n",
    "#  \"url\": \"https://gateway.watsonplatform.net/natural-language-understanding/api\",\n",
    "#  \"username\": \"cb28c5c0-93e8-4a95-8723-8d41a4069d87\",\n",
    "#  \"password\": \"JwC0IoQNEphN\"\n",
    "#}"
   ]
  },
  {
   "cell_type": "markdown",
   "metadata": {},
   "source": [
    "## Exercise\n",
    "\n",
    "The following websites contain listing of many useful APIs\n",
    "\n",
    "* https://market.mashape.com/explore\n",
    "* https://www.programmableweb.com/category/all/apis\n",
    "* http://www.mashery.com/\n",
    "* http://apigee.com/ \n",
    "\n",
    "Mashape is my own personal favorite in terms of user-friendliness and also has examples directly expressed using CURL. but the others are pretty nice as well. \n",
    "#### Your task: search through mashup  and find a web API that does something that you like. Use CURL to issue a web API call to this service. Note, You will need to create a mashup account to get a key to use with your application. "
   ]
  },
  {
   "cell_type": "code",
   "execution_count": 16,
   "metadata": {},
   "outputs": [
    {
     "name": "stdout",
     "output_type": "stream",
     "text": [
      "HTTP/1.1 200 OK\r",
      "\r\n",
      "Content-Type: application/json\r",
      "\r\n",
      "Date: Tue, 11 Sep 2018 18:42:26 GMT\r",
      "\r\n",
      "Server: Mashape/5.0.6\r",
      "\r\n",
      "Content-Length: 106\r",
      "\r\n",
      "Connection: keep-alive\r",
      "\r\n",
      "\r",
      "\r\n",
      "[{\"quote\":\"I'm going to make him an offer he can't refuse.\",\"author\":\"The Godfather\",\"category\":\"Movies\"}]"
     ]
    }
   ],
   "source": [
    "!curl -X POST --include 'https://andruxnet-random-famous-quotes.p.mashape.com/?cat=movies' \\\n",
    "-H 'X-Mashape-Key: OzEG3Zp1kqmshUxcOFT9hhn1LFbmp19ubr2jsnLlnpE40EIlCp' \\\n",
    "-H 'Content-Type: application/x-www-form-urlencoded' \\\n",
    "-H 'Accept: application/json'\n"
   ]
  },
  {
   "cell_type": "code",
   "execution_count": null,
   "metadata": {},
   "outputs": [],
   "source": []
  }
 ],
 "metadata": {
  "kernelspec": {
   "display_name": "Python 3",
   "language": "python",
   "name": "python3"
  },
  "language_info": {
   "codemirror_mode": {
    "name": "ipython",
    "version": 3
   },
   "file_extension": ".py",
   "mimetype": "text/x-python",
   "name": "python",
   "nbconvert_exporter": "python",
   "pygments_lexer": "ipython3",
   "version": "3.6.5"
  }
 },
 "nbformat": 4,
 "nbformat_minor": 1
}
