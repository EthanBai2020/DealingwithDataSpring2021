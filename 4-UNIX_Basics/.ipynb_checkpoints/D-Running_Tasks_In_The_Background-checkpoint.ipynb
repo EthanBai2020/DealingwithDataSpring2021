{
 "cells": [
  {
   "cell_type": "markdown",
   "metadata": {},
   "source": [
    "## Creating Scripts\n",
    "\n",
    "(NOTE, since our notebook containers get rebuilt every time we stop and start our server, we need \n",
    "to reinstall any software or system changes we make\n",
    "\n",
    "## THIS NOTEBOOK ONLY WORKS on a machine that the user can modify!\n",
    "Now, let's try to create our first \"script\", which we can execute from the shell directly. Scripts are basically a sequence of shell commands that can be invoked as a single command. They also allow if-then-else, looping, etc.\n",
    "But for now, we will stay simple.\n",
    "\n",
    "* Go to the the shell (Click on the Jupyter icon, and then NEW, terminal)\n",
    "* Type `sudo apt-get -y install nano`   (This will install a simple text editor)\n",
    "* Type `cd`\n",
    "* Type `nano getTemp`: This will use the text editor `nano` and create a file called `getTemp`\n",
    "* Type the command from the earlier module (but without the ! in front of curl... (why?)\n",
    "\n",
    "\n",
    "\n",
    "\n",
    "```\n",
    "#!/bin/sh\n",
    "curl -s \"http://api.ipstack.com/128.122.85.5?access_key=c2192e9aa79a13153a328f383b810862\" | \\\n",
    "jq '\"http://api.openweathermap.org/data/2.5/weather?q=\" + .city + \",\" + .region_name + \"&mode=json&units=imperial&appid=ffb7b9808e07c9135bdcc7d1e867253d\"' | \\\n",
    "xargs curl -s | jq '.main.temp'\n",
    "\n",
    "\n",
    "```\n",
    "* Notice the addition of the first line `#!/bin/sh`. We will get back to that later.\n",
    "* Type Ctrl+X to save the file and exit (type Y to confirm)\n",
    "* In the shell, type `chmod +rx getTemp`. This makes our file _executable_.\n",
    "* Finally type `./getTemp` and see what happens."
   ]
  },
  {
   "cell_type": "markdown",
   "metadata": {},
   "source": [
    "#### Exercise\n",
    "\n",
    "* Modify the script, to add an extra command that also prints the date\n",
    "* Modify the script, so that the output goes into the file ~/NYC-Temperature.txt\n"
   ]
  },
  {
   "cell_type": "markdown",
   "metadata": {},
   "source": [
    "## Running Jobs in the Background"
   ]
  },
  {
   "cell_type": "markdown",
   "metadata": {},
   "source": [
    "Sometimes, we would like to start a task, and let it run in the background. To do so, we simply add the character `&` at the end of the command. For example, if we want to run a long running task using grep, and store the results in a file, we can (again, you need to be at the command prompt in linux)  type:\n",
    "\n",
    "`cd `\n",
    "\n",
    "`cd data`\n",
    "\n",
    "`grep -R 'MORIMOTO' . > morimoto.txt &`\n",
    "\n",
    "#### Standard output, Standard Error\n",
    "\n",
    "When we run tasks in the background, it is often useful to separate the storing of the program output from the program errors. This is done by using the `2>` redirect operator, which redirects the error messages to the file of our choice.\n",
    "\n",
    "`grep -R 'MORIMOTO' . > morimoto.txt 2> morimoto-errors.txt &`\n",
    "\n",
    "If we prefer to store both standard output and standard error in the same file, we use the `2>&1` command:\n",
    "\n",
    "`grep -R 'MORIMOTO' . > morimoto.txt 2>&1 &`\n",
    "\n",
    "#### Nohup\n",
    "\n",
    "When we use the `&` operator, the task runs in the background, but stops running the moment we logout from our ssh session. To allow the task to continue running, even after we log out, we can use the `nohup` command, as follows:\n",
    "\n",
    "`nohup grep -R 'MORIMOTO' . > morimoto.txt 2> morimoto-errors.txt &`"
   ]
  },
  {
   "cell_type": "markdown",
   "metadata": {},
   "source": [
    "### Exercise\n",
    "\n",
    "Start downloading a big data set (e.g., the restaurant data set) using CURL. Use the -s option to put it in silent mode, and use the nohup command and the & operator to let the process run in the background."
   ]
  },
  {
   "cell_type": "markdown",
   "metadata": {},
   "source": [
    "## Cron: Scheduling Tasks"
   ]
  },
  {
   "cell_type": "markdown",
   "metadata": {},
   "source": [
    "      \n",
    "Cron is used to execute desired tasks (in the background) at designated times. \n",
    "\n",
    "A crontab is a simple text file with a list of commands meant to be run at specified times and these jobs will run regardless of whether the user is actually logged into the system. \n",
    "\n",
    "To use cron for tasks meant to run only for your user profile, add entries to your own user's crontab file. Start the crontab editor from a terminal window:\n",
    "\n",
    "#### `export EDITOR=nano`\n",
    "\n",
    "#### `sudo crontab -e`\n",
    "\n",
    "\n",
    "We will see below how to generate a crontab entry from a notebook cell, without using nano.\n",
    "\n",
    "### The structure of the crontab file\n",
    "\n",
    "This is how a cron job is laid out:\n",
    "\n",
    "minute (0-59), hour (0-23, 0 = midnight), day (1-31), month (1-12), weekday (0-6, 0 = Sunday), command\n",
    "\n",
    "and each line of the crontab file has the following format:\n",
    "\n",
    "`minute hour day_of_month month day_of_week   command`\n",
    "\n",
    "Each of the parts is separated by a space, with the final part (the command) having one or more spaces in it. \n",
    "For example, you can run a backup of all your user accounts at 5 a.m every week with:\n",
    "\n",
    "`0 5 * * 1 tar -zcf /var/backups/home.tgz /home/`\n",
    "\n",
    "#### More examples\n",
    "\n",
    "`01 04 1 1 1 /usr/bin/somedirectory/somecommand`\n",
    "\n",
    "The above example will run /usr/bin/somedirectory/somecommand at 4:01am on January 1st plus every Monday in January. An asterisk (\\*) can be used so that every instance (every hour, every weekday, every month, etc.) of a time period is used. Code:\n",
    "\n",
    "\n",
    "`01 04 * * * /usr/bin/somedirectory/somecommand`\n",
    "\n",
    "The above example will run /usr/bin/somedirectory/somecommand at 4:01am on every day of every month.\n",
    "\n",
    "Comma-separated values can be used to run more than one instance of a particular command within a time period. Dash-separated values can be used to run a command continuously. For example:\n",
    "\n",
    "`01,31 04,05 1-15 1,6 * /usr/bin/somedirectory/somecommand`\n",
    "\n",
    "The above example will run /usr/bin/somedirectory/somecommand at 01 and 31 past the hours of 4:00am and 5:00am on the 1st through the 15th of every January and June.\n",
    "\n",
    "The `/usr/bin/somedirectory/somecommand` text in the above examples indicates the task which will be run at the specified times. It is recommended that you use the full path to the desired commands as shown in the above examples. Enter which somecommand in the terminal to find the full path to somecommand. The crontab will begin running as soon as it is properly edited and saved.\n",
    "\n",
    "You may want to run a script some number of times per time unit. For example if you want to run it every 10 minutes use the following crontab entry (runs on minutes divisible by 10: 0, 10, 20, 30, etc.)\n",
    "\n",
    "`*/10 * * * * /usr/bin/somedirectory/somecommand`\n",
    "\n",
    "which is also equivalent to the more cumbersome\n",
    "\n",
    "`0,10,20,30,40,50 * * * * /usr/bin/somedirectory/somecommand`\n",
    "\n",
    "\n",
    "(See https://help.ubuntu.com/community/CronHowto for more details)\n"
   ]
  },
  {
   "cell_type": "markdown",
   "metadata": {},
   "source": [
    "### You need to start the system \"cron\" service that checks crontab entries\n",
    "The following command will do that..."
   ]
  },
  {
   "cell_type": "code",
   "execution_count": null,
   "metadata": {},
   "outputs": [],
   "source": [
    "# Start cron\n",
    "!sudo service cron start\n"
   ]
  },
  {
   "cell_type": "markdown",
   "metadata": {},
   "source": [
    "#### You will also need to reinstall nano every time your machine is restarted, and recreate your crontab entry...\n",
    "(Actually see below, there is an easier way)\n"
   ]
  },
  {
   "cell_type": "code",
   "execution_count": null,
   "metadata": {},
   "outputs": [],
   "source": [
    "!sudo apt-get -y install nano\n"
   ]
  },
  {
   "cell_type": "markdown",
   "metadata": {},
   "source": [
    "##### Exercise  (We will work on  this in class)\n",
    "\n",
    "* Create  a cron job to keep track of the temperature in New York (at an NYU server location), running every 5 minutes. Use the OpenWeatherMap service and jq to get the temperature (.main.temp). Use the redirect operator to store the temperature in a text file called ~/NYC-Temperatures.txt, appending a new line for every measurement. Once you have that working, add the current time (.dt) to the jq filter.  Let it run for a while, and then create a homework notebook that has the crontab entry (!crontab  -l), \n",
    "and a listing of your getTemp script (!cat ~/getTemp ) as well as the times and temperatures. \n",
    "(!cat ~/NYC-Temperatures.txt)"
   ]
  },
  {
   "cell_type": "code",
   "execution_count": 31,
   "metadata": {},
   "outputs": [
    {
     "name": "stdout",
     "output_type": "stream",
     "text": [
      "crontab -l\r\n"
     ]
    }
   ],
   "source": [
    "# The following command creates a crontab entry for me\n",
    "!echo \"*/10 * * * * /home/nwhite/getTemp\"|crontab\n",
    "!echo crontab -l"
   ]
  },
  {
   "cell_type": "code",
   "execution_count": 33,
   "metadata": {},
   "outputs": [
    {
     "name": "stdout",
     "output_type": "stream",
     "text": [
      "#!/bin/sh\r\n",
      "curl -s \"http://api.ipstack.com/128.122.85.5?access_key=c2192e9aa79a13153a328f383b810862\" | \\\r\n",
      "jq '\"http://api.openweathermap.org/data/2.5/weather?q=\" + .city + \",\" + .region_name + \"&mode=json&units=imperial&appid=ffb7b9808e07c9135bdcc7d1e867253d\"' | \r\n",
      "xargs curl -s | jq '.dt, .main.temp' >>~/NYC-Temperatures.txt\r\n",
      "\r\n"
     ]
    }
   ],
   "source": [
    "#\n",
    "#Here is my shell script\n",
    "!cat /home/nwhite/getTemp"
   ]
  },
  {
   "cell_type": "code",
   "execution_count": 34,
   "metadata": {},
   "outputs": [
    {
     "name": "stdout",
     "output_type": "stream",
     "text": [
      "1536864960\r\n",
      "76.57\r\n",
      "1536864960\r\n",
      "76.57\r\n",
      "1536864960\r\n",
      "76.57\r\n",
      "1537201620\r\n",
      "77.04\r\n",
      "1538406900\r\n",
      "71.13\r\n",
      "1538409360\r\n",
      "72.99\r\n",
      "1538409360\r\n",
      "72.99\r\n",
      "1538409360\r\n",
      "72.99\r\n",
      "1538410620\r\n",
      "73.33\r\n",
      "1538410620\r\n",
      "73.33\r\n"
     ]
    }
   ],
   "source": [
    "!cat /home/nwhite/NYC-Temperatures.txt\n"
   ]
  },
  {
   "cell_type": "code",
   "execution_count": 35,
   "metadata": {},
   "outputs": [
    {
     "name": "stdout",
     "output_type": "stream",
     "text": [
      "total 100\r\n",
      "-rw-rw-r--  1 nwhite ubuntu   170 Oct  1 16:50 NYC-Temperatures.txt\r\n",
      "-rw-r--r--  1 nwhite ubuntu    34 Oct  1 16:42 mycron\r\n",
      "drwxrwsr-x 15 root   ubuntu  4096 Oct  1 16:34 .\r\n",
      "drwxrwsr-x 16 nwhite ubuntu  4096 Oct  1 14:23 notebooks\r\n",
      "drwxr-xr-x  1 nwhite ubuntu     0 Oct  1 14:23 data\r\n",
      "drwxrwxrwx  1 root   root    4096 Oct  1 14:22 ..\r\n",
      "-rw-rw----  1 nwhite ubuntu  7200 Sep 26 21:18 .bash_history\r\n",
      "drwxrwsr-x  2 nwhite ubuntu  4096 Sep 26 21:18 mystuff\r\n",
      "-rw-rw-r--  1 nwhite ubuntu  1166 Sep 15 19:54 .nbgrader.log\r\n",
      "drwxrwsr-x  3 nwhite ubuntu  4096 Sep 15 19:48 .jupyter\r\n",
      "-rwxrwxr-x  1 nwhite ubuntu   325 Sep 13 19:13 getTemp\r\n",
      "-rwxrwxr-x  1 nwhite ubuntu   324 Sep 13 19:03 getTemp~\r\n",
      "-rw-rw-r--  1 nwhite ubuntu    66 Sep 12 22:23 .selected_editor\r\n",
      "drwxrwxrwx  8 root   root    4096 Sep 12 16:15 assignments\r\n",
      "drwxrwS---  2 nwhite ubuntu  4096 Sep 11 19:50 .ssh\r\n",
      "drwxrwsr-x  2 nwhite ubuntu  4096 Sep  2 21:58 .keras\r\n",
      "drwxrwS---  5 nwhite ubuntu  4096 Aug 31 15:47 .cache\r\n",
      "drwxrwsr-x  3 nwhite ubuntu  4096 Aug 31 15:22 .config\r\n",
      "drwxrwS---  3 nwhite ubuntu  4096 Aug 17 18:38 .emacs.d\r\n",
      "drwxrwsr-x  5 nwhite ubuntu  4096 Aug 17 17:36 .ipython\r\n",
      "drwxrwS---  3 nwhite ubuntu  4096 Aug 16 21:28 .local\r\n",
      "drwxrwS---  2 root   ubuntu 16384 Apr 14 14:17 lost+found\r\n"
     ]
    }
   ],
   "source": [
    "!ls -alt /home/nwhite\n"
   ]
  },
  {
   "cell_type": "code",
   "execution_count": null,
   "metadata": {},
   "outputs": [],
   "source": []
  }
 ],
 "metadata": {
  "colabVersion": "0.1",
  "kernelspec": {
   "display_name": "Python 3",
   "language": "python",
   "name": "python3"
  },
  "language_info": {
   "codemirror_mode": {
    "name": "ipython",
    "version": 3
   },
   "file_extension": ".py",
   "mimetype": "text/x-python",
   "name": "python",
   "nbconvert_exporter": "python",
   "pygments_lexer": "ipython3",
   "version": "3.6.8"
  }
 },
 "nbformat": 4,
 "nbformat_minor": 1
}
