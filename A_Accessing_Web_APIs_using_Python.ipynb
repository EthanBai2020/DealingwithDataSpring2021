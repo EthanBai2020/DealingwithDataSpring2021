{
  "nbformat": 4,
  "nbformat_minor": 0,
  "metadata": {
    "kernelspec": {
      "display_name": "Python 3",
      "language": "python",
      "name": "python3"
    },
    "language_info": {
      "codemirror_mode": {
        "name": "ipython",
        "version": 3
      },
      "file_extension": ".py",
      "mimetype": "text/x-python",
      "name": "python",
      "nbconvert_exporter": "python",
      "pygments_lexer": "ipython3",
      "version": "3.6.8"
    },
    "colab": {
      "name": "A-Accessing_Web_APIs_using_Python.ipynb",
      "provenance": [],
      "include_colab_link": true
    }
  },
  "cells": [
    {
      "cell_type": "markdown",
      "metadata": {
        "id": "view-in-github",
        "colab_type": "text"
      },
      "source": [
        "<a href=\"https://colab.research.google.com/github/nhwhite212/DealingwithDataSpring2021/blob/colab/A_Accessing_Web_APIs_using_Python.ipynb\" target=\"_parent\"><img src=\"https://colab.research.google.com/assets/colab-badge.svg\" alt=\"Open In Colab\"/></a>"
      ]
    },
    {
      "cell_type": "markdown",
      "metadata": {
        "id": "0udpCaN6eFiK"
      },
      "source": [
        "## Interacting with Web APIs\n",
        "\n",
        "In an earlier class, we examined how to use `curl` to issue requests against web services. We will now see how to achieve the same in Python:"
      ]
    },
    {
      "cell_type": "code",
      "metadata": {
        "id": "1xt12u2reFiO"
      },
      "source": [
        "# !sudo -H pip3 install -U requests\n",
        "# import requests\n",
        "# requests.__version__"
      ],
      "execution_count": 1,
      "outputs": []
    },
    {
      "cell_type": "code",
      "metadata": {
        "id": "EsbmErvxeFiP",
        "colab": {
          "base_uri": "https://localhost:8080/",
          "height": 293
        },
        "outputId": "115ae7e6-1dad-4a29-82ed-4f303d6983f7"
      },
      "source": [
        " !sudo -H pip3 install -U requests\n",
        " import requests\n",
        " requests.__version__"
      ],
      "execution_count": 2,
      "outputs": [
        {
          "output_type": "stream",
          "text": [
            "Collecting requests\n",
            "\u001b[?25l  Downloading https://files.pythonhosted.org/packages/29/c1/24814557f1d22c56d50280771a17307e6bf87b70727d975fd6b2ce6b014a/requests-2.25.1-py2.py3-none-any.whl (61kB)\n",
            "\r\u001b[K     |█████▍                          | 10kB 15.2MB/s eta 0:00:01\r\u001b[K     |██████████▊                     | 20kB 13.7MB/s eta 0:00:01\r\u001b[K     |████████████████                | 30kB 9.6MB/s eta 0:00:01\r\u001b[K     |█████████████████████▍          | 40kB 8.5MB/s eta 0:00:01\r\u001b[K     |██████████████████████████▊     | 51kB 5.5MB/s eta 0:00:01\r\u001b[K     |████████████████████████████████| 61kB 3.7MB/s \n",
            "\u001b[?25hRequirement already satisfied, skipping upgrade: urllib3<1.27,>=1.21.1 in /usr/local/lib/python3.6/dist-packages (from requests) (1.24.3)\n",
            "Requirement already satisfied, skipping upgrade: chardet<5,>=3.0.2 in /usr/local/lib/python3.6/dist-packages (from requests) (3.0.4)\n",
            "Requirement already satisfied, skipping upgrade: idna<3,>=2.5 in /usr/local/lib/python3.6/dist-packages (from requests) (2.10)\n",
            "Requirement already satisfied, skipping upgrade: certifi>=2017.4.17 in /usr/local/lib/python3.6/dist-packages (from requests) (2020.12.5)\n",
            "\u001b[31mERROR: google-colab 1.0.0 has requirement requests~=2.23.0, but you'll have requests 2.25.1 which is incompatible.\u001b[0m\n",
            "\u001b[31mERROR: datascience 0.10.6 has requirement folium==0.2.1, but you'll have folium 0.8.3 which is incompatible.\u001b[0m\n",
            "Installing collected packages: requests\n",
            "  Found existing installation: requests 2.23.0\n",
            "    Uninstalling requests-2.23.0:\n",
            "      Successfully uninstalled requests-2.23.0\n",
            "Successfully installed requests-2.25.1\n"
          ],
          "name": "stdout"
        },
        {
          "output_type": "execute_result",
          "data": {
            "application/vnd.google.colaboratory.intrinsic+json": {
              "type": "string"
            },
            "text/plain": [
              "'2.25.1'"
            ]
          },
          "metadata": {
            "tags": []
          },
          "execution_count": 2
        }
      ]
    },
    {
      "cell_type": "code",
      "metadata": {
        "id": "uTyRtLf5eFiQ"
      },
      "source": [
        "# We first import the requests library\n",
        "import requests\n",
        "url='http://api.ipstack.com/128.122.85.5?access_key=c2192e9aa79a13153a328f383b810862'\n",
        "#url = 'http://freegeoip.net/json/'\n",
        "resp = requests.get(url)"
      ],
      "execution_count": 3,
      "outputs": []
    },
    {
      "cell_type": "code",
      "metadata": {
        "id": "_Xk5gEd3eFiQ",
        "colab": {
          "base_uri": "https://localhost:8080/"
        },
        "outputId": "32789650-2d9a-4df1-c86e-a4c2df3c1bec"
      },
      "source": [
        "# The resp object encapsulates the \"response\" of the server\n",
        "# Notice the status code that is displayed. \n",
        "# Code 200 means that things went fine\n",
        "# Code 404 means that the URL was not found\n",
        "# Codes 5xx mean that something went wrong\n",
        "resp"
      ],
      "execution_count": 4,
      "outputs": [
        {
          "output_type": "execute_result",
          "data": {
            "text/plain": [
              "<Response [200]>"
            ]
          },
          "metadata": {
            "tags": []
          },
          "execution_count": 4
        }
      ]
    },
    {
      "cell_type": "code",
      "metadata": {
        "id": "GLtoVVR3eFiR",
        "colab": {
          "base_uri": "https://localhost:8080/"
        },
        "outputId": "13ab0d53-6ffd-47a7-e7fb-8094c35eb19c"
      },
      "source": [
        "if (resp.status_code == 200):\n",
        "    print(\"Everything was ok:\", resp.status_code)\n",
        "else:\n",
        "    print(\"There was a problem:\", resp.status_code)"
      ],
      "execution_count": 5,
      "outputs": [
        {
          "output_type": "stream",
          "text": [
            "Everything was ok: 200\n"
          ],
          "name": "stdout"
        }
      ]
    },
    {
      "cell_type": "code",
      "metadata": {
        "id": "LuVioz52eFiS"
      },
      "source": [
        "# Let's see the content of the response\n",
        "# As you can see, it contain the JSON response\n",
        "data = resp.text"
      ],
      "execution_count": 6,
      "outputs": []
    },
    {
      "cell_type": "code",
      "metadata": {
        "id": "rouj2IYLeFiT"
      },
      "source": [
        "# We want to transform the JSON file into a Python dictionary object\n",
        "# We use the response.json() command to get back a dictionary\n",
        "data = resp.json()"
      ],
      "execution_count": 7,
      "outputs": []
    },
    {
      "cell_type": "code",
      "metadata": {
        "id": "S4fMp-NjeFiT",
        "colab": {
          "base_uri": "https://localhost:8080/"
        },
        "outputId": "0336391f-9245-443f-f0f1-acf743f788a4"
      },
      "source": [
        "# Now data is a Python dictionary\n",
        "data"
      ],
      "execution_count": 8,
      "outputs": [
        {
          "output_type": "execute_result",
          "data": {
            "text/plain": [
              "{'city': 'Manhattan',\n",
              " 'continent_code': 'NA',\n",
              " 'continent_name': 'North America',\n",
              " 'country_code': 'US',\n",
              " 'country_name': 'United States',\n",
              " 'ip': '128.122.85.5',\n",
              " 'latitude': 40.73139190673828,\n",
              " 'location': {'calling_code': '1',\n",
              "  'capital': 'Washington D.C.',\n",
              "  'country_flag': 'http://assets.ipstack.com/flags/us.svg',\n",
              "  'country_flag_emoji': '🇺🇸',\n",
              "  'country_flag_emoji_unicode': 'U+1F1FA U+1F1F8',\n",
              "  'geoname_id': 5125771,\n",
              "  'is_eu': False,\n",
              "  'languages': [{'code': 'en', 'name': 'English', 'native': 'English'}]},\n",
              " 'longitude': -73.9884033203125,\n",
              " 'region_code': 'NY',\n",
              " 'region_name': 'New York',\n",
              " 'type': 'ipv4',\n",
              " 'zip': '10003'}"
            ]
          },
          "metadata": {
            "tags": []
          },
          "execution_count": 8
        }
      ]
    },
    {
      "cell_type": "code",
      "metadata": {
        "id": "9n4r5lameFiT",
        "colab": {
          "base_uri": "https://localhost:8080/"
        },
        "outputId": "a753af7b-921d-48fc-cbf2-118b0fee4e03"
      },
      "source": [
        "# And we can access the fields of the JSON as we normally access Python dictionary entries\n",
        "print(\"Lon:\", data[\"longitude\"], \"Lat:\", data[\"latitude\"])"
      ],
      "execution_count": 9,
      "outputs": [
        {
          "output_type": "stream",
          "text": [
            "Lon: -73.9884033203125 Lat: 40.73139190673828\n"
          ],
          "name": "stdout"
        }
      ]
    },
    {
      "cell_type": "markdown",
      "metadata": {
        "id": "lP1Ps-yOeFiU"
      },
      "source": [
        "And in one piece:"
      ]
    },
    {
      "cell_type": "code",
      "metadata": {
        "id": "QBrfupNEeFiV",
        "colab": {
          "base_uri": "https://localhost:8080/"
        },
        "outputId": "f188d0c0-731e-4af2-ce32-42a0791b65a9"
      },
      "source": [
        "import requests\n",
        "#url = 'http://freegeoip.net/json/'\n",
        "url='http://api.ipstack.com/128.122.85.5?access_key=c2192e9aa79a13153a328f383b810862'\n",
        "resp = requests.get(url)\n",
        "data = resp.json()\n",
        "print(\"Lon:\", data[\"longitude\"], \"Lat:\", data[\"latitude\"])"
      ],
      "execution_count": 10,
      "outputs": [
        {
          "output_type": "stream",
          "text": [
            "Lon: -73.9884033203125 Lat: 40.73139190673828\n"
          ],
          "name": "stdout"
        }
      ]
    },
    {
      "cell_type": "markdown",
      "metadata": {
        "id": "6PwHPKw5eFiW"
      },
      "source": [
        "### Parameters \n",
        "\n",
        "The first API call that we tried was very simple. We just fetched a URL. Now let's see a URL that accepts as input a set of **parameters**. We have already seen this concept with functions; the parameters of the API calls are the exact equivalent but for Web APIs, which are, at their core, functions that we call over the web. "
      ]
    },
    {
      "cell_type": "markdown",
      "metadata": {
        "id": "JASBc69feFiW"
      },
      "source": [
        "### Example: OpenWeatherMap\n",
        "\n",
        "Let's try to query OpenWeatherMap now, to get data about the weather. [Documentation](http://openweathermap.org/current#geo). Below you can find the URL that you can copy and paste in your browser, to get the weather for New York. You will notice that it contains parameters as part of the URL, including an `appid` which is a key that is used to limit the number of calls that can be issued by a single application. \n",
        "\n",
        "Try the URL in your browser. Also try to change the query parameter `q` and change it from `New%20York,NY` to something different. (Note: The `%20` is a transformation for the space (` `) character in URLs.)"
      ]
    },
    {
      "cell_type": "markdown",
      "metadata": {
        "id": "CmHyS9yceFiW"
      },
      "source": [
        "http://api.openweathermap.org/data/2.5/weather?q=New%20York,NY,USA&units=imperial&mode=json&appid=ffb7b9808e07c9135bdcc7d1e867253d"
      ]
    },
    {
      "cell_type": "markdown",
      "metadata": {
        "id": "qkudGCSjeFiX"
      },
      "source": [
        "Below you can find the same code, but now we have a Python dictionary to organize and list the parameters."
      ]
    },
    {
      "cell_type": "code",
      "metadata": {
        "id": "N1Qy-i4QeFiX",
        "colab": {
          "base_uri": "https://localhost:8080/"
        },
        "outputId": "f0f99c98-c3b9-43a1-88b0-ca5a82ea5a1e"
      },
      "source": [
        "import requests\n",
        "\n",
        "openweathermap_url = \"http://api.openweathermap.org/data/2.5/weather\"\n",
        "parameters = {\n",
        "    'q'     : 'New York, NY, USA',\n",
        "    'units' : 'imperial',\n",
        "    'mode'  : 'json',\n",
        "    'appid' : 'ffb7b9808e07c9135bdcc7d1e867253d'\n",
        "}\n",
        "resp = requests.get(openweathermap_url, params=parameters)\n",
        "data = resp.json()\n",
        "data"
      ],
      "execution_count": 11,
      "outputs": [
        {
          "output_type": "execute_result",
          "data": {
            "text/plain": [
              "{'base': 'stations',\n",
              " 'clouds': {'all': 90},\n",
              " 'cod': 200,\n",
              " 'coord': {'lat': 40.7306, 'lon': -73.9866},\n",
              " 'dt': 1610994962,\n",
              " 'id': 5128581,\n",
              " 'main': {'feels_like': 29.88,\n",
              "  'humidity': 49,\n",
              "  'pressure': 1006,\n",
              "  'temp': 44.55,\n",
              "  'temp_max': 46.4,\n",
              "  'temp_min': 42.8},\n",
              " 'name': 'New York',\n",
              " 'sys': {'country': 'US',\n",
              "  'id': 4610,\n",
              "  'sunrise': 1610972176,\n",
              "  'sunset': 1611006974,\n",
              "  'type': 1},\n",
              " 'timezone': -18000,\n",
              " 'visibility': 10000,\n",
              " 'weather': [{'description': 'overcast clouds',\n",
              "   'icon': '04d',\n",
              "   'id': 804,\n",
              "   'main': 'Clouds'}],\n",
              " 'wind': {'deg': 260, 'gust': 31.07, 'speed': 18.41}}"
            ]
          },
          "metadata": {
            "tags": []
          },
          "execution_count": 11
        }
      ]
    },
    {
      "cell_type": "markdown",
      "metadata": {
        "id": "pRdrVkoTeFiX"
      },
      "source": [
        "#### Exercise \n",
        "\n",
        "* Extract the current temperature from the returned JSON response.\n",
        "* Extract the description of the current weather\n",
        "* Try to change the units to `metric` and repeat\n",
        "* Get the weather for San Francisco, CA\n",
        "\n"
      ]
    },
    {
      "cell_type": "code",
      "metadata": {
        "id": "1dDW0bcweFiX"
      },
      "source": [
        ""
      ],
      "execution_count": 11,
      "outputs": []
    },
    {
      "cell_type": "markdown",
      "metadata": {
        "id": "d4WLrkimeFiX"
      },
      "source": [
        "#### Exercise\n",
        "\n",
        "* Study the documentation of the API ([Documentation](http://openweathermap.org/current#geo)). Change the API call to use the longitude and latitude."
      ]
    },
    {
      "cell_type": "code",
      "metadata": {
        "id": "wFRIzRRleFiX"
      },
      "source": [
        ""
      ],
      "execution_count": 11,
      "outputs": []
    },
    {
      "cell_type": "markdown",
      "metadata": {
        "id": "YbNA9-wLeFiY"
      },
      "source": [
        "#### Exercise\n",
        "\n",
        "Read the location of your computer using the GeoIP API. Then use the OpenWeatherMap to query the API and fetch the temperature for the location returned by the GeoIP API. For this exercise, you will need to learn to read variables from a Web API (freegeoip) and use them as input in another (openweathermap)"
      ]
    },
    {
      "cell_type": "code",
      "metadata": {
        "id": "5DJKnSegeFiY"
      },
      "source": [
        "#your code here\n"
      ],
      "execution_count": 12,
      "outputs": []
    },
    {
      "cell_type": "markdown",
      "metadata": {
        "id": "0R7_D0r2eFiY"
      },
      "source": [
        "### Solution for Exercise"
      ]
    },
    {
      "cell_type": "code",
      "metadata": {
        "scrolled": true,
        "id": "fUN_qa7neFiY",
        "colab": {
          "base_uri": "https://localhost:8080/"
        },
        "outputId": "e28d912e-1b5e-4b19-8564-9f971ca6b7f2"
      },
      "source": [
        "import requests\n",
        "# This seems only to work on ubuntu\n",
        "#freegeoip_url = 'http://freegeoip.net/json/'\n",
        "freegeoip_url='http://api.ipstack.com/128.122.85.5?access_key=c2192e9aa79a13153a328f383b810862'\n",
        "resp = requests.get(freegeoip_url)\n",
        "data = resp.json()\n",
        "lon = data[\"longitude\"]\n",
        "lat = data[\"latitude\"]\n",
        "\n",
        "openweathermap_url = \"http://api.openweathermap.org/data/2.5/weather\"\n",
        "parameters = {\n",
        "    'lat'   : str(lat),\n",
        "    'lon'   : str(lon),\n",
        "    'units' : 'imperial',\n",
        "    'mode'  : 'json',\n",
        "    'appid' : 'ffb7b9808e07c9135bdcc7d1e867253d'\n",
        "}\n",
        "resp = requests.get(openweathermap_url, params=parameters)\n",
        "data = resp.json()\n",
        "data"
      ],
      "execution_count": 13,
      "outputs": [
        {
          "output_type": "execute_result",
          "data": {
            "text/plain": [
              "{'base': 'stations',\n",
              " 'clouds': {'all': 90},\n",
              " 'cod': 200,\n",
              " 'coord': {'lat': 40.7306, 'lon': -73.9867},\n",
              " 'dt': 1610994950,\n",
              " 'id': 5128581,\n",
              " 'main': {'feels_like': 29.86,\n",
              "  'humidity': 49,\n",
              "  'pressure': 1006,\n",
              "  'temp': 44.53,\n",
              "  'temp_max': 46.4,\n",
              "  'temp_min': 42.8},\n",
              " 'name': 'New York',\n",
              " 'sys': {'country': 'US',\n",
              "  'id': 4610,\n",
              "  'sunrise': 1610972176,\n",
              "  'sunset': 1611006974,\n",
              "  'type': 1},\n",
              " 'timezone': -18000,\n",
              " 'visibility': 10000,\n",
              " 'weather': [{'description': 'overcast clouds',\n",
              "   'icon': '04d',\n",
              "   'id': 804,\n",
              "   'main': 'Clouds'}],\n",
              " 'wind': {'deg': 260, 'gust': 31.07, 'speed': 18.41}}"
            ]
          },
          "metadata": {
            "tags": []
          },
          "execution_count": 13
        }
      ]
    },
    {
      "cell_type": "code",
      "metadata": {
        "id": "2bLgkPvzeFiZ"
      },
      "source": [
        ""
      ],
      "execution_count": 13,
      "outputs": []
    },
    {
      "cell_type": "code",
      "metadata": {
        "id": "fuelz01xeFiZ"
      },
      "source": [
        ""
      ],
      "execution_count": 13,
      "outputs": []
    },
    {
      "cell_type": "code",
      "metadata": {
        "id": "VCMXODf0eFiZ"
      },
      "source": [
        ""
      ],
      "execution_count": null,
      "outputs": []
    },
    {
      "cell_type": "code",
      "metadata": {
        "id": "H-q_2dpAeFia"
      },
      "source": [
        ""
      ],
      "execution_count": null,
      "outputs": []
    }
  ]
}