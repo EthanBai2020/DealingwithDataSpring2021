{
 "cells": [
  {
   "cell_type": "markdown",
   "metadata": {},
   "source": [
    "Overview\n",
    "--------\n",
    "\n",
    "_Readings: The [Appendix A of Learn Python the Hard Way](http://learnpythonthehardway.org/book/appendixa.html) also discusses the material below._\n",
    "\n",
    "Modern data science is impossible without some understanding of the Unix command line.  Unix is a family of computer operating systems including the Mac’s OS X and Linux (technically, Linux is a Unix clone); Windows has also Unix emulators, which allow running Unix commands.  In our class, we use the Linux (specifically, the Ubuntu distribution).\n",
    "Depending on the class, it may be running on Amazon AWS services, in the Google Cloud, or in a cloud at NYU.\n",
    "\n",
    "Let's start:\n",
    "\n",
    "(_**Note**: In IPython/jupyter, to call a command line script, you add an exclamation mark before the command. That's why you will see all the commands in this notebook being preceded by a `!` character._)\n",
    "Let's start by seeing where we are on our server. The pwd (Print Working Directory) will tell us."
   ]
  },
  {
   "cell_type": "code",
   "execution_count": 1,
   "metadata": {
    "scrolled": true
   },
   "outputs": [
    {
     "name": "stdout",
     "output_type": "stream",
     "text": [
      "/home/class_share/nhwclass/1-UNIX_Basics\r\n"
     ]
    }
   ],
   "source": [
    "!pwd"
   ]
  },
  {
   "cell_type": "markdown",
   "metadata": {},
   "source": [
    "### Understanding the folder structure\n",
    "\n",
    "Basic concepts\n",
    "* Hierarchical directory structure\n",
    "* Absolute vs. relative directories\n",
    "* Parent (..) and current (.) directories\n",
    "\n",
    "\n",
    "### `pwd`\n",
    "\n",
    "Prints the current directory. Type `pwd` in the shell prompt. This will tell you your current directory. "
   ]
  },
  {
   "cell_type": "markdown",
   "metadata": {},
   "source": [
    "### `ls`\n",
    "\n",
    "Lists the contents of a directory or provide information about the specified file. Typical usage: \n",
    "\n",
    "`ls [options] [files or directories]`\n",
    "\n",
    "If you want to know the contents of this directory, type `ls -A`. "
   ]
  },
  {
   "cell_type": "code",
   "execution_count": 2,
   "metadata": {},
   "outputs": [
    {
     "name": "stdout",
     "output_type": "stream",
     "text": [
      "A-Basic_Unix_Shell_Commands.ipynb  D-Running_Tasks_In_The_Background.ipynb\r\n",
      "B-Fetching_Data_Using_CURL.ipynb   location.json\r\n",
      "C-Pipes_Filters_Redirection.ipynb  parameters.json\r\n",
      "cronhelp.ipynb\t\t\t   sample.txt\r\n",
      "data\t\t\t\t   sorted.csv\r\n"
     ]
    }
   ],
   "source": [
    "!ls"
   ]
  },
  {
   "cell_type": "markdown",
   "metadata": {},
   "source": [
    "By default, `ls` simply lists the contents of the current directory. There are several options that when used in conjunction with ls give more detailed information about the files or directories being queried. Here are a sample:\n",
    "\n",
    "+ `-A`: list all of the contents of the queried directory, even hidden files.\n",
    "+ `-l`: detailed format, display additional info for all files and directories.\n",
    "+ `-R`: recursively list the contents of any subdirectories.\n",
    "+ `-t`: sort files by the time of the last modification.\n",
    "+ `-S`: sort files by size.\n",
    "+ `-r`: reverse any sort order.\n",
    "+ `-h`: when used in conjunction with `-l`, gives a more human-readable output.\n",
    "\n"
   ]
  },
  {
   "cell_type": "markdown",
   "metadata": {},
   "source": [
    "Let's try now to execute `ls` with a different set of options:"
   ]
  },
  {
   "cell_type": "code",
   "execution_count": 3,
   "metadata": {},
   "outputs": [
    {
     "name": "stdout",
     "output_type": "stream",
     "text": [
      "total 3.1M\r\n",
      "-rwxrwxr-x+ 1 nhw1 nhw1 8.2K Aug 19 12:42 A-Basic_Unix_Shell_Commands.ipynb\r\n",
      "-rwxrwxr-x+ 1 nhw1 nhw1  21K Aug 16 10:02 B-Fetching_Data_Using_CURL.ipynb\r\n",
      "-rwxrwxr-x+ 1 nhw1 nhw1  63K Aug 19 12:45 C-Pipes_Filters_Redirection.ipynb\r\n",
      "-rw-rw-r--+ 1 nhw1 nhw1 5.0K Aug 16 10:02 cronhelp.ipynb\r\n",
      "drwxrwxr-x+ 2 nhw1 nhw1 4.0K Aug 16 10:02 data\r\n",
      "-rwxrwxr-x+ 1 nhw1 nhw1  13K Aug 16 10:02 D-Running_Tasks_In_The_Background.ipynb\r\n",
      "-rw-rw-r--+ 1 nhw1 nhw1  568 Aug 19 12:49 location.json\r\n",
      "-rw-rw-r--+ 1 nhw1 nhw1  283 Aug 19 12:42 parameters.json\r\n",
      "-rw-rw-r--+ 1 nhw1 nhw1  201 Aug 19 12:43 sample.txt\r\n",
      "-rw-rw-r--+ 1 nhw1 nhw1 3.0M Aug 16 10:02 sorted.csv\r\n"
     ]
    }
   ],
   "source": [
    "!ls -lh"
   ]
  },
  {
   "cell_type": "markdown",
   "metadata": {},
   "source": [
    "### `cd`\n",
    "\n",
    "Change the current directory. Usage: \n",
    "\n",
    "`cd [directory to move to]`\n",
    "\n",
    "For example, to change to the `/home/ubuntu` directory:"
   ]
  },
  {
   "cell_type": "code",
   "execution_count": 4,
   "metadata": {},
   "outputs": [
    {
     "name": "stdout",
     "output_type": "stream",
     "text": [
      "/bin/sh: 1: cd: can't cd to /home/ubuntu\r\n"
     ]
    }
   ],
   "source": [
    "!cd /home/ubuntu"
   ]
  },
  {
   "cell_type": "markdown",
   "metadata": {},
   "source": [
    "or we can use the cd command alone to connect to our default home directory."
   ]
  },
  {
   "cell_type": "code",
   "execution_count": 5,
   "metadata": {},
   "outputs": [],
   "source": [
    "!cd"
   ]
  },
  {
   "cell_type": "markdown",
   "metadata": {},
   "source": [
    "If we want to run two commands in a row, we separate them using the `;` character. For example, to change to a directory and show its contents:"
   ]
  },
  {
   "cell_type": "code",
   "execution_count": 6,
   "metadata": {},
   "outputs": [
    {
     "name": "stdout",
     "output_type": "stream",
     "text": [
      "total 4\r\n",
      "drwxrwx---+ 3 nhw1 nhw1 4096 Aug 19 16:37 jupyter\r\n"
     ]
    }
   ],
   "source": [
    "!cd ; ls -l"
   ]
  },
  {
   "cell_type": "markdown",
   "metadata": {},
   "source": [
    "### `mkdir`\n",
    "\n",
    "Creates a new folder. For example, to create a new folder named `DealingWithData` under the current folder, we type:\n"
   ]
  },
  {
   "cell_type": "code",
   "execution_count": 7,
   "metadata": {},
   "outputs": [
    {
     "name": "stdout",
     "output_type": "stream",
     "text": [
      "total 3152\r\n",
      "-rwxrwxr-x+ 1 nhw1 nhw1    8295 Aug 19 12:42 A-Basic_Unix_Shell_Commands.ipynb\r\n",
      "-rwxrwxr-x+ 1 nhw1 nhw1   20754 Aug 16 10:02 B-Fetching_Data_Using_CURL.ipynb\r\n",
      "-rwxrwxr-x+ 1 nhw1 nhw1   63950 Aug 19 12:45 C-Pipes_Filters_Redirection.ipynb\r\n",
      "-rw-rw-r--+ 1 nhw1 nhw1    5048 Aug 16 10:02 cronhelp.ipynb\r\n",
      "drwxrwxr-x+ 2 nhw1 nhw1    4096 Aug 16 10:02 data\r\n",
      "drwxrwxr-x+ 2 nhw1 nhw1    4096 Aug 31 15:48 DealingWithData\r\n",
      "-rwxrwxr-x+ 1 nhw1 nhw1   13121 Aug 16 10:02 D-Running_Tasks_In_The_Background.ipynb\r\n",
      "-rw-rw-r--+ 1 nhw1 nhw1    6148 Aug 16 10:02 .DS_Store\r\n",
      "drwxrwxr-x+ 2 nhw1 nhw1    4096 Aug 16 10:02 .ipynb_checkpoints\r\n",
      "-rw-rw-r--+ 1 nhw1 nhw1     568 Aug 19 12:49 location.json\r\n",
      "-rw-rw-r--+ 1 nhw1 nhw1     283 Aug 19 12:42 parameters.json\r\n",
      "-rw-rw-r--+ 1 nhw1 nhw1     201 Aug 19 12:43 sample.txt\r\n",
      "-rw-rw-r--+ 1 nhw1 nhw1 3066312 Aug 16 10:02 sorted.csv\r\n"
     ]
    }
   ],
   "source": [
    "!mkdir DealingWithData\n",
    "!ls -lA"
   ]
  },
  {
   "cell_type": "markdown",
   "metadata": {},
   "source": [
    "### `rmdir` \n",
    "\n",
    "Removes a folder. (The folder must be empty for the command to succeed.)"
   ]
  },
  {
   "cell_type": "code",
   "execution_count": 8,
   "metadata": {},
   "outputs": [],
   "source": [
    "!rmdir DealingWithData"
   ]
  },
  {
   "cell_type": "markdown",
   "metadata": {},
   "source": [
    "### `cp` \n",
    "\n",
    "Copies a file. Usage:\n",
    "\n",
    "`cp [source file] [destination file]`\n",
    "\n",
    "It can also be used to copy multiple files into a directory.\n",
    "\n",
    "`cp [source file1] [source file2] ... [destination directory]`\n",
    "\n",
    "For example, to copy the file 'A-Basic_Unix_Shell_Commands.ipynb' and name the file NotebookA.ipynb"
   ]
  },
  {
   "cell_type": "code",
   "execution_count": 9,
   "metadata": {},
   "outputs": [
    {
     "name": "stdout",
     "output_type": "stream",
     "text": [
      "total 3137\r\n",
      "-rwxrwxr-x+ 1 nhw1 nhw1    8295 Aug 19 12:42 A-Basic_Unix_Shell_Commands.ipynb\r\n",
      "-rwxrwxr-x+ 1 nhw1 nhw1   20754 Aug 16 10:02 B-Fetching_Data_Using_CURL.ipynb\r\n",
      "-rwxrwxr-x+ 1 nhw1 nhw1   63950 Aug 19 12:45 C-Pipes_Filters_Redirection.ipynb\r\n",
      "-rw-rw-r--+ 1 nhw1 nhw1    5048 Aug 16 10:02 cronhelp.ipynb\r\n",
      "drwxrwxr-x+ 2 nhw1 nhw1    4096 Aug 16 10:02 data\r\n",
      "-rwxrwxr-x+ 1 nhw1 nhw1   13121 Aug 16 10:02 D-Running_Tasks_In_The_Background.ipynb\r\n",
      "-rw-rw-r--+ 1 nhw1 nhw1     568 Aug 19 12:49 location.json\r\n",
      "-rwxrwxr-x+ 1 nhw1 nhw1    8295 Aug 31 15:48 NotebookA.ipynb\r\n",
      "-rw-rw-r--+ 1 nhw1 nhw1     283 Aug 19 12:42 parameters.json\r\n",
      "-rw-rw-r--+ 1 nhw1 nhw1     201 Aug 19 12:43 sample.txt\r\n",
      "-rw-rw-r--+ 1 nhw1 nhw1 3066312 Aug 16 10:02 sorted.csv\r\n"
     ]
    }
   ],
   "source": [
    "!cp A-Basic_Unix_Shell_Commands.ipynb NotebookA.ipynb\n",
    "!ls -l "
   ]
  },
  {
   "cell_type": "markdown",
   "metadata": {},
   "source": [
    "Or we can copy the file to another folder. For example, the following command copies the file `A-Basic_Unix_Shell_Commands.ipynb` to folder `DealingWithData` and names the new file `NotebookA.ipynb`"
   ]
  },
  {
   "cell_type": "code",
   "execution_count": 10,
   "metadata": {},
   "outputs": [
    {
     "name": "stdout",
     "output_type": "stream",
     "text": [
      "total 1\r\n",
      "-rwxrwxr-x+ 1 nhw1 nhw1 8295 Aug 31 15:48 NotebookA.ipynb\r\n"
     ]
    }
   ],
   "source": [
    "!mkdir DealingWithData\n",
    "!cp A-Basic_Unix_Shell_Commands.ipynb DealingWithData/NotebookA.ipynb\n",
    "!ls -lA DealingWithData"
   ]
  },
  {
   "cell_type": "markdown",
   "metadata": {},
   "source": [
    "### `rm` \n",
    "\n",
    "The `rm` command is used to delete a file.\n",
    "\n",
    "rm -r : deletes a folder, recursively"
   ]
  },
  {
   "cell_type": "code",
   "execution_count": 11,
   "metadata": {},
   "outputs": [],
   "source": [
    "!rm DealingWithData/NotebookA.ipynb\n",
    "!rm NotebookA.ipynb"
   ]
  },
  {
   "cell_type": "code",
   "execution_count": 12,
   "metadata": {},
   "outputs": [
    {
     "name": "stdout",
     "output_type": "stream",
     "text": [
      "A-Basic_Unix_Shell_Commands.ipynb  D-Running_Tasks_In_The_Background.ipynb\r\n",
      "B-Fetching_Data_Using_CURL.ipynb   location.json\r\n",
      "C-Pipes_Filters_Redirection.ipynb  parameters.json\r\n",
      "cronhelp.ipynb\t\t\t   sample.txt\r\n",
      "data\t\t\t\t   sorted.csv\r\n"
     ]
    }
   ],
   "source": [
    "#clean up\n",
    "!rmdir DealingWithData\n",
    "!ls\n"
   ]
  },
  {
   "cell_type": "markdown",
   "metadata": {},
   "source": [
    "### `mv`\n",
    "\n",
    "The `mv` command is similar to `cp` but it moves the file instead of just copying it. Effectively it performs a `cp` command, followed by an `rm` for the original file"
   ]
  },
  {
   "cell_type": "markdown",
   "metadata": {},
   "source": [
    "## Exercise\n",
    "\n",
    "* Create two new directories, dir1 and dir2 with the mkdir command. \n",
    "* Use ls to confirm\n",
    "* Copy the file /home/ubuntu/data/titanic.xls to dir1 and name it file1.xls\n",
    "* Copy the file /home/ubuntu/data/imdb.sql to dir2 and name it file2.sql\n",
    "* Move each file to the other directory (file1.xls to dir2 and file2.sql to dir1) with the mv command\n",
    "* Delete both directories with the rm -r command\n"
   ]
  },
  {
   "cell_type": "code",
   "execution_count": 13,
   "metadata": {},
   "outputs": [],
   "source": [
    "# your code here"
   ]
  }
 ],
 "metadata": {
  "kernelspec": {
   "display_name": "Python 3",
   "language": "python",
   "name": "python3"
  },
  "language_info": {
   "codemirror_mode": {
    "name": "ipython",
    "version": 3
   },
   "file_extension": ".py",
   "mimetype": "text/x-python",
   "name": "python",
   "nbconvert_exporter": "python",
   "pygments_lexer": "ipython3",
   "version": "3.6.8"
  }
 },
 "nbformat": 4,
 "nbformat_minor": 1
}
