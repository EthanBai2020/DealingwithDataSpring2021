{
 "cells": [
  {
   "cell_type": "markdown",
   "metadata": {},
   "source": [
    "Getting Data using CURL\n",
    "-----------------------\n",
    "\n",
    "We now move into a more interesting topic: How to get data from Internet sources. For that, we will use a command-line tool of Unix, called `curl`. (Later in class, we will learn how to achieve the same using Python, but for quick testing, curl is often the standard method used.) We will also use a tool called `jq` to interact with JSON output. (Do not worry, we will revisit both these later in class.)\n",
    "\n",
    "_Often, curl and jq do not come preinstalled, so the first time that we use them, we need to issue the appropriate command for installing it.  To install it, simply type:_"
   ]
  },
  {
   "cell_type": "code",
   "execution_count": null,
   "metadata": {},
   "outputs": [],
   "source": [
    "#!sudo apt-get -y install curl\n",
    "#!sudo apt-get -y install jq"
   ]
  },
  {
   "cell_type": "markdown",
   "metadata": {},
   "source": [
    "Let's start by retrieving a simple text file, which we will use later in the class, to illustrate how different shell commands work. The sample data file is hosted online. You can use terminal commands to copy this remote file. Simply type:"
   ]
  },
  {
   "cell_type": "code",
   "execution_count": null,
   "metadata": {},
   "outputs": [],
   "source": [
    "!curl -L 'http://pages.stern.nyu.edu/~nwhite/DealingwithDataFall2018/sample.txt'"
   ]
  },
  {
   "cell_type": "markdown",
   "metadata": {},
   "source": [
    "The columns in this tab-separated data correspond to [order id] [time of order] [user id] [ordered item], something similar to what might be encountered in practice. If you wish, you can copy-paste the data written above into a text editor, making sure there is a newline following each of the ordered item columns (the columns with alphabetic characters)."
   ]
  },
  {
   "cell_type": "markdown",
   "metadata": {},
   "source": [
    "To store the output to a file, we also add the `-o [output file]` in the command. (We are also going to see in the next session how to use _output redirection_ to store the output to a file.)"
   ]
  },
  {
   "cell_type": "code",
   "execution_count": null,
   "metadata": {},
   "outputs": [],
   "source": [
    "!curl -L 'http://pages.stern.nyu.edu/~nwhite/DealingwithDataFall2018/sample.txt' -o data/sample.txt"
   ]
  },
  {
   "cell_type": "code",
   "execution_count": null,
   "metadata": {},
   "outputs": [],
   "source": [
    "!ls -al data/"
   ]
  },
  {
   "cell_type": "markdown",
   "metadata": {},
   "source": [
    "This will pull the file to the directory 'data', creating a new file called `sample.txt`. If we do not want to see any statistics about the download, we can use the `-s` option:"
   ]
  },
  {
   "cell_type": "code",
   "execution_count": null,
   "metadata": {},
   "outputs": [],
   "source": [
    "!curl  -s -L 'http://pages.stern.nyu.edu/~nwhite/DealingwithDataFall2018/sample.txt' -o data/sample.txt\n",
    "!ls -al  data/"
   ]
  },
  {
   "cell_type": "markdown",
   "metadata": {},
   "source": [
    "Now, let's try to use curl to get access to some real data. A key component of today's data ecosystem is the existence of `Web APIs` which provide functionality for a variety of tasks.\n",
    "\n",
    "#### Where am I?\n",
    "\n",
    "For example, let's try to figure out programmatically the location of the computer where the jupyter server is running. We can access the API call by issuing the following command: (128.122.85.5 is an Stern server's IP)\n",
    "\n"
   ]
  },
  {
   "cell_type": "code",
   "execution_count": null,
   "metadata": {},
   "outputs": [],
   "source": [
    "!curl -s \"http://api.ipstack.com/128.122.85.5?access_key=c2192e9aa79a13153a328f383b810862\"|jq"
   ]
  },
  {
   "cell_type": "code",
   "execution_count": null,
   "metadata": {},
   "outputs": [],
   "source": []
  },
  {
   "cell_type": "markdown",
   "metadata": {},
   "source": [
    "While this does not look nice to a human, for a computer is a perfectly legitimate answer. This format is called \"JSON\", and is an efficient and very commonly used way to trasfer data today on the Internet.\n",
    "| jq controls the presentation by taking the output and formatting it as json."
   ]
  },
  {
   "cell_type": "markdown",
   "metadata": {},
   "source": [
    "Now, let's examine a few more web APIs, just for fun:\n",
    "\n",
    "#### What's the weather?\n",
    "\n",
    "Now, let's use the OpenWeather API to get the weather details in our location. (The details of the API calls are available at http://openweathermap.org/api.)"
   ]
  },
  {
   "cell_type": "code",
   "execution_count": null,
   "metadata": {},
   "outputs": [],
   "source": [
    "!curl -s \"http://api.openweathermap.org/data/2.5/weather?\\\n",
    "&appid=ffb7b9808e07c9135bdcc7d1e867253d\\\n",
    "&q=New%20York,NY,USA\\\n",
    "&units=imperial\\\n",
    "&mode=json\"|jq ."
   ]
  },
  {
   "cell_type": "markdown",
   "metadata": {},
   "source": [
    "You will notice that we asked the service to return to us the data in JSON format. For that API, we can also ask the data to be returned in a different format, called XML, which is wordlier. (We will get back to these formats later in the semester.)"
   ]
  },
  {
   "cell_type": "code",
   "execution_count": null,
   "metadata": {},
   "outputs": [],
   "source": [
    "!curl -s \"http://api.openweathermap.org/data/2.5/weather?\\\n",
    "&q=New%20York,NY,USA\\\n",
    "&units=imperial\\\n",
    "&mode=xml\\\n",
    "&appid=ffb7b9808e07c9135bdcc7d1e867253d\""
   ]
  },
  {
   "cell_type": "markdown",
   "metadata": {},
   "source": [
    "#### What's the sentiment?\n",
    "\n",
    "Now let's try to use a web service to automatically analyze the sentiment for a piece of text. (The service comes from the [IBM's Alchemy API](http://www.alchemyapi.com/api/sentiment/textc.html#textsentiment))\n",
    "\n",
    "Note that you can register for a free account at IBM Cloud Services, and try out many of their \n",
    "machine learning/data science api's.\n",
    "https://www.ibm.com/cloud/"
   ]
  },
  {
   "cell_type": "code",
   "execution_count": null,
   "metadata": {},
   "outputs": [],
   "source": [
    "#  Create the parameter file for the call to watsons natutal language service\n",
    "!echo \"{\" >parameters.json\n",
    "!echo  \"   \\\"text\\\":\\\"I think that IBM watson is a wonderful service.\\\",\" >>parameters.json\n",
    "!echo \"    \\\"features\\\":{\" >>parameters.json\n",
    "!echo \"      \\\"entities\\\": {\" >>parameters.json\n",
    "!echo \"        \\\"emotion\\\": true,\" >>parameters.json\n",
    "!echo \"        \\\"sentiment\\\": true,\" >> parameters.json\n",
    "!echo \"        \\\"limit\\\":2\" >>parameters.json\n",
    "!echo \"      },\" >>parameters.json\n",
    "!echo \"     \\\"keywords\\\": {\" >>parameters.json\n",
    "!echo \"         \\\"emotion\\\":true,\" >>parameters.json\n",
    "!echo \"         \\\"sentiment\\\":true,\" >>parameters.json\n",
    "!echo \"         \\\"limit\\\": 2\" >> parameters.json\n",
    "!echo \"    }\" >> parameters.json\n",
    "!echo \"   }\"  >> parameters.json\n",
    "!echo \"}\" >> parameters.json\n",
    "!cat parameters.json"
   ]
  },
  {
   "cell_type": "code",
   "execution_count": null,
   "metadata": {},
   "outputs": [],
   "source": [
    "#!curl -s \"https://gateway-a.watsonplatform.net/calls/text/TextGetTextSentiment\" \\\n",
    "#-d \"outputMode=json\" \\\n",
    "#-d \"apikey=4b46c7859a7be311b6f9389b12504e302cac0a55\" \\\n",
    "#-d \"text=I did not dislike it. \" \n",
    "!curl -X POST -H \"content-Type: application/json\"   \\\n",
    "-u \"d59b0e77-fbaf-48b7-98c7-b274e6a24854\":\"wZAwEWMriIHT\" \\\n",
    "    -d @parameters.json  \\\n",
    "    \"https://gateway.watsonplatform.net/natural-language-understanding/api/v1/analyze?version=2017-02-27\"\n",
    "\n",
    "\n",
    "#!curl -G -u  \"cb28c5c0-93e8-4a95-8723-8d41a4069d87\":\"JwC0IoQNEphN\" -d \"version=2017-02-27\" -d \"url=pages.stern.nyu.edu/~nwhite\" -d \"features=keywords,entities\" -d \"entities.emotion=true\" -d \"entities.sentiment=true\" -d \"keywords.emotion=true\" -d \"keywords.sentiment=true\" \"https://gateway.watsonplatform.net/natural-language-understanding/api/v1/analyze\"      \n",
    "\n",
    "#{\n",
    "#  \"url\": \"https://gateway.watsonplatform.net/natural-language-understanding/api\",\n",
    "#  \"username\": \"cb28c5c0-93e8-4a95-8723-8d41a4069d87\",\n",
    "#  \"password\": \"JwC0IoQNEphN\"\n",
    "#}"
   ]
  },
  {
   "cell_type": "markdown",
   "metadata": {},
   "source": [
    "## Exercise\n",
    "\n",
    "The following websites contain listing of many useful APIs\n",
    "\n",
    "* https://market.mashape.com/explore\n",
    "* https://www.programmableweb.com/category/all/apis\n",
    "* http://www.mashery.com/\n",
    "* http://apigee.com/ \n",
    "\n",
    "Mashape is my own personal favorite in terms of user-friendliness and also has examples directly expressed using CURL. but the others are pretty nice as well. \n",
    "#### Your task: search through mashup  and find a web API that does something that you like. Use CURL to issue a web API call to this service. Note, You will need to create a mashup account to get a key to use with your application. "
   ]
  },
  {
   "cell_type": "code",
   "execution_count": null,
   "metadata": {},
   "outputs": [],
   "source": [
    "!curl -X POST --include 'https://andruxnet-random-famous-quotes.p.mashape.com/?cat=movies' \\\n",
    "-H 'X-Mashape-Key: OzEG3Zp1kqmshUxcOFT9hhn1LFbmp19ubr2jsnLlnpE40EIlCp' \\\n",
    "-H 'Content-Type: application/x-www-form-urlencoded' \\\n",
    "-H 'Accept: application/json'\n"
   ]
  },
  {
   "cell_type": "code",
   "execution_count": null,
   "metadata": {},
   "outputs": [],
   "source": []
  }
 ],
 "metadata": {
  "kernelspec": {
   "display_name": "Python 3",
   "language": "python",
   "name": "python3"
  },
  "language_info": {
   "codemirror_mode": {
    "name": "ipython",
    "version": 3
   },
   "file_extension": ".py",
   "mimetype": "text/x-python",
   "name": "python",
   "nbconvert_exporter": "python",
   "pygments_lexer": "ipython3",
   "version": "3.6.5"
  }
 },
 "nbformat": 4,
 "nbformat_minor": 1
}
