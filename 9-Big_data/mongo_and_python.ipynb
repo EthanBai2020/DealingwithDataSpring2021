{
 "cells": [
  {
   "cell_type": "markdown",
   "metadata": {},
   "source": [
    "## Mongodb and Python\n",
    "##### Mongo is a NOSQL database (Not Only SQL)\n",
    "####   \n",
    "##### Nosql databases don't use tables and rows like SQL, but offer a more object-oriented\n",
    "#### view of the data. In the case of mongo, a database is a collection of documents, \n",
    "#### where each document is stored as a JSON object.\n",
    "#### Hence it can easily store complex objects that would be hard to store in \n",
    "#### relational data bases\n",
    "####   \n",
    "#### Mongo also has the ability to have a cluster of servers, serving up a database,\n",
    "#### where the documents are distributed across many servers, \n",
    "#### and retrieval/searching is done in parallel\n",
    "#### Since the basic data object in mongo is a json object, the output of many API's\n",
    "#### can be directly stored in MONGO. For instance, the YELP database is distributed as \n",
    "#### a number of JSON files, one JSON file for each type of entity\n",
    "##### (business,tips,reviews,checkin, ...)\n",
    "##### Each json file can be loaded into a database with a single command. mongoimport."
   ]
  },
  {
   "cell_type": "markdown",
   "metadata": {},
   "source": [
    "## Mongo and the YELP database\n",
    "### Let's see how to connect to a mongo database using python"
   ]
  },
  {
   "cell_type": "code",
   "execution_count": 1,
   "metadata": {},
   "outputs": [
    {
     "name": "stdout",
     "output_type": "stream",
     "text": [
      "\u001b[33mThe directory '/home/nwhite/.cache/pip/http' or its parent directory is not owned by the current user and the cache has been disabled. Please check the permissions and owner of that directory. If executing pip with sudo, you may want sudo's -H flag.\u001b[0m\n",
      "\u001b[33mThe directory '/home/nwhite/.cache/pip' or its parent directory is not owned by the current user and caching wheels has been disabled. check the permissions and owner of that directory. If executing pip with sudo, you may want sudo's -H flag.\u001b[0m\n",
      "Requirement already satisfied: mongo in /usr/local/lib/python3.6/dist-packages (0.2.0)\n",
      "Requirement already satisfied: pymongo in /usr/local/lib/python3.6/dist-packages (from mongo) (3.6.1)\n",
      "\u001b[33mYou are using pip version 10.0.1, however version 18.1 is available.\n",
      "You should consider upgrading via the 'pip install --upgrade pip' command.\u001b[0m\n"
     ]
    }
   ],
   "source": [
    "!sudo pip install mongo"
   ]
  },
  {
   "cell_type": "code",
   "execution_count": 2,
   "metadata": {},
   "outputs": [],
   "source": [
    "import pymongo"
   ]
  },
  {
   "cell_type": "markdown",
   "metadata": {},
   "source": [
    "## WE NEED TO FIRST ESTABLISH an SSH Tunnel to bigdata to\n",
    "## TUNNEL port 27017 from the localhost  to bigdata.stern.nyu.edu\n",
    "### This is until NYU can open that port in the firewall.\n",
    "So you need to open up a terminal window and type the following command (but with your team account)\n",
    "\n",
    "ssh   -L 27107:bigdata.stern.nyu.edu:27017   DealingF18GB10@bigdata.stern.nyu.edu\n",
    "####         \n",
    "Then,\n",
    "continue on in this notebook."
   ]
  },
  {
   "cell_type": "code",
   "execution_count": 3,
   "metadata": {},
   "outputs": [],
   "source": [
    "from pymongo import MongoClient\n",
    "#client = MongoClient('bigdata.stern.nyu.edu',27017)\n",
    "client = MongoClient('mongodb://localhost:27017')"
   ]
  },
  {
   "cell_type": "code",
   "execution_count": 4,
   "metadata": {},
   "outputs": [],
   "source": [
    "db=client['yelp']\n"
   ]
  },
  {
   "cell_type": "markdown",
   "metadata": {},
   "source": [
    "#### So far so good, we are connected to the mongo server on the bigdata.stern.nyu.edu database\n",
    "#### Lets do a little test and create a database called 'myFirstMB' and add a collection called 'countries'"
   ]
  },
  {
   "cell_type": "code",
   "execution_count": 7,
   "metadata": {},
   "outputs": [
    {
     "name": "stdout",
     "output_type": "stream",
     "text": [
      "{'_id': ObjectId('5c01b2e9400de000a33a164c'), 'name': 'Canada'}\n"
     ]
    },
    {
     "name": "stderr",
     "output_type": "stream",
     "text": [
      "/usr/local/lib/python3.6/dist-packages/ipykernel_launcher.py:8: DeprecationWarning: insert is deprecated. Use insert_one or insert_many instead.\n",
      "  \n"
     ]
    }
   ],
   "source": [
    "def get_db():\n",
    "    from pymongo import MongoClient\n",
    "    client = MongoClient('localhost:27017')\n",
    "    db = client.myFirstMB\n",
    "    return db\n",
    "\n",
    "def add_country(db):\n",
    "    db.countries.insert({\"name\" : \"Canada\"})\n",
    "    \n",
    "def get_country(db):\n",
    "    return db.countries.find_one()\n",
    "\n",
    "if __name__ == \"__main__\":\n",
    "\n",
    "    db = get_db() \n",
    "    add_country(db)\n",
    "    print( get_country(db))"
   ]
  },
  {
   "cell_type": "code",
   "execution_count": 8,
   "metadata": {},
   "outputs": [
    {
     "name": "stdout",
     "output_type": "stream",
     "text": [
      "{'_id': ObjectId('5c01b2e9400de000a33a164c'), 'name': 'Canada'}\n",
      "{'_id': ObjectId('5c01b399400de000a33a164d'), 'name': 'USA'}\n",
      "{'_id': ObjectId('5c01b3b1400de000a33a164e'), 'name': 'USA'}\n",
      "{'_id': ObjectId('5c01b3d2400de000a33a164f'), 'name': 'USA'}\n",
      "{'_id': ObjectId('5c01b3d9400de000a33a1650'), 'name': 'USA'}\n",
      "{'_id': ObjectId('5c01b3f8400de000a33a1651'), 'name': 'USA'}\n",
      "{'_id': ObjectId('5c01b414400de000a33a1652'), 'name': 'USA'}\n",
      "{'_id': ObjectId('5c01b427400de000a33a1653'), 'name': 'USA'}\n",
      "{'_id': ObjectId('5c01b4a8400de000a33a1654'), 'name': 'USA'}\n",
      "{'_id': ObjectId('5c02df0f400de000e52d57f1'), 'name': 'Canada'}\n",
      "{'_id': ObjectId('5c02e047400de000e52d57f3'), 'name': 'Canada'}\n",
      "{'_id': ObjectId('5c02e163400de000e52d57f5'), 'name': 'Canada'}\n",
      "{'_id': ObjectId('5c054e4e400de0018d09afeb'), 'name': 'Canada'}\n",
      "{'_id': ObjectId('5c054e65400de0018d09afed'), 'name': 'Canada'}\n"
     ]
    }
   ],
   "source": [
    "for x in db.countries.find():\n",
    "    print(x)"
   ]
  },
  {
   "cell_type": "markdown",
   "metadata": {},
   "source": [
    "### Let's try the yelp database\n",
    "### But it us very large"
   ]
  },
  {
   "cell_type": "code",
   "execution_count": 9,
   "metadata": {},
   "outputs": [],
   "source": [
    "# switch to the yelp database\n",
    "db=client.yelp"
   ]
  },
  {
   "cell_type": "code",
   "execution_count": 10,
   "metadata": {},
   "outputs": [
    {
     "name": "stdout",
     "output_type": "stream",
     "text": [
      "<pymongo.cursor.Cursor object at 0x7f533a36cf60>\n"
     ]
    }
   ],
   "source": [
    "x=db.tip.find({'business_id':'FsDogwXYckKUgs5VUoPbJw'})\n",
    "print(x)"
   ]
  },
  {
   "cell_type": "code",
   "execution_count": 11,
   "metadata": {},
   "outputs": [
    {
     "name": "stdout",
     "output_type": "stream",
     "text": [
      "{'_id': ObjectId('5c0187e636bcfcbe7d0a079e'), 'text': 'Great deli', 'date': '2011-11-11', 'likes': 0, 'business_id': 'FsDogwXYckKUgs5VUoPbJw', 'user_id': 'blrWvPePSv87aU9hV1Zd8Q'}\n",
      "{'_id': ObjectId('5c0187f236bcfcbe7d134f7b'), 'text': \"How long does it typically take to get food here?  Been sitting for about 40 minutes... Nothing.  I'm starving.\", 'date': '2012-07-30', 'likes': 0, 'business_id': 'FsDogwXYckKUgs5VUoPbJw', 'user_id': 'JGGdzfzTOqv2l--aAT4Qcw'}\n",
      "{'_id': ObjectId('5c0187f236bcfcbe7d135a76'), 'text': 'Broasted Chicken takes 30 minutes to prepare fresh.  Worth the wait.', 'date': '2015-02-23', 'likes': 0, 'business_id': 'FsDogwXYckKUgs5VUoPbJw', 'user_id': 'heqccWi1Fn-Apli9o8eVQw'}\n",
      "{'_id': ObjectId('5c0187f236bcfcbe7d135a7e'), 'text': 'Place is permanently closed.', 'date': '2016-10-31', 'likes': 0, 'business_id': 'FsDogwXYckKUgs5VUoPbJw', 'user_id': 'dpglkz_wX19VSsYnTX2_xQ'}\n"
     ]
    }
   ],
   "source": [
    "for i in x:\n",
    "    print(i)"
   ]
  },
  {
   "cell_type": "code",
   "execution_count": 12,
   "metadata": {},
   "outputs": [
    {
     "name": "stdout",
     "output_type": "stream",
     "text": [
      "{'_id': ObjectId('5c017cf236bcfcbe7da6cd33'), 'business_id': 'FsDogwXYckKUgs5VUoPbJw', 'name': \"Frisch's\", 'neighborhood': '', 'address': '5301 Grove Rd', 'city': 'Pittsburgh', 'state': 'PA', 'postal_code': '15236', 'latitude': 40.3592663, 'longitude': -80.0022905, 'stars': 3.5, 'review_count': 38, 'is_open': 1, 'attributes': {'Alcohol': 'beer_and_wine', 'Ambience': \"{'romantic': False, 'intimate': False, 'classy': False, 'hipster': False, 'divey': False, 'touristy': False, 'trendy': False, 'upscale': False, 'casual': True}\", 'BikeParking': 'True', 'BusinessAcceptsCreditCards': 'True', 'BusinessParking': \"{'garage': False, 'street': False, 'validated': False, 'lot': True, 'valet': False}\", 'Caters': 'True', 'GoodForKids': 'True', 'GoodForMeal': \"{'dessert': False, 'latenight': False, 'lunch': True, 'dinner': False, 'breakfast': False, 'brunch': False}\", 'HasTV': 'True', 'NoiseLevel': 'average', 'OutdoorSeating': 'True', 'RestaurantsAttire': 'casual', 'RestaurantsDelivery': 'True', 'RestaurantsGoodForGroups': 'True', 'RestaurantsPriceRange2': '1', 'RestaurantsReservations': 'False', 'RestaurantsTableService': 'False', 'RestaurantsTakeOut': 'True', 'WiFi': 'no'}, 'categories': 'Sandwiches, Restaurants, Chicken Wings, Pizza', 'hours': {'Monday': '9:0-21:0', 'Tuesday': '9:0-21:0', 'Wednesday': '9:0-21:0', 'Thursday': '9:0-21:0', 'Friday': '9:0-22:0', 'Saturday': '9:0-21:0', 'Sunday': '10:0-21:0'}}\n"
     ]
    }
   ],
   "source": [
    "\n",
    "for business in db.businesses.find({'business_id':'FsDogwXYckKUgs5VUoPbJw'}):\n",
    "    print(business)"
   ]
  },
  {
   "cell_type": "code",
   "execution_count": 13,
   "metadata": {},
   "outputs": [
    {
     "ename": "NameError",
     "evalue": "name 'y' is not defined",
     "output_type": "error",
     "traceback": [
      "\u001b[0;31m---------------------------------------------------------------------------\u001b[0m",
      "\u001b[0;31mNameError\u001b[0m                                 Traceback (most recent call last)",
      "\u001b[0;32m<ipython-input-13-63be971a44f2>\u001b[0m in \u001b[0;36m<module>\u001b[0;34m()\u001b[0m\n\u001b[1;32m      1\u001b[0m \u001b[0mPA\u001b[0m\u001b[0;34m=\u001b[0m\u001b[0mdb\u001b[0m\u001b[0;34m.\u001b[0m\u001b[0mbusiness\u001b[0m\u001b[0;34m.\u001b[0m\u001b[0mfind\u001b[0m\u001b[0;34m(\u001b[0m\u001b[0;34m{\u001b[0m\u001b[0;34m'state'\u001b[0m\u001b[0;34m:\u001b[0m\u001b[0;34m'PA'\u001b[0m\u001b[0;34m}\u001b[0m\u001b[0;34m)\u001b[0m\u001b[0;34m\u001b[0m\u001b[0m\n\u001b[0;32m----> 2\u001b[0;31m \u001b[0;32mfor\u001b[0m \u001b[0mbusiness\u001b[0m \u001b[0;32min\u001b[0m \u001b[0my\u001b[0m\u001b[0;34m:\u001b[0m\u001b[0;34m\u001b[0m\u001b[0m\n\u001b[0m\u001b[1;32m      3\u001b[0m     \u001b[0mprint\u001b[0m\u001b[0;34m(\u001b[0m\u001b[0mh\u001b[0m\u001b[0;34m)\u001b[0m\u001b[0;34m\u001b[0m\u001b[0m\n",
      "\u001b[0;31mNameError\u001b[0m: name 'y' is not defined"
     ]
    }
   ],
   "source": [
    "PA=db.business.find({'state':'PA'})\n",
    "for business in PA:\n",
    "    print(business)"
   ]
  },
  {
   "cell_type": "code",
   "execution_count": null,
   "metadata": {},
   "outputs": [],
   "source": []
  }
 ],
 "metadata": {
  "kernelspec": {
   "display_name": "Python 3",
   "language": "python",
   "name": "python3"
  },
  "language_info": {
   "codemirror_mode": {
    "name": "ipython",
    "version": 3
   },
   "file_extension": ".py",
   "mimetype": "text/x-python",
   "name": "python",
   "nbconvert_exporter": "python",
   "pygments_lexer": "ipython3",
   "version": "3.6.5"
  }
 },
 "nbformat": 4,
 "nbformat_minor": 2
}
