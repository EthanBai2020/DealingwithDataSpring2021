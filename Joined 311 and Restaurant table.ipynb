{
 "cells": [
  {
   "cell_type": "markdown",
   "metadata": {},
   "source": [
    "# Some more things to try\n",
    "### Look at joined 311 and restaurant data"
   ]
  },
  {
   "cell_type": "code",
   "execution_count": null,
   "metadata": {},
   "outputs": [],
   "source": [
    "\n",
    "        \n",
    "from pyhive import hive\n",
    "cur = hive.connect(host='bigdata.stern.nyu.edu',port=10000, username=\"DealingF17GB9\",auth='NOSASL').cursor()\n",
    "import pandas as pd\n",
    "import sys\n",
    "        \n",
    "cur.execute(\"use dealings2016\")\n",
    "  \n",
    "#Execute query\n",
    "cur.execute(\"select tot311, zipcode from join311rest  group by zipcode \")\n",
    "for record in cur:\n",
    "    print (record)\n",
    "            \n",
    "      \n",
    "   "
   ]
  },
  {
   "cell_type": "code",
   "execution_count": null,
   "metadata": {
    "collapsed": true
   },
   "outputs": [],
   "source": []
  }
 ],
 "metadata": {
  "kernelspec": {
   "display_name": "Python 3",
   "language": "python",
   "name": "python3"
  },
  "language_info": {
   "codemirror_mode": {
    "name": "ipython",
    "version": 3
   },
   "file_extension": ".py",
   "mimetype": "text/x-python",
   "name": "python",
   "nbconvert_exporter": "python",
   "pygments_lexer": "ipython3",
   "version": "3.5.2"
  }
 },
 "nbformat": 4,
 "nbformat_minor": 1
}
