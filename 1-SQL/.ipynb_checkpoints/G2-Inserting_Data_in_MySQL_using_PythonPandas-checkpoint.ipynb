{
 "cells": [
  {
   "cell_type": "markdown",
   "metadata": {},
   "source": [
    "## Inserting and Reading data from MySQL using Pandas\n",
    "\n",
    "First let's start with a basic piece of code that fetches the data that we want to insert in the database. For our example, we will get the data about the Citibike stations, using the correspoding API call provided by the Citibike website:"
   ]
  },
  {
   "cell_type": "code",
   "execution_count": 1,
   "metadata": {},
   "outputs": [],
   "source": [
    "import requests"
   ]
  },
  {
   "cell_type": "code",
   "execution_count": 2,
   "metadata": {},
   "outputs": [],
   "source": [
    "# Let's get the data from the Citibike API\n",
    "\n",
    "# This gives information for each station that remains stable over time\n",
    "url_stations = 'https://gbfs.citibikenyc.com/gbfs/en/station_information.json'\n",
    "# This gives the live status of all the stations (e.g., bikes available etc)\n",
    "url_status = 'https://gbfs.citibikenyc.com/gbfs/en/station_status.json'\n",
    "\n",
    "# We fetch for now just the time-invariant data\n",
    "results = requests.get(url_stations).json() "
   ]
  },
  {
   "cell_type": "code",
   "execution_count": 3,
   "metadata": {},
   "outputs": [],
   "source": [
    "# We only need a subset of the data in the JSON returned by the Citibike API, so we keep only what we need\n",
    "data = results[\"data\"][\"stations\"]"
   ]
  },
  {
   "cell_type": "code",
   "execution_count": 4,
   "metadata": {},
   "outputs": [
    {
     "data": {
      "text/plain": [
       "843"
      ]
     },
     "execution_count": 4,
     "metadata": {},
     "output_type": "execute_result"
    }
   ],
   "source": [
    "len(data)"
   ]
  },
  {
   "cell_type": "code",
   "execution_count": 5,
   "metadata": {},
   "outputs": [
    {
     "data": {
      "text/html": [
       "<div>\n",
       "<style scoped>\n",
       "    .dataframe tbody tr th:only-of-type {\n",
       "        vertical-align: middle;\n",
       "    }\n",
       "\n",
       "    .dataframe tbody tr th {\n",
       "        vertical-align: top;\n",
       "    }\n",
       "\n",
       "    .dataframe thead th {\n",
       "        text-align: right;\n",
       "    }\n",
       "</style>\n",
       "<table border=\"1\" class=\"dataframe\">\n",
       "  <thead>\n",
       "    <tr style=\"text-align: right;\">\n",
       "      <th></th>\n",
       "      <th>station_id</th>\n",
       "      <th>external_id</th>\n",
       "      <th>name</th>\n",
       "      <th>short_name</th>\n",
       "      <th>lat</th>\n",
       "      <th>lon</th>\n",
       "      <th>region_id</th>\n",
       "      <th>rental_methods</th>\n",
       "      <th>capacity</th>\n",
       "      <th>rental_url</th>\n",
       "      <th>electric_bike_surcharge_waiver</th>\n",
       "      <th>eightd_has_key_dispenser</th>\n",
       "      <th>eightd_station_services</th>\n",
       "      <th>has_kiosk</th>\n",
       "    </tr>\n",
       "  </thead>\n",
       "  <tbody>\n",
       "    <tr>\n",
       "      <th>0</th>\n",
       "      <td>298</td>\n",
       "      <td>66db69d0-0aca-11e7-82f6-3863bb44ef7c</td>\n",
       "      <td>3 Ave &amp; Schermerhorn St</td>\n",
       "      <td>4437.01</td>\n",
       "      <td>40.686832</td>\n",
       "      <td>-73.979677</td>\n",
       "      <td>71</td>\n",
       "      <td>[CREDITCARD, KEY]</td>\n",
       "      <td>35</td>\n",
       "      <td>http://app.citibikenyc.com/S6Lr/IBV092JufD?sta...</td>\n",
       "      <td>False</td>\n",
       "      <td>False</td>\n",
       "      <td>[{'id': '5387339b-dcb0-4070-8e51-4fb719d3d482'...</td>\n",
       "      <td>True</td>\n",
       "    </tr>\n",
       "  </tbody>\n",
       "</table>\n",
       "</div>"
      ],
      "text/plain": [
       "  station_id                           external_id                     name  \\\n",
       "0        298  66db69d0-0aca-11e7-82f6-3863bb44ef7c  3 Ave & Schermerhorn St   \n",
       "\n",
       "  short_name        lat        lon  region_id     rental_methods  capacity  \\\n",
       "0    4437.01  40.686832 -73.979677         71  [CREDITCARD, KEY]        35   \n",
       "\n",
       "                                          rental_url  \\\n",
       "0  http://app.citibikenyc.com/S6Lr/IBV092JufD?sta...   \n",
       "\n",
       "   electric_bike_surcharge_waiver  eightd_has_key_dispenser  \\\n",
       "0                           False                     False   \n",
       "\n",
       "                             eightd_station_services  has_kiosk  \n",
       "0  [{'id': '5387339b-dcb0-4070-8e51-4fb719d3d482'...       True  "
      ]
     },
     "execution_count": 5,
     "metadata": {},
     "output_type": "execute_result"
    }
   ],
   "source": [
    "import pandas as pd\n",
    "df = pd.DataFrame(data)\n",
    "df.head(1)\n"
   ]
  },
  {
   "cell_type": "code",
   "execution_count": 6,
   "metadata": {},
   "outputs": [
    {
     "data": {
      "text/html": [
       "<div>\n",
       "<style scoped>\n",
       "    .dataframe tbody tr th:only-of-type {\n",
       "        vertical-align: middle;\n",
       "    }\n",
       "\n",
       "    .dataframe tbody tr th {\n",
       "        vertical-align: top;\n",
       "    }\n",
       "\n",
       "    .dataframe thead th {\n",
       "        text-align: right;\n",
       "    }\n",
       "</style>\n",
       "<table border=\"1\" class=\"dataframe\">\n",
       "  <thead>\n",
       "    <tr style=\"text-align: right;\">\n",
       "      <th></th>\n",
       "      <th>station_id</th>\n",
       "      <th>external_id</th>\n",
       "      <th>name</th>\n",
       "      <th>short_name</th>\n",
       "      <th>lat</th>\n",
       "      <th>lon</th>\n",
       "      <th>region_id</th>\n",
       "      <th>capacity</th>\n",
       "      <th>rental_url</th>\n",
       "      <th>electric_bike_surcharge_waiver</th>\n",
       "      <th>eightd_has_key_dispenser</th>\n",
       "      <th>has_kiosk</th>\n",
       "    </tr>\n",
       "  </thead>\n",
       "  <tbody>\n",
       "    <tr>\n",
       "      <th>0</th>\n",
       "      <td>298</td>\n",
       "      <td>66db69d0-0aca-11e7-82f6-3863bb44ef7c</td>\n",
       "      <td>3 Ave &amp; Schermerhorn St</td>\n",
       "      <td>4437.01</td>\n",
       "      <td>40.686832</td>\n",
       "      <td>-73.979677</td>\n",
       "      <td>71</td>\n",
       "      <td>35</td>\n",
       "      <td>http://app.citibikenyc.com/S6Lr/IBV092JufD?sta...</td>\n",
       "      <td>False</td>\n",
       "      <td>False</td>\n",
       "      <td>True</td>\n",
       "    </tr>\n",
       "    <tr>\n",
       "      <th>1</th>\n",
       "      <td>301</td>\n",
       "      <td>66db6aae-0aca-11e7-82f6-3863bb44ef7c</td>\n",
       "      <td>E 2 St &amp; Avenue B</td>\n",
       "      <td>5515.02</td>\n",
       "      <td>40.722174</td>\n",
       "      <td>-73.983688</td>\n",
       "      <td>71</td>\n",
       "      <td>58</td>\n",
       "      <td>http://app.citibikenyc.com/S6Lr/IBV092JufD?sta...</td>\n",
       "      <td>False</td>\n",
       "      <td>False</td>\n",
       "      <td>True</td>\n",
       "    </tr>\n",
       "    <tr>\n",
       "      <th>2</th>\n",
       "      <td>337</td>\n",
       "      <td>66db9925-0aca-11e7-82f6-3863bb44ef7c</td>\n",
       "      <td>Old Slip &amp; Front St</td>\n",
       "      <td>4993.12</td>\n",
       "      <td>40.703799</td>\n",
       "      <td>-74.008387</td>\n",
       "      <td>71</td>\n",
       "      <td>37</td>\n",
       "      <td>http://app.citibikenyc.com/S6Lr/IBV092JufD?sta...</td>\n",
       "      <td>False</td>\n",
       "      <td>False</td>\n",
       "      <td>True</td>\n",
       "    </tr>\n",
       "    <tr>\n",
       "      <th>3</th>\n",
       "      <td>358</td>\n",
       "      <td>66dbc8f5-0aca-11e7-82f6-3863bb44ef7c</td>\n",
       "      <td>Christopher St &amp; Greenwich St</td>\n",
       "      <td>5847.01</td>\n",
       "      <td>40.732916</td>\n",
       "      <td>-74.007114</td>\n",
       "      <td>71</td>\n",
       "      <td>50</td>\n",
       "      <td>http://app.citibikenyc.com/S6Lr/IBV092JufD?sta...</td>\n",
       "      <td>False</td>\n",
       "      <td>False</td>\n",
       "      <td>True</td>\n",
       "    </tr>\n",
       "    <tr>\n",
       "      <th>4</th>\n",
       "      <td>426</td>\n",
       "      <td>66dc0e99-0aca-11e7-82f6-3863bb44ef7c</td>\n",
       "      <td>West St &amp; Chambers St</td>\n",
       "      <td>5329.03</td>\n",
       "      <td>40.717548</td>\n",
       "      <td>-74.013221</td>\n",
       "      <td>71</td>\n",
       "      <td>29</td>\n",
       "      <td>http://app.citibikenyc.com/S6Lr/IBV092JufD?sta...</td>\n",
       "      <td>False</td>\n",
       "      <td>True</td>\n",
       "      <td>True</td>\n",
       "    </tr>\n",
       "  </tbody>\n",
       "</table>\n",
       "</div>"
      ],
      "text/plain": [
       "  station_id                           external_id  \\\n",
       "0        298  66db69d0-0aca-11e7-82f6-3863bb44ef7c   \n",
       "1        301  66db6aae-0aca-11e7-82f6-3863bb44ef7c   \n",
       "2        337  66db9925-0aca-11e7-82f6-3863bb44ef7c   \n",
       "3        358  66dbc8f5-0aca-11e7-82f6-3863bb44ef7c   \n",
       "4        426  66dc0e99-0aca-11e7-82f6-3863bb44ef7c   \n",
       "\n",
       "                            name short_name        lat        lon  region_id  \\\n",
       "0        3 Ave & Schermerhorn St    4437.01  40.686832 -73.979677         71   \n",
       "1              E 2 St & Avenue B    5515.02  40.722174 -73.983688         71   \n",
       "2            Old Slip & Front St    4993.12  40.703799 -74.008387         71   \n",
       "3  Christopher St & Greenwich St    5847.01  40.732916 -74.007114         71   \n",
       "4          West St & Chambers St    5329.03  40.717548 -74.013221         71   \n",
       "\n",
       "   capacity                                         rental_url  \\\n",
       "0        35  http://app.citibikenyc.com/S6Lr/IBV092JufD?sta...   \n",
       "1        58  http://app.citibikenyc.com/S6Lr/IBV092JufD?sta...   \n",
       "2        37  http://app.citibikenyc.com/S6Lr/IBV092JufD?sta...   \n",
       "3        50  http://app.citibikenyc.com/S6Lr/IBV092JufD?sta...   \n",
       "4        29  http://app.citibikenyc.com/S6Lr/IBV092JufD?sta...   \n",
       "\n",
       "   electric_bike_surcharge_waiver  eightd_has_key_dispenser  has_kiosk  \n",
       "0                           False                     False       True  \n",
       "1                           False                     False       True  \n",
       "2                           False                     False       True  \n",
       "3                           False                     False       True  \n",
       "4                           False                      True       True  "
      ]
     },
     "execution_count": 6,
     "metadata": {},
     "output_type": "execute_result"
    }
   ],
   "source": [
    "# We drop the 'rental methods' column, as it contains multiple values and \n",
    "# we cannot insert lists in a database cell.\n",
    "# also drop eightd_station_services for the same reason\n",
    "df.drop('rental_methods', axis=1, inplace = True)\n",
    "df.drop('eightd_station_services', axis=1, inplace = True)\n",
    "df.head(5)"
   ]
  },
  {
   "cell_type": "markdown",
   "metadata": {},
   "source": [
    "### Writing a Pandas Dataframe in a MySQL Table"
   ]
  },
  {
   "cell_type": "markdown",
   "metadata": {},
   "source": [
    "Now we will connect to our MySQL server. We will use the SQLAlchemy library of Python.\n",
    "\n",
    "If you do not have the library, you need to install it by typing in the shell:"
   ]
  },
  {
   "cell_type": "code",
   "execution_count": 7,
   "metadata": {},
   "outputs": [
    {
     "name": "stdout",
     "output_type": "stream",
     "text": [
      "sudo: effective uid is not 0, is /usr/bin/sudo on a file system with the 'nosuid' option set or an NFS file system without root privileges?\r\n"
     ]
    }
   ],
   "source": [
    "!sudo -H pip3 install -U sqlalchemy"
   ]
  },
  {
   "cell_type": "code",
   "execution_count": 8,
   "metadata": {},
   "outputs": [],
   "source": [
    "from sqlalchemy import create_engine\n",
    "\n",
    "conn_string = 'mysql://{user}:{password}@{host}/'.format(\n",
    "    host = 'bigdata.stern.nyu.edu', \n",
    "    user = 'DealingF19',\n",
    "    password = 'DealingF19!!')\n",
    "\n",
    "engine = create_engine(conn_string)\n",
    "con = engine.connect()"
   ]
  },
  {
   "cell_type": "markdown",
   "metadata": {},
   "source": [
    "Once we have connected successfully, we need to create our database:"
   ]
  },
  {
   "cell_type": "code",
   "execution_count": 9,
   "metadata": {},
   "outputs": [
    {
     "name": "stderr",
     "output_type": "stream",
     "text": [
      "/usr/local/lib/python3.6/dist-packages/sqlalchemy/engine/default.py:552: Warning: (1007, \"Can't create database 'citibike_stations'; database exists\")\n",
      "  cursor.execute(statement, parameters)\n"
     ]
    },
    {
     "data": {
      "text/plain": [
       "<sqlalchemy.engine.result.ResultProxy at 0x2b51253f4d68>"
      ]
     },
     "execution_count": 9,
     "metadata": {},
     "output_type": "execute_result"
    }
   ],
   "source": [
    "# Query to create a database\n",
    "db_name = 'citibike_stations'\n",
    "create_db_query = \"CREATE DATABASE IF NOT EXISTS {db} DEFAULT CHARACTER SET 'utf8'\".format(db=db_name)\n",
    "\n",
    "# Create a database\n",
    "engine.execute(create_db_query)\n",
    "# And lets switch to the database\n",
    "engine.execute(\"USE {db}\".format(db=db_name))"
   ]
  },
  {
   "cell_type": "markdown",
   "metadata": {},
   "source": [
    "Then we create the table where we will store our data. Since we already have the data in a Pandas DataFrame, it is very easy to put the data in a database."
   ]
  },
  {
   "cell_type": "code",
   "execution_count": 10,
   "metadata": {},
   "outputs": [
    {
     "data": {
      "text/plain": [
       "<sqlalchemy.engine.result.ResultProxy at 0x2b50f7e1cf60>"
      ]
     },
     "execution_count": 10,
     "metadata": {},
     "output_type": "execute_result"
    }
   ],
   "source": [
    "# Drop the table Stations, just to be sure\n",
    "drop_table_query= \"drop  table Stations \"\n",
    "engine.execute(drop_table_query)"
   ]
  },
  {
   "cell_type": "code",
   "execution_count": 11,
   "metadata": {},
   "outputs": [],
   "source": [
    "# This step is typically optional, but it is good practice to define explicitly the \n",
    "# data types before storing things in a database. In many cases, this can be ommitted, though.\n",
    "import sqlalchemy\n",
    "dtype = {\n",
    "    'capacity': sqlalchemy.types.INT,\n",
    "    'eightd_has_key_dispenser':  sqlalchemy.types.BOOLEAN,\n",
    "    'lat': sqlalchemy.types.Float, \n",
    "    'lon': sqlalchemy.types.Float,\n",
    "    'name': sqlalchemy.types.VARCHAR(50),\n",
    "    'region_id': sqlalchemy.types.VARCHAR(5),\n",
    "    'rental_url': sqlalchemy.types.VARCHAR(100),\n",
    "    'short_name': sqlalchemy.types.VARCHAR(10),\n",
    "    'station_id': sqlalchemy.types.INT\n",
    "}"
   ]
  },
  {
   "cell_type": "code",
   "execution_count": 12,
   "metadata": {},
   "outputs": [
    {
     "data": {
      "text/html": [
       "<div>\n",
       "<style scoped>\n",
       "    .dataframe tbody tr th:only-of-type {\n",
       "        vertical-align: middle;\n",
       "    }\n",
       "\n",
       "    .dataframe tbody tr th {\n",
       "        vertical-align: top;\n",
       "    }\n",
       "\n",
       "    .dataframe thead th {\n",
       "        text-align: right;\n",
       "    }\n",
       "</style>\n",
       "<table border=\"1\" class=\"dataframe\">\n",
       "  <thead>\n",
       "    <tr style=\"text-align: right;\">\n",
       "      <th></th>\n",
       "      <th>station_id</th>\n",
       "      <th>external_id</th>\n",
       "      <th>name</th>\n",
       "      <th>short_name</th>\n",
       "      <th>lat</th>\n",
       "      <th>lon</th>\n",
       "      <th>region_id</th>\n",
       "      <th>capacity</th>\n",
       "      <th>rental_url</th>\n",
       "      <th>electric_bike_surcharge_waiver</th>\n",
       "      <th>eightd_has_key_dispenser</th>\n",
       "      <th>has_kiosk</th>\n",
       "    </tr>\n",
       "  </thead>\n",
       "  <tbody>\n",
       "    <tr>\n",
       "      <th>0</th>\n",
       "      <td>298</td>\n",
       "      <td>66db69d0-0aca-11e7-82f6-3863bb44ef7c</td>\n",
       "      <td>3 Ave &amp; Schermerhorn St</td>\n",
       "      <td>4437.01</td>\n",
       "      <td>40.686832</td>\n",
       "      <td>-73.979677</td>\n",
       "      <td>71</td>\n",
       "      <td>35</td>\n",
       "      <td>http://app.citibikenyc.com/S6Lr/IBV092JufD?sta...</td>\n",
       "      <td>False</td>\n",
       "      <td>False</td>\n",
       "      <td>True</td>\n",
       "    </tr>\n",
       "    <tr>\n",
       "      <th>1</th>\n",
       "      <td>301</td>\n",
       "      <td>66db6aae-0aca-11e7-82f6-3863bb44ef7c</td>\n",
       "      <td>E 2 St &amp; Avenue B</td>\n",
       "      <td>5515.02</td>\n",
       "      <td>40.722174</td>\n",
       "      <td>-73.983688</td>\n",
       "      <td>71</td>\n",
       "      <td>58</td>\n",
       "      <td>http://app.citibikenyc.com/S6Lr/IBV092JufD?sta...</td>\n",
       "      <td>False</td>\n",
       "      <td>False</td>\n",
       "      <td>True</td>\n",
       "    </tr>\n",
       "    <tr>\n",
       "      <th>2</th>\n",
       "      <td>337</td>\n",
       "      <td>66db9925-0aca-11e7-82f6-3863bb44ef7c</td>\n",
       "      <td>Old Slip &amp; Front St</td>\n",
       "      <td>4993.12</td>\n",
       "      <td>40.703799</td>\n",
       "      <td>-74.008387</td>\n",
       "      <td>71</td>\n",
       "      <td>37</td>\n",
       "      <td>http://app.citibikenyc.com/S6Lr/IBV092JufD?sta...</td>\n",
       "      <td>False</td>\n",
       "      <td>False</td>\n",
       "      <td>True</td>\n",
       "    </tr>\n",
       "  </tbody>\n",
       "</table>\n",
       "</div>"
      ],
      "text/plain": [
       "  station_id                           external_id                     name  \\\n",
       "0        298  66db69d0-0aca-11e7-82f6-3863bb44ef7c  3 Ave & Schermerhorn St   \n",
       "1        301  66db6aae-0aca-11e7-82f6-3863bb44ef7c        E 2 St & Avenue B   \n",
       "2        337  66db9925-0aca-11e7-82f6-3863bb44ef7c      Old Slip & Front St   \n",
       "\n",
       "  short_name        lat        lon  region_id  capacity  \\\n",
       "0    4437.01  40.686832 -73.979677         71        35   \n",
       "1    5515.02  40.722174 -73.983688         71        58   \n",
       "2    4993.12  40.703799 -74.008387         71        37   \n",
       "\n",
       "                                          rental_url  \\\n",
       "0  http://app.citibikenyc.com/S6Lr/IBV092JufD?sta...   \n",
       "1  http://app.citibikenyc.com/S6Lr/IBV092JufD?sta...   \n",
       "2  http://app.citibikenyc.com/S6Lr/IBV092JufD?sta...   \n",
       "\n",
       "   electric_bike_surcharge_waiver  eightd_has_key_dispenser  has_kiosk  \n",
       "0                           False                     False       True  \n",
       "1                           False                     False       True  \n",
       "2                           False                     False       True  "
      ]
     },
     "execution_count": 12,
     "metadata": {},
     "output_type": "execute_result"
    }
   ],
   "source": [
    "df.head(3)"
   ]
  },
  {
   "cell_type": "markdown",
   "metadata": {},
   "source": [
    "#### The to_sql method gives an error, but actually creates the table"
   ]
  },
  {
   "cell_type": "code",
   "execution_count": 13,
   "metadata": {},
   "outputs": [
    {
     "ename": "AttributeError",
     "evalue": "'NoneType' object has no attribute 'replace'",
     "output_type": "error",
     "traceback": [
      "\u001b[0;31m---------------------------------------------------------------------------\u001b[0m",
      "\u001b[0;31mAttributeError\u001b[0m                            Traceback (most recent call last)",
      "\u001b[0;32m<ipython-input-13-c61468d1394b>\u001b[0m in \u001b[0;36m<module>\u001b[0;34m\u001b[0m\n\u001b[1;32m      7\u001b[0m \u001b[0;31m# Create a table (this gives an error, but actually creates the Stations table)\u001b[0m\u001b[0;34m\u001b[0m\u001b[0;34m\u001b[0m\u001b[0;34m\u001b[0m\u001b[0m\n\u001b[1;32m      8\u001b[0m \u001b[0;31m# See http://pandas.pydata.org/pandas-docs/stable/generated/pandas.DataFrame.to_sql.html for the documentation\u001b[0m\u001b[0;34m\u001b[0m\u001b[0;34m\u001b[0m\u001b[0;34m\u001b[0m\u001b[0m\n\u001b[0;32m----> 9\u001b[0;31m \u001b[0mdf\u001b[0m\u001b[0;34m.\u001b[0m\u001b[0mto_sql\u001b[0m\u001b[0;34m(\u001b[0m\u001b[0mtable_name\u001b[0m\u001b[0;34m,\u001b[0m \u001b[0mengine\u001b[0m\u001b[0;34m,\u001b[0m  \u001b[0mindex\u001b[0m \u001b[0;34m=\u001b[0m \u001b[0;32mFalse\u001b[0m\u001b[0;34m,\u001b[0m \u001b[0mif_exists\u001b[0m\u001b[0;34m=\u001b[0m\u001b[0;34m'replace'\u001b[0m\u001b[0;34m,\u001b[0m \u001b[0mdtype\u001b[0m\u001b[0;34m=\u001b[0m\u001b[0mdtype\u001b[0m\u001b[0;34m)\u001b[0m\u001b[0;34m\u001b[0m\u001b[0;34m\u001b[0m\u001b[0m\n\u001b[0m\u001b[1;32m     10\u001b[0m \u001b[0;34m\u001b[0m\u001b[0m\n",
      "\u001b[0;32m/usr/local/lib/python3.6/dist-packages/pandas/core/generic.py\u001b[0m in \u001b[0;36mto_sql\u001b[0;34m(self, name, con, schema, if_exists, index, index_label, chunksize, dtype, method)\u001b[0m\n\u001b[1;32m   2711\u001b[0m             \u001b[0mchunksize\u001b[0m\u001b[0;34m=\u001b[0m\u001b[0mchunksize\u001b[0m\u001b[0;34m,\u001b[0m\u001b[0;34m\u001b[0m\u001b[0;34m\u001b[0m\u001b[0m\n\u001b[1;32m   2712\u001b[0m             \u001b[0mdtype\u001b[0m\u001b[0;34m=\u001b[0m\u001b[0mdtype\u001b[0m\u001b[0;34m,\u001b[0m\u001b[0;34m\u001b[0m\u001b[0;34m\u001b[0m\u001b[0m\n\u001b[0;32m-> 2713\u001b[0;31m             \u001b[0mmethod\u001b[0m\u001b[0;34m=\u001b[0m\u001b[0mmethod\u001b[0m\u001b[0;34m,\u001b[0m\u001b[0;34m\u001b[0m\u001b[0;34m\u001b[0m\u001b[0m\n\u001b[0m\u001b[1;32m   2714\u001b[0m         )\n\u001b[1;32m   2715\u001b[0m \u001b[0;34m\u001b[0m\u001b[0m\n",
      "\u001b[0;32m/usr/local/lib/python3.6/dist-packages/pandas/io/sql.py\u001b[0m in \u001b[0;36mto_sql\u001b[0;34m(frame, name, con, schema, if_exists, index, index_label, chunksize, dtype, method)\u001b[0m\n\u001b[1;32m    516\u001b[0m         \u001b[0mchunksize\u001b[0m\u001b[0;34m=\u001b[0m\u001b[0mchunksize\u001b[0m\u001b[0;34m,\u001b[0m\u001b[0;34m\u001b[0m\u001b[0;34m\u001b[0m\u001b[0m\n\u001b[1;32m    517\u001b[0m         \u001b[0mdtype\u001b[0m\u001b[0;34m=\u001b[0m\u001b[0mdtype\u001b[0m\u001b[0;34m,\u001b[0m\u001b[0;34m\u001b[0m\u001b[0;34m\u001b[0m\u001b[0m\n\u001b[0;32m--> 518\u001b[0;31m         \u001b[0mmethod\u001b[0m\u001b[0;34m=\u001b[0m\u001b[0mmethod\u001b[0m\u001b[0;34m,\u001b[0m\u001b[0;34m\u001b[0m\u001b[0;34m\u001b[0m\u001b[0m\n\u001b[0m\u001b[1;32m    519\u001b[0m     )\n\u001b[1;32m    520\u001b[0m \u001b[0;34m\u001b[0m\u001b[0m\n",
      "\u001b[0;32m/usr/local/lib/python3.6/dist-packages/pandas/io/sql.py\u001b[0m in \u001b[0;36mto_sql\u001b[0;34m(self, frame, name, if_exists, index, index_label, schema, chunksize, dtype, method)\u001b[0m\n\u001b[1;32m   1325\u001b[0m             \u001b[0;32mwith\u001b[0m \u001b[0mself\u001b[0m\u001b[0;34m.\u001b[0m\u001b[0mconnectable\u001b[0m\u001b[0;34m.\u001b[0m\u001b[0mconnect\u001b[0m\u001b[0;34m(\u001b[0m\u001b[0;34m)\u001b[0m \u001b[0;32mas\u001b[0m \u001b[0mconn\u001b[0m\u001b[0;34m:\u001b[0m\u001b[0;34m\u001b[0m\u001b[0;34m\u001b[0m\u001b[0m\n\u001b[1;32m   1326\u001b[0m                 table_names = engine.table_names(\n\u001b[0;32m-> 1327\u001b[0;31m                     \u001b[0mschema\u001b[0m\u001b[0;34m=\u001b[0m\u001b[0mschema\u001b[0m \u001b[0;32mor\u001b[0m \u001b[0mself\u001b[0m\u001b[0;34m.\u001b[0m\u001b[0mmeta\u001b[0m\u001b[0;34m.\u001b[0m\u001b[0mschema\u001b[0m\u001b[0;34m,\u001b[0m \u001b[0mconnection\u001b[0m\u001b[0;34m=\u001b[0m\u001b[0mconn\u001b[0m\u001b[0;34m\u001b[0m\u001b[0;34m\u001b[0m\u001b[0m\n\u001b[0m\u001b[1;32m   1328\u001b[0m                 )\n\u001b[1;32m   1329\u001b[0m             \u001b[0;32mif\u001b[0m \u001b[0mname\u001b[0m \u001b[0;32mnot\u001b[0m \u001b[0;32min\u001b[0m \u001b[0mtable_names\u001b[0m\u001b[0;34m:\u001b[0m\u001b[0;34m\u001b[0m\u001b[0;34m\u001b[0m\u001b[0m\n",
      "\u001b[0;32m/usr/local/lib/python3.6/dist-packages/sqlalchemy/engine/base.py\u001b[0m in \u001b[0;36mtable_names\u001b[0;34m(self, schema, connection)\u001b[0m\n\u001b[1;32m   2244\u001b[0m             \u001b[0;32mif\u001b[0m \u001b[0;32mnot\u001b[0m \u001b[0mschema\u001b[0m\u001b[0;34m:\u001b[0m\u001b[0;34m\u001b[0m\u001b[0;34m\u001b[0m\u001b[0m\n\u001b[1;32m   2245\u001b[0m                 \u001b[0mschema\u001b[0m \u001b[0;34m=\u001b[0m \u001b[0mself\u001b[0m\u001b[0;34m.\u001b[0m\u001b[0mdialect\u001b[0m\u001b[0;34m.\u001b[0m\u001b[0mdefault_schema_name\u001b[0m\u001b[0;34m\u001b[0m\u001b[0;34m\u001b[0m\u001b[0m\n\u001b[0;32m-> 2246\u001b[0;31m             \u001b[0;32mreturn\u001b[0m \u001b[0mself\u001b[0m\u001b[0;34m.\u001b[0m\u001b[0mdialect\u001b[0m\u001b[0;34m.\u001b[0m\u001b[0mget_table_names\u001b[0m\u001b[0;34m(\u001b[0m\u001b[0mconn\u001b[0m\u001b[0;34m,\u001b[0m \u001b[0mschema\u001b[0m\u001b[0;34m)\u001b[0m\u001b[0;34m\u001b[0m\u001b[0;34m\u001b[0m\u001b[0m\n\u001b[0m\u001b[1;32m   2247\u001b[0m \u001b[0;34m\u001b[0m\u001b[0m\n\u001b[1;32m   2248\u001b[0m     \u001b[0;32mdef\u001b[0m \u001b[0mhas_table\u001b[0m\u001b[0;34m(\u001b[0m\u001b[0mself\u001b[0m\u001b[0;34m,\u001b[0m \u001b[0mtable_name\u001b[0m\u001b[0;34m,\u001b[0m \u001b[0mschema\u001b[0m\u001b[0;34m=\u001b[0m\u001b[0;32mNone\u001b[0m\u001b[0;34m)\u001b[0m\u001b[0;34m:\u001b[0m\u001b[0;34m\u001b[0m\u001b[0;34m\u001b[0m\u001b[0m\n",
      "\u001b[0;32m<string>\u001b[0m in \u001b[0;36mget_table_names\u001b[0;34m(self, connection, schema, **kw)\u001b[0m\n",
      "\u001b[0;32m/usr/local/lib/python3.6/dist-packages/sqlalchemy/engine/reflection.py\u001b[0m in \u001b[0;36mcache\u001b[0;34m(fn, self, con, *args, **kw)\u001b[0m\n\u001b[1;32m     42\u001b[0m     \u001b[0minfo_cache\u001b[0m \u001b[0;34m=\u001b[0m \u001b[0mkw\u001b[0m\u001b[0;34m.\u001b[0m\u001b[0mget\u001b[0m\u001b[0;34m(\u001b[0m\u001b[0;34m\"info_cache\"\u001b[0m\u001b[0;34m,\u001b[0m \u001b[0;32mNone\u001b[0m\u001b[0;34m)\u001b[0m\u001b[0;34m\u001b[0m\u001b[0;34m\u001b[0m\u001b[0m\n\u001b[1;32m     43\u001b[0m     \u001b[0;32mif\u001b[0m \u001b[0minfo_cache\u001b[0m \u001b[0;32mis\u001b[0m \u001b[0;32mNone\u001b[0m\u001b[0;34m:\u001b[0m\u001b[0;34m\u001b[0m\u001b[0;34m\u001b[0m\u001b[0m\n\u001b[0;32m---> 44\u001b[0;31m         \u001b[0;32mreturn\u001b[0m \u001b[0mfn\u001b[0m\u001b[0;34m(\u001b[0m\u001b[0mself\u001b[0m\u001b[0;34m,\u001b[0m \u001b[0mcon\u001b[0m\u001b[0;34m,\u001b[0m \u001b[0;34m*\u001b[0m\u001b[0margs\u001b[0m\u001b[0;34m,\u001b[0m \u001b[0;34m**\u001b[0m\u001b[0mkw\u001b[0m\u001b[0;34m)\u001b[0m\u001b[0;34m\u001b[0m\u001b[0;34m\u001b[0m\u001b[0m\n\u001b[0m\u001b[1;32m     45\u001b[0m     key = (\n\u001b[1;32m     46\u001b[0m         \u001b[0mfn\u001b[0m\u001b[0;34m.\u001b[0m\u001b[0m__name__\u001b[0m\u001b[0;34m,\u001b[0m\u001b[0;34m\u001b[0m\u001b[0;34m\u001b[0m\u001b[0m\n",
      "\u001b[0;32m/usr/local/lib/python3.6/dist-packages/sqlalchemy/dialects/mysql/base.py\u001b[0m in \u001b[0;36mget_table_names\u001b[0;34m(self, connection, schema, **kw)\u001b[0m\n\u001b[1;32m   2465\u001b[0m             rp = connection.execute(\n\u001b[1;32m   2466\u001b[0m                 \u001b[0;34m\"SHOW FULL TABLES FROM %s\"\u001b[0m\u001b[0;34m\u001b[0m\u001b[0;34m\u001b[0m\u001b[0m\n\u001b[0;32m-> 2467\u001b[0;31m                 \u001b[0;34m%\u001b[0m \u001b[0mself\u001b[0m\u001b[0;34m.\u001b[0m\u001b[0midentifier_preparer\u001b[0m\u001b[0;34m.\u001b[0m\u001b[0mquote_identifier\u001b[0m\u001b[0;34m(\u001b[0m\u001b[0mcurrent_schema\u001b[0m\u001b[0;34m)\u001b[0m\u001b[0;34m\u001b[0m\u001b[0;34m\u001b[0m\u001b[0m\n\u001b[0m\u001b[1;32m   2468\u001b[0m             )\n\u001b[1;32m   2469\u001b[0m \u001b[0;34m\u001b[0m\u001b[0m\n",
      "\u001b[0;32m/usr/local/lib/python3.6/dist-packages/sqlalchemy/sql/compiler.py\u001b[0m in \u001b[0;36mquote_identifier\u001b[0;34m(self, value)\u001b[0m\n\u001b[1;32m   3497\u001b[0m             \u001b[0mself\u001b[0m\u001b[0;34m.\u001b[0m\u001b[0minitial_quote\u001b[0m\u001b[0;34m\u001b[0m\u001b[0;34m\u001b[0m\u001b[0m\n\u001b[1;32m   3498\u001b[0m             \u001b[0;34m+\u001b[0m \u001b[0mself\u001b[0m\u001b[0;34m.\u001b[0m\u001b[0m_escape_identifier\u001b[0m\u001b[0;34m(\u001b[0m\u001b[0mvalue\u001b[0m\u001b[0;34m)\u001b[0m\u001b[0;34m\u001b[0m\u001b[0;34m\u001b[0m\u001b[0m\n\u001b[0;32m-> 3499\u001b[0;31m             \u001b[0;34m+\u001b[0m \u001b[0mself\u001b[0m\u001b[0;34m.\u001b[0m\u001b[0mfinal_quote\u001b[0m\u001b[0;34m\u001b[0m\u001b[0;34m\u001b[0m\u001b[0m\n\u001b[0m\u001b[1;32m   3500\u001b[0m         )\n\u001b[1;32m   3501\u001b[0m \u001b[0;34m\u001b[0m\u001b[0m\n",
      "\u001b[0;32m/usr/local/lib/python3.6/dist-packages/sqlalchemy/sql/compiler.py\u001b[0m in \u001b[0;36m_escape_identifier\u001b[0;34m(self, value)\u001b[0m\n\u001b[1;32m   3455\u001b[0m         \"\"\"\n\u001b[1;32m   3456\u001b[0m \u001b[0;34m\u001b[0m\u001b[0m\n\u001b[0;32m-> 3457\u001b[0;31m         \u001b[0mvalue\u001b[0m \u001b[0;34m=\u001b[0m \u001b[0mvalue\u001b[0m\u001b[0;34m.\u001b[0m\u001b[0mreplace\u001b[0m\u001b[0;34m(\u001b[0m\u001b[0mself\u001b[0m\u001b[0;34m.\u001b[0m\u001b[0mescape_quote\u001b[0m\u001b[0;34m,\u001b[0m \u001b[0mself\u001b[0m\u001b[0;34m.\u001b[0m\u001b[0mescape_to_quote\u001b[0m\u001b[0;34m)\u001b[0m\u001b[0;34m\u001b[0m\u001b[0;34m\u001b[0m\u001b[0m\n\u001b[0m\u001b[1;32m   3458\u001b[0m         \u001b[0;32mif\u001b[0m \u001b[0mself\u001b[0m\u001b[0;34m.\u001b[0m\u001b[0m_double_percents\u001b[0m\u001b[0;34m:\u001b[0m\u001b[0;34m\u001b[0m\u001b[0;34m\u001b[0m\u001b[0m\n\u001b[1;32m   3459\u001b[0m             \u001b[0mvalue\u001b[0m \u001b[0;34m=\u001b[0m \u001b[0mvalue\u001b[0m\u001b[0;34m.\u001b[0m\u001b[0mreplace\u001b[0m\u001b[0;34m(\u001b[0m\u001b[0;34m\"%\"\u001b[0m\u001b[0;34m,\u001b[0m \u001b[0;34m\"%%\"\u001b[0m\u001b[0;34m)\u001b[0m\u001b[0;34m\u001b[0m\u001b[0;34m\u001b[0m\u001b[0m\n",
      "\u001b[0;31mAttributeError\u001b[0m: 'NoneType' object has no attribute 'replace'"
     ]
    }
   ],
   "source": [
    "table_name = 'Stations'\n",
    "\n",
    "\n",
    "\n",
    "df.head(5)\n",
    "\n",
    "# Create a table (this gives an error, but actually creates the Stations table)\n",
    "# See http://pandas.pydata.org/pandas-docs/stable/generated/pandas.DataFrame.to_sql.html for the documentation\n",
    "df.to_sql(table_name, engine,  index = False, if_exists='replace', dtype=dtype)\n",
    "    \n"
   ]
  },
  {
   "cell_type": "code",
   "execution_count": 14,
   "metadata": {},
   "outputs": [
    {
     "data": {
      "text/html": [
       "<div>\n",
       "<style scoped>\n",
       "    .dataframe tbody tr th:only-of-type {\n",
       "        vertical-align: middle;\n",
       "    }\n",
       "\n",
       "    .dataframe tbody tr th {\n",
       "        vertical-align: top;\n",
       "    }\n",
       "\n",
       "    .dataframe thead th {\n",
       "        text-align: right;\n",
       "    }\n",
       "</style>\n",
       "<table border=\"1\" class=\"dataframe\">\n",
       "  <thead>\n",
       "    <tr style=\"text-align: right;\">\n",
       "      <th></th>\n",
       "      <th>station_id</th>\n",
       "      <th>external_id</th>\n",
       "      <th>name</th>\n",
       "      <th>short_name</th>\n",
       "      <th>lat</th>\n",
       "      <th>lon</th>\n",
       "      <th>region_id</th>\n",
       "      <th>capacity</th>\n",
       "      <th>rental_url</th>\n",
       "      <th>electric_bike_surcharge_waiver</th>\n",
       "      <th>eightd_has_key_dispenser</th>\n",
       "      <th>has_kiosk</th>\n",
       "    </tr>\n",
       "  </thead>\n",
       "  <tbody>\n",
       "    <tr>\n",
       "      <th>0</th>\n",
       "      <td>298</td>\n",
       "      <td>66db69d0-0aca-11e7-82f6-3863bb44ef7c</td>\n",
       "      <td>3 Ave &amp; Schermerhorn St</td>\n",
       "      <td>4437.01</td>\n",
       "      <td>40.686832</td>\n",
       "      <td>-73.979677</td>\n",
       "      <td>71</td>\n",
       "      <td>35</td>\n",
       "      <td>http://app.citibikenyc.com/S6Lr/IBV092JufD?sta...</td>\n",
       "      <td>False</td>\n",
       "      <td>False</td>\n",
       "      <td>True</td>\n",
       "    </tr>\n",
       "    <tr>\n",
       "      <th>1</th>\n",
       "      <td>301</td>\n",
       "      <td>66db6aae-0aca-11e7-82f6-3863bb44ef7c</td>\n",
       "      <td>E 2 St &amp; Avenue B</td>\n",
       "      <td>5515.02</td>\n",
       "      <td>40.722174</td>\n",
       "      <td>-73.983688</td>\n",
       "      <td>71</td>\n",
       "      <td>58</td>\n",
       "      <td>http://app.citibikenyc.com/S6Lr/IBV092JufD?sta...</td>\n",
       "      <td>False</td>\n",
       "      <td>False</td>\n",
       "      <td>True</td>\n",
       "    </tr>\n",
       "    <tr>\n",
       "      <th>2</th>\n",
       "      <td>337</td>\n",
       "      <td>66db9925-0aca-11e7-82f6-3863bb44ef7c</td>\n",
       "      <td>Old Slip &amp; Front St</td>\n",
       "      <td>4993.12</td>\n",
       "      <td>40.703799</td>\n",
       "      <td>-74.008387</td>\n",
       "      <td>71</td>\n",
       "      <td>37</td>\n",
       "      <td>http://app.citibikenyc.com/S6Lr/IBV092JufD?sta...</td>\n",
       "      <td>False</td>\n",
       "      <td>False</td>\n",
       "      <td>True</td>\n",
       "    </tr>\n",
       "    <tr>\n",
       "      <th>3</th>\n",
       "      <td>358</td>\n",
       "      <td>66dbc8f5-0aca-11e7-82f6-3863bb44ef7c</td>\n",
       "      <td>Christopher St &amp; Greenwich St</td>\n",
       "      <td>5847.01</td>\n",
       "      <td>40.732916</td>\n",
       "      <td>-74.007114</td>\n",
       "      <td>71</td>\n",
       "      <td>50</td>\n",
       "      <td>http://app.citibikenyc.com/S6Lr/IBV092JufD?sta...</td>\n",
       "      <td>False</td>\n",
       "      <td>False</td>\n",
       "      <td>True</td>\n",
       "    </tr>\n",
       "    <tr>\n",
       "      <th>4</th>\n",
       "      <td>426</td>\n",
       "      <td>66dc0e99-0aca-11e7-82f6-3863bb44ef7c</td>\n",
       "      <td>West St &amp; Chambers St</td>\n",
       "      <td>5329.03</td>\n",
       "      <td>40.717548</td>\n",
       "      <td>-74.013221</td>\n",
       "      <td>71</td>\n",
       "      <td>29</td>\n",
       "      <td>http://app.citibikenyc.com/S6Lr/IBV092JufD?sta...</td>\n",
       "      <td>False</td>\n",
       "      <td>True</td>\n",
       "      <td>True</td>\n",
       "    </tr>\n",
       "  </tbody>\n",
       "</table>\n",
       "</div>"
      ],
      "text/plain": [
       "  station_id                           external_id  \\\n",
       "0        298  66db69d0-0aca-11e7-82f6-3863bb44ef7c   \n",
       "1        301  66db6aae-0aca-11e7-82f6-3863bb44ef7c   \n",
       "2        337  66db9925-0aca-11e7-82f6-3863bb44ef7c   \n",
       "3        358  66dbc8f5-0aca-11e7-82f6-3863bb44ef7c   \n",
       "4        426  66dc0e99-0aca-11e7-82f6-3863bb44ef7c   \n",
       "\n",
       "                            name short_name        lat        lon  region_id  \\\n",
       "0        3 Ave & Schermerhorn St    4437.01  40.686832 -73.979677         71   \n",
       "1              E 2 St & Avenue B    5515.02  40.722174 -73.983688         71   \n",
       "2            Old Slip & Front St    4993.12  40.703799 -74.008387         71   \n",
       "3  Christopher St & Greenwich St    5847.01  40.732916 -74.007114         71   \n",
       "4          West St & Chambers St    5329.03  40.717548 -74.013221         71   \n",
       "\n",
       "   capacity                                         rental_url  \\\n",
       "0        35  http://app.citibikenyc.com/S6Lr/IBV092JufD?sta...   \n",
       "1        58  http://app.citibikenyc.com/S6Lr/IBV092JufD?sta...   \n",
       "2        37  http://app.citibikenyc.com/S6Lr/IBV092JufD?sta...   \n",
       "3        50  http://app.citibikenyc.com/S6Lr/IBV092JufD?sta...   \n",
       "4        29  http://app.citibikenyc.com/S6Lr/IBV092JufD?sta...   \n",
       "\n",
       "   electric_bike_surcharge_waiver  eightd_has_key_dispenser  has_kiosk  \n",
       "0                           False                     False       True  \n",
       "1                           False                     False       True  \n",
       "2                           False                     False       True  \n",
       "3                           False                     False       True  \n",
       "4                           False                      True       True  "
      ]
     },
     "execution_count": 14,
     "metadata": {},
     "output_type": "execute_result"
    }
   ],
   "source": [
    "df.head(5)"
   ]
  },
  {
   "cell_type": "code",
   "execution_count": 15,
   "metadata": {},
   "outputs": [
    {
     "data": {
      "text/plain": [
       "<sqlalchemy.engine.result.ResultProxy at 0x2b5124ba5eb8>"
      ]
     },
     "execution_count": 15,
     "metadata": {},
     "output_type": "execute_result"
    }
   ],
   "source": [
    "# Once we have the data in the table, we also specify a primary key\n",
    "# If we had FOREIGN KEYS we can add them in the same way\n",
    "add_key_query = 'ALTER TABLE Stations ADD PRIMARY KEY(station_id)'\n",
    "engine.execute(add_key_query)"
   ]
  },
  {
   "cell_type": "markdown",
   "metadata": {},
   "source": [
    "### Reading from a SQL Database in Python using Pandas"
   ]
  },
  {
   "cell_type": "markdown",
   "metadata": {},
   "source": [
    "We can similarly read from the database using Pandas"
   ]
  },
  {
   "cell_type": "code",
   "execution_count": 16,
   "metadata": {
    "scrolled": false
   },
   "outputs": [
    {
     "data": {
      "text/html": [
       "<div>\n",
       "<style scoped>\n",
       "    .dataframe tbody tr th:only-of-type {\n",
       "        vertical-align: middle;\n",
       "    }\n",
       "\n",
       "    .dataframe tbody tr th {\n",
       "        vertical-align: top;\n",
       "    }\n",
       "\n",
       "    .dataframe thead th {\n",
       "        text-align: right;\n",
       "    }\n",
       "</style>\n",
       "<table border=\"1\" class=\"dataframe\">\n",
       "  <thead>\n",
       "    <tr style=\"text-align: right;\">\n",
       "      <th></th>\n",
       "      <th>station_id</th>\n",
       "      <th>external_id</th>\n",
       "      <th>name</th>\n",
       "      <th>short_name</th>\n",
       "      <th>lat</th>\n",
       "      <th>lon</th>\n",
       "      <th>region_id</th>\n",
       "      <th>capacity</th>\n",
       "      <th>rental_url</th>\n",
       "      <th>electric_bike_surcharge_waiver</th>\n",
       "      <th>eightd_has_key_dispenser</th>\n",
       "      <th>has_kiosk</th>\n",
       "    </tr>\n",
       "  </thead>\n",
       "  <tbody>\n",
       "    <tr>\n",
       "      <th>0</th>\n",
       "      <td>72</td>\n",
       "      <td>66db237e-0aca-11e7-82f6-3863bb44ef7c</td>\n",
       "      <td>W 52 St &amp; 11 Ave</td>\n",
       "      <td>6926.01</td>\n",
       "      <td>40.7673</td>\n",
       "      <td>-73.9939</td>\n",
       "      <td>71</td>\n",
       "      <td>55</td>\n",
       "      <td>http://app.citibikenyc.com/S6Lr/IBV092JufD?sta...</td>\n",
       "      <td>0</td>\n",
       "      <td>0</td>\n",
       "      <td>1</td>\n",
       "    </tr>\n",
       "    <tr>\n",
       "      <th>1</th>\n",
       "      <td>79</td>\n",
       "      <td>66db269c-0aca-11e7-82f6-3863bb44ef7c</td>\n",
       "      <td>Franklin St &amp; W Broadway</td>\n",
       "      <td>5430.08</td>\n",
       "      <td>40.7191</td>\n",
       "      <td>-74.0067</td>\n",
       "      <td>71</td>\n",
       "      <td>33</td>\n",
       "      <td>http://app.citibikenyc.com/S6Lr/IBV092JufD?sta...</td>\n",
       "      <td>0</td>\n",
       "      <td>0</td>\n",
       "      <td>1</td>\n",
       "    </tr>\n",
       "    <tr>\n",
       "      <th>2</th>\n",
       "      <td>82</td>\n",
       "      <td>66db277a-0aca-11e7-82f6-3863bb44ef7c</td>\n",
       "      <td>St James Pl &amp; Pearl St</td>\n",
       "      <td>5167.06</td>\n",
       "      <td>40.7112</td>\n",
       "      <td>-74.0002</td>\n",
       "      <td>71</td>\n",
       "      <td>27</td>\n",
       "      <td>http://app.citibikenyc.com/S6Lr/IBV092JufD?sta...</td>\n",
       "      <td>0</td>\n",
       "      <td>0</td>\n",
       "      <td>1</td>\n",
       "    </tr>\n",
       "    <tr>\n",
       "      <th>3</th>\n",
       "      <td>83</td>\n",
       "      <td>66db281e-0aca-11e7-82f6-3863bb44ef7c</td>\n",
       "      <td>Atlantic Ave &amp; Fort Greene Pl</td>\n",
       "      <td>4354.07</td>\n",
       "      <td>40.6838</td>\n",
       "      <td>-73.9763</td>\n",
       "      <td>71</td>\n",
       "      <td>62</td>\n",
       "      <td>http://app.citibikenyc.com/S6Lr/IBV092JufD?sta...</td>\n",
       "      <td>0</td>\n",
       "      <td>0</td>\n",
       "      <td>1</td>\n",
       "    </tr>\n",
       "    <tr>\n",
       "      <th>4</th>\n",
       "      <td>116</td>\n",
       "      <td>66db28b5-0aca-11e7-82f6-3863bb44ef7c</td>\n",
       "      <td>W 17 St &amp; 8 Ave</td>\n",
       "      <td>6148.02</td>\n",
       "      <td>40.7418</td>\n",
       "      <td>-74.0015</td>\n",
       "      <td>71</td>\n",
       "      <td>39</td>\n",
       "      <td>http://app.citibikenyc.com/S6Lr/IBV092JufD?sta...</td>\n",
       "      <td>0</td>\n",
       "      <td>0</td>\n",
       "      <td>1</td>\n",
       "    </tr>\n",
       "  </tbody>\n",
       "</table>\n",
       "</div>"
      ],
      "text/plain": [
       "   station_id                           external_id  \\\n",
       "0          72  66db237e-0aca-11e7-82f6-3863bb44ef7c   \n",
       "1          79  66db269c-0aca-11e7-82f6-3863bb44ef7c   \n",
       "2          82  66db277a-0aca-11e7-82f6-3863bb44ef7c   \n",
       "3          83  66db281e-0aca-11e7-82f6-3863bb44ef7c   \n",
       "4         116  66db28b5-0aca-11e7-82f6-3863bb44ef7c   \n",
       "\n",
       "                            name short_name      lat      lon region_id  \\\n",
       "0               W 52 St & 11 Ave    6926.01  40.7673 -73.9939        71   \n",
       "1       Franklin St & W Broadway    5430.08  40.7191 -74.0067        71   \n",
       "2         St James Pl & Pearl St    5167.06  40.7112 -74.0002        71   \n",
       "3  Atlantic Ave & Fort Greene Pl    4354.07  40.6838 -73.9763        71   \n",
       "4                W 17 St & 8 Ave    6148.02  40.7418 -74.0015        71   \n",
       "\n",
       "   capacity                                         rental_url  \\\n",
       "0        55  http://app.citibikenyc.com/S6Lr/IBV092JufD?sta...   \n",
       "1        33  http://app.citibikenyc.com/S6Lr/IBV092JufD?sta...   \n",
       "2        27  http://app.citibikenyc.com/S6Lr/IBV092JufD?sta...   \n",
       "3        62  http://app.citibikenyc.com/S6Lr/IBV092JufD?sta...   \n",
       "4        39  http://app.citibikenyc.com/S6Lr/IBV092JufD?sta...   \n",
       "\n",
       "   electric_bike_surcharge_waiver  eightd_has_key_dispenser  has_kiosk  \n",
       "0                               0                         0          1  \n",
       "1                               0                         0          1  \n",
       "2                               0                         0          1  \n",
       "3                               0                         0          1  \n",
       "4                               0                         0          1  "
      ]
     },
     "execution_count": 16,
     "metadata": {},
     "output_type": "execute_result"
    }
   ],
   "source": [
    "query =  \"SELECT * FROM Stations\"\n",
    "df2 = pd.read_sql(query, con=engine)\n",
    "df2.head(5)\n"
   ]
  },
  {
   "cell_type": "markdown",
   "metadata": {},
   "source": [
    "And remember that from Pandas it is also possible to export in other formats, such as Excel of CSV."
   ]
  },
  {
   "cell_type": "code",
   "execution_count": null,
   "metadata": {},
   "outputs": [],
   "source": [
    "# The necessary library to write in Excel\n",
    "!pip3 install -U xlwt"
   ]
  },
  {
   "cell_type": "code",
   "execution_count": null,
   "metadata": {},
   "outputs": [],
   "source": [
    "df2.to_excel(\"citibike.xls\")\n",
    "df2.to_csv(\"citibike.csv\")\n",
    "!ls"
   ]
  },
  {
   "cell_type": "markdown",
   "metadata": {
    "collapsed": true
   },
   "source": [
    "### Exercise\n",
    "\n",
    "The `url_status = 'https://gbfs.citibikenyc.com/gbfs/en/station_status.json'` URL contains the status of the stations. Write code that reads the results from that API call, and then stores the data in a separate table. Add a \"foreign key\" constraint from the Status table to the Stations table that we created above."
   ]
  },
  {
   "cell_type": "code",
   "execution_count": null,
   "metadata": {},
   "outputs": [],
   "source": []
  }
 ],
 "metadata": {
  "kernelspec": {
   "display_name": "Python 3",
   "language": "python",
   "name": "python3"
  },
  "language_info": {
   "codemirror_mode": {
    "name": "ipython",
    "version": 3
   },
   "file_extension": ".py",
   "mimetype": "text/x-python",
   "name": "python",
   "nbconvert_exporter": "python",
   "pygments_lexer": "ipython3",
   "version": "3.6.8"
  }
 },
 "nbformat": 4,
 "nbformat_minor": 1
}
