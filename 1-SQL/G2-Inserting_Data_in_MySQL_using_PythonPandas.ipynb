{
  "nbformat": 4,
  "nbformat_minor": 0,
  "metadata": {
    "kernelspec": {
      "display_name": "Python 3",
      "language": "python",
      "name": "python3"
    },
    "language_info": {
      "codemirror_mode": {
        "name": "ipython",
        "version": 3
      },
      "file_extension": ".py",
      "mimetype": "text/x-python",
      "name": "python",
      "nbconvert_exporter": "python",
      "pygments_lexer": "ipython3",
      "version": "3.6.8"
    },
    "colab": {
      "name": "G2-Inserting_Data_in_MySQL_using_PythonPandas.ipynb",
      "provenance": [],
      "include_colab_link": true
    }
  },
  "cells": [
    {
      "cell_type": "markdown",
      "metadata": {
        "id": "view-in-github",
        "colab_type": "text"
      },
      "source": [
        "<a href=\"https://colab.research.google.com/github/nhwhite212/DealingwithDataSpring2021/blob/colab/1-SQL/G2-Inserting_Data_in_MySQL_using_PythonPandas.ipynb\" target=\"_parent\"><img src=\"https://colab.research.google.com/assets/colab-badge.svg\" alt=\"Open In Colab\"/></a>"
      ]
    },
    {
      "cell_type": "markdown",
      "metadata": {
        "id": "9uMEzqsegDeo"
      },
      "source": [
        "## Inserting and Reading data from MySQL using Pandas\n",
        "\n",
        "First let's start with a basic piece of code that fetches the data that we want to insert in the database. For our example, we will get the data about the Citibike stations, using the correspoding API call provided by the Citibike website:"
      ]
    },
    {
      "cell_type": "code",
      "metadata": {
        "id": "mlpxJu8JgDer"
      },
      "source": [
        "import requests"
      ],
      "execution_count": 1,
      "outputs": []
    },
    {
      "cell_type": "code",
      "metadata": {
        "id": "5PlCb2bWgDes"
      },
      "source": [
        "# Let's get the data from the Citibike API\n",
        "\n",
        "# This gives information for each station that remains stable over time\n",
        "url_stations = 'https://gbfs.citibikenyc.com/gbfs/en/station_information.json'\n",
        "# This gives the live status of all the stations (e.g., bikes available etc)\n",
        "url_status = 'https://gbfs.citibikenyc.com/gbfs/en/station_status.json'\n",
        "\n",
        "# We fetch for now just the time-invariant data\n",
        "results = requests.get(url_stations).json() "
      ],
      "execution_count": 2,
      "outputs": []
    },
    {
      "cell_type": "code",
      "metadata": {
        "id": "sjq_3a6ygDet"
      },
      "source": [
        "# We only need a subset of the data in the JSON returned by the Citibike API, so we keep only what we need\n",
        "data = results[\"data\"][\"stations\"]"
      ],
      "execution_count": 3,
      "outputs": []
    },
    {
      "cell_type": "code",
      "metadata": {
        "id": "GHlzVtvKgDeu",
        "outputId": "52dcc205-c365-4a88-c041-88a3f10e6362",
        "colab": {
          "base_uri": "https://localhost:8080/"
        }
      },
      "source": [
        "len(data)"
      ],
      "execution_count": 4,
      "outputs": [
        {
          "output_type": "execute_result",
          "data": {
            "text/plain": [
              "1289"
            ]
          },
          "metadata": {
            "tags": []
          },
          "execution_count": 4
        }
      ]
    },
    {
      "cell_type": "code",
      "metadata": {
        "id": "rL6u8vlFgDev",
        "outputId": "556b7719-f2c5-4179-abbb-62a136338d56",
        "colab": {
          "base_uri": "https://localhost:8080/",
          "height": 170
        }
      },
      "source": [
        "import pandas as pd\n",
        "df = pd.DataFrame(data)\n",
        "df.head(1)\n"
      ],
      "execution_count": 5,
      "outputs": [
        {
          "output_type": "execute_result",
          "data": {
            "text/html": [
              "<div>\n",
              "<style scoped>\n",
              "    .dataframe tbody tr th:only-of-type {\n",
              "        vertical-align: middle;\n",
              "    }\n",
              "\n",
              "    .dataframe tbody tr th {\n",
              "        vertical-align: top;\n",
              "    }\n",
              "\n",
              "    .dataframe thead th {\n",
              "        text-align: right;\n",
              "    }\n",
              "</style>\n",
              "<table border=\"1\" class=\"dataframe\">\n",
              "  <thead>\n",
              "    <tr style=\"text-align: right;\">\n",
              "      <th></th>\n",
              "      <th>electric_bike_surcharge_waiver</th>\n",
              "      <th>eightd_station_services</th>\n",
              "      <th>station_type</th>\n",
              "      <th>lat</th>\n",
              "      <th>region_id</th>\n",
              "      <th>name</th>\n",
              "      <th>external_id</th>\n",
              "      <th>lon</th>\n",
              "      <th>capacity</th>\n",
              "      <th>rental_uris</th>\n",
              "      <th>rental_methods</th>\n",
              "      <th>eightd_has_key_dispenser</th>\n",
              "      <th>has_kiosk</th>\n",
              "      <th>station_id</th>\n",
              "      <th>short_name</th>\n",
              "      <th>legacy_id</th>\n",
              "    </tr>\n",
              "  </thead>\n",
              "  <tbody>\n",
              "    <tr>\n",
              "      <th>0</th>\n",
              "      <td>False</td>\n",
              "      <td>[]</td>\n",
              "      <td>classic</td>\n",
              "      <td>40.767272</td>\n",
              "      <td>71</td>\n",
              "      <td>W 52 St &amp; 11 Ave</td>\n",
              "      <td>66db237e-0aca-11e7-82f6-3863bb44ef7c</td>\n",
              "      <td>-73.993929</td>\n",
              "      <td>55</td>\n",
              "      <td>{'ios': 'https://bkn.lft.to/lastmile_qr_scan',...</td>\n",
              "      <td>[CREDITCARD, KEY]</td>\n",
              "      <td>False</td>\n",
              "      <td>True</td>\n",
              "      <td>72</td>\n",
              "      <td>6926.01</td>\n",
              "      <td>72</td>\n",
              "    </tr>\n",
              "  </tbody>\n",
              "</table>\n",
              "</div>"
            ],
            "text/plain": [
              "   electric_bike_surcharge_waiver eightd_station_services  ... short_name  legacy_id\n",
              "0                           False                      []  ...    6926.01         72\n",
              "\n",
              "[1 rows x 16 columns]"
            ]
          },
          "metadata": {
            "tags": []
          },
          "execution_count": 5
        }
      ]
    },
    {
      "cell_type": "code",
      "metadata": {
        "id": "UJfdalA5gDew",
        "outputId": "44b10ef4-5c27-4a2f-9e47-deee59599938",
        "colab": {
          "base_uri": "https://localhost:8080/",
          "height": 310
        }
      },
      "source": [
        "# We drop the 'rental methods' column, as it contains multiple values and \n",
        "# we cannot insert lists in a database cell.\n",
        "# also drop eightd_station_services for the same reason\n",
        "df.drop('rental_methods', axis=1, inplace = True)\n",
        "df.drop('eightd_station_services', axis=1, inplace = True)\n",
        "df.head(5)"
      ],
      "execution_count": 6,
      "outputs": [
        {
          "output_type": "execute_result",
          "data": {
            "text/html": [
              "<div>\n",
              "<style scoped>\n",
              "    .dataframe tbody tr th:only-of-type {\n",
              "        vertical-align: middle;\n",
              "    }\n",
              "\n",
              "    .dataframe tbody tr th {\n",
              "        vertical-align: top;\n",
              "    }\n",
              "\n",
              "    .dataframe thead th {\n",
              "        text-align: right;\n",
              "    }\n",
              "</style>\n",
              "<table border=\"1\" class=\"dataframe\">\n",
              "  <thead>\n",
              "    <tr style=\"text-align: right;\">\n",
              "      <th></th>\n",
              "      <th>electric_bike_surcharge_waiver</th>\n",
              "      <th>station_type</th>\n",
              "      <th>lat</th>\n",
              "      <th>region_id</th>\n",
              "      <th>name</th>\n",
              "      <th>external_id</th>\n",
              "      <th>lon</th>\n",
              "      <th>capacity</th>\n",
              "      <th>rental_uris</th>\n",
              "      <th>eightd_has_key_dispenser</th>\n",
              "      <th>has_kiosk</th>\n",
              "      <th>station_id</th>\n",
              "      <th>short_name</th>\n",
              "      <th>legacy_id</th>\n",
              "    </tr>\n",
              "  </thead>\n",
              "  <tbody>\n",
              "    <tr>\n",
              "      <th>0</th>\n",
              "      <td>False</td>\n",
              "      <td>classic</td>\n",
              "      <td>40.767272</td>\n",
              "      <td>71</td>\n",
              "      <td>W 52 St &amp; 11 Ave</td>\n",
              "      <td>66db237e-0aca-11e7-82f6-3863bb44ef7c</td>\n",
              "      <td>-73.993929</td>\n",
              "      <td>55</td>\n",
              "      <td>{'ios': 'https://bkn.lft.to/lastmile_qr_scan',...</td>\n",
              "      <td>False</td>\n",
              "      <td>True</td>\n",
              "      <td>72</td>\n",
              "      <td>6926.01</td>\n",
              "      <td>72</td>\n",
              "    </tr>\n",
              "    <tr>\n",
              "      <th>1</th>\n",
              "      <td>False</td>\n",
              "      <td>classic</td>\n",
              "      <td>40.719116</td>\n",
              "      <td>71</td>\n",
              "      <td>Franklin St &amp; W Broadway</td>\n",
              "      <td>66db269c-0aca-11e7-82f6-3863bb44ef7c</td>\n",
              "      <td>-74.006667</td>\n",
              "      <td>33</td>\n",
              "      <td>{'ios': 'https://bkn.lft.to/lastmile_qr_scan',...</td>\n",
              "      <td>False</td>\n",
              "      <td>True</td>\n",
              "      <td>79</td>\n",
              "      <td>5430.08</td>\n",
              "      <td>79</td>\n",
              "    </tr>\n",
              "    <tr>\n",
              "      <th>2</th>\n",
              "      <td>False</td>\n",
              "      <td>classic</td>\n",
              "      <td>40.711174</td>\n",
              "      <td>71</td>\n",
              "      <td>St James Pl &amp; Pearl St</td>\n",
              "      <td>66db277a-0aca-11e7-82f6-3863bb44ef7c</td>\n",
              "      <td>-74.000165</td>\n",
              "      <td>27</td>\n",
              "      <td>{'ios': 'https://bkn.lft.to/lastmile_qr_scan',...</td>\n",
              "      <td>False</td>\n",
              "      <td>True</td>\n",
              "      <td>82</td>\n",
              "      <td>5167.06</td>\n",
              "      <td>82</td>\n",
              "    </tr>\n",
              "    <tr>\n",
              "      <th>3</th>\n",
              "      <td>False</td>\n",
              "      <td>classic</td>\n",
              "      <td>40.683826</td>\n",
              "      <td>71</td>\n",
              "      <td>Atlantic Ave &amp; Fort Greene Pl</td>\n",
              "      <td>66db281e-0aca-11e7-82f6-3863bb44ef7c</td>\n",
              "      <td>-73.976323</td>\n",
              "      <td>62</td>\n",
              "      <td>{'ios': 'https://bkn.lft.to/lastmile_qr_scan',...</td>\n",
              "      <td>False</td>\n",
              "      <td>True</td>\n",
              "      <td>83</td>\n",
              "      <td>4354.07</td>\n",
              "      <td>83</td>\n",
              "    </tr>\n",
              "    <tr>\n",
              "      <th>4</th>\n",
              "      <td>False</td>\n",
              "      <td>classic</td>\n",
              "      <td>40.741776</td>\n",
              "      <td>71</td>\n",
              "      <td>W 17 St &amp; 8 Ave</td>\n",
              "      <td>66db28b5-0aca-11e7-82f6-3863bb44ef7c</td>\n",
              "      <td>-74.001497</td>\n",
              "      <td>50</td>\n",
              "      <td>{'ios': 'https://bkn.lft.to/lastmile_qr_scan',...</td>\n",
              "      <td>False</td>\n",
              "      <td>True</td>\n",
              "      <td>116</td>\n",
              "      <td>6148.02</td>\n",
              "      <td>116</td>\n",
              "    </tr>\n",
              "  </tbody>\n",
              "</table>\n",
              "</div>"
            ],
            "text/plain": [
              "   electric_bike_surcharge_waiver station_type  ...  short_name legacy_id\n",
              "0                           False      classic  ...     6926.01        72\n",
              "1                           False      classic  ...     5430.08        79\n",
              "2                           False      classic  ...     5167.06        82\n",
              "3                           False      classic  ...     4354.07        83\n",
              "4                           False      classic  ...     6148.02       116\n",
              "\n",
              "[5 rows x 14 columns]"
            ]
          },
          "metadata": {
            "tags": []
          },
          "execution_count": 6
        }
      ]
    },
    {
      "cell_type": "markdown",
      "metadata": {
        "id": "ASwk-n7tgDex"
      },
      "source": [
        "### Writing a Pandas Dataframe in a MySQL Table"
      ]
    },
    {
      "cell_type": "markdown",
      "metadata": {
        "id": "3JOuvbM1gDex"
      },
      "source": [
        "Now we will connect to our MySQL server. We will use the SQLAlchemy library of Python.\n",
        "\n",
        "If you do not have the library, you need to install it by typing in the shell:"
      ]
    },
    {
      "cell_type": "code",
      "metadata": {
        "id": "iTTzzC0agDey",
        "outputId": "64ba82a0-ae2d-4199-8766-a7b194c100f1",
        "colab": {
          "base_uri": "https://localhost:8080/"
        }
      },
      "source": [
        "!sudo -H pip3 install -U sqlalchemy"
      ],
      "execution_count": 7,
      "outputs": [
        {
          "output_type": "stream",
          "text": [
            "Requirement already up-to-date: sqlalchemy in /usr/local/lib/python3.6/dist-packages (1.3.22)\n"
          ],
          "name": "stdout"
        }
      ]
    },
    {
      "cell_type": "code",
      "metadata": {
        "id": "xjfjxHG_ge4Y",
        "outputId": "321eb4de-a4f4-47cc-da27-ba3413f7c87a",
        "colab": {
          "base_uri": "https://localhost:8080/"
        }
      },
      "source": [
        "!sudo apt-get install -y python-dev libmysqlclient-dev && sudo pip install mysqlclient"
      ],
      "execution_count": 9,
      "outputs": [
        {
          "output_type": "stream",
          "text": [
            "Reading package lists... Done\n",
            "Building dependency tree       \n",
            "Reading state information... Done\n",
            "python-dev is already the newest version (2.7.15~rc1-1).\n",
            "The following NEW packages will be installed:\n",
            "  libmysqlclient-dev\n",
            "0 upgraded, 1 newly installed, 0 to remove and 13 not upgraded.\n",
            "Need to get 988 kB of archives.\n",
            "After this operation, 6,013 kB of additional disk space will be used.\n",
            "Get:1 http://archive.ubuntu.com/ubuntu bionic-updates/main amd64 libmysqlclient-dev amd64 5.7.32-0ubuntu0.18.04.1 [988 kB]\n",
            "Fetched 988 kB in 1s (843 kB/s)\n",
            "debconf: unable to initialize frontend: Dialog\n",
            "debconf: (No usable dialog-like program is installed, so the dialog based frontend cannot be used. at /usr/share/perl5/Debconf/FrontEnd/Dialog.pm line 76, <> line 1.)\n",
            "debconf: falling back to frontend: Readline\n",
            "debconf: unable to initialize frontend: Readline\n",
            "debconf: (This frontend requires a controlling tty.)\n",
            "debconf: falling back to frontend: Teletype\n",
            "dpkg-preconfigure: unable to re-open stdin: \n",
            "Selecting previously unselected package libmysqlclient-dev.\n",
            "(Reading database ... 146374 files and directories currently installed.)\n",
            "Preparing to unpack .../libmysqlclient-dev_5.7.32-0ubuntu0.18.04.1_amd64.deb ...\n",
            "Unpacking libmysqlclient-dev (5.7.32-0ubuntu0.18.04.1) ...\n",
            "Setting up libmysqlclient-dev (5.7.32-0ubuntu0.18.04.1) ...\n",
            "Processing triggers for man-db (2.8.3-2ubuntu0.1) ...\n",
            "Collecting mysqlclient\n",
            "\u001b[?25l  Downloading https://files.pythonhosted.org/packages/3c/df/59cd2fa5e48d0804d213bdcb1acb4d08c403b61c7ff7ed4dd4a6a2deb3f7/mysqlclient-2.0.3.tar.gz (88kB)\n",
            "\u001b[K     |████████████████████████████████| 92kB 5.2MB/s \n",
            "\u001b[?25hBuilding wheels for collected packages: mysqlclient\n",
            "  Building wheel for mysqlclient (setup.py) ... \u001b[?25l\u001b[?25hdone\n",
            "  Created wheel for mysqlclient: filename=mysqlclient-2.0.3-cp36-cp36m-linux_x86_64.whl size=99206 sha256=ab4e16dcd1bf8f58acb705ba1153a462bbf8b95bb5940aadd4310f76889b803a\n",
            "  Stored in directory: /root/.cache/pip/wheels/75/ca/e8/ad4e7ce3df18bcd91c7d84dd28c7c08db491a2a2360efed363\n",
            "Successfully built mysqlclient\n",
            "Installing collected packages: mysqlclient\n",
            "Successfully installed mysqlclient-2.0.3\n"
          ],
          "name": "stdout"
        }
      ]
    },
    {
      "cell_type": "code",
      "metadata": {
        "id": "tDRPEdc8gDez"
      },
      "source": [
        "from sqlalchemy import create_engine\n",
        "\n",
        "conn_string = 'mysql://{user}:{password}@{host}/'.format(\n",
        "    host = 'bigdata.stern.nyu.edu', \n",
        "    user = 'DealingS21',\n",
        "    password = 'DealingS21!!')\n",
        "\n",
        "engine = create_engine(conn_string)\n",
        "con = engine.connect()"
      ],
      "execution_count": 29,
      "outputs": []
    },
    {
      "cell_type": "markdown",
      "metadata": {
        "id": "mCJMSRv-gDe0"
      },
      "source": [
        "Once we have connected successfully, we need to create our database:"
      ]
    },
    {
      "cell_type": "code",
      "metadata": {
        "id": "svLOFuLzgDe1",
        "outputId": "c88237ff-182f-4102-d41f-a6c97fecf282",
        "colab": {
          "base_uri": "https://localhost:8080/"
        }
      },
      "source": [
        "# Query to create a database\n",
        "db_name = 'citibike_stations'\n",
        "create_db_query = \"CREATE DATABASE IF NOT EXISTS {db} DEFAULT CHARACTER SET 'utf8'\".format(db=db_name)\n",
        "\n",
        "# Create a database\n",
        "engine.execute(create_db_query)\n",
        "# And lets switch to the database\n",
        "engine.execute(\"USE {db}\".format(db=db_name))"
      ],
      "execution_count": 30,
      "outputs": [
        {
          "output_type": "execute_result",
          "data": {
            "text/plain": [
              "<sqlalchemy.engine.result.ResultProxy at 0x7f81d56b7d30>"
            ]
          },
          "metadata": {
            "tags": []
          },
          "execution_count": 30
        }
      ]
    },
    {
      "cell_type": "markdown",
      "metadata": {
        "id": "tEhTsmuwgDe1"
      },
      "source": [
        "Then we create the table where we will store our data. Since we already have the data in a Pandas DataFrame, it is very easy to put the data in a database."
      ]
    },
    {
      "cell_type": "code",
      "metadata": {
        "id": "Uc7eUC-4gDe1",
        "outputId": "8e4cf356-6a3a-4a7c-ed4a-85d54f59d371",
        "colab": {
          "base_uri": "https://localhost:8080/"
        }
      },
      "source": [
        "# Drop the table Stations, just to be sure\n",
        "drop_table_query= \"drop  table Stations \"\n",
        "engine.execute(drop_table_query)"
      ],
      "execution_count": 36,
      "outputs": [
        {
          "output_type": "execute_result",
          "data": {
            "text/plain": [
              "<sqlalchemy.engine.result.ResultProxy at 0x7f81d57589e8>"
            ]
          },
          "metadata": {
            "tags": []
          },
          "execution_count": 36
        }
      ]
    },
    {
      "cell_type": "code",
      "metadata": {
        "id": "hJFV6X-2gDe1"
      },
      "source": [
        "# This step is typically optional, but it is good practice to define explicitly the \n",
        "# data types before storing things in a database. In many cases, this can be ommitted, though.\n",
        "import sqlalchemy\n",
        "dtype = {\n",
        "    'capacity': sqlalchemy.types.INT,\n",
        "    'eightd_has_key_dispenser':  sqlalchemy.types.BOOLEAN,\n",
        "    'lat': sqlalchemy.types.Float, \n",
        "    'lon': sqlalchemy.types.Float,\n",
        "    'name': sqlalchemy.types.VARCHAR(100),\n",
        "    'region_id': sqlalchemy.types.VARCHAR(5),\n",
        "    'rental_url': sqlalchemy.types.VARCHAR(100),\n",
        "    'short_name': sqlalchemy.types.VARCHAR(10),\n",
        "    'station_id': sqlalchemy.types.INT\n",
        "}"
      ],
      "execution_count": 37,
      "outputs": []
    },
    {
      "cell_type": "markdown",
      "metadata": {
        "id": "DsBeeS7Ng1f_"
      },
      "source": [
        "#### Let's look at our dataframe"
      ]
    },
    {
      "cell_type": "code",
      "metadata": {
        "id": "enTWy8SSgDe1",
        "outputId": "88c4b715-b33f-4de7-e6b8-c987e7071d23",
        "colab": {
          "base_uri": "https://localhost:8080/",
          "height": 196
        }
      },
      "source": [
        "df.head(3)"
      ],
      "execution_count": 38,
      "outputs": [
        {
          "output_type": "execute_result",
          "data": {
            "text/html": [
              "<div>\n",
              "<style scoped>\n",
              "    .dataframe tbody tr th:only-of-type {\n",
              "        vertical-align: middle;\n",
              "    }\n",
              "\n",
              "    .dataframe tbody tr th {\n",
              "        vertical-align: top;\n",
              "    }\n",
              "\n",
              "    .dataframe thead th {\n",
              "        text-align: right;\n",
              "    }\n",
              "</style>\n",
              "<table border=\"1\" class=\"dataframe\">\n",
              "  <thead>\n",
              "    <tr style=\"text-align: right;\">\n",
              "      <th></th>\n",
              "      <th>electric_bike_surcharge_waiver</th>\n",
              "      <th>station_type</th>\n",
              "      <th>lat</th>\n",
              "      <th>region_id</th>\n",
              "      <th>name</th>\n",
              "      <th>external_id</th>\n",
              "      <th>lon</th>\n",
              "      <th>capacity</th>\n",
              "      <th>rental_uris</th>\n",
              "      <th>eightd_has_key_dispenser</th>\n",
              "      <th>has_kiosk</th>\n",
              "      <th>station_id</th>\n",
              "      <th>short_name</th>\n",
              "      <th>legacy_id</th>\n",
              "    </tr>\n",
              "  </thead>\n",
              "  <tbody>\n",
              "    <tr>\n",
              "      <th>0</th>\n",
              "      <td>False</td>\n",
              "      <td>classic</td>\n",
              "      <td>40.767272</td>\n",
              "      <td>71</td>\n",
              "      <td>W 52 St &amp; 11 Ave</td>\n",
              "      <td>66db237e-0aca-11e7-82f6-3863bb44ef7c</td>\n",
              "      <td>-73.993929</td>\n",
              "      <td>55</td>\n",
              "      <td>{'ios': 'https://bkn.lft.to/lastmile_qr_scan',...</td>\n",
              "      <td>False</td>\n",
              "      <td>True</td>\n",
              "      <td>72</td>\n",
              "      <td>6926.01</td>\n",
              "      <td>72</td>\n",
              "    </tr>\n",
              "    <tr>\n",
              "      <th>1</th>\n",
              "      <td>False</td>\n",
              "      <td>classic</td>\n",
              "      <td>40.719116</td>\n",
              "      <td>71</td>\n",
              "      <td>Franklin St &amp; W Broadway</td>\n",
              "      <td>66db269c-0aca-11e7-82f6-3863bb44ef7c</td>\n",
              "      <td>-74.006667</td>\n",
              "      <td>33</td>\n",
              "      <td>{'ios': 'https://bkn.lft.to/lastmile_qr_scan',...</td>\n",
              "      <td>False</td>\n",
              "      <td>True</td>\n",
              "      <td>79</td>\n",
              "      <td>5430.08</td>\n",
              "      <td>79</td>\n",
              "    </tr>\n",
              "    <tr>\n",
              "      <th>2</th>\n",
              "      <td>False</td>\n",
              "      <td>classic</td>\n",
              "      <td>40.711174</td>\n",
              "      <td>71</td>\n",
              "      <td>St James Pl &amp; Pearl St</td>\n",
              "      <td>66db277a-0aca-11e7-82f6-3863bb44ef7c</td>\n",
              "      <td>-74.000165</td>\n",
              "      <td>27</td>\n",
              "      <td>{'ios': 'https://bkn.lft.to/lastmile_qr_scan',...</td>\n",
              "      <td>False</td>\n",
              "      <td>True</td>\n",
              "      <td>82</td>\n",
              "      <td>5167.06</td>\n",
              "      <td>82</td>\n",
              "    </tr>\n",
              "  </tbody>\n",
              "</table>\n",
              "</div>"
            ],
            "text/plain": [
              "   electric_bike_surcharge_waiver station_type  ...  short_name legacy_id\n",
              "0                           False      classic  ...     6926.01        72\n",
              "1                           False      classic  ...     5430.08        79\n",
              "2                           False      classic  ...     5167.06        82\n",
              "\n",
              "[3 rows x 14 columns]"
            ]
          },
          "metadata": {
            "tags": []
          },
          "execution_count": 38
        }
      ]
    },
    {
      "cell_type": "markdown",
      "metadata": {
        "id": "gsdYP-74gDe3"
      },
      "source": [
        "#### The to_sql method gives an error, but actually creates the table"
      ]
    },
    {
      "cell_type": "code",
      "metadata": {
        "id": "irvCd9vQgDe3",
        "outputId": "d82ea343-0561-4183-bb42-f5656a5fb04f",
        "colab": {
          "base_uri": "https://localhost:8080/",
          "height": 417
        }
      },
      "source": [
        "table_name = 'Stations'\n",
        "\n",
        "\n",
        "\n",
        "df.head(5)\n",
        "\n",
        "# Create a table (this gives an error, but actually creates the Stations table)\n",
        "# See http://pandas.pydata.org/pandas-docs/stable/generated/pandas.DataFrame.to_sql.html for the documentation\n",
        "df.to_sql(table_name, engine,  index = False,  dtype=dtype)\n",
        "    \n"
      ],
      "execution_count": 39,
      "outputs": [
        {
          "output_type": "error",
          "ename": "AttributeError",
          "evalue": "ignored",
          "traceback": [
            "\u001b[0;31m---------------------------------------------------------------------------\u001b[0m",
            "\u001b[0;31mAttributeError\u001b[0m                            Traceback (most recent call last)",
            "\u001b[0;32m<ipython-input-39-b8e24dd956b5>\u001b[0m in \u001b[0;36m<module>\u001b[0;34m()\u001b[0m\n\u001b[1;32m      7\u001b[0m \u001b[0;31m# Create a table (this gives an error, but actually creates the Stations table)\u001b[0m\u001b[0;34m\u001b[0m\u001b[0;34m\u001b[0m\u001b[0;34m\u001b[0m\u001b[0m\n\u001b[1;32m      8\u001b[0m \u001b[0;31m# See http://pandas.pydata.org/pandas-docs/stable/generated/pandas.DataFrame.to_sql.html for the documentation\u001b[0m\u001b[0;34m\u001b[0m\u001b[0;34m\u001b[0m\u001b[0;34m\u001b[0m\u001b[0m\n\u001b[0;32m----> 9\u001b[0;31m \u001b[0mdf\u001b[0m\u001b[0;34m.\u001b[0m\u001b[0mto_sql\u001b[0m\u001b[0;34m(\u001b[0m\u001b[0mtable_name\u001b[0m\u001b[0;34m,\u001b[0m \u001b[0mengine\u001b[0m\u001b[0;34m,\u001b[0m  \u001b[0mindex\u001b[0m \u001b[0;34m=\u001b[0m \u001b[0;32mFalse\u001b[0m\u001b[0;34m,\u001b[0m  \u001b[0mdtype\u001b[0m\u001b[0;34m=\u001b[0m\u001b[0mdtype\u001b[0m\u001b[0;34m)\u001b[0m\u001b[0;34m\u001b[0m\u001b[0;34m\u001b[0m\u001b[0m\n\u001b[0m\u001b[1;32m     10\u001b[0m \u001b[0;34m\u001b[0m\u001b[0m\n",
            "\u001b[0;32m/usr/local/lib/python3.6/dist-packages/pandas/core/generic.py\u001b[0m in \u001b[0;36mto_sql\u001b[0;34m(self, name, con, schema, if_exists, index, index_label, chunksize, dtype, method)\u001b[0m\n\u001b[1;32m   2613\u001b[0m             \u001b[0mchunksize\u001b[0m\u001b[0;34m=\u001b[0m\u001b[0mchunksize\u001b[0m\u001b[0;34m,\u001b[0m\u001b[0;34m\u001b[0m\u001b[0;34m\u001b[0m\u001b[0m\n\u001b[1;32m   2614\u001b[0m             \u001b[0mdtype\u001b[0m\u001b[0;34m=\u001b[0m\u001b[0mdtype\u001b[0m\u001b[0;34m,\u001b[0m\u001b[0;34m\u001b[0m\u001b[0;34m\u001b[0m\u001b[0m\n\u001b[0;32m-> 2615\u001b[0;31m             \u001b[0mmethod\u001b[0m\u001b[0;34m=\u001b[0m\u001b[0mmethod\u001b[0m\u001b[0;34m,\u001b[0m\u001b[0;34m\u001b[0m\u001b[0;34m\u001b[0m\u001b[0m\n\u001b[0m\u001b[1;32m   2616\u001b[0m         )\n\u001b[1;32m   2617\u001b[0m \u001b[0;34m\u001b[0m\u001b[0m\n",
            "\u001b[0;32m/usr/local/lib/python3.6/dist-packages/pandas/io/sql.py\u001b[0m in \u001b[0;36mto_sql\u001b[0;34m(frame, name, con, schema, if_exists, index, index_label, chunksize, dtype, method)\u001b[0m\n\u001b[1;32m    596\u001b[0m         \u001b[0mchunksize\u001b[0m\u001b[0;34m=\u001b[0m\u001b[0mchunksize\u001b[0m\u001b[0;34m,\u001b[0m\u001b[0;34m\u001b[0m\u001b[0;34m\u001b[0m\u001b[0m\n\u001b[1;32m    597\u001b[0m         \u001b[0mdtype\u001b[0m\u001b[0;34m=\u001b[0m\u001b[0mdtype\u001b[0m\u001b[0;34m,\u001b[0m\u001b[0;34m\u001b[0m\u001b[0;34m\u001b[0m\u001b[0m\n\u001b[0;32m--> 598\u001b[0;31m         \u001b[0mmethod\u001b[0m\u001b[0;34m=\u001b[0m\u001b[0mmethod\u001b[0m\u001b[0;34m,\u001b[0m\u001b[0;34m\u001b[0m\u001b[0;34m\u001b[0m\u001b[0m\n\u001b[0m\u001b[1;32m    599\u001b[0m     )\n\u001b[1;32m    600\u001b[0m \u001b[0;34m\u001b[0m\u001b[0m\n",
            "\u001b[0;32m/usr/local/lib/python3.6/dist-packages/pandas/io/sql.py\u001b[0m in \u001b[0;36mto_sql\u001b[0;34m(self, frame, name, if_exists, index, index_label, schema, chunksize, dtype, method)\u001b[0m\n\u001b[1;32m   1412\u001b[0m             \u001b[0;32mwith\u001b[0m \u001b[0mself\u001b[0m\u001b[0;34m.\u001b[0m\u001b[0mconnectable\u001b[0m\u001b[0;34m.\u001b[0m\u001b[0mconnect\u001b[0m\u001b[0;34m(\u001b[0m\u001b[0;34m)\u001b[0m \u001b[0;32mas\u001b[0m \u001b[0mconn\u001b[0m\u001b[0;34m:\u001b[0m\u001b[0;34m\u001b[0m\u001b[0;34m\u001b[0m\u001b[0m\n\u001b[1;32m   1413\u001b[0m                 table_names = engine.table_names(\n\u001b[0;32m-> 1414\u001b[0;31m                     \u001b[0mschema\u001b[0m\u001b[0;34m=\u001b[0m\u001b[0mschema\u001b[0m \u001b[0;32mor\u001b[0m \u001b[0mself\u001b[0m\u001b[0;34m.\u001b[0m\u001b[0mmeta\u001b[0m\u001b[0;34m.\u001b[0m\u001b[0mschema\u001b[0m\u001b[0;34m,\u001b[0m \u001b[0mconnection\u001b[0m\u001b[0;34m=\u001b[0m\u001b[0mconn\u001b[0m\u001b[0;34m\u001b[0m\u001b[0;34m\u001b[0m\u001b[0m\n\u001b[0m\u001b[1;32m   1415\u001b[0m                 )\n\u001b[1;32m   1416\u001b[0m             \u001b[0;32mif\u001b[0m \u001b[0mname\u001b[0m \u001b[0;32mnot\u001b[0m \u001b[0;32min\u001b[0m \u001b[0mtable_names\u001b[0m\u001b[0;34m:\u001b[0m\u001b[0;34m\u001b[0m\u001b[0;34m\u001b[0m\u001b[0m\n",
            "\u001b[0;32m/usr/local/lib/python3.6/dist-packages/sqlalchemy/engine/base.py\u001b[0m in \u001b[0;36mtable_names\u001b[0;34m(self, schema, connection)\u001b[0m\n\u001b[1;32m   2315\u001b[0m \u001b[0;34m\u001b[0m\u001b[0m\n\u001b[1;32m   2316\u001b[0m         \u001b[0;32mwith\u001b[0m \u001b[0mself\u001b[0m\u001b[0;34m.\u001b[0m\u001b[0m_optional_conn_ctx_manager\u001b[0m\u001b[0;34m(\u001b[0m\u001b[0mconnection\u001b[0m\u001b[0;34m)\u001b[0m \u001b[0;32mas\u001b[0m \u001b[0mconn\u001b[0m\u001b[0;34m:\u001b[0m\u001b[0;34m\u001b[0m\u001b[0;34m\u001b[0m\u001b[0m\n\u001b[0;32m-> 2317\u001b[0;31m             \u001b[0;32mreturn\u001b[0m \u001b[0mself\u001b[0m\u001b[0;34m.\u001b[0m\u001b[0mdialect\u001b[0m\u001b[0;34m.\u001b[0m\u001b[0mget_table_names\u001b[0m\u001b[0;34m(\u001b[0m\u001b[0mconn\u001b[0m\u001b[0;34m,\u001b[0m \u001b[0mschema\u001b[0m\u001b[0;34m)\u001b[0m\u001b[0;34m\u001b[0m\u001b[0;34m\u001b[0m\u001b[0m\n\u001b[0m\u001b[1;32m   2318\u001b[0m \u001b[0;34m\u001b[0m\u001b[0m\n\u001b[1;32m   2319\u001b[0m     \u001b[0;32mdef\u001b[0m \u001b[0mhas_table\u001b[0m\u001b[0;34m(\u001b[0m\u001b[0mself\u001b[0m\u001b[0;34m,\u001b[0m \u001b[0mtable_name\u001b[0m\u001b[0;34m,\u001b[0m \u001b[0mschema\u001b[0m\u001b[0;34m=\u001b[0m\u001b[0;32mNone\u001b[0m\u001b[0;34m)\u001b[0m\u001b[0;34m:\u001b[0m\u001b[0;34m\u001b[0m\u001b[0;34m\u001b[0m\u001b[0m\n",
            "\u001b[0;32m<string>\u001b[0m in \u001b[0;36mget_table_names\u001b[0;34m(self, connection, schema, **kw)\u001b[0m\n",
            "\u001b[0;32m/usr/local/lib/python3.6/dist-packages/sqlalchemy/engine/reflection.py\u001b[0m in \u001b[0;36mcache\u001b[0;34m(fn, self, con, *args, **kw)\u001b[0m\n\u001b[1;32m     42\u001b[0m     \u001b[0minfo_cache\u001b[0m \u001b[0;34m=\u001b[0m \u001b[0mkw\u001b[0m\u001b[0;34m.\u001b[0m\u001b[0mget\u001b[0m\u001b[0;34m(\u001b[0m\u001b[0;34m\"info_cache\"\u001b[0m\u001b[0;34m,\u001b[0m \u001b[0;32mNone\u001b[0m\u001b[0;34m)\u001b[0m\u001b[0;34m\u001b[0m\u001b[0;34m\u001b[0m\u001b[0m\n\u001b[1;32m     43\u001b[0m     \u001b[0;32mif\u001b[0m \u001b[0minfo_cache\u001b[0m \u001b[0;32mis\u001b[0m \u001b[0;32mNone\u001b[0m\u001b[0;34m:\u001b[0m\u001b[0;34m\u001b[0m\u001b[0;34m\u001b[0m\u001b[0m\n\u001b[0;32m---> 44\u001b[0;31m         \u001b[0;32mreturn\u001b[0m \u001b[0mfn\u001b[0m\u001b[0;34m(\u001b[0m\u001b[0mself\u001b[0m\u001b[0;34m,\u001b[0m \u001b[0mcon\u001b[0m\u001b[0;34m,\u001b[0m \u001b[0;34m*\u001b[0m\u001b[0margs\u001b[0m\u001b[0;34m,\u001b[0m \u001b[0;34m**\u001b[0m\u001b[0mkw\u001b[0m\u001b[0;34m)\u001b[0m\u001b[0;34m\u001b[0m\u001b[0;34m\u001b[0m\u001b[0m\n\u001b[0m\u001b[1;32m     45\u001b[0m     key = (\n\u001b[1;32m     46\u001b[0m         \u001b[0mfn\u001b[0m\u001b[0;34m.\u001b[0m\u001b[0m__name__\u001b[0m\u001b[0;34m,\u001b[0m\u001b[0;34m\u001b[0m\u001b[0;34m\u001b[0m\u001b[0m\n",
            "\u001b[0;32m/usr/local/lib/python3.6/dist-packages/sqlalchemy/dialects/mysql/base.py\u001b[0m in \u001b[0;36mget_table_names\u001b[0;34m(self, connection, schema, **kw)\u001b[0m\n\u001b[1;32m   2718\u001b[0m             rp = connection.execute(\n\u001b[1;32m   2719\u001b[0m                 \u001b[0;34m\"SHOW FULL TABLES FROM %s\"\u001b[0m\u001b[0;34m\u001b[0m\u001b[0;34m\u001b[0m\u001b[0m\n\u001b[0;32m-> 2720\u001b[0;31m                 \u001b[0;34m%\u001b[0m \u001b[0mself\u001b[0m\u001b[0;34m.\u001b[0m\u001b[0midentifier_preparer\u001b[0m\u001b[0;34m.\u001b[0m\u001b[0mquote_identifier\u001b[0m\u001b[0;34m(\u001b[0m\u001b[0mcurrent_schema\u001b[0m\u001b[0;34m)\u001b[0m\u001b[0;34m\u001b[0m\u001b[0;34m\u001b[0m\u001b[0m\n\u001b[0m\u001b[1;32m   2721\u001b[0m             )\n\u001b[1;32m   2722\u001b[0m \u001b[0;34m\u001b[0m\u001b[0m\n",
            "\u001b[0;32m/usr/local/lib/python3.6/dist-packages/sqlalchemy/sql/compiler.py\u001b[0m in \u001b[0;36mquote_identifier\u001b[0;34m(self, value)\u001b[0m\n\u001b[1;32m   3603\u001b[0m             \u001b[0mself\u001b[0m\u001b[0;34m.\u001b[0m\u001b[0minitial_quote\u001b[0m\u001b[0;34m\u001b[0m\u001b[0;34m\u001b[0m\u001b[0m\n\u001b[1;32m   3604\u001b[0m             \u001b[0;34m+\u001b[0m \u001b[0mself\u001b[0m\u001b[0;34m.\u001b[0m\u001b[0m_escape_identifier\u001b[0m\u001b[0;34m(\u001b[0m\u001b[0mvalue\u001b[0m\u001b[0;34m)\u001b[0m\u001b[0;34m\u001b[0m\u001b[0;34m\u001b[0m\u001b[0m\n\u001b[0;32m-> 3605\u001b[0;31m             \u001b[0;34m+\u001b[0m \u001b[0mself\u001b[0m\u001b[0;34m.\u001b[0m\u001b[0mfinal_quote\u001b[0m\u001b[0;34m\u001b[0m\u001b[0;34m\u001b[0m\u001b[0m\n\u001b[0m\u001b[1;32m   3606\u001b[0m         )\n\u001b[1;32m   3607\u001b[0m \u001b[0;34m\u001b[0m\u001b[0m\n",
            "\u001b[0;32m/usr/local/lib/python3.6/dist-packages/sqlalchemy/sql/compiler.py\u001b[0m in \u001b[0;36m_escape_identifier\u001b[0;34m(self, value)\u001b[0m\n\u001b[1;32m   3561\u001b[0m         \"\"\"\n\u001b[1;32m   3562\u001b[0m \u001b[0;34m\u001b[0m\u001b[0m\n\u001b[0;32m-> 3563\u001b[0;31m         \u001b[0mvalue\u001b[0m \u001b[0;34m=\u001b[0m \u001b[0mvalue\u001b[0m\u001b[0;34m.\u001b[0m\u001b[0mreplace\u001b[0m\u001b[0;34m(\u001b[0m\u001b[0mself\u001b[0m\u001b[0;34m.\u001b[0m\u001b[0mescape_quote\u001b[0m\u001b[0;34m,\u001b[0m \u001b[0mself\u001b[0m\u001b[0;34m.\u001b[0m\u001b[0mescape_to_quote\u001b[0m\u001b[0;34m)\u001b[0m\u001b[0;34m\u001b[0m\u001b[0;34m\u001b[0m\u001b[0m\n\u001b[0m\u001b[1;32m   3564\u001b[0m         \u001b[0;32mif\u001b[0m \u001b[0mself\u001b[0m\u001b[0;34m.\u001b[0m\u001b[0m_double_percents\u001b[0m\u001b[0;34m:\u001b[0m\u001b[0;34m\u001b[0m\u001b[0;34m\u001b[0m\u001b[0m\n\u001b[1;32m   3565\u001b[0m             \u001b[0mvalue\u001b[0m \u001b[0;34m=\u001b[0m \u001b[0mvalue\u001b[0m\u001b[0;34m.\u001b[0m\u001b[0mreplace\u001b[0m\u001b[0;34m(\u001b[0m\u001b[0;34m\"%\"\u001b[0m\u001b[0;34m,\u001b[0m \u001b[0;34m\"%%\"\u001b[0m\u001b[0;34m)\u001b[0m\u001b[0;34m\u001b[0m\u001b[0;34m\u001b[0m\u001b[0m\n",
            "\u001b[0;31mAttributeError\u001b[0m: 'NoneType' object has no attribute 'replace'"
          ]
        }
      ]
    },
    {
      "cell_type": "code",
      "metadata": {
        "id": "t-3rjaRVgDe3",
        "outputId": "584f8e41-89b7-440a-ba9b-a31e5d94fb45",
        "colab": {
          "base_uri": "https://localhost:8080/",
          "height": 310
        }
      },
      "source": [
        "df.head(5)"
      ],
      "execution_count": 40,
      "outputs": [
        {
          "output_type": "execute_result",
          "data": {
            "text/html": [
              "<div>\n",
              "<style scoped>\n",
              "    .dataframe tbody tr th:only-of-type {\n",
              "        vertical-align: middle;\n",
              "    }\n",
              "\n",
              "    .dataframe tbody tr th {\n",
              "        vertical-align: top;\n",
              "    }\n",
              "\n",
              "    .dataframe thead th {\n",
              "        text-align: right;\n",
              "    }\n",
              "</style>\n",
              "<table border=\"1\" class=\"dataframe\">\n",
              "  <thead>\n",
              "    <tr style=\"text-align: right;\">\n",
              "      <th></th>\n",
              "      <th>electric_bike_surcharge_waiver</th>\n",
              "      <th>station_type</th>\n",
              "      <th>lat</th>\n",
              "      <th>region_id</th>\n",
              "      <th>name</th>\n",
              "      <th>external_id</th>\n",
              "      <th>lon</th>\n",
              "      <th>capacity</th>\n",
              "      <th>rental_uris</th>\n",
              "      <th>eightd_has_key_dispenser</th>\n",
              "      <th>has_kiosk</th>\n",
              "      <th>station_id</th>\n",
              "      <th>short_name</th>\n",
              "      <th>legacy_id</th>\n",
              "    </tr>\n",
              "  </thead>\n",
              "  <tbody>\n",
              "    <tr>\n",
              "      <th>0</th>\n",
              "      <td>False</td>\n",
              "      <td>classic</td>\n",
              "      <td>40.767272</td>\n",
              "      <td>71</td>\n",
              "      <td>W 52 St &amp; 11 Ave</td>\n",
              "      <td>66db237e-0aca-11e7-82f6-3863bb44ef7c</td>\n",
              "      <td>-73.993929</td>\n",
              "      <td>55</td>\n",
              "      <td>{'ios': 'https://bkn.lft.to/lastmile_qr_scan',...</td>\n",
              "      <td>False</td>\n",
              "      <td>True</td>\n",
              "      <td>72</td>\n",
              "      <td>6926.01</td>\n",
              "      <td>72</td>\n",
              "    </tr>\n",
              "    <tr>\n",
              "      <th>1</th>\n",
              "      <td>False</td>\n",
              "      <td>classic</td>\n",
              "      <td>40.719116</td>\n",
              "      <td>71</td>\n",
              "      <td>Franklin St &amp; W Broadway</td>\n",
              "      <td>66db269c-0aca-11e7-82f6-3863bb44ef7c</td>\n",
              "      <td>-74.006667</td>\n",
              "      <td>33</td>\n",
              "      <td>{'ios': 'https://bkn.lft.to/lastmile_qr_scan',...</td>\n",
              "      <td>False</td>\n",
              "      <td>True</td>\n",
              "      <td>79</td>\n",
              "      <td>5430.08</td>\n",
              "      <td>79</td>\n",
              "    </tr>\n",
              "    <tr>\n",
              "      <th>2</th>\n",
              "      <td>False</td>\n",
              "      <td>classic</td>\n",
              "      <td>40.711174</td>\n",
              "      <td>71</td>\n",
              "      <td>St James Pl &amp; Pearl St</td>\n",
              "      <td>66db277a-0aca-11e7-82f6-3863bb44ef7c</td>\n",
              "      <td>-74.000165</td>\n",
              "      <td>27</td>\n",
              "      <td>{'ios': 'https://bkn.lft.to/lastmile_qr_scan',...</td>\n",
              "      <td>False</td>\n",
              "      <td>True</td>\n",
              "      <td>82</td>\n",
              "      <td>5167.06</td>\n",
              "      <td>82</td>\n",
              "    </tr>\n",
              "    <tr>\n",
              "      <th>3</th>\n",
              "      <td>False</td>\n",
              "      <td>classic</td>\n",
              "      <td>40.683826</td>\n",
              "      <td>71</td>\n",
              "      <td>Atlantic Ave &amp; Fort Greene Pl</td>\n",
              "      <td>66db281e-0aca-11e7-82f6-3863bb44ef7c</td>\n",
              "      <td>-73.976323</td>\n",
              "      <td>62</td>\n",
              "      <td>{'ios': 'https://bkn.lft.to/lastmile_qr_scan',...</td>\n",
              "      <td>False</td>\n",
              "      <td>True</td>\n",
              "      <td>83</td>\n",
              "      <td>4354.07</td>\n",
              "      <td>83</td>\n",
              "    </tr>\n",
              "    <tr>\n",
              "      <th>4</th>\n",
              "      <td>False</td>\n",
              "      <td>classic</td>\n",
              "      <td>40.741776</td>\n",
              "      <td>71</td>\n",
              "      <td>W 17 St &amp; 8 Ave</td>\n",
              "      <td>66db28b5-0aca-11e7-82f6-3863bb44ef7c</td>\n",
              "      <td>-74.001497</td>\n",
              "      <td>50</td>\n",
              "      <td>{'ios': 'https://bkn.lft.to/lastmile_qr_scan',...</td>\n",
              "      <td>False</td>\n",
              "      <td>True</td>\n",
              "      <td>116</td>\n",
              "      <td>6148.02</td>\n",
              "      <td>116</td>\n",
              "    </tr>\n",
              "  </tbody>\n",
              "</table>\n",
              "</div>"
            ],
            "text/plain": [
              "   electric_bike_surcharge_waiver station_type  ...  short_name legacy_id\n",
              "0                           False      classic  ...     6926.01        72\n",
              "1                           False      classic  ...     5430.08        79\n",
              "2                           False      classic  ...     5167.06        82\n",
              "3                           False      classic  ...     4354.07        83\n",
              "4                           False      classic  ...     6148.02       116\n",
              "\n",
              "[5 rows x 14 columns]"
            ]
          },
          "metadata": {
            "tags": []
          },
          "execution_count": 40
        }
      ]
    },
    {
      "cell_type": "code",
      "metadata": {
        "id": "qaHTZRZEgDe3",
        "outputId": "36d5fb7b-7ae1-485d-c709-846f85b458de",
        "colab": {
          "base_uri": "https://localhost:8080/"
        }
      },
      "source": [
        "# Once we have the data in the table, we also specify a primary key\n",
        "# If we had FOREIGN KEYS we can add them in the same way\n",
        "add_key_query = 'ALTER TABLE Stations ADD PRIMARY KEY(station_id)'\n",
        "engine.execute(add_key_query)"
      ],
      "execution_count": 41,
      "outputs": [
        {
          "output_type": "execute_result",
          "data": {
            "text/plain": [
              "<sqlalchemy.engine.result.ResultProxy at 0x7f81d560d438>"
            ]
          },
          "metadata": {
            "tags": []
          },
          "execution_count": 41
        }
      ]
    },
    {
      "cell_type": "markdown",
      "metadata": {
        "id": "8c1EIcZigDe4"
      },
      "source": [
        "### Reading from a SQL Database in Python using Pandas"
      ]
    },
    {
      "cell_type": "markdown",
      "metadata": {
        "id": "z3UqLU6dgDe4"
      },
      "source": [
        "We can similarly read from the database using Pandas"
      ]
    },
    {
      "cell_type": "code",
      "metadata": {
        "scrolled": false,
        "id": "xZ0BqP0pgDe4",
        "outputId": "1ffe6f5b-a465-4df6-dbbe-0cc2d5f0a5b0",
        "colab": {
          "base_uri": "https://localhost:8080/",
          "height": 293
        }
      },
      "source": [
        "query =  \"SELECT * FROM Stations\"\n",
        "df2 = pd.read_sql(query, con=engine)\n",
        "df2.head(5)\n"
      ],
      "execution_count": 42,
      "outputs": [
        {
          "output_type": "execute_result",
          "data": {
            "text/html": [
              "<div>\n",
              "<style scoped>\n",
              "    .dataframe tbody tr th:only-of-type {\n",
              "        vertical-align: middle;\n",
              "    }\n",
              "\n",
              "    .dataframe tbody tr th {\n",
              "        vertical-align: top;\n",
              "    }\n",
              "\n",
              "    .dataframe thead th {\n",
              "        text-align: right;\n",
              "    }\n",
              "</style>\n",
              "<table border=\"1\" class=\"dataframe\">\n",
              "  <thead>\n",
              "    <tr style=\"text-align: right;\">\n",
              "      <th></th>\n",
              "      <th>electric_bike_surcharge_waiver</th>\n",
              "      <th>station_type</th>\n",
              "      <th>lat</th>\n",
              "      <th>region_id</th>\n",
              "      <th>name</th>\n",
              "      <th>external_id</th>\n",
              "      <th>lon</th>\n",
              "      <th>capacity</th>\n",
              "      <th>rental_uris</th>\n",
              "      <th>eightd_has_key_dispenser</th>\n",
              "      <th>has_kiosk</th>\n",
              "      <th>station_id</th>\n",
              "      <th>short_name</th>\n",
              "      <th>legacy_id</th>\n",
              "    </tr>\n",
              "  </thead>\n",
              "  <tbody>\n",
              "    <tr>\n",
              "      <th>0</th>\n",
              "      <td>0</td>\n",
              "      <td>classic</td>\n",
              "      <td>40.7673</td>\n",
              "      <td>71</td>\n",
              "      <td>W 52 St &amp; 11 Ave</td>\n",
              "      <td>66db237e-0aca-11e7-82f6-3863bb44ef7c</td>\n",
              "      <td>-73.9939</td>\n",
              "      <td>55</td>\n",
              "      <td>{'ios': 'https://bkn.lft.to/lastmile_qr_scan',...</td>\n",
              "      <td>0</td>\n",
              "      <td>1</td>\n",
              "      <td>72</td>\n",
              "      <td>6926.01</td>\n",
              "      <td>72</td>\n",
              "    </tr>\n",
              "    <tr>\n",
              "      <th>1</th>\n",
              "      <td>0</td>\n",
              "      <td>classic</td>\n",
              "      <td>40.7191</td>\n",
              "      <td>71</td>\n",
              "      <td>Franklin St &amp; W Broadway</td>\n",
              "      <td>66db269c-0aca-11e7-82f6-3863bb44ef7c</td>\n",
              "      <td>-74.0067</td>\n",
              "      <td>33</td>\n",
              "      <td>{'ios': 'https://bkn.lft.to/lastmile_qr_scan',...</td>\n",
              "      <td>0</td>\n",
              "      <td>1</td>\n",
              "      <td>79</td>\n",
              "      <td>5430.08</td>\n",
              "      <td>79</td>\n",
              "    </tr>\n",
              "    <tr>\n",
              "      <th>2</th>\n",
              "      <td>0</td>\n",
              "      <td>classic</td>\n",
              "      <td>40.7112</td>\n",
              "      <td>71</td>\n",
              "      <td>St James Pl &amp; Pearl St</td>\n",
              "      <td>66db277a-0aca-11e7-82f6-3863bb44ef7c</td>\n",
              "      <td>-74.0002</td>\n",
              "      <td>27</td>\n",
              "      <td>{'ios': 'https://bkn.lft.to/lastmile_qr_scan',...</td>\n",
              "      <td>0</td>\n",
              "      <td>1</td>\n",
              "      <td>82</td>\n",
              "      <td>5167.06</td>\n",
              "      <td>82</td>\n",
              "    </tr>\n",
              "    <tr>\n",
              "      <th>3</th>\n",
              "      <td>0</td>\n",
              "      <td>classic</td>\n",
              "      <td>40.6838</td>\n",
              "      <td>71</td>\n",
              "      <td>Atlantic Ave &amp; Fort Greene Pl</td>\n",
              "      <td>66db281e-0aca-11e7-82f6-3863bb44ef7c</td>\n",
              "      <td>-73.9763</td>\n",
              "      <td>62</td>\n",
              "      <td>{'ios': 'https://bkn.lft.to/lastmile_qr_scan',...</td>\n",
              "      <td>0</td>\n",
              "      <td>1</td>\n",
              "      <td>83</td>\n",
              "      <td>4354.07</td>\n",
              "      <td>83</td>\n",
              "    </tr>\n",
              "    <tr>\n",
              "      <th>4</th>\n",
              "      <td>0</td>\n",
              "      <td>classic</td>\n",
              "      <td>40.7418</td>\n",
              "      <td>71</td>\n",
              "      <td>W 17 St &amp; 8 Ave</td>\n",
              "      <td>66db28b5-0aca-11e7-82f6-3863bb44ef7c</td>\n",
              "      <td>-74.0015</td>\n",
              "      <td>50</td>\n",
              "      <td>{'ios': 'https://bkn.lft.to/lastmile_qr_scan',...</td>\n",
              "      <td>0</td>\n",
              "      <td>1</td>\n",
              "      <td>116</td>\n",
              "      <td>6148.02</td>\n",
              "      <td>116</td>\n",
              "    </tr>\n",
              "  </tbody>\n",
              "</table>\n",
              "</div>"
            ],
            "text/plain": [
              "   electric_bike_surcharge_waiver station_type  ...  short_name legacy_id\n",
              "0                               0      classic  ...     6926.01        72\n",
              "1                               0      classic  ...     5430.08        79\n",
              "2                               0      classic  ...     5167.06        82\n",
              "3                               0      classic  ...     4354.07        83\n",
              "4                               0      classic  ...     6148.02       116\n",
              "\n",
              "[5 rows x 14 columns]"
            ]
          },
          "metadata": {
            "tags": []
          },
          "execution_count": 42
        }
      ]
    },
    {
      "cell_type": "markdown",
      "metadata": {
        "id": "PA_QtTpCgDe4"
      },
      "source": [
        "And remember that from Pandas it is also possible to export in other formats, such as Excel of CSV."
      ]
    },
    {
      "cell_type": "code",
      "metadata": {
        "id": "XmAMG35cgDe5",
        "outputId": "e3a0121b-ba45-442d-c5d8-3d5f41225017",
        "colab": {
          "base_uri": "https://localhost:8080/"
        }
      },
      "source": [
        "# The necessary library to write in Excel\n",
        "!pip3 install -U xlwt"
      ],
      "execution_count": 43,
      "outputs": [
        {
          "output_type": "stream",
          "text": [
            "Requirement already up-to-date: xlwt in /usr/local/lib/python3.6/dist-packages (1.3.0)\n"
          ],
          "name": "stdout"
        }
      ]
    },
    {
      "cell_type": "markdown",
      "metadata": {
        "id": "GFR_eYACi2MF"
      },
      "source": [
        "### Save the table in CSV and xls format \r\n"
      ]
    },
    {
      "cell_type": "code",
      "metadata": {
        "id": "_wEHXIJlgDe5",
        "outputId": "99f7ae4b-0757-4c44-ba5e-fddbeeb7c109",
        "colab": {
          "base_uri": "https://localhost:8080/"
        }
      },
      "source": [
        "df2.to_excel(\"citibike.xls\")\n",
        "df2.to_csv(\"citibike.csv\")\n",
        "!ls\n",
        "!head citibike.csv"
      ],
      "execution_count": 45,
      "outputs": [
        {
          "output_type": "stream",
          "text": [
            "citibike.csv  citibike.xls  sample_data\n",
            ",electric_bike_surcharge_waiver,station_type,lat,region_id,name,external_id,lon,capacity,rental_uris,eightd_has_key_dispenser,has_kiosk,station_id,short_name,legacy_id\n",
            "0,0,classic,40.7673,71,W 52 St & 11 Ave,66db237e-0aca-11e7-82f6-3863bb44ef7c,-73.9939,55,\"{'ios': 'https://bkn.lft.to/lastmile_qr_scan', 'android': 'https://bkn.lft.to/lastmile_qr_scan'}\",0,1,72,6926.01,72\n",
            "1,0,classic,40.7191,71,Franklin St & W Broadway,66db269c-0aca-11e7-82f6-3863bb44ef7c,-74.0067,33,\"{'ios': 'https://bkn.lft.to/lastmile_qr_scan', 'android': 'https://bkn.lft.to/lastmile_qr_scan'}\",0,1,79,5430.08,79\n",
            "2,0,classic,40.7112,71,St James Pl & Pearl St,66db277a-0aca-11e7-82f6-3863bb44ef7c,-74.0002,27,\"{'ios': 'https://bkn.lft.to/lastmile_qr_scan', 'android': 'https://bkn.lft.to/lastmile_qr_scan'}\",0,1,82,5167.06,82\n",
            "3,0,classic,40.6838,71,Atlantic Ave & Fort Greene Pl,66db281e-0aca-11e7-82f6-3863bb44ef7c,-73.9763,62,\"{'ios': 'https://bkn.lft.to/lastmile_qr_scan', 'android': 'https://bkn.lft.to/lastmile_qr_scan'}\",0,1,83,4354.07,83\n",
            "4,0,classic,40.7418,71,W 17 St & 8 Ave,66db28b5-0aca-11e7-82f6-3863bb44ef7c,-74.0015,50,\"{'ios': 'https://bkn.lft.to/lastmile_qr_scan', 'android': 'https://bkn.lft.to/lastmile_qr_scan'}\",0,1,116,6148.02,116\n",
            "5,0,classic,40.6961,71,Park Ave & St Edwards St,66db2953-0aca-11e7-82f6-3863bb44ef7c,-73.978,53,\"{'ios': 'https://bkn.lft.to/lastmile_qr_scan', 'android': 'https://bkn.lft.to/lastmile_qr_scan'}\",0,1,119,4700.06,119\n",
            "6,0,classic,40.6868,71,Lexington Ave & Classon Ave,66db29e6-0aca-11e7-82f6-3863bb44ef7c,-73.9593,19,\"{'ios': 'https://bkn.lft.to/lastmile_qr_scan', 'android': 'https://bkn.lft.to/lastmile_qr_scan'}\",0,1,120,4452.03,120\n",
            "7,0,classic,40.7317,71,Barrow St & Hudson St,66db2a71-0aca-11e7-82f6-3863bb44ef7c,-74.0067,31,\"{'ios': 'https://bkn.lft.to/lastmile_qr_scan', 'android': 'https://bkn.lft.to/lastmile_qr_scan'}\",0,1,127,5805.05,127\n",
            "8,0,classic,40.7271,71,MacDougal St & Prince St,66db2afe-0aca-11e7-82f6-3863bb44ef7c,-74.003,56,\"{'ios': 'https://bkn.lft.to/lastmile_qr_scan', 'android': 'https://bkn.lft.to/lastmile_qr_scan'}\",0,1,128,5687.04,128\n"
          ],
          "name": "stdout"
        }
      ]
    },
    {
      "cell_type": "markdown",
      "metadata": {
        "collapsed": true,
        "id": "UvsPQ3R_gDe5"
      },
      "source": [
        "### Exercise\n",
        "\n",
        "The `url_status = 'https://gbfs.citibikenyc.com/gbfs/en/station_status.json'` URL contains the status of the stations. Write code that reads the results from that API call, and then stores the data in a separate table. Add a \"foreign key\" constraint from the Status table to the Stations table that we created above. You should use the database for your team."
      ]
    },
    {
      "cell_type": "code",
      "metadata": {
        "id": "bmc_UIFSgDe6"
      },
      "source": [
        ""
      ],
      "execution_count": null,
      "outputs": []
    }
  ]
}