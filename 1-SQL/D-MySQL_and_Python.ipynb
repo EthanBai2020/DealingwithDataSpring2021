{
  "nbformat": 4,
  "nbformat_minor": 0,
  "metadata": {
    "kernelspec": {
      "display_name": "Python 3",
      "language": "python",
      "name": "python3"
    },
    "language_info": {
      "codemirror_mode": {
        "name": "ipython",
        "version": 2
      },
      "file_extension": ".py",
      "mimetype": "text/x-python",
      "name": "python",
      "nbconvert_exporter": "python",
      "pygments_lexer": "ipython2",
      "version": "2.7.5"
    },
    "colab": {
      "name": "D-MySQL_and_Python.ipynb",
      "provenance": []
    }
  },
  "cells": [
    {
      "cell_type": "markdown",
      "metadata": {
        "id": "U2WmxYURkBrd"
      },
      "source": [
        ""
      ]
    },
    {
      "cell_type": "markdown",
      "metadata": {
        "id": "XYVQxDWgBgtV"
      },
      "source": [
        "# **Connecting to a remote mysql database from COLAB**\r\n",
        "#### This notebook has examples of how to connect to remote mysql databases from google colab:\r\n",
        "#### It will first connect to the Panos Ipeirotis Mysql Server which houses a number of sample databases. This server is actually running in the Googe Cloud. We only have read-only access to it, so we can't add databases or create and modify databases.\r\n",
        "#### The second server is running in the Stern Cloud, and is also a mysql server.\r\n",
        "####  Each team has an account on this server, so they can create and store tables.\r\n"
      ]
    },
    {
      "cell_type": "markdown",
      "metadata": {
        "id": "HSl3mTpikS7J"
      },
      "source": [
        ""
      ]
    },
    {
      "cell_type": "markdown",
      "metadata": {
        "id": "KJyYVqElB3ry"
      },
      "source": [
        "## First, make sure all the required software is installed.\r\n",
        "### We need to install the linux mysqlclient libraries on our linux system, and the  python mysqlclient libraries are installed\r\n",
        "#### Unfortunately, we need to do this for every colab session."
      ]
    },
    {
      "cell_type": "code",
      "metadata": {
        "id": "c-Cake6hkXWP"
      },
      "source": [
        ""
      ],
      "execution_count": null,
      "outputs": []
    },
    {
      "cell_type": "code",
      "metadata": {
        "id": "LavDUrJc9CsJ"
      },
      "source": [
        "# install the required linux support needed by the python libraries\n",
        "!sudo apt-get install python3-dev default-libmysqlclient-dev\n",
        "# Next install the python mysql support\n",
        "!pip install mysqlclient"
      ],
      "execution_count": null,
      "outputs": []
    },
    {
      "cell_type": "code",
      "metadata": {
        "id": "9cCI4TPckf0h"
      },
      "source": [
        ""
      ],
      "execution_count": null,
      "outputs": []
    },
    {
      "cell_type": "code",
      "metadata": {
        "id": "Pn9FFgBZ6xwP"
      },
      "source": [
        "# We also need the sqlalchemy package for python\r\n",
        "!pip3 install sqlalchemy"
      ],
      "execution_count": null,
      "outputs": []
    },
    {
      "cell_type": "markdown",
      "metadata": {
        "id": "R7r9jLtoklrJ"
      },
      "source": [
        ""
      ]
    },
    {
      "cell_type": "markdown",
      "metadata": {
        "id": "T09Sc--JCE28"
      },
      "source": [
        "## Then , we should be able to use sql statements directly from our notebooks"
      ]
    },
    {
      "cell_type": "code",
      "metadata": {
        "id": "_l5R7hSNk3Fh"
      },
      "source": [
        ""
      ],
      "execution_count": null,
      "outputs": []
    },
    {
      "cell_type": "code",
      "metadata": {
        "id": "SRO_EaT_62lp"
      },
      "source": [
        "from sqlalchemy import create_engine\r\n"
      ],
      "execution_count": null,
      "outputs": []
    },
    {
      "cell_type": "markdown",
      "metadata": {
        "id": "2ORWR_aplF_s"
      },
      "source": [
        "### We need to create the credentials to connect to our database, including the server name\r\n",
        "#### Note: these are the same credentials you will use from mysqlworkbench to connect"
      ]
    },
    {
      "cell_type": "code",
      "metadata": {
        "id": "L1qHwt4r6-BL"
      },
      "source": [
        "conn_string_imdb = 'mysql://{user}:{password}@{host}:{port}/{db}?charset=utf8'.format(\n",
        "    user='student', \n",
        "    password='dwdstudent2015', \n",
        "    host = 'db.ipeirotis.org', \n",
        "    port=3306, \n",
        "    db='imdb',\n",
        "    encoding = 'utf-8'\n",
        ")\n",
        "engine_imdb = create_engine(conn_string_imdb)\n"
      ],
      "execution_count": null,
      "outputs": []
    },
    {
      "cell_type": "code",
      "metadata": {
        "id": "J3RPgxVKlhFe"
      },
      "source": [
        ""
      ],
      "execution_count": null,
      "outputs": []
    },
    {
      "cell_type": "markdown",
      "metadata": {
        "id": "VVSq2YGACj08"
      },
      "source": [
        "### next install the sql magic code python library .\r\n",
        "### so we can type sql queries in a code cell"
      ]
    },
    {
      "cell_type": "code",
      "metadata": {
        "id": "YO1lSKS99BEu"
      },
      "source": [
        "!sudo pip install sql_magic"
      ],
      "execution_count": null,
      "outputs": []
    },
    {
      "cell_type": "markdown",
      "metadata": {
        "id": "IJoyCMdAC2sp"
      },
      "source": [
        "## Now, configure a connection to the google database server\r\n",
        "### Note the connection name matches what we used in the create_engine call above."
      ]
    },
    {
      "cell_type": "code",
      "metadata": {
        "id": "yskb92eE-rY7"
      },
      "source": [
        "%config SQL.conn_name = 'engine_imdb'"
      ],
      "execution_count": null,
      "outputs": []
    },
    {
      "cell_type": "markdown",
      "metadata": {
        "id": "BGD7ASJUC_nt"
      },
      "source": [
        "### And to run an SQL command against the database- Just put %% in front of the command"
      ]
    },
    {
      "cell_type": "code",
      "metadata": {
        "colab": {
          "base_uri": "https://localhost:8080/",
          "height": 380
        },
        "id": "-Vi2R9vLmxD3",
        "outputId": "eb34c503-b899-4a1d-d638-b0a4b74f5e28"
      },
      "source": [
        "%%read_sql\n",
        "# Let's see what databases are on this server\n",
        "show databases"
      ],
      "execution_count": null,
      "outputs": [
        {
          "output_type": "stream",
          "text": [
            "Query started at 10:15:32 PM UTC; Query executed in 0.02 m"
          ],
          "name": "stdout"
        },
        {
          "output_type": "execute_result",
          "data": {
            "text/html": [
              "<div>\n",
              "<style scoped>\n",
              "    .dataframe tbody tr th:only-of-type {\n",
              "        vertical-align: middle;\n",
              "    }\n",
              "\n",
              "    .dataframe tbody tr th {\n",
              "        vertical-align: top;\n",
              "    }\n",
              "\n",
              "    .dataframe thead th {\n",
              "        text-align: right;\n",
              "    }\n",
              "</style>\n",
              "<table border=\"1\" class=\"dataframe\">\n",
              "  <thead>\n",
              "    <tr style=\"text-align: right;\">\n",
              "      <th></th>\n",
              "      <th>Database</th>\n",
              "    </tr>\n",
              "  </thead>\n",
              "  <tbody>\n",
              "    <tr>\n",
              "      <th>0</th>\n",
              "      <td>information_schema</td>\n",
              "    </tr>\n",
              "    <tr>\n",
              "      <th>1</th>\n",
              "      <td>bike_sharing</td>\n",
              "    </tr>\n",
              "    <tr>\n",
              "      <th>2</th>\n",
              "      <td>citibike</td>\n",
              "    </tr>\n",
              "    <tr>\n",
              "      <th>3</th>\n",
              "      <td>citibike_fall2017</td>\n",
              "    </tr>\n",
              "    <tr>\n",
              "      <th>4</th>\n",
              "      <td>facebook</td>\n",
              "    </tr>\n",
              "    <tr>\n",
              "      <th>5</th>\n",
              "      <td>imdb</td>\n",
              "    </tr>\n",
              "    <tr>\n",
              "      <th>6</th>\n",
              "      <td>music</td>\n",
              "    </tr>\n",
              "    <tr>\n",
              "      <th>7</th>\n",
              "      <td>nypd_complaints</td>\n",
              "    </tr>\n",
              "    <tr>\n",
              "      <th>8</th>\n",
              "      <td>public</td>\n",
              "    </tr>\n",
              "    <tr>\n",
              "      <th>9</th>\n",
              "      <td>restaurants</td>\n",
              "    </tr>\n",
              "  </tbody>\n",
              "</table>\n",
              "</div>"
            ],
            "text/plain": [
              "             Database\n",
              "0  information_schema\n",
              "1        bike_sharing\n",
              "2            citibike\n",
              "3   citibike_fall2017\n",
              "4            facebook\n",
              "5                imdb\n",
              "6               music\n",
              "7     nypd_complaints\n",
              "8              public\n",
              "9         restaurants"
            ]
          },
          "metadata": {
            "tags": []
          },
          "execution_count": 10
        }
      ]
    },
    {
      "cell_type": "markdown",
      "metadata": {
        "id": "TU1TEm4PnBeu"
      },
      "source": [
        "### Lets look at some tables\r\n"
      ]
    },
    {
      "cell_type": "code",
      "metadata": {
        "id": "VjDzuhSz-odV",
        "colab": {
          "base_uri": "https://localhost:8080/",
          "height": 192
        },
        "outputId": "29104a61-b392-4edb-fcbb-259b34399d56"
      },
      "source": [
        "%%read_sql \n",
        "# What is the table definition for the actors table?\n",
        " describe actors"
      ],
      "execution_count": null,
      "outputs": [
        {
          "output_type": "stream",
          "text": [
            "Query started at 10:15:36 PM UTC; Query executed in 0.00 m"
          ],
          "name": "stdout"
        },
        {
          "output_type": "execute_result",
          "data": {
            "text/html": [
              "<div>\n",
              "<style scoped>\n",
              "    .dataframe tbody tr th:only-of-type {\n",
              "        vertical-align: middle;\n",
              "    }\n",
              "\n",
              "    .dataframe tbody tr th {\n",
              "        vertical-align: top;\n",
              "    }\n",
              "\n",
              "    .dataframe thead th {\n",
              "        text-align: right;\n",
              "    }\n",
              "</style>\n",
              "<table border=\"1\" class=\"dataframe\">\n",
              "  <thead>\n",
              "    <tr style=\"text-align: right;\">\n",
              "      <th></th>\n",
              "      <th>Field</th>\n",
              "      <th>Type</th>\n",
              "      <th>Null</th>\n",
              "      <th>Key</th>\n",
              "      <th>Default</th>\n",
              "      <th>Extra</th>\n",
              "    </tr>\n",
              "  </thead>\n",
              "  <tbody>\n",
              "    <tr>\n",
              "      <th>0</th>\n",
              "      <td>id</td>\n",
              "      <td>int(11)</td>\n",
              "      <td>NO</td>\n",
              "      <td>PRI</td>\n",
              "      <td>0</td>\n",
              "      <td></td>\n",
              "    </tr>\n",
              "    <tr>\n",
              "      <th>1</th>\n",
              "      <td>first_name</td>\n",
              "      <td>varchar(100)</td>\n",
              "      <td>YES</td>\n",
              "      <td>MUL</td>\n",
              "      <td>None</td>\n",
              "      <td></td>\n",
              "    </tr>\n",
              "    <tr>\n",
              "      <th>2</th>\n",
              "      <td>last_name</td>\n",
              "      <td>varchar(100)</td>\n",
              "      <td>YES</td>\n",
              "      <td>MUL</td>\n",
              "      <td>None</td>\n",
              "      <td></td>\n",
              "    </tr>\n",
              "    <tr>\n",
              "      <th>3</th>\n",
              "      <td>gender</td>\n",
              "      <td>char(1)</td>\n",
              "      <td>YES</td>\n",
              "      <td></td>\n",
              "      <td>None</td>\n",
              "      <td></td>\n",
              "    </tr>\n",
              "  </tbody>\n",
              "</table>\n",
              "</div>"
            ],
            "text/plain": [
              "        Field          Type Null  Key Default Extra\n",
              "0          id       int(11)   NO  PRI       0      \n",
              "1  first_name  varchar(100)  YES  MUL    None      \n",
              "2   last_name  varchar(100)  YES  MUL    None      \n",
              "3      gender       char(1)  YES         None      "
            ]
          },
          "metadata": {
            "tags": []
          },
          "execution_count": 11
        }
      ]
    },
    {
      "cell_type": "markdown",
      "metadata": {
        "id": "IQv46Wv2nOiy"
      },
      "source": [
        "### And issue a query ..."
      ]
    },
    {
      "cell_type": "code",
      "metadata": {
        "id": "m58mHQAkDakI",
        "colab": {
          "base_uri": "https://localhost:8080/",
          "height": 98
        },
        "outputId": "c1a34ade-157a-4d43-f803-daf51486824d"
      },
      "source": [
        "%read_sql select count(*) from actors;"
      ],
      "execution_count": null,
      "outputs": [
        {
          "output_type": "stream",
          "text": [
            "Query started at 10:15:40 PM UTC; Query executed in 0.03 m"
          ],
          "name": "stdout"
        },
        {
          "output_type": "execute_result",
          "data": {
            "text/html": [
              "<div>\n",
              "<style scoped>\n",
              "    .dataframe tbody tr th:only-of-type {\n",
              "        vertical-align: middle;\n",
              "    }\n",
              "\n",
              "    .dataframe tbody tr th {\n",
              "        vertical-align: top;\n",
              "    }\n",
              "\n",
              "    .dataframe thead th {\n",
              "        text-align: right;\n",
              "    }\n",
              "</style>\n",
              "<table border=\"1\" class=\"dataframe\">\n",
              "  <thead>\n",
              "    <tr style=\"text-align: right;\">\n",
              "      <th></th>\n",
              "      <th>count(*)</th>\n",
              "    </tr>\n",
              "  </thead>\n",
              "  <tbody>\n",
              "    <tr>\n",
              "      <th>0</th>\n",
              "      <td>817718</td>\n",
              "    </tr>\n",
              "  </tbody>\n",
              "</table>\n",
              "</div>"
            ],
            "text/plain": [
              "   count(*)\n",
              "0    817718"
            ]
          },
          "metadata": {
            "tags": []
          },
          "execution_count": 12
        }
      ]
    },
    {
      "cell_type": "markdown",
      "metadata": {
        "id": "2zhxn9klnYB7"
      },
      "source": [
        "# Now Switch to the class server, bigdata.stern.nyu.edu\r\n",
        "### We will be using this later in the term for projects\r\n",
        "#### Each team has an account and their own database."
      ]
    },
    {
      "cell_type": "code",
      "metadata": {
        "id": "hsC8YZhc_S8w"
      },
      "source": [
        "conn_string_big = 'mysql://{user}:{password}@{host}:{port}/{db}?charset=utf8'.format(\n",
        "    user='DealingS21GB10', \n",
        "    password='DealingS21GB10!!', \n",
        "    host = 'bigdata.stern.nyu.edu', \n",
        "    port=3306, \n",
        "    db='DealingS21GB10',\n",
        "    encoding = 'utf-8'\n",
        ")\n",
        "# call this connection engine_big\n",
        "engine_big = create_engine(conn_string_big)\n"
      ],
      "execution_count": null,
      "outputs": []
    },
    {
      "cell_type": "code",
      "metadata": {
        "id": "H7Pmpj0CAR0d"
      },
      "source": [
        "# Tell sql magic the new connection to use\r\n",
        "%config SQL.conn_name = 'engine_big'"
      ],
      "execution_count": null,
      "outputs": []
    },
    {
      "cell_type": "markdown",
      "metadata": {
        "id": "HQrbRI8dogtu"
      },
      "source": [
        "### At now we are connected to the new server, bigdata.stern.nyu.edu\r\n",
        "#### Let's issue some queries\r\n"
      ]
    },
    {
      "cell_type": "code",
      "metadata": {
        "id": "LGgzeja5_uuc",
        "colab": {
          "base_uri": "https://localhost:8080/",
          "height": 757
        },
        "outputId": "7ff26f8a-51d3-4da5-a668-7c42ad7aa59d"
      },
      "source": [
        "%%read_sql\n",
        "show databases"
      ],
      "execution_count": null,
      "outputs": [
        {
          "output_type": "stream",
          "text": [
            "Query started at 10:16:04 PM UTC; Query executed in 0.03 m"
          ],
          "name": "stdout"
        },
        {
          "output_type": "execute_result",
          "data": {
            "text/html": [
              "<div>\n",
              "<style scoped>\n",
              "    .dataframe tbody tr th:only-of-type {\n",
              "        vertical-align: middle;\n",
              "    }\n",
              "\n",
              "    .dataframe tbody tr th {\n",
              "        vertical-align: top;\n",
              "    }\n",
              "\n",
              "    .dataframe thead th {\n",
              "        text-align: right;\n",
              "    }\n",
              "</style>\n",
              "<table border=\"1\" class=\"dataframe\">\n",
              "  <thead>\n",
              "    <tr style=\"text-align: right;\">\n",
              "      <th></th>\n",
              "      <th>Database</th>\n",
              "    </tr>\n",
              "  </thead>\n",
              "  <tbody>\n",
              "    <tr>\n",
              "      <th>0</th>\n",
              "      <td>information_schema</td>\n",
              "    </tr>\n",
              "    <tr>\n",
              "      <th>1</th>\n",
              "      <td>DealingF19</td>\n",
              "    </tr>\n",
              "    <tr>\n",
              "      <th>2</th>\n",
              "      <td>TMP</td>\n",
              "    </tr>\n",
              "    <tr>\n",
              "      <th>3</th>\n",
              "      <td>dealingF19</td>\n",
              "    </tr>\n",
              "    <tr>\n",
              "      <th>4</th>\n",
              "      <td>dealingF19GB1</td>\n",
              "    </tr>\n",
              "    <tr>\n",
              "      <th>5</th>\n",
              "      <td>dealingF19GB10</td>\n",
              "    </tr>\n",
              "    <tr>\n",
              "      <th>6</th>\n",
              "      <td>dealingF19GB2</td>\n",
              "    </tr>\n",
              "    <tr>\n",
              "      <th>7</th>\n",
              "      <td>dealingF19GB3</td>\n",
              "    </tr>\n",
              "    <tr>\n",
              "      <th>8</th>\n",
              "      <td>dealingF19GB4</td>\n",
              "    </tr>\n",
              "    <tr>\n",
              "      <th>9</th>\n",
              "      <td>dealingF19GB5</td>\n",
              "    </tr>\n",
              "    <tr>\n",
              "      <th>10</th>\n",
              "      <td>dealingF19GB6</td>\n",
              "    </tr>\n",
              "    <tr>\n",
              "      <th>11</th>\n",
              "      <td>dealingF19GB7</td>\n",
              "    </tr>\n",
              "    <tr>\n",
              "      <th>12</th>\n",
              "      <td>dealingF19GB8</td>\n",
              "    </tr>\n",
              "    <tr>\n",
              "      <th>13</th>\n",
              "      <td>dealingF19GB9</td>\n",
              "    </tr>\n",
              "    <tr>\n",
              "      <th>14</th>\n",
              "      <td>facebook</td>\n",
              "    </tr>\n",
              "    <tr>\n",
              "      <th>15</th>\n",
              "      <td>imdb</td>\n",
              "    </tr>\n",
              "    <tr>\n",
              "      <th>16</th>\n",
              "      <td>metastore</td>\n",
              "    </tr>\n",
              "    <tr>\n",
              "      <th>17</th>\n",
              "      <td>mysql</td>\n",
              "    </tr>\n",
              "    <tr>\n",
              "      <th>18</th>\n",
              "      <td>nyc_restaurant_inspections</td>\n",
              "    </tr>\n",
              "    <tr>\n",
              "      <th>19</th>\n",
              "      <td>performance_schema</td>\n",
              "    </tr>\n",
              "    <tr>\n",
              "      <th>20</th>\n",
              "      <td>rest</td>\n",
              "    </tr>\n",
              "    <tr>\n",
              "      <th>21</th>\n",
              "      <td>tmp</td>\n",
              "    </tr>\n",
              "  </tbody>\n",
              "</table>\n",
              "</div>"
            ],
            "text/plain": [
              "                      Database\n",
              "0           information_schema\n",
              "1                   DealingF19\n",
              "2                          TMP\n",
              "3                   dealingF19\n",
              "4                dealingF19GB1\n",
              "5               dealingF19GB10\n",
              "6                dealingF19GB2\n",
              "7                dealingF19GB3\n",
              "8                dealingF19GB4\n",
              "9                dealingF19GB5\n",
              "10               dealingF19GB6\n",
              "11               dealingF19GB7\n",
              "12               dealingF19GB8\n",
              "13               dealingF19GB9\n",
              "14                    facebook\n",
              "15                        imdb\n",
              "16                   metastore\n",
              "17                       mysql\n",
              "18  nyc_restaurant_inspections\n",
              "19          performance_schema\n",
              "20                        rest\n",
              "21                         tmp"
            ]
          },
          "metadata": {
            "tags": []
          },
          "execution_count": 15
        }
      ]
    },
    {
      "cell_type": "code",
      "metadata": {
        "id": "Sjks05nT_zgs",
        "colab": {
          "base_uri": "https://localhost:8080/",
          "height": 286
        },
        "outputId": "47885e98-e597-4e77-8963-ea58ae145cd6"
      },
      "source": [
        "%read_sql show tables"
      ],
      "execution_count": null,
      "outputs": [
        {
          "output_type": "stream",
          "text": [
            "Query started at 10:16:11 PM UTC; Query executed in 0.01 m"
          ],
          "name": "stdout"
        },
        {
          "output_type": "execute_result",
          "data": {
            "text/html": [
              "<div>\n",
              "<style scoped>\n",
              "    .dataframe tbody tr th:only-of-type {\n",
              "        vertical-align: middle;\n",
              "    }\n",
              "\n",
              "    .dataframe tbody tr th {\n",
              "        vertical-align: top;\n",
              "    }\n",
              "\n",
              "    .dataframe thead th {\n",
              "        text-align: right;\n",
              "    }\n",
              "</style>\n",
              "<table border=\"1\" class=\"dataframe\">\n",
              "  <thead>\n",
              "    <tr style=\"text-align: right;\">\n",
              "      <th></th>\n",
              "      <th>Tables_in_dealingF19GB10</th>\n",
              "    </tr>\n",
              "  </thead>\n",
              "  <tbody>\n",
              "    <tr>\n",
              "      <th>0</th>\n",
              "      <td>311calls</td>\n",
              "    </tr>\n",
              "    <tr>\n",
              "      <th>1</th>\n",
              "      <td>NYPDCALLS</td>\n",
              "    </tr>\n",
              "    <tr>\n",
              "      <th>2</th>\n",
              "      <td>Stations</td>\n",
              "    </tr>\n",
              "    <tr>\n",
              "      <th>3</th>\n",
              "      <td>mytable</td>\n",
              "    </tr>\n",
              "    <tr>\n",
              "      <th>4</th>\n",
              "      <td>newtable</td>\n",
              "    </tr>\n",
              "    <tr>\n",
              "      <th>5</th>\n",
              "      <td>test</td>\n",
              "    </tr>\n",
              "    <tr>\n",
              "      <th>6</th>\n",
              "      <td>thetable</td>\n",
              "    </tr>\n",
              "  </tbody>\n",
              "</table>\n",
              "</div>"
            ],
            "text/plain": [
              "  Tables_in_dealingF19GB10\n",
              "0                 311calls\n",
              "1                NYPDCALLS\n",
              "2                 Stations\n",
              "3                  mytable\n",
              "4                 newtable\n",
              "5                     test\n",
              "6                 thetable"
            ]
          },
          "metadata": {
            "tags": []
          },
          "execution_count": 16
        }
      ]
    },
    {
      "cell_type": "markdown",
      "metadata": {
        "id": "axRVvNlujwrl"
      },
      "source": [
        "And let's try our first query. You will use the `fetchall` command, which returns all the results."
      ]
    },
    {
      "cell_type": "code",
      "metadata": {
        "scrolled": true,
        "id": "izVVpJ8cjwrn"
      },
      "source": [
        "import MySQLdb  as mdb\n",
        "\n",
        "con = mdb.connect(host, username, password, database, charset='utf8', use_unicode=True);\n",
        "\n",
        "cur = con.cursor()\n",
        "cur.execute(\"SELECT * FROM actors LIMIT 100\")\n",
        "results = cur.fetchall()\n",
        "cur.close()\n",
        "con.close()\n",
        "\n",
        "print(results)"
      ],
      "execution_count": null,
      "outputs": []
    },
    {
      "cell_type": "markdown",
      "metadata": {
        "id": "l3-poGenjwrn"
      },
      "source": [
        "Now, let's fetch the data line by line, to avoid having long execution times when fetching the results"
      ]
    },
    {
      "cell_type": "code",
      "metadata": {
        "id": "ygQVCbSGjwrp"
      },
      "source": [
        "import MySQLdb as mdb\n",
        "\n",
        "con = mdb.connect(host, username, password, database, charset='utf8', use_unicode=True);\n",
        "\n",
        "# Returning all data at a time may not be feasible. We can fetch rows one by one.\n",
        "cur = con.cursor()\n",
        "cur.execute(\"SELECT * FROM actors LIMIT 10\")\n",
        "# We fetch the rows one by one using the fetchone() method. \n",
        "# The rowcount property gives the number of rows returned by the SQL statement.\n",
        "for i in range(cur.rowcount):\n",
        "    row = cur.fetchone()\n",
        "    print(row)\n",
        "    print(row[0], row[1], row[2])\n",
        "cur.close()\n",
        "con.close()"
      ],
      "execution_count": null,
      "outputs": []
    },
    {
      "cell_type": "markdown",
      "metadata": {
        "id": "PU0Rm45xjwrp"
      },
      "source": [
        "**The dictionary cursor:** There are multiple cursor types in the MySQLdb module. The default cursor returns the data in a tuple of tuples. When we use a dictionary cursor (`mdb.cursors.DictCursor`), the data is placed in a Python dictionary, which allows us to refer to the data by their column names."
      ]
    },
    {
      "cell_type": "code",
      "metadata": {
        "id": "DZyfZK9Gjwrq"
      },
      "source": [
        "import MySQLdb as mdb\n",
        "\n",
        "# The dictionary cursor\n",
        "# There are multiple cursor types in the MySQLdb module. \n",
        "# The default cursor returns the data in a tuple of tuples. \n",
        "# When we use a dictionary cursor, the data is sent in a form of Python dictionaries. \n",
        "# This way we can refer to the data by their column names.\n",
        "\n",
        "con = mdb.connect(host, username, password, database, charset='utf8', use_unicode=True);\n",
        "    \n",
        "sql_query = \"SELECT * FROM actors LIMIT 10\"\n",
        "\n",
        "cur = con.cursor(mdb.cursors.DictCursor)\n",
        "cur.execute(sql_query)\n",
        "rows = cur.fetchall()\n",
        "for row in rows:\n",
        "    print(row)\n",
        "    print(row[\"id\"], row[\"first_name\"], row[\"last_name\"])\n",
        "    \n",
        "cur.close()\n",
        "con.close()"
      ],
      "execution_count": null,
      "outputs": []
    },
    {
      "cell_type": "code",
      "metadata": {
        "id": "Hc-YBU7njwrs"
      },
      "source": [
        ""
      ],
      "execution_count": null,
      "outputs": []
    },
    {
      "cell_type": "code",
      "metadata": {
        "id": "m5Ubo0hOjwrs"
      },
      "source": [
        ""
      ],
      "execution_count": null,
      "outputs": []
    },
    {
      "cell_type": "code",
      "metadata": {
        "id": "WgPF7MFajwrs"
      },
      "source": [
        ""
      ],
      "execution_count": null,
      "outputs": []
    }
  ]
}