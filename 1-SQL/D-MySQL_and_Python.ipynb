{
 "cells": [
  {
   "cell_type": "markdown",
   "metadata": {},
   "source": [
    "### Python MySQLdb module"
   ]
  },
  {
   "cell_type": "markdown",
   "metadata": {},
   "source": [
    "To enable Python to access programatically the contents of MySQL, we need to install the package `python3-mysqldb`. To do so, type:\n",
    "\n",
    "`sudo -H apt-get install -y python3-mysqldb`\n",
    "If you happen to be in a Centos/Redhat environment, you will need yum to install something like\n",
    "type:\n",
    "`sudo yum install -y pymysql`"
   ]
  },
  {
   "cell_type": "markdown",
   "metadata": {},
   "source": [
    "Now, let's try our first connection to the database:"
   ]
  },
  {
   "cell_type": "code",
   "execution_count": 1,
   "metadata": {},
   "outputs": [
    {
     "name": "stdout",
     "output_type": "stream",
     "text": [
      "Database version: ('5.7.14-google-log',)\n"
     ]
    }
   ],
   "source": [
    "import MySQLdb as mdb\n",
    "\n",
    "# The connect() method has four parameters. \n",
    "# The first parameter is the host, where the MySQL database is located. \n",
    "# In our case it is a localhost, e.g. our computer. \n",
    "# The second parameter is the database user name. \n",
    "# It is followed by the user's account password. \n",
    "# The final parameter is the database name.\n",
    "host = 'db.ipeirotis.org'\n",
    "username = 'student'\n",
    "password = 'dwdstudent2015'\n",
    "database = 'imdb'\n",
    "\n",
    "con = mdb.connect(host, username, password, database, \n",
    "                charset='utf8', use_unicode=True);\n",
    "cur = con.cursor()\n",
    "cur.execute(\"SELECT VERSION()\")\n",
    "ver = cur.fetchone()\n",
    "print(\"Database version:\", ver)\n",
    "cur.close()\n",
    "con.close()"
   ]
  },
  {
   "cell_type": "markdown",
   "metadata": {},
   "source": [
    "import MySQLdb as mdb\n",
    "\n",
    "#### The connect() method has four parameters. \n",
    "#### The first parameter is the host, where the MySQL database is located. \n",
    "#### In our case it is a localhost, e.g. our computer. \n",
    "#### The second parameter is the database user name. \n",
    "#### It is followed by the user's account password. \n",
    "#### The final parameter is the database name.\n",
    "host = 'bigdata.stern.nyu.edu'\n",
    "username = 'DealingF19'\n",
    "password = 'DealingF19!!'\n",
    "database = 'DealingF19'\n",
    "\n",
    "con = mdb.connect(host, username, password, database);\n",
    "cur = con.cursor()\n",
    "cur.execute(\"SELECT VERSION()\")\n",
    "ver = cur.fetchone()\n",
    "print(\"Database version:\", ver)\n",
    "cur.close()\n",
    "con.close()"
   ]
  },
  {
   "cell_type": "markdown",
   "metadata": {},
   "source": [
    "And let's try our first query. You will use the `fetchall` command, which returns all the results."
   ]
  },
  {
   "cell_type": "code",
   "execution_count": 2,
   "metadata": {
    "scrolled": true
   },
   "outputs": [
    {
     "name": "stdout",
     "output_type": "stream",
     "text": [
      "((2, 'Michael', \"'babeepower' Viera\", 'M'), (3, 'Eloy', \"'Chincheta'\", 'M'), (4, 'Dieguito', \"'El Cigala'\", 'M'), (5, 'Antonio', \"'El de Chipiona'\", 'M'), (6, 'José', \"'El Francés'\", 'M'), (7, 'Félix', \"'El Gato'\", 'M'), (8, 'Marcial', \"'El Jalisco'\", 'M'), (9, 'José', \"'El Morito'\", 'M'), (10, 'Francisco', \"'El Niño de la Manola'\", 'M'), (11, 'Víctor', \"'El Payaso'\", 'M'), (12, 'Antonio', \"'El Pescaíto'\", 'M'), (13, 'Luis', \"'El Plojo'\", 'M'), (14, 'Janny', \"'el Portugues'\", 'M'), (15, 'Antonio', \"'El Rilete'\", 'M'), (16, 'Baltazar', \"'El Toro'\", 'M'), (17, 'Luis Roberto', \"'Formiga'\", 'M'), (18, 'Murray the', \"'K'\", 'M'), (19, 'Néstor', \"'Kick Boxer'\", 'M'), (20, 'Tony', \"'La Chispa'\", 'M'), (21, 'Pollino', \"'Romero'\", 'M'), (22, 'Frans', \"'t Hoen\", 'M'), (23, 'Jorrit', \"'t Hoen\", 'M'), (24, 'Dick', \"'t Hooft\", 'M'), (25, 'Jacob', \"'The Jeweler'\", 'M'), (26, 'Izzy', \"'The Religious Nut'\", 'M'), (27, \"Ka'olelo\", \"'Ulaleo\", 'M'), (28, 'Oswald', \"'Ô'\", 'M'), (29, 'Todd', '1', 'M'), (30, 'Mac', '10', 'M'), (32, 'Angel', '11:11', 'M'), (33, 'Nick', '13', 'M'), (34, 'Shaggy', '2 Dope', 'M'), (35, 'Mode', '2', 'M'), (36, 'Benjamin', '2X', 'M'), (37, 'The', '3 Whippets', 'M'), (38, 'André', '3000', 'M'), (40, 'Articolo', '31', 'M'), (41, \"Rappin'\", '4-Tay', 'M'), (42, 'The', '4D Jones', 'M'), (43, 'Mick', '5', 'M'), (44, 'James', '52X', 'M'), (45, 'Lucky', '7', 'M'), (46, 'Marc', '7', 'M'), (47, 'Equipe', '84', 'M'), (48, 'Ahmed', 'A El Rahim', 'M'), (49, 'Dragan', 'a zovu ga Elvis', 'M'), (50, 'Brett', \"A'Hearn\", 'M'), (51, 'Lejaren', \"a'Hiller\", 'M'), (52, 'Yussuf Abed', \"A'Nur\", 'M'), (53, 'Headhunter', 'A', 'M'), (55, 'Yunga', 'A', 'M'), (56, 'Cairns', 'A.', 'M'), (57, 'Dominique', 'A.', 'M'), (58, 'Narayana Rao', 'A.', 'M'), (59, 'Prasad', 'A.', 'M'), (60, 'Satyanarayana', 'A.', 'M'), (61, 'Narayana', 'A.L.', 'M'), (62, 'Raja', 'A.M.', 'M'), (63, 'Krishna', 'A.R.', 'M'), (64, 'Alwi', 'A.S.', 'M'), (65, 'Giri', 'A.S.', 'M'), (66, 'Subba Rao', 'A.V. Jr.', 'M'), (67, 'Subba Rao', 'A.V.', 'M'), (68, 'Brynjar', 'Aa', 'M'), (69, 'Andreas', 'Aabel', 'M'), (70, 'Hauk (I)', 'Aabel', 'M'), (71, 'Per (I)', 'Aabel', 'M'), (72, 'Palle', 'Aabentoft', 'M'), (73, 'Dennis', 'Aaberg', 'M'), (74, 'Linus (I)', 'Aaberg', 'M'), (75, 'Linus (II)', 'Aaberg', 'M'), (76, 'Kristian', 'Aaby', 'M'), (77, 'Olaf', 'Aabye', 'M'), (78, 'Tørres', 'Aadland', 'M'), (79, 'Argo', 'Aadli', 'M'), (80, 'Per', 'Aaeng', 'M'), (81, 'Karl', 'Aagaard Østvig Jr.', 'M'), (82, 'Carl Powl', 'Aagaard', 'M'), (83, 'Egon', 'Aagaard', 'M'), (84, 'Jesper', 'Aagaard', 'M'), (85, 'Lasse', 'Aagaard', 'M'), (86, 'Sebastian', 'Aagaard-Williams', 'M'), (87, 'Karl', 'Aagard Østvig', 'M'), (88, 'Per', 'Aage Brandt', 'M'), (89, 'Jan', 'Aagre', 'M'), (90, 'Thomas', 'Aagren', 'M'), (91, 'Dee', 'Aaker', 'M'), (92, 'Lee', 'Aaker', 'M'), (93, 'Kim Fupz', 'Aakeson', 'M'), (94, 'Steve', 'Aalam', 'M'), (95, 'Freddy', 'Aalbeck', 'M'), (96, 'George', 'Aalbregise', 'M'), (97, 'Niels', 'Aalbæk Jensen', 'M'), (98, 'Karsten', 'Aalholm', 'M'), (99, 'Preben', 'Aalholt', 'M'), (100, 'Henri', 'Aalto', 'M'), (101, 'Keijo', 'Aalto', 'M'), (102, 'Petri', 'Aalto', 'M'), (103, 'Rostislav', 'Aalto', 'M'), (106, 'Pauli', 'Aalto-Setälä', 'M'))\n"
     ]
    }
   ],
   "source": [
    "import MySQLdb  as mdb\n",
    "\n",
    "con = mdb.connect(host, username, password, database, charset='utf8', use_unicode=True);\n",
    "\n",
    "cur = con.cursor()\n",
    "cur.execute(\"SELECT * FROM actors LIMIT 100\")\n",
    "results = cur.fetchall()\n",
    "cur.close()\n",
    "con.close()\n",
    "\n",
    "print(results)"
   ]
  },
  {
   "cell_type": "markdown",
   "metadata": {},
   "source": [
    "Now, let's fetch the data line by line, to avoid having long execution times when fetching the results"
   ]
  },
  {
   "cell_type": "code",
   "execution_count": 3,
   "metadata": {},
   "outputs": [
    {
     "name": "stdout",
     "output_type": "stream",
     "text": [
      "(2, 'Michael', \"'babeepower' Viera\", 'M')\n",
      "2 Michael 'babeepower' Viera\n",
      "(3, 'Eloy', \"'Chincheta'\", 'M')\n",
      "3 Eloy 'Chincheta'\n",
      "(4, 'Dieguito', \"'El Cigala'\", 'M')\n",
      "4 Dieguito 'El Cigala'\n",
      "(5, 'Antonio', \"'El de Chipiona'\", 'M')\n",
      "5 Antonio 'El de Chipiona'\n",
      "(6, 'José', \"'El Francés'\", 'M')\n",
      "6 José 'El Francés'\n",
      "(7, 'Félix', \"'El Gato'\", 'M')\n",
      "7 Félix 'El Gato'\n",
      "(8, 'Marcial', \"'El Jalisco'\", 'M')\n",
      "8 Marcial 'El Jalisco'\n",
      "(9, 'José', \"'El Morito'\", 'M')\n",
      "9 José 'El Morito'\n",
      "(10, 'Francisco', \"'El Niño de la Manola'\", 'M')\n",
      "10 Francisco 'El Niño de la Manola'\n",
      "(11, 'Víctor', \"'El Payaso'\", 'M')\n",
      "11 Víctor 'El Payaso'\n"
     ]
    }
   ],
   "source": [
    "import MySQLdb as mdb\n",
    "\n",
    "con = mdb.connect(host, username, password, database, charset='utf8', use_unicode=True);\n",
    "\n",
    "# Returning all data at a time may not be feasible. We can fetch rows one by one.\n",
    "cur = con.cursor()\n",
    "cur.execute(\"SELECT * FROM actors LIMIT 10\")\n",
    "# We fetch the rows one by one using the fetchone() method. \n",
    "# The rowcount property gives the number of rows returned by the SQL statement.\n",
    "for i in range(cur.rowcount):\n",
    "    row = cur.fetchone()\n",
    "    print(row)\n",
    "    print(row[0], row[1], row[2])\n",
    "cur.close()\n",
    "con.close()"
   ]
  },
  {
   "cell_type": "markdown",
   "metadata": {},
   "source": [
    "**The dictionary cursor:** There are multiple cursor types in the MySQLdb module. The default cursor returns the data in a tuple of tuples. When we use a dictionary cursor (`mdb.cursors.DictCursor`), the data is placed in a Python dictionary, which allows us to refer to the data by their column names."
   ]
  },
  {
   "cell_type": "code",
   "execution_count": 4,
   "metadata": {},
   "outputs": [
    {
     "name": "stdout",
     "output_type": "stream",
     "text": [
      "{'id': 2, 'first_name': 'Michael', 'last_name': \"'babeepower' Viera\", 'gender': 'M'}\n",
      "2 Michael 'babeepower' Viera\n",
      "{'id': 3, 'first_name': 'Eloy', 'last_name': \"'Chincheta'\", 'gender': 'M'}\n",
      "3 Eloy 'Chincheta'\n",
      "{'id': 4, 'first_name': 'Dieguito', 'last_name': \"'El Cigala'\", 'gender': 'M'}\n",
      "4 Dieguito 'El Cigala'\n",
      "{'id': 5, 'first_name': 'Antonio', 'last_name': \"'El de Chipiona'\", 'gender': 'M'}\n",
      "5 Antonio 'El de Chipiona'\n",
      "{'id': 6, 'first_name': 'José', 'last_name': \"'El Francés'\", 'gender': 'M'}\n",
      "6 José 'El Francés'\n",
      "{'id': 7, 'first_name': 'Félix', 'last_name': \"'El Gato'\", 'gender': 'M'}\n",
      "7 Félix 'El Gato'\n",
      "{'id': 8, 'first_name': 'Marcial', 'last_name': \"'El Jalisco'\", 'gender': 'M'}\n",
      "8 Marcial 'El Jalisco'\n",
      "{'id': 9, 'first_name': 'José', 'last_name': \"'El Morito'\", 'gender': 'M'}\n",
      "9 José 'El Morito'\n",
      "{'id': 10, 'first_name': 'Francisco', 'last_name': \"'El Niño de la Manola'\", 'gender': 'M'}\n",
      "10 Francisco 'El Niño de la Manola'\n",
      "{'id': 11, 'first_name': 'Víctor', 'last_name': \"'El Payaso'\", 'gender': 'M'}\n",
      "11 Víctor 'El Payaso'\n"
     ]
    }
   ],
   "source": [
    "import MySQLdb as mdb\n",
    "\n",
    "# The dictionary cursor\n",
    "# There are multiple cursor types in the MySQLdb module. \n",
    "# The default cursor returns the data in a tuple of tuples. \n",
    "# When we use a dictionary cursor, the data is sent in a form of Python dictionaries. \n",
    "# This way we can refer to the data by their column names.\n",
    "\n",
    "con = mdb.connect(host, username, password, database, charset='utf8', use_unicode=True);\n",
    "    \n",
    "sql_query = \"SELECT * FROM actors LIMIT 10\"\n",
    "\n",
    "cur = con.cursor(mdb.cursors.DictCursor)\n",
    "cur.execute(sql_query)\n",
    "rows = cur.fetchall()\n",
    "for row in rows:\n",
    "    print(row)\n",
    "    print(row[\"id\"], row[\"first_name\"], row[\"last_name\"])\n",
    "    \n",
    "cur.close()\n",
    "con.close()"
   ]
  },
  {
   "cell_type": "code",
   "execution_count": null,
   "metadata": {},
   "outputs": [],
   "source": []
  },
  {
   "cell_type": "code",
   "execution_count": null,
   "metadata": {},
   "outputs": [],
   "source": []
  },
  {
   "cell_type": "code",
   "execution_count": null,
   "metadata": {},
   "outputs": [],
   "source": []
  }
 ],
 "metadata": {
  "kernelspec": {
   "display_name": "Python 3",
   "language": "python",
   "name": "python3"
  },
  "language_info": {
   "codemirror_mode": {
    "name": "ipython",
    "version": 3
   },
   "file_extension": ".py",
   "mimetype": "text/x-python",
   "name": "python",
   "nbconvert_exporter": "python",
   "pygments_lexer": "ipython3",
   "version": "3.6.8"
  }
 },
 "nbformat": 4,
 "nbformat_minor": 1
}
